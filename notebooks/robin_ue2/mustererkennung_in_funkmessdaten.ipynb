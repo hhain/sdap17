{
 "cells": [
  {
   "cell_type": "markdown",
   "metadata": {},
   "source": [
    "# Mustererkennung in Funkmessdaten"
   ]
  },
  {
   "cell_type": "markdown",
   "metadata": {},
   "source": [
    "## Aufgabe 1: Laden der Datenbank in Jupyter Notebook"
   ]
  },
  {
   "cell_type": "code",
   "execution_count": 9,
   "metadata": {
    "collapsed": true
   },
   "outputs": [],
   "source": [
    "# imports\n",
    "import pandas as pd\n",
    "import matplotlib.pyplot as plt\n",
    "import re"
   ]
  },
  {
   "cell_type": "code",
   "execution_count": 10,
   "metadata": {},
   "outputs": [
    {
     "name": "stdout",
     "output_type": "stream",
     "text": [
      "<bound method HDFStore.keys of <class 'pandas.io.pytables.HDFStore'>\n",
      "File path: ../../data/raw/TestMessungen_NEU.hdf\n",
      "/x1/t1/trx_1_2            frame        (shape->[227,12009])\n",
      "/x1/t1/trx_1_4            frame        (shape->[229,12009])\n",
      "/x1/t1/trx_2_3            frame        (shape->[226,12009])\n",
      "/x1/t1/trx_3_1            frame        (shape->[233,12009])\n",
      "/x1/t1/trx_3_4            frame        (shape->[226,12009])\n",
      "/x1/t1/trx_4_2            frame        (shape->[230,12009])\n",
      "/x1/t2/trx_1_2            frame        (shape->[223,12009])\n",
      "/x1/t2/trx_1_4            frame        (shape->[220,12009])\n",
      "/x1/t2/trx_2_3            frame        (shape->[218,12009])\n",
      "/x1/t2/trx_3_1            frame        (shape->[221,12009])\n",
      "/x1/t2/trx_3_4            frame        (shape->[218,12009])\n",
      "/x1/t2/trx_4_2            frame        (shape->[221,12009])\n",
      "/x1/t3/trx_1_2            frame        (shape->[246,12009])\n",
      "/x1/t3/trx_1_4            frame        (shape->[250,12009])\n",
      "/x1/t3/trx_2_3            frame        (shape->[246,12009])\n",
      "/x1/t3/trx_3_1            frame        (shape->[244,12009])\n",
      "/x1/t3/trx_3_4            frame        (shape->[252,12009])\n",
      "/x1/t3/trx_4_2            frame        (shape->[247,12009])\n",
      "/x2/t1/trx_1_2            frame        (shape->[195,12009])\n",
      "/x2/t1/trx_1_4            frame        (shape->[194,12009])\n",
      "/x2/t1/trx_2_3            frame        (shape->[201,12009])\n",
      "/x2/t1/trx_3_1            frame        (shape->[200,12009])\n",
      "/x2/t1/trx_3_4            frame        (shape->[198,12009])\n",
      "/x2/t1/trx_4_2            frame        (shape->[199,12009])\n",
      "/x2/t2/trx_1_2            frame        (shape->[155,12009])\n",
      "/x2/t2/trx_1_4            frame        (shape->[168,12009])\n",
      "/x2/t2/trx_2_3            frame        (shape->[157,12009])\n",
      "/x2/t2/trx_3_1            frame        (shape->[165,12009])\n",
      "/x2/t2/trx_3_4            frame        (shape->[164,12009])\n",
      "/x2/t2/trx_4_2            frame        (shape->[160,12009])\n",
      "/x2/t3/trx_1_2            frame        (shape->[152,12009])\n",
      "/x2/t3/trx_1_4            frame        (shape->[150,12009])\n",
      "/x2/t3/trx_2_3            frame        (shape->[150,12009])\n",
      "/x2/t3/trx_3_1            frame        (shape->[153,12009])\n",
      "/x2/t3/trx_3_4            frame        (shape->[144,12009])\n",
      "/x2/t3/trx_4_2            frame        (shape->[145,12009])\n",
      "/x3/t1/trx_1_2            frame        (shape->[208,12009])\n",
      "/x3/t1/trx_1_4            frame        (shape->[211,12009])\n",
      "/x3/t1/trx_2_3            frame        (shape->[208,12009])\n",
      "/x3/t1/trx_3_1            frame        (shape->[210,12009])\n",
      "/x3/t1/trx_3_4            frame        (shape->[213,12009])\n",
      "/x3/t1/trx_4_2            frame        (shape->[212,12009])\n",
      "/x3/t2/trx_1_2            frame        (shape->[243,12009])\n",
      "/x3/t2/trx_1_4            frame        (shape->[245,12009])\n",
      "/x3/t2/trx_2_3            frame        (shape->[251,12009])\n",
      "/x3/t2/trx_3_1            frame        (shape->[247,12009])\n",
      "/x3/t2/trx_3_4            frame        (shape->[249,12009])\n",
      "/x3/t2/trx_4_2            frame        (shape->[242,12009])\n",
      "/x3/t3/trx_1_2            frame        (shape->[260,12009])\n",
      "/x3/t3/trx_1_4            frame        (shape->[253,12009])\n",
      "/x3/t3/trx_2_3            frame        (shape->[257,12009])\n",
      "/x3/t3/trx_3_1            frame        (shape->[256,12009])\n",
      "/x3/t3/trx_3_4            frame        (shape->[261,12009])\n",
      "/x3/t3/trx_4_2            frame        (shape->[255,12009])\n",
      "/x4/t1/trx_1_2            frame        (shape->[121,12009])\n",
      "/x4/t1/trx_1_4            frame        (shape->[129,12009])\n",
      "/x4/t1/trx_2_3            frame        (shape->[126,12009])\n",
      "/x4/t1/trx_3_1            frame        (shape->[130,12009])\n",
      "/x4/t1/trx_3_4            frame        (shape->[143,12009])\n",
      "/x4/t1/trx_4_2            frame        (shape->[132,12009])\n",
      "/x4/t2/trx_1_2            frame        (shape->[173,12009])\n",
      "/x4/t2/trx_1_4            frame        (shape->[177,12009])\n",
      "/x4/t2/trx_2_3            frame        (shape->[171,12009])\n",
      "/x4/t2/trx_3_1            frame        (shape->[181,12009])\n",
      "/x4/t2/trx_3_4            frame        (shape->[180,12009])\n",
      "/x4/t2/trx_4_2            frame        (shape->[179,12009])\n",
      "/x4/t3/trx_1_2            frame        (shape->[168,12009])\n",
      "/x4/t3/trx_1_4            frame        (shape->[169,12009])\n",
      "/x4/t3/trx_2_3            frame        (shape->[162,12009])\n",
      "/x4/t3/trx_3_1            frame        (shape->[169,12009])\n",
      "/x4/t3/trx_3_4            frame        (shape->[168,12009])\n",
      "/x4/t3/trx_4_2            frame        (shape->[169,12009])>\n"
     ]
    }
   ],
   "source": [
    "hdf = pd.HDFStore('../../data/raw/TestMessungen_NEU.hdf')\n",
    "print(hdf.keys)"
   ]
  },
  {
   "cell_type": "markdown",
   "metadata": {},
   "source": [
    "## Aufgabe 2: Inspektion eines einzelnen Dataframes"
   ]
  },
  {
   "cell_type": "code",
   "execution_count": 37,
   "metadata": {},
   "outputs": [
    {
     "name": "stdout",
     "output_type": "stream",
     "text": [
      "Shape of dataframe belonging to /x1/t1/trx_1_4:\n",
      "(229, 12009)\n"
     ]
    }
   ],
   "source": [
    "# We examine x1_t1_trx_1_4 \n",
    "df_x1_t1_trx_1_4 = hdf.get('/x1/t1/trx_1_4')\n",
    "print(\"Shape of dataframe belonging to /x1/t1/trx_1_4:\")\n",
    "print(df_x1_t1_trx_1_4.shape)"
   ]
  },
  {
   "cell_type": "code",
   "execution_count": 78,
   "metadata": {
    "scrolled": true
   },
   "outputs": [
    {
     "name": "stdout",
     "output_type": "stream",
     "text": [
      "Number of columns for sender receiver pairs:\n",
      "\n",
      "Columns for pair 1 4: 2001\n",
      "Columns for pair 2 1: 2001\n",
      "Columns for pair 2 4: 2001\n",
      "Columns for pair 3 1: 2001\n",
      "Columns for pair 3 4: 2001\n",
      "Columns for pair 4 1: 2001\n",
      "\n",
      "Other columns are:\n",
      "index\n",
      "Timestamp\n",
      "target\n",
      "\n",
      "So in sum we have 12009 columns.\n"
     ]
    }
   ],
   "source": [
    "# get columns and filter columns belonging to certain sender receiver pairs\n",
    "columns = list(df_x1_t1_trx_1_4)\n",
    "\n",
    "print(\"Number of columns for sender receiver pairs:\")\n",
    "print()\n",
    "\n",
    "r = re.compile('trx_1_4')\n",
    "columns_1_4 = filter(r.match, columns)\n",
    "print(\"Columns for pair 1 4:\", len(list(columns_1_4)))\n",
    "\n",
    "r = re.compile('trx_2_1')\n",
    "columns_2_1 = filter(r.match, columns)\n",
    "print(\"Columns for pair 2 1:\", len(list(columns_2_1)))\n",
    "\n",
    "r = re.compile('trx_2_4')\n",
    "columns_2_4 = filter(r.match, columns)\n",
    "print(\"Columns for pair 2 4:\", len(list(columns_2_4)))\n",
    "\n",
    "r = re.compile('trx_3_1')\n",
    "columns_3_1 = filter(r.match, columns)\n",
    "print(\"Columns for pair 3 1:\", len(list(columns_3_1)))\n",
    "\n",
    "r = re.compile('trx_3_4')\n",
    "columns_3_4 = filter(r.match, columns)\n",
    "print(\"Columns for pair 3 4:\", len(list(columns_3_4)))\n",
    "\n",
    "r = re.compile('trx_4_1')\n",
    "columns_4_1 = filter(r.match, columns)\n",
    "print(\"Columns for pair 4 1:\", len(list(columns_4_1)))\n",
    "\n",
    "print()\n",
    "print(\"Other columns are:\")\n",
    "r = re.compile('(?!(trx_1_4|trx_2_1|trx_2_4|trx_3_1|trx_3_4|trx_4_1))')\n",
    "columns_other = filter(r.match, columns)\n",
    "for c in columns_other:\n",
    "    print(c)\n",
    "    \n",
    "print()\n",
    "print(\"So in sum we have 12009 columns.\")"
   ]
  },
  {
   "cell_type": "code",
   "execution_count": 77,
   "metadata": {},
   "outputs": [
    {
     "name": "stdout",
     "output_type": "stream",
     "text": [
      "Shape of dataframe belonging to /x3/t2/trx_3_1:\n",
      "(247, 12009)\n"
     ]
    }
   ],
   "source": [
    "# We examine x3_t2_trx_3_1 \n",
    "df_x3_t2_trx_3_1 = hdf.get('/x3/t2/trx_3_1')\n",
    "print(\"Shape of dataframe belonging to /x3/t2/trx_3_1:\")\n",
    "print(df_x3_t2_trx_3_1.shape)"
   ]
  },
  {
   "cell_type": "code",
   "execution_count": 86,
   "metadata": {},
   "outputs": [
    {
     "name": "stdout",
     "output_type": "stream",
     "text": [
      "Number of columns for sender receiver pairs:\n",
      "\n",
      "Columns for pair 1 3: 2001\n",
      "Columns for pair 2 1: 2001\n",
      "Columns for pair 2 3: 2001\n",
      "Columns for pair 3 1: 2001\n",
      "Columns for pair 4 1: 2001\n",
      "Columns for pair 4 3: 2001\n",
      "\n",
      "Other columns are:\n",
      "index\n",
      "Timestamp\n",
      "target\n",
      "\n",
      "So in sum we have 12009 columns.\n"
     ]
    }
   ],
   "source": [
    "# get columns and filter columns belonging to certain sender receiver pairs\n",
    "columns = list(df_x3_t2_trx_3_1)\n",
    "\n",
    "print(\"Number of columns for sender receiver pairs:\")\n",
    "print()\n",
    "\n",
    "r = re.compile('trx_1_3')\n",
    "columns_1_3 = filter(r.match, columns)\n",
    "print(\"Columns for pair 1 3:\", len(list(columns_1_3)))\n",
    "\n",
    "r = re.compile('trx_2_1')\n",
    "columns_2_1 = filter(r.match, columns)\n",
    "print(\"Columns for pair 2 1:\", len(list(columns_2_1)))\n",
    "\n",
    "r = re.compile('trx_2_3')\n",
    "columns_2_3 = filter(r.match, columns)\n",
    "print(\"Columns for pair 2 3:\", len(list(columns_2_3)))\n",
    "\n",
    "r = re.compile('trx_3_1')\n",
    "columns_3_1 = filter(r.match, columns)\n",
    "print(\"Columns for pair 3 1:\", len(list(columns_3_1)))\n",
    "\n",
    "r = re.compile('trx_4_1')\n",
    "columns_4_1 = filter(r.match, columns)\n",
    "print(\"Columns for pair 4 1:\", len(list(columns_4_1)))\n",
    "\n",
    "r = re.compile('trx_4_3')\n",
    "columns_4_3 = filter(r.match, columns)\n",
    "print(\"Columns for pair 4 3:\", len(list(columns_4_3)))\n",
    "\n",
    "\n",
    "print()\n",
    "print(\"Other columns are:\")\n",
    "r = re.compile('(?!(trx_1_3|trx_2_1|trx_2_3|trx_3_1|trx_4_3|trx_4_1))')\n",
    "columns_other = filter(r.match, columns)\n",
    "for c in columns_other:\n",
    "    print(c)\n",
    "    \n",
    "print()\n",
    "print(\"So in sum we have 12009 columns.\")"
   ]
  },
  {
   "cell_type": "markdown",
   "metadata": {},
   "source": [
    "### We can see that in each connection log between two devices, the involved devices measure the signals between each other. The not directly involved devices listen and record the signals from both of the sending devices."
   ]
  },
  {
   "cell_type": "code",
   "execution_count": 91,
   "metadata": {},
   "outputs": [
    {
     "name": "stdout",
     "output_type": "stream",
     "text": [
      "The unique values of the target column in /x1/t1/trx_1_4 are:\n",
      "\n",
      "Step_2.0,1.0_1.0,1.0\n",
      "Standing_1.0,1.0_1.0,1.0\n",
      "Standing_2.0,2.0_2.0,2.0\n",
      "Step_2.0,2.0_2.0,1.0\n",
      "Standing_1.0,2.0_1.0,2.0\n",
      "Empty_0.0,0.0_0.0,0.0\n",
      "Standing_2.0,1.0_2.0,1.0\n",
      "Walking_0.0,0.0_0.0,0.0\n",
      "Step_1.0,2.0_2.0,2.0\n",
      "Step_1.0,1.0_1.0,2.0\n",
      "\n",
      "The unique values of the target column in /x3/t2/trx_3_1 are:\n",
      "\n",
      "Step_2.0,1.0_1.0,1.0\n",
      "Standing_1.0,1.0_1.0,1.0\n",
      "Standing_2.0,2.0_2.0,2.0\n",
      "Step_2.0,2.0_2.0,1.0\n",
      "Standing_1.0,2.0_1.0,2.0\n",
      "Empty_0.0,0.0_0.0,0.0\n",
      "Standing_2.0,1.0_2.0,1.0\n",
      "Walking_0.0,0.0_0.0,0.0\n",
      "Step_1.0,2.0_2.0,2.0\n",
      "Step_1.0,1.0_1.0,2.0\n"
     ]
    }
   ],
   "source": [
    "# Next we take a look at the target columns\n",
    "\n",
    "target_set = set(df_x1_t1_trx_1_4[\"target\"])\n",
    "print('The unique values of the target column in /x1/t1/trx_1_4 are:')\n",
    "print()\n",
    "for v in target_set:\n",
    "    print(v)\n",
    "\n",
    "print()\n",
    "\n",
    "target_set = set(df_x3_t2_trx_3_1[\"target\"])\n",
    "print('The unique values of the target column in /x3/t2/trx_3_1 are:')\n",
    "print()\n",
    "for v in target_set:\n",
    "    print(v)"
   ]
  },
  {
   "cell_type": "code",
   "execution_count": null,
   "metadata": {
    "collapsed": true
   },
   "outputs": [],
   "source": []
  }
 ],
 "metadata": {
  "anaconda-cloud": {},
  "kernelspec": {
   "display_name": "Python [default]",
   "language": "python",
   "name": "python3"
  },
  "language_info": {
   "codemirror_mode": {
    "name": "ipython",
    "version": 3
   },
   "file_extension": ".py",
   "mimetype": "text/x-python",
   "name": "python",
   "nbconvert_exporter": "python",
   "pygments_lexer": "ipython3",
   "version": "3.5.2"
  }
 },
 "nbformat": 4,
 "nbformat_minor": 1
}
