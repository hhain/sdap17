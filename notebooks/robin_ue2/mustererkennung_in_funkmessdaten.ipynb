{
 "cells": [
  {
   "cell_type": "markdown",
   "metadata": {},
   "source": [
    "# Mustererkennung in Funkmessdaten"
   ]
  },
  {
   "cell_type": "markdown",
   "metadata": {},
   "source": [
    "## Aufgabe 1: Laden der Datenbank in Jupyter Notebook"
   ]
  },
  {
   "cell_type": "code",
   "execution_count": 17,
   "metadata": {},
   "outputs": [],
   "source": [
    "# imports\n",
    "import pandas as pd\n",
    "import matplotlib.pyplot as plt"
   ]
  },
  {
   "cell_type": "code",
   "execution_count": 18,
   "metadata": {},
   "outputs": [
    {
     "name": "stdout",
     "output_type": "stream",
     "text": [
      "<bound method HDFStore.keys of <class 'pandas.io.pytables.HDFStore'>\n",
      "File path: ../../data/raw/TestMessungen_NEU.hdf\n",
      "/x1/t1/trx_1_2            frame        (shape->[227,12009])\n",
      "/x1/t1/trx_1_4            frame        (shape->[229,12009])\n",
      "/x1/t1/trx_2_3            frame        (shape->[226,12009])\n",
      "/x1/t1/trx_3_1            frame        (shape->[233,12009])\n",
      "/x1/t1/trx_3_4            frame        (shape->[226,12009])\n",
      "/x1/t1/trx_4_2            frame        (shape->[230,12009])\n",
      "/x1/t2/trx_1_2            frame        (shape->[223,12009])\n",
      "/x1/t2/trx_1_4            frame        (shape->[220,12009])\n",
      "/x1/t2/trx_2_3            frame        (shape->[218,12009])\n",
      "/x1/t2/trx_3_1            frame        (shape->[221,12009])\n",
      "/x1/t2/trx_3_4            frame        (shape->[218,12009])\n",
      "/x1/t2/trx_4_2            frame        (shape->[221,12009])\n",
      "/x1/t3/trx_1_2            frame        (shape->[246,12009])\n",
      "/x1/t3/trx_1_4            frame        (shape->[250,12009])\n",
      "/x1/t3/trx_2_3            frame        (shape->[246,12009])\n",
      "/x1/t3/trx_3_1            frame        (shape->[244,12009])\n",
      "/x1/t3/trx_3_4            frame        (shape->[252,12009])\n",
      "/x1/t3/trx_4_2            frame        (shape->[247,12009])\n",
      "/x2/t1/trx_1_2            frame        (shape->[195,12009])\n",
      "/x2/t1/trx_1_4            frame        (shape->[194,12009])\n",
      "/x2/t1/trx_2_3            frame        (shape->[201,12009])\n",
      "/x2/t1/trx_3_1            frame        (shape->[200,12009])\n",
      "/x2/t1/trx_3_4            frame        (shape->[198,12009])\n",
      "/x2/t1/trx_4_2            frame        (shape->[199,12009])\n",
      "/x2/t2/trx_1_2            frame        (shape->[155,12009])\n",
      "/x2/t2/trx_1_4            frame        (shape->[168,12009])\n",
      "/x2/t2/trx_2_3            frame        (shape->[157,12009])\n",
      "/x2/t2/trx_3_1            frame        (shape->[165,12009])\n",
      "/x2/t2/trx_3_4            frame        (shape->[164,12009])\n",
      "/x2/t2/trx_4_2            frame        (shape->[160,12009])\n",
      "/x2/t3/trx_1_2            frame        (shape->[152,12009])\n",
      "/x2/t3/trx_1_4            frame        (shape->[150,12009])\n",
      "/x2/t3/trx_2_3            frame        (shape->[150,12009])\n",
      "/x2/t3/trx_3_1            frame        (shape->[153,12009])\n",
      "/x2/t3/trx_3_4            frame        (shape->[144,12009])\n",
      "/x2/t3/trx_4_2            frame        (shape->[145,12009])\n",
      "/x3/t1/trx_1_2            frame        (shape->[208,12009])\n",
      "/x3/t1/trx_1_4            frame        (shape->[211,12009])\n",
      "/x3/t1/trx_2_3            frame        (shape->[208,12009])\n",
      "/x3/t1/trx_3_1            frame        (shape->[210,12009])\n",
      "/x3/t1/trx_3_4            frame        (shape->[213,12009])\n",
      "/x3/t1/trx_4_2            frame        (shape->[212,12009])\n",
      "/x3/t2/trx_1_2            frame        (shape->[243,12009])\n",
      "/x3/t2/trx_1_4            frame        (shape->[245,12009])\n",
      "/x3/t2/trx_2_3            frame        (shape->[251,12009])\n",
      "/x3/t2/trx_3_1            frame        (shape->[247,12009])\n",
      "/x3/t2/trx_3_4            frame        (shape->[249,12009])\n",
      "/x3/t2/trx_4_2            frame        (shape->[242,12009])\n",
      "/x3/t3/trx_1_2            frame        (shape->[260,12009])\n",
      "/x3/t3/trx_1_4            frame        (shape->[253,12009])\n",
      "/x3/t3/trx_2_3            frame        (shape->[257,12009])\n",
      "/x3/t3/trx_3_1            frame        (shape->[256,12009])\n",
      "/x3/t3/trx_3_4            frame        (shape->[261,12009])\n",
      "/x3/t3/trx_4_2            frame        (shape->[255,12009])\n",
      "/x4/t1/trx_1_2            frame        (shape->[121,12009])\n",
      "/x4/t1/trx_1_4            frame        (shape->[129,12009])\n",
      "/x4/t1/trx_2_3            frame        (shape->[126,12009])\n",
      "/x4/t1/trx_3_1            frame        (shape->[130,12009])\n",
      "/x4/t1/trx_3_4            frame        (shape->[143,12009])\n",
      "/x4/t1/trx_4_2            frame        (shape->[132,12009])\n",
      "/x4/t2/trx_1_2            frame        (shape->[173,12009])\n",
      "/x4/t2/trx_1_4            frame        (shape->[177,12009])\n",
      "/x4/t2/trx_2_3            frame        (shape->[171,12009])\n",
      "/x4/t2/trx_3_1            frame        (shape->[181,12009])\n",
      "/x4/t2/trx_3_4            frame        (shape->[180,12009])\n",
      "/x4/t2/trx_4_2            frame        (shape->[179,12009])\n",
      "/x4/t3/trx_1_2            frame        (shape->[168,12009])\n",
      "/x4/t3/trx_1_4            frame        (shape->[169,12009])\n",
      "/x4/t3/trx_2_3            frame        (shape->[162,12009])\n",
      "/x4/t3/trx_3_1            frame        (shape->[169,12009])\n",
      "/x4/t3/trx_3_4            frame        (shape->[168,12009])\n",
      "/x4/t3/trx_4_2            frame        (shape->[169,12009])>\n"
     ]
    }
   ],
   "source": [
    "hdf = pd.HDFStore('../../data/raw/TestMessungen_NEU.hdf')\n",
    "print(hdf.keys)"
   ]
  },
  {
   "cell_type": "markdown",
   "metadata": {},
   "source": [
    "## Aufgabe 2: Inspektion eines einzelnen Dataframes"
   ]
  },
  {
   "cell_type": "code",
   "execution_count": 19,
   "metadata": {},
   "outputs": [
    {
     "name": "stdout",
     "output_type": "stream",
     "text": [
      "(229, 12009)\n"
     ]
    }
   ],
   "source": [
    "df_x1_t1_trx_1_4 = hdf.get('/x1/t1/trx_1_4')\n",
    "print(df_x1_t1_trx_1_4.shape)"
   ]
  },
  {
   "cell_type": "code",
   "execution_count": null,
   "metadata": {
    "collapsed": true
   },
   "outputs": [],
   "source": []
  }
 ],
 "metadata": {
  "anaconda-cloud": {},
  "kernelspec": {
   "display_name": "Python [default]",
   "language": "python",
   "name": "python3"
  },
  "language_info": {
   "codemirror_mode": {
    "name": "ipython",
    "version": 3
   },
   "file_extension": ".py",
   "mimetype": "text/x-python",
   "name": "python",
   "nbconvert_exporter": "python",
   "pygments_lexer": "ipython3",
   "version": "3.5.2"
  }
 },
 "nbformat": 4,
 "nbformat_minor": 1
}
