{
 "cells": [
  {
   "cell_type": "code",
   "execution_count": 1,
   "metadata": {
    "collapsed": true
   },
   "outputs": [],
   "source": [
    "import pandas as pd\n",
    "import numpy as np\n",
    "\n",
    "import matplotlib.pyplot as plt"
   ]
  },
  {
   "cell_type": "code",
   "execution_count": 2,
   "metadata": {
    "scrolled": false
   },
   "outputs": [
    {
     "name": "stdout",
     "output_type": "stream",
     "text": [
      "(878049, 9)\n"
     ]
    }
   ],
   "source": [
    "train_df = pd.read_csv('train.csv')\n",
    "#test_df = pd.read_csv('test.csv')\n",
    "print(train_df.shape)\n",
    "#print(test_df.shape)"
   ]
  },
  {
   "cell_type": "code",
   "execution_count": 3,
   "metadata": {
    "collapsed": true
   },
   "outputs": [],
   "source": [
    "#train_df = train_df_.sample(frac=0.1)"
   ]
  },
  {
   "cell_type": "code",
   "execution_count": null,
   "metadata": {
    "collapsed": true
   },
   "outputs": [],
   "source": [
    "print('Any missing values?')\n",
    "print('In train: ', pandas.isnull(train_df).values.any())\n",
    "#print('In test:  ', pandas.isnull(test).values.any())"
   ]
  },
  {
   "cell_type": "code",
   "execution_count": null,
   "metadata": {
    "collapsed": true
   },
   "outputs": [],
   "source": [
    "from pandas.tseries.holiday import USFederalHolidayCalendar as calendar\n",
    "from pandas.tseries.holiday import Holiday, HolidayCalendarFactory, FR, DateOffset\n",
    "\n",
    "def transform_date(df):\n",
    "    \"\"\"\n",
    "    Split Dates into Date, Year, Month, Day, DayofYear, Hour and Minute\n",
    "    \"\"\"\n",
    "    df['Date'] = pd.to_datetime(df['Dates'].dt.date)\n",
    "    df['Year'] = df['Dates'].dt.year\n",
    "    df['Month'] = df['Dates'].dt.month\n",
    "    df['Day'] = df['Dates'].dt.day\n",
    "    df['DayOfYear'] = df['Dates'].dt.dayofyear   # the ordinal day of the year\n",
    "    df['Time'] = df['Dates'].dt.hour + train['Dates'].dt.minute/60\n",
    "    df['Hour'] = df['Dates'].dt.hour\n",
    "    df['Minutes'] = df['Dates'].dt.minute\n",
    "    del df['Dates']\n",
    "    \n",
    "    return df\n",
    "\n",
    "def compute_working_days(df):\n",
    "    \"\"\"\n",
    "    Check if working day, include information about holidays:\n",
    "    New Year, Memorial Day, Independence Day, Labor Day, Thanksgiving, Black Friday, Christmas\n",
    "    \"\"\"\n",
    "    cal = calendar()\n",
    "    # need to remove rules in descending order!\n",
    "    cal.rules.pop(7) # remove Veterans Day\n",
    "    cal.rules.pop(6) # remove Columbus Day\n",
    "    cal.rules.pop(2) # remove President's Day\n",
    "    cal.rules.pop(1) # remove Martin Luther King Day\n",
    "    # create new rule for Black Friday\n",
    "    USBlackFriday = Holiday('BlackFriday', month=11, day=1,\n",
    "                            offset=DateOffset(weekday=FR(4)))\n",
    "\n",
    "    # create own holiday calendar based on the above rules\n",
    "    ownCal = HolidayCalendarFactory('OwnCalendar', cal, USBlackFriday)\n",
    "    cal = ownCal()\n",
    "    holidays = cal.holidays(start='2003-01-01', end='2015-05-13')\n",
    "\n",
    "    # set flag according to whether the day is a holiday, a weekend or not\n",
    "    df['isWorkingday'] = ((df['DayOfWeek'].isin(['Saturday', 'Sunday'])==False) & \n",
    "                          (df['Date'].isin(holidays)==False))\n",
    "\n",
    "    # transform from True/False into 1/0\n",
    "    df['isWorkingday'] = df['isWorkingday'].astype(int)\n",
    "    \n",
    "def compute_night(df):\n",
    "    df['Night'] = True\n",
    "    \n",
    "    df.loc[(train['Month'] ==  1) & (df['Time'] > 7.3) & (df['Time'] < 17.3), 'Night'] = False\n",
    "    df.loc[(train['Month'] ==  2) & (df['Time'] > 7.0) & (df['Time'] < 17.8), 'Night'] = False\n",
    "    df.loc[(train['Month'] ==  3) & (df['Time'] > 6.3) & (df['Time'] < 18.3), 'Night'] = False\n",
    "    df.loc[(train['Month'] ==  4) & (df['Time'] > 5.5) & (df['Time'] < 18.8), 'Night'] = False\n",
    "    df.loc[(train['Month'] ==  5) & (df['Time'] > 5.0) & (df['Time'] < 19.3), 'Night'] = False\n",
    "    df.loc[(train['Month'] ==  6) & (df['Time'] > 4.8) & (df['Time'] < 19.5), 'Night'] = False\n",
    "    df.loc[(train['Month'] ==  7) & (df['Time'] > 5.0) & (df['Time'] < 19.5), 'Night'] = False\n",
    "    df.loc[(train['Month'] ==  8) & (df['Time'] > 5.5) & (df['Time'] < 19.0), 'Night'] = False\n",
    "    df.loc[(train['Month'] ==  9) & (df['Time'] > 5.8) & (df['Time'] < 18.3), 'Night'] = False\n",
    "    df.loc[(train['Month'] == 10) & (df['Time'] > 6.3) & (df['Time'] < 17.5), 'Night'] = False\n",
    "    df.loc[(train['Month'] == 11) & (df['Time'] > 6.8) & (df['Time'] < 17.0), 'Night'] = False\n",
    "    df.loc[(train['Month'] == 12) & (df['Time'] > 7.3) & (df['Time'] < 16.9), 'Night'] = False\n",
    "\n",
    "    # transform from True/False into 1/0\n",
    "    df['Night'] = df['Night'].astype(int)\n",
    "    return df\n",
    "    \n"
   ]
  },
  {
   "cell_type": "code",
   "execution_count": 1,
   "metadata": {
    "collapsed": true
   },
   "outputs": [],
   "source": [
    "def categorize_crimes(df):\n",
    "    otherCrimes = ['WARRANTS','OTHER OFFENSES','WEAPON LAWS','SECONDARY CODES']\n",
    "    familyCrimes = ['MISSING PERSON','RUNAWAY', 'FAMILY OFFENSES','SUICIDE']\n",
    "    violentCrimes = ['ASSAULT','SEX OFFENSES FORCIBLE','ARSON','KIDNAPPING']\n",
    "    theftBurglary = ['LARCENY/THEFT','VEHICLE THEFT','ROBBERY','BURGLARY','STOLEN PROPERTY','RECOVERED VEHICLE']\n",
    "    economicCrimes = ['FORGERY/COUNTERFEITING','FRAUD', 'BRIBERY', 'EMBEZZLEMENT', 'BAD CHECKS', 'EXTORTION']\n",
    "    publicDisorder = ['VANDALISM','NON-CRIMINAL', 'SUSPICIOUS OCC','TRESPASS','PROSTITUTION', 'DISORDERLY CONDUCT',\n",
    "                  'LOITERING', 'SEX OFFENSES NON FORCIBLE', 'PORNOGRAPHY/OBSCENE MAT','TREA', 'GAMBLING']  \n",
    "    drugsAlcohol = ['DRUNKENNESS','DRUG/NARCOTIC', 'DRIVING UNDER THE INFLUENCE', 'LIQUOR LAWS']\n",
    "    \n",
    "    df['isOtherCrimes'] = df['Category'].isin(otherCrimes)\n",
    "    df['isFamilyCrimes'] = df['Category'].isin(familyCrimes)\n",
    "    df['isViolentCrimes'] = df['Category'].isin(violentCrimes)\n",
    "    df['isTheftBurglary'] = df['Category'].isin(theftBurglary)\n",
    "    df['isEconomicCrimes'] = df['Category'].isin(economicCrimes)\n",
    "\n",
    "    return df\n",
    "\n",
    "def check_intersection(df):\n",
    "    # check whether address is an intersection or not\n",
    "    # one column, i.e. 1 for intersection and 0 for block should suffice\n",
    "    df['StreetCorner'] = df['Address'].apply(lambda x: 1 if '/' in x else 0)\n",
    "    return df\n"
   ]
  },
  {
   "cell_type": "code",
   "execution_count": null,
   "metadata": {
    "collapsed": true
   },
   "outputs": [],
   "source": [
    "from sklearn.preprocessing import StandardScaler, LabelEncoder\n",
    "\n",
    "def xy_clean(df):\n",
    "    # medians of X and Y by police district\n",
    "    listOfPrecincts = df['PdDistrict'].unique()\n",
    "    precinctX = (df.groupby('PdDistrict'))['X'].median()\n",
    "    precinctY = (df.groupby('PdDistrict'))['Y'].median()\n",
    "\n",
    "    # impute wrong values with the medians\n",
    "    for i in range(len(listOfPrecincts)) :\n",
    "        df.loc[ (df['Y'] > 38) & (df['PdDistrict'] == listOfPrecincts[i]), 'X'] = \\\n",
    "            precinctX[listOfPrecincts[i]]\n",
    "        df.loc[(df['Y'] > 38) & (df['PdDistrict'] == listOfPrecincts[i]), 'Y'] = \\\n",
    "            precinctY[listOfPrecincts[i]]\n",
    "            \n",
    "    return df\n",
    "        \n",
    "\n",
    "def xy_scale(df):\n",
    "    xy_scaler = StandardScaler() \n",
    "    xy_scaler.fit(df[[\"X\",\"Y\"]]) \n",
    "    df[[\"X\",\"Y\"]]=xy_scaler.transform(df[[\"X\",\"Y\"]]) \n",
    "    \n",
    "    return df\n",
    "\n",
    "def xy_rotate(df):\n",
    "    \"\"\"\n",
    "    rotate coordinates by 30, 45, 60 degrees\n",
    "    \"\"\"\n",
    "    df[\"rot45_X\"] = 0.707* df[\"Y\"] + 0.707* df[\"X\"]\n",
    "    df[\"rot45_Y\"] = 0.707* df[\"Y\"] - 0.707* df[\"X\"]\n",
    "    df[\"rot30_X\"] = 0.866* df[\"X\"] + 0.5* df[\"Y\"]\n",
    "    df[\"rot30_Y\"] = 0.866* df[\"Y\"] - 0.5* df[\"X\"]\n",
    "    df[\"rot60_X\"] = 0.5* df[\"X\"] + 0.866* df[\"Y\"]\n",
    "    df[\"rot60_Y\"] = 0.5* df[\"Y\"] - 0.866* df[\"X\"] \n",
    "    return df\n",
    "\n",
    "def xy_distance_from_center(df):\n",
    "    \"\"\"\n",
    "    Compute radial distance from center of map\n",
    "    \"\"\"\n",
    "    df[\"radial_r\"] = numpy.sqrt( numpy.power(df[\"Y\"],2) + numpy.power(df[\"X\"],2) )\n",
    "    return df\n",
    "\n",
    "\n",
    "def xy_distance_from_crime_median(df):\n",
    "    # medians of X and Y by crime category\n",
    "    listOfCrimes = df['Category'].unique()\n",
    "    crimeX = (df.groupby('Category'))['X'].median()\n",
    "    crimeY = (df.groupby('Category'))['Y'].median()\n",
    "\n",
    "    # compute distance from from crime median\n",
    "    for crime_name in listOfCrimes:\n",
    "    #for i in range(len(listOfCrimes)):\n",
    "        df[crime_name+\"_r\"] = numpy.sqrt( numpy.power(df[\"Y\"]-crimeY[crime_name],2) + numpy.power(df[\"X\"]-crimeX[crime_name],2) )\n",
    "        \n",
    "        # debug version\n",
    "        #df[listOfCrimes[0]+\"_r\"] = numpy.sqrt( numpy.power(df[\"Y\"]-crimeY[listOfCrimes[0]],2) + numpy.power(df[\"X\"]-crimeX[listOfCrimes[0]],2) )\n",
    "    \n",
    "    \n",
    "            \n",
    "    return df\n",
    "\n",
    "\n"
   ]
  },
  {
   "cell_type": "code",
   "execution_count": null,
   "metadata": {
    "collapsed": true
   },
   "outputs": [],
   "source": [
    "def label_encode(df):\n",
    "    \"\"\"\n",
    "    Label encode PdDistrict and DayOfWeek\n",
    "    \"\"\"\n",
    "    lab_enc = LabelEncoder()\n",
    "    df['PdDistrict'] = lab_enc.fit_transform(df.PdDistrict)\n",
    "    df['DayOfWeek'] = lab_enc.fit_transform(df.DayOfWeek)\n",
    "    return df"
   ]
  },
  {
   "cell_type": "code",
   "execution_count": 6,
   "metadata": {
    "collapsed": true
   },
   "outputs": [],
   "source": [
    "from sklearn.model_selection import train_test_split\n",
    "\n",
    "train, test = train_test_split(train_df, test_size=0.3, random_state=1)"
   ]
  }
 ],
 "metadata": {
  "anaconda-cloud": {},
  "kernelspec": {
   "display_name": "Python [conda env:anaconda431-py35]",
   "language": "python",
   "name": "conda-env-anaconda431-py35-py"
  },
  "language_info": {
   "codemirror_mode": {
    "name": "ipython",
    "version": 3
   },
   "file_extension": ".py",
   "mimetype": "text/x-python",
   "name": "python",
   "nbconvert_exporter": "python",
   "pygments_lexer": "ipython3",
   "version": "3.5.2"
  }
 },
 "nbformat": 4,
 "nbformat_minor": 2
}
