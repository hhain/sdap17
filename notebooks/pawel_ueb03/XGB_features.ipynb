{
 "cells": [
  {
   "cell_type": "code",
   "execution_count": 331,
   "metadata": {
    "collapsed": true
   },
   "outputs": [],
   "source": [
    "import pandas as pd\n",
    "import numpy as np\n",
    "\n",
    "import matplotlib.pyplot as plt"
   ]
  },
  {
   "cell_type": "code",
   "execution_count": 332,
   "metadata": {
    "scrolled": false
   },
   "outputs": [
    {
     "name": "stdout",
     "output_type": "stream",
     "text": [
      "(878049, 9)\n"
     ]
    }
   ],
   "source": [
    "train_df = pd.read_csv('train.csv', parse_dates=['Dates'])\n",
    "#test_df = pd.read_csv('test.csv')\n",
    "print(train_df.shape)\n",
    "#print(test_df.shape)"
   ]
  },
  {
   "cell_type": "code",
   "execution_count": 333,
   "metadata": {},
   "outputs": [],
   "source": [
    "# from datetime import date\n",
    "\n",
    "# date_x = date(2006, 1, 1)\n",
    "# train_df = train_df[pd.to_datetime(train_df['Dates'].dt.date) >= date_x]\n",
    "# print(train_df.shape)\n"
   ]
  },
  {
   "cell_type": "code",
   "execution_count": 334,
   "metadata": {
    "collapsed": true
   },
   "outputs": [],
   "source": [
    "\n",
    "train_df = train_df.sample(frac=0.5, random_state=1)"
   ]
  },
  {
   "cell_type": "code",
   "execution_count": 335,
   "metadata": {
    "collapsed": true
   },
   "outputs": [],
   "source": [
    "all_classes = ['ARSON', 'ASSAULT', 'BAD CHECKS', 'BRIBERY', 'BURGLARY',\n",
    "       'DISORDERLY CONDUCT', 'DRIVING UNDER THE INFLUENCE',\n",
    "       'DRUG/NARCOTIC', 'DRUNKENNESS', 'EMBEZZLEMENT', 'EXTORTION',\n",
    "       'FAMILY OFFENSES', 'FORGERY/COUNTERFEITING', 'FRAUD', 'GAMBLING',\n",
    "       'KIDNAPPING', 'LARCENY/THEFT', 'LIQUOR LAWS', 'LOITERING',\n",
    "       'MISSING PERSON', 'NON-CRIMINAL', 'OTHER OFFENSES',\n",
    "       'PORNOGRAPHY/OBSCENE MAT', 'PROSTITUTION', 'RECOVERED VEHICLE',\n",
    "       'ROBBERY', 'RUNAWAY', 'SECONDARY CODES', 'SEX OFFENSES FORCIBLE',\n",
    "       'SEX OFFENSES NON FORCIBLE', 'STOLEN PROPERTY', 'SUICIDE',\n",
    "       'SUSPICIOUS OCC', 'TREA', 'TRESPASS', 'VANDALISM', 'VEHICLE THEFT',\n",
    "       'WARRANTS', 'WEAPON LAWS']"
   ]
  },
  {
   "cell_type": "code",
   "execution_count": 336,
   "metadata": {},
   "outputs": [
    {
     "name": "stdout",
     "output_type": "stream",
     "text": [
      "Any missing values?\n",
      "('In train: ', False)\n"
     ]
    }
   ],
   "source": [
    "print('Any missing values?')\n",
    "print('In train: ', pd.isnull(train_df).values.any())\n",
    "#print('In test:  ', pandas.isnull(test).values.any())"
   ]
  },
  {
   "cell_type": "code",
   "execution_count": 337,
   "metadata": {
    "collapsed": true
   },
   "outputs": [],
   "source": [
    "from pandas.tseries.holiday import USFederalHolidayCalendar as calendar\n",
    "from pandas.tseries.holiday import Holiday, HolidayCalendarFactory, FR, DateOffset\n",
    "\n",
    "def transform_date(df):\n",
    "    \"\"\"\n",
    "    Split Dates into Date, Year, Month, Day, DayofYear, Hour and Minute\n",
    "    \"\"\"\n",
    "    df['Date'] = pd.to_datetime(df['Dates'].dt.date)\n",
    "    df['Year'] = df['Dates'].dt.year\n",
    "    df['Month'] = df['Dates'].dt.month\n",
    "    df['Day'] = df['Dates'].dt.day\n",
    "    df['DayOfYear'] = df['Dates'].dt.dayofyear   # the ordinal day of the year\n",
    "    df['Time'] = df['Dates'].dt.hour + df['Dates'].dt.minute/60\n",
    "    df['Hour'] = df['Dates'].dt.hour\n",
    "    df['Minutes'] = df['Dates'].dt.minute\n",
    "    del df['Dates']\n",
    "    \n",
    "    return df\n",
    "\n",
    "def dummy_day_of_week(df):\n",
    "    listOfDays = df['DayOfWeek'].unique()\n",
    "    \n",
    "    for day in listOfDays:\n",
    "        col_name = \"is\" + day\n",
    "        \n",
    "        df[col_name] = ((df['DayOfWeek'] == day) == True)\n",
    "        \n",
    "    return df\n",
    "\n",
    "def compute_working_days(df):\n",
    "    \"\"\"\n",
    "    Check if working day, include information about holidays:\n",
    "    New Year, Memorial Day, Independence Day, Labor Day, Thanksgiving, Black Friday, Christmas\n",
    "    \"\"\"\n",
    "    cal = calendar()\n",
    "\n",
    "    # create new rule for Black Friday\n",
    "    USBlackFriday = Holiday('BlackFriday', month=11, day=1,\n",
    "                            offset=DateOffset(weekday=FR(4)))\n",
    "\n",
    "    # create own holiday calendar based on the above rules\n",
    "    ownCal = HolidayCalendarFactory('OwnCalendar', cal, USBlackFriday)\n",
    "    cal = ownCal()\n",
    "    holidays = cal.holidays(start='2003-01-01', end='2015-05-13')\n",
    "\n",
    "    # set flag according to whether the day is a holiday, a weekend or not\n",
    "    df['isWorkingday'] = ((df['DayOfWeek'].isin(['Saturday', 'Sunday'])==False) & \n",
    "                          (df['Date'].isin(holidays)==False))\n",
    "\n",
    "    # transform from True/False into 1/0\n",
    "    df['isWorkingday'] = df['isWorkingday'].astype(int)\n",
    "    \n",
    "    return df\n",
    "    \n",
    "def compute_night(df):\n",
    "    df['Night'] = True\n",
    "    \n",
    "    df.loc[(df['Month'] ==  1) & (df['Time'] > 7.3) & (df['Time'] < 17.3), 'Night'] = False\n",
    "    df.loc[(df['Month'] ==  2) & (df['Time'] > 7.0) & (df['Time'] < 17.8), 'Night'] = False\n",
    "    df.loc[(df['Month'] ==  3) & (df['Time'] > 6.3) & (df['Time'] < 18.3), 'Night'] = False\n",
    "    df.loc[(df['Month'] ==  4) & (df['Time'] > 5.5) & (df['Time'] < 18.8), 'Night'] = False\n",
    "    df.loc[(df['Month'] ==  5) & (df['Time'] > 5.0) & (df['Time'] < 19.3), 'Night'] = False\n",
    "    df.loc[(df['Month'] ==  6) & (df['Time'] > 4.8) & (df['Time'] < 19.5), 'Night'] = False\n",
    "    df.loc[(df['Month'] ==  7) & (df['Time'] > 5.0) & (df['Time'] < 19.5), 'Night'] = False\n",
    "    df.loc[(df['Month'] ==  8) & (df['Time'] > 5.5) & (df['Time'] < 19.0), 'Night'] = False\n",
    "    df.loc[(df['Month'] ==  9) & (df['Time'] > 5.8) & (df['Time'] < 18.3), 'Night'] = False\n",
    "    df.loc[(df['Month'] == 10) & (df['Time'] > 6.3) & (df['Time'] < 17.5), 'Night'] = False\n",
    "    df.loc[(df['Month'] == 11) & (df['Time'] > 6.8) & (df['Time'] < 17.0), 'Night'] = False\n",
    "    df.loc[(df['Month'] == 12) & (df['Time'] > 7.3) & (df['Time'] < 16.9), 'Night'] = False\n",
    "\n",
    "    # transform from True/False into 1/0\n",
    "    df['Night'] = df['Night'].astype(int)\n",
    "    return df\n",
    "\n",
    "def features_date(df):\n",
    "    df = transform_date(df)\n",
    "    df = compute_working_days(df)\n",
    "    df = compute_night(df)\n",
    "    df = dummy_day_of_week(df)\n",
    "    \n",
    "    return df"
   ]
  },
  {
   "cell_type": "code",
   "execution_count": 338,
   "metadata": {
    "collapsed": true
   },
   "outputs": [],
   "source": [
    "def categorize_crimes(df):\n",
    "    otherCrimes = ['WARRANTS','OTHER OFFENSES','WEAPON LAWS','SECONDARY CODES']\n",
    "    familyCrimes = ['MISSING PERSON','RUNAWAY', 'FAMILY OFFENSES','SUICIDE']\n",
    "    violentCrimes = ['ASSAULT','SEX OFFENSES FORCIBLE','ARSON','KIDNAPPING']\n",
    "    theftBurglary = ['LARCENY/THEFT','VEHICLE THEFT','ROBBERY','BURGLARY','STOLEN PROPERTY','RECOVERED VEHICLE']\n",
    "    economicCrimes = ['FORGERY/COUNTERFEITING','FRAUD', 'BRIBERY', 'EMBEZZLEMENT', 'BAD CHECKS', 'EXTORTION']\n",
    "    publicDisorder = ['VANDALISM','NON-CRIMINAL', 'SUSPICIOUS OCC','TRESPASS','PROSTITUTION', 'DISORDERLY CONDUCT',\n",
    "                  'LOITERING', 'SEX OFFENSES NON FORCIBLE', 'PORNOGRAPHY/OBSCENE MAT','TREA', 'GAMBLING']  \n",
    "    drugsAlcohol = ['DRUNKENNESS','DRUG/NARCOTIC', 'DRIVING UNDER THE INFLUENCE', 'LIQUOR LAWS']\n",
    "    \n",
    "    df['isOtherCrimes'] = df['Category'].isin(otherCrimes)\n",
    "    df['isFamilyCrimes'] = df['Category'].isin(familyCrimes)\n",
    "    df['isViolentCrimes'] = df['Category'].isin(violentCrimes)\n",
    "    df['isTheftBurglary'] = df['Category'].isin(theftBurglary)\n",
    "    df['isEconomicCrimes'] = df['Category'].isin(economicCrimes)\n",
    "\n",
    "    return df\n",
    "\n",
    "def check_intersection(df):\n",
    "    # check whether address is an intersection or not\n",
    "    # one column, i.e. 1 for intersection and 0 for block should suffice\n",
    "    df['isStreetCorner'] = df['Address'].apply(lambda x: 1 if '/' in x else 0)\n",
    "    return df\n",
    "\n",
    "def dummy_districts(df):\n",
    "    listOfDistricts = df['PdDistrict'].unique()\n",
    "    \n",
    "    for district in listOfDistricts:\n",
    "        col_name = \"is\" + district\n",
    "        \n",
    "        df[col_name] = ((df['PdDistrict'] == district) == True)\n",
    "        \n",
    "    return df\n",
    "\n",
    "def features_crime(df):\n",
    "    #df = categorize_crimes(df)\n",
    "    df = check_intersection(df)\n",
    "    df = dummy_districts(df)\n",
    "    \n",
    "    return df"
   ]
  },
  {
   "cell_type": "code",
   "execution_count": 339,
   "metadata": {},
   "outputs": [],
   "source": [
    "from sklearn.preprocessing import MinMaxScaler, LabelEncoder\n",
    "\n",
    "def xy_clean(df):\n",
    "    # medians of X and Y by police district\n",
    "    listOfPrecincts = df['PdDistrict'].unique()\n",
    "    precinctX = (df.groupby('PdDistrict'))['X'].median()\n",
    "    precinctY = (df.groupby('PdDistrict'))['Y'].median()\n",
    "\n",
    "    # impute wrong values with the medians\n",
    "    for i in range(len(listOfPrecincts)) :\n",
    "        df.loc[ (df['Y'] > 38) & (df['PdDistrict'] == listOfPrecincts[i]), 'X'] = \\\n",
    "            precinctX[listOfPrecincts[i]]\n",
    "        df.loc[(df['Y'] > 38) & (df['PdDistrict'] == listOfPrecincts[i]), 'Y'] = \\\n",
    "            precinctY[listOfPrecincts[i]]\n",
    "            \n",
    "    return df\n",
    "        \n",
    "\n",
    "def xy_scale(df):\n",
    "    xy_scaler = MinMaxScaler() \n",
    "    xy_scaler.fit(df[[\"X\",\"Y\"]]) \n",
    "    df[[\"X\",\"Y\"]]=xy_scaler.transform(df[[\"X\",\"Y\"]]) \n",
    "    \n",
    "    return df\n",
    "\n",
    "def xy_rotate(df):\n",
    "    \"\"\"\n",
    "    rotate coordinates by 30, 45, 60 degrees\n",
    "    \"\"\"\n",
    "    df[\"rot45_X\"] = 0.707* df[\"Y\"] + 0.707* df[\"X\"]\n",
    "    df[\"rot45_Y\"] = 0.707* df[\"Y\"] - 0.707* df[\"X\"]\n",
    "    df[\"rot30_X\"] = 0.866* df[\"X\"] + 0.5* df[\"Y\"]\n",
    "    df[\"rot30_Y\"] = 0.866* df[\"Y\"] - 0.5* df[\"X\"]\n",
    "    df[\"rot60_X\"] = 0.5* df[\"X\"] + 0.866* df[\"Y\"]\n",
    "    df[\"rot60_Y\"] = 0.5* df[\"Y\"] - 0.866* df[\"X\"] \n",
    "    return df\n",
    "\n",
    "def xy_distance_from_center(df):\n",
    "    \"\"\"\n",
    "    Compute radial distance from center of map\n",
    "    \"\"\"\n",
    "    df[\"radial_r\"] = np.sqrt( np.power(df[\"Y\"],2) + np.power(df[\"X\"],2) )\n",
    "    return df\n",
    "\n",
    "\n",
    "def xy_distance_from_crime_median(df, df_test=None):\n",
    "    # medians of X and Y by crime category\n",
    "    listOfCrimes = df['Category'].unique()\n",
    "    crimeX = (df.groupby('Category'))['X'].median()\n",
    "    crimeY = (df.groupby('Category'))['Y'].median()\n",
    "    \n",
    "    \n",
    "    if df_test == None: \n",
    "        # compute distance from from crime median\n",
    "        for crime_name in listOfCrimes:\n",
    "        #for i in range(len(listOfCrimes)):\n",
    "            df[crime_name+\"_r\"] = np.sqrt( np.power(df[\"Y\"]-crimeY[crime_name],2) + np.power(df[\"X\"]-crimeX[crime_name],2) )\n",
    "\n",
    "            # debug version\n",
    "            #df[listOfCrimes[0]+\"_r\"] = numpy.sqrt( numpy.power(df[\"Y\"]-crimeY[listOfCrimes[0]],2) + numpy.power(df[\"X\"]-crimeX[listOfCrimes[0]],2) )\n",
    "      \n",
    "        return df\n",
    "    \n",
    "    else:\n",
    "        # compute distance from from crime median\n",
    "        for crime_name in listOfCrimes:\n",
    "            df_test[crime_name+\"_r\"] = np.sqrt( np.power(df_test[\"Y\"]-crimeY[crime_name],2) + np.power(df_test[\"X\"]-crimeX[crime_name],2) )\n",
    "\n",
    "        return df_test        \n",
    "        \n",
    "\n",
    "\n",
    "def create_grid_xy(df,x_axis=5,y_axis=5):\n",
    "    step_x = 1.0/x_axis\n",
    "    step_y = 1.0/y_axis\n",
    "    \n",
    "    for i in range(x_axis):\n",
    "        for j in range(y_axis):\n",
    "            bin_name = 'Bin'+str(i)+'_'+str(j)\n",
    "            \n",
    "            if i == x_axis-1 & j != y_axis-1:\n",
    "                df[bin_name] = (((df['X'] >= i*step_x) == True) &\n",
    "                                ((df['X'] <=(i+1)*step_x) == True) & \n",
    "                                ((df['Y'] >= j*step_y) == True) & \n",
    "                                ((df['Y'] < (j+1)*step_y) == True))\n",
    "                              \n",
    "            elif i != x_axis-1 & j == y_axis-1:\n",
    "                df[bin_name] = (((df['X'] >= i*step_x) == True) &\n",
    "                                ((df['X'] <(i+1)*step_x) == True) & \n",
    "                                ((df['Y'] >= j*step_y) == True) & \n",
    "                                ((df['Y'] <= (j+1)*step_y) == True))                \n",
    "            elif i == x_axis-1 & j == y_axis-1:\n",
    "                df[bin_name] = (((df['X'] >= i*step_x) == True) &\n",
    "                                ((df['X'] <=(i+1)*step_x) == True) & \n",
    "                                ((df['Y'] >= j*step_y) == True) & \n",
    "                                ((df['Y'] <= (j+1)*step_y) == True))               \n",
    "            else:\n",
    "                df[bin_name] = (((df['X'] >= i*step_x) == True) &\n",
    "                                ((df['X'] <(i+1)*step_x) == True) & \n",
    "                                ((df['Y'] >= j*step_y) == True) & \n",
    "                                ((df['Y'] < (j+1)*step_y) == True))               \n",
    "\n",
    "    return df\n",
    "    \n",
    "    \n",
    "def features_xy(df):\n",
    "    df = xy_clean(df)\n",
    "    df = xy_scale(df)\n",
    "    df = xy_rotate(df)\n",
    "    df = xy_distance_from_center(df)\n",
    "    df =xy_distance_from_crime_median(df)\n",
    "    df = create_grid_xy(df,x_axis=5,y_axis=5)\n",
    "    return df"
   ]
  },
  {
   "cell_type": "code",
   "execution_count": 340,
   "metadata": {
    "collapsed": true
   },
   "outputs": [],
   "source": [
    "def label_encode(df):\n",
    "    \"\"\"\n",
    "    Label encode PdDistrict and DayOfWeek\n",
    "    \"\"\"\n",
    "    lab_enc = LabelEncoder()\n",
    "    df['PdDistrict'] = lab_enc.fit_transform(df.PdDistrict)\n",
    "    df['DayOfWeek'] = lab_enc.fit_transform(df.DayOfWeek)\n",
    "    #df['Bin'] = lab_enc.fit_transform(df.Bin)\n",
    "    return df"
   ]
  },
  {
   "cell_type": "code",
   "execution_count": 341,
   "metadata": {},
   "outputs": [],
   "source": [
    "train_df = features_date(train_df)\n",
    "train_df = features_crime(train_df)\n",
    "train_df = features_xy(train_df)\n",
    "\n",
    "train_df = label_encode(train_df)\n",
    "\n"
   ]
  },
  {
   "cell_type": "code",
   "execution_count": 342,
   "metadata": {
    "collapsed": true
   },
   "outputs": [],
   "source": [
    "train_df = train_df.drop('Resolution', 1)\n",
    "train_df = train_df.drop('Descript', 1)\n",
    "train_df = train_df.drop('Date', 1)\n",
    "train_df = train_df.drop('Address', 1)\n",
    "train_df = train_df.drop('PdDistrict', 1)\n",
    "#train_df = train_df.drop('DayOfWeek', 1)\n",
    "#train_df = train_df.drop('Year', 1)"
   ]
  },
  {
   "cell_type": "code",
   "execution_count": 343,
   "metadata": {
    "collapsed": true
   },
   "outputs": [],
   "source": [
    "best_features_sorted = ['Time','DayOfYear','Day','Minutes', 'Year','X','rot60_Y','Y','RUNAWAY_r','rot45_Y',\n",
    " 'rot30_X', 'rot30_Y','rot60_X','rot45_X','TREA_r','radial_r','RECOVERED VEHICLE_r','DRUG/NARCOTIC_r',\n",
    " 'VEHICLE THEFT_r','FAMILY OFFENSES_r', 'PORNOGRAPHY/OBSCENE MAT_r','SEX OFFENSES NON FORCIBLE_r','BURGLARY_r',\n",
    " 'isStreetCorner','TRESPASS_r','MISSING PERSON_r','GAMBLING_r','LARCENY/THEFT_r','VANDALISM_r','isWorkingday',\n",
    " 'ARSON_r','SECONDARY CODES_r','BRIBERY_r','DRIVING UNDER THE INFLUENCE_r', 'Month','WEAPON LAWS_r', 'KIDNAPPING_r',\n",
    " 'OTHER OFFENSES_r', 'EXTORTION_r', 'Night', 'SUICIDE_r', 'STOLEN PROPERTY_r', 'PROSTITUTION_r', 'WARRANTS_r', 'BAD CHECKS_r',\n",
    " 'isFriday','FORGERY/COUNTERFEITING_r', 'LOITERING_r', 'isWednesday', 'DISORDERLY CONDUCT_r', 'NON-CRIMINAL_r',\n",
    " 'isSunday', 'isMonday', 'FRAUD_r', 'isTuesday', 'EMBEZZLEMENT_r', 'isSaturday', 'isThursday', 'ROBBERY_r',\n",
    " 'ASSAULT_r', 'DRUNKENNESS_r','SUSPICIOUS OCC_r','LIQUOR LAWS_r','SEX OFFENSES FORCIBLE_r','isTENDERLOIN',\n",
    " 'Bin2_3','isNORTHERN','Bin2_1','Bin1_1','Bin1_2','isINGLESIDE','isSOUTHERN','isPARK','isCENTRAL','Bin3_3',\n",
    " 'Bin4_1','Bin3_1','Bin2_0','Bin1_3','Bin3_0','Bin2_2','Bin1_0','isRICHMOND','Bin0_1','Bin3_4','Bin4_2','isBAYVIEW',\n",
    " 'Bin0_3','Bin0_2','Bin4_3','Bin3_2','Bin2_4','isTARAVAL','isMISSION','Bin4_0','Bin0_0']"
   ]
  },
  {
   "cell_type": "code",
   "execution_count": 344,
   "metadata": {},
   "outputs": [
    {
     "name": "stdout",
     "output_type": "stream",
     "text": [
      "(439025, 96)\n",
      "(439025,)\n"
     ]
    }
   ],
   "source": [
    "y_name = 'Category'\n",
    "X_names = [col for col in train_df.columns.values if col not in y_name and col in best_features_sorted] \n",
    "\n",
    "X = train_df[X_names]\n",
    "y = train_df[y_name]\n",
    "\n",
    "\n",
    "print(X.shape)\n",
    "print(y.shape)"
   ]
  },
  {
   "cell_type": "code",
   "execution_count": 345,
   "metadata": {},
   "outputs": [],
   "source": [
    "from sklearn.cross_validation import train_test_split\n",
    "\n",
    "X_train, X_test, y_train, y_test = train_test_split(X, y, test_size=0.3, random_state=1)"
   ]
  },
  {
   "cell_type": "code",
   "execution_count": 346,
   "metadata": {},
   "outputs": [],
   "source": [
    "\n",
    "from xgboost.sklearn import XGBClassifier\n",
    "from xgboost import plot_importance\n",
    "from xgboost import plot_tree\n",
    "\n",
    "def xgb_probs(X_train, y_train, X_test):\n",
    "\n",
    "    xgb_model = XGBClassifier(n_estimators=20,\n",
    "                              learning_rate=0.2,\n",
    "                              max_depth=11,\n",
    "                              min_child_weight=4,\n",
    "                              gamma=0.4,\n",
    "                              reg_alpha=0.05,\n",
    "                              reg_lambda=2,\n",
    "                              subsample=1.0,\n",
    "                              colsample_bytree=1.0,\n",
    "                              max_delta_step=1,\n",
    "                              scale_pos_weight=1,\n",
    "                              objective='multi:softprob',\n",
    "                              nthread=8,\n",
    "                              seed=0  # ,\n",
    "                              # silent = False\n",
    "                              )\n",
    "    \n",
    "    xgb_model.fit(X_train, y_train)\n",
    "\n",
    "    y_probs = xgb_model.predict_proba(X_test)\n",
    "    \n",
    "    return (y_probs, xgb_model)\n"
   ]
  },
  {
   "cell_type": "code",
   "execution_count": 347,
   "metadata": {
    "collapsed": true
   },
   "outputs": [],
   "source": [
    "from sklearn.ensemble import RandomForestClassifier\n",
    "\n",
    "def rf_probs(X_train, y_train, X_test):\n",
    "    \n",
    "    rf_model = RandomForestClassifier(n_estimators=10,\n",
    "                                      criterion='gini',\n",
    "                                      max_depth=None,\n",
    "                                      min_samples_split=2, \n",
    "                                      min_samples_leaf=1,\n",
    "                                      min_weight_fraction_leaf=0.0,\n",
    "                                      max_features='auto',\n",
    "                                      max_leaf_nodes=None,\n",
    "                                      min_impurity_split=1e-07,\n",
    "                                      bootstrap=True,\n",
    "                                      oob_score=False,\n",
    "                                      n_jobs=4,\n",
    "                                      random_state=None,\n",
    "                                      verbose=0,\n",
    "                                      warm_start=False,\n",
    "                                      class_weight=None)\n",
    "    rf_model.fit(X_train, y_train)\n",
    "\n",
    "    y_probs =rf_model.predict_proba(X_test)\n",
    "    \n",
    "    return y_probs, rf_model"
   ]
  },
  {
   "cell_type": "code",
   "execution_count": 348,
   "metadata": {
    "collapsed": true
   },
   "outputs": [],
   "source": [
    "\n",
    "from sklearn.ensemble import GradientBoostingClassifier\n",
    "\n",
    "def gb_probs(X_train, y_train, X_test):\n",
    "    \n",
    "    gb_model = GradientBoostingClassifier(loss='deviance',\n",
    "                                          learning_rate=0.1,\n",
    "                                          n_estimators=100,\n",
    "                                          subsample=1.0,\n",
    "                                          criterion='friedman_mse',\n",
    "                                          min_samples_split=2,\n",
    "                                          min_samples_leaf=1,\n",
    "                                          min_weight_fraction_leaf=0.0,\n",
    "                                          max_depth=3,\n",
    "                                          min_impurity_split=1e-07,\n",
    "                                          init=None,\n",
    "                                          random_state=None,\n",
    "                                          max_features=None,\n",
    "                                          verbose=0,\n",
    "                                          max_leaf_nodes=None,\n",
    "                                          warm_start=False,\n",
    "                                          presort='auto')\n",
    "    gb_model.fit(X_train, y_train)\n",
    "\n",
    "    y_probs =gb_model.predict_proba(X_test)\n",
    "    \n",
    "    return y_probs, gb_model"
   ]
  },
  {
   "cell_type": "code",
   "execution_count": 358,
   "metadata": {
    "collapsed": true
   },
   "outputs": [],
   "source": [
    "\n",
    "from sklearn.neural_network import MLPClassifier\n",
    "\n",
    "def nn_probs(X_train, y_train, X_test):\n",
    "    \n",
    "    nn_model = MLPClassifier(hidden_layer_sizes=(200,180,200),\n",
    "                             activation='logistic',\n",
    "                             solver='adam',\n",
    "                             alpha=0.0001,\n",
    "                             batch_size='auto',\n",
    "                             learning_rate='constant',\n",
    "                             learning_rate_init=0.001,\n",
    "                             power_t=0.5, max_iter=200,\n",
    "                             shuffle=True,\n",
    "                             random_state=None,\n",
    "                             tol=0.0001,\n",
    "                             verbose=False,\n",
    "                             warm_start=False,\n",
    "                             momentum=0.9,\n",
    "                             nesterovs_momentum=True,\n",
    "                             early_stopping=False,\n",
    "                             validation_fraction=0.1,\n",
    "                             beta_1=0.9,\n",
    "                             beta_2=0.999,\n",
    "                             epsilon=1e-08)\n",
    "    \n",
    "    nn_model.fit(X_train, y_train)\n",
    "\n",
    "    y_probs =nn_model.predict_proba(X_test)\n",
    "    \n",
    "    return y_probs, nn_model"
   ]
  },
  {
   "cell_type": "code",
   "execution_count": null,
   "metadata": {
    "collapsed": true
   },
   "outputs": [],
   "source": [
    "from sklearn.naive_bayes import MultinomialNB\n",
    "\n",
    "def nb_probs(X_train, y_train, X_test):\n",
    "    \n",
    "    nb_model = MultinomialNB()\n",
    "    \n",
    "    nb_model.fit(X_train, y_train)\n",
    "\n",
    "    y_probs =nb_model.predict_proba(X_test)\n",
    "    \n",
    "    return y_probs, nb_model"
   ]
  },
  {
   "cell_type": "code",
   "execution_count": 362,
   "metadata": {
    "scrolled": true
   },
   "outputs": [
    {
     "name": "stdout",
     "output_type": "stream",
     "text": [
      "Score: 2.33290196179\n"
     ]
    }
   ],
   "source": [
    "from sklearn.metrics import log_loss\n",
    "\n",
    "y_probs, model = xgb_probs(X_train, y_train, X_test)\n",
    "score = log_loss(y_test, y_probs, labels=all_classes)\n",
    "print(\"Score: {}\".format(score))"
   ]
  },
  {
   "cell_type": "code",
   "execution_count": 352,
   "metadata": {
    "scrolled": true
   },
   "outputs": [
    {
     "data": {
      "image/png": "[encoded data removed]",
      "text/plain": [
       "<matplotlib.figure.Figure at 0x7f6d23d2f110>"
      ]
     },
     "metadata": {},
     "output_type": "display_data"
    }
   ],
   "source": [
    "feat_imp = pd.Series(model.booster().get_fscore()).sort_values(ascending=False)\n",
    "plt.figure(figsize=(20,10))\n",
    "\n",
    "feat_imp.plot(kind='bar', title='Feature Importances')\n",
    "plt.show()\n",
    "\n"
   ]
  },
  {
   "cell_type": "code",
   "execution_count": 354,
   "metadata": {},
   "outputs": [
    {
     "data": {
      "text/plain": [
       "['Time',\n",
       " 'DayOfYear',\n",
       " 'Day',\n",
       " 'Minutes',\n",
       " 'Year',\n",
       " 'X',\n",
       " 'rot60_Y',\n",
       " 'Y',\n",
       " 'RUNAWAY_r',\n",
       " 'rot45_Y',\n",
       " 'rot30_X',\n",
       " 'rot30_Y',\n",
       " 'rot60_X',\n",
       " 'rot45_X',\n",
       " 'TREA_r',\n",
       " 'radial_r',\n",
       " 'RECOVERED VEHICLE_r',\n",
       " 'DRUG/NARCOTIC_r',\n",
       " 'VEHICLE THEFT_r',\n",
       " 'FAMILY OFFENSES_r',\n",
       " 'PORNOGRAPHY/OBSCENE MAT_r',\n",
       " 'SEX OFFENSES NON FORCIBLE_r',\n",
       " 'BURGLARY_r',\n",
       " 'isStreetCorner',\n",
       " 'TRESPASS_r',\n",
       " 'MISSING PERSON_r',\n",
       " 'GAMBLING_r',\n",
       " 'LARCENY/THEFT_r',\n",
       " 'VANDALISM_r',\n",
       " 'isWorkingday',\n",
       " 'ARSON_r',\n",
       " 'SECONDARY CODES_r',\n",
       " 'BRIBERY_r',\n",
       " 'DRIVING UNDER THE INFLUENCE_r',\n",
       " 'Month',\n",
       " 'WEAPON LAWS_r',\n",
       " 'KIDNAPPING_r',\n",
       " 'OTHER OFFENSES_r',\n",
       " 'EXTORTION_r',\n",
       " 'Night',\n",
       " 'SUICIDE_r',\n",
       " 'STOLEN PROPERTY_r',\n",
       " 'PROSTITUTION_r',\n",
       " 'WARRANTS_r',\n",
       " 'BAD CHECKS_r',\n",
       " 'isFriday',\n",
       " 'FORGERY/COUNTERFEITING_r',\n",
       " 'LOITERING_r',\n",
       " 'isWednesday',\n",
       " 'DISORDERLY CONDUCT_r',\n",
       " 'NON-CRIMINAL_r',\n",
       " 'isSunday',\n",
       " 'isMonday',\n",
       " 'FRAUD_r',\n",
       " 'isTuesday',\n",
       " 'EMBEZZLEMENT_r',\n",
       " 'isSaturday',\n",
       " 'isThursday',\n",
       " 'ROBBERY_r',\n",
       " 'ASSAULT_r',\n",
       " 'DRUNKENNESS_r',\n",
       " 'SUSPICIOUS OCC_r',\n",
       " 'LIQUOR LAWS_r',\n",
       " 'SEX OFFENSES FORCIBLE_r',\n",
       " 'isTENDERLOIN',\n",
       " 'Bin2_3',\n",
       " 'isNORTHERN',\n",
       " 'Bin2_1',\n",
       " 'Bin1_1',\n",
       " 'Bin1_2',\n",
       " 'isINGLESIDE',\n",
       " 'isSOUTHERN',\n",
       " 'isPARK',\n",
       " 'isCENTRAL',\n",
       " 'Bin3_3',\n",
       " 'Bin4_1',\n",
       " 'Bin3_1',\n",
       " 'Bin2_0',\n",
       " 'Bin1_3',\n",
       " 'Bin3_0',\n",
       " 'Bin2_2',\n",
       " 'Bin1_0',\n",
       " 'isRICHMOND',\n",
       " 'Bin0_1',\n",
       " 'Bin3_4',\n",
       " 'Bin4_2',\n",
       " 'isBAYVIEW',\n",
       " 'Bin0_3',\n",
       " 'Bin0_2',\n",
       " 'Bin4_3',\n",
       " 'Bin3_2',\n",
       " 'Bin2_4',\n",
       " 'isTARAVAL',\n",
       " 'isMISSION',\n",
       " 'Bin4_0',\n",
       " 'Bin0_0']"
      ]
     },
     "execution_count": 354,
     "metadata": {},
     "output_type": "execute_result"
    }
   ],
   "source": [
    "features = list(feat_imp.index)\n",
    "features"
   ]
  }
 ],
 "metadata": {
  "anaconda-cloud": {},
  "kernelspec": {
   "display_name": "Python 2",
   "language": "python",
   "name": "python2"
  },
  "language_info": {
   "codemirror_mode": {
    "name": "ipython",
    "version": 2
   },
   "file_extension": ".py",
   "mimetype": "text/x-python",
   "name": "python",
   "nbconvert_exporter": "python",
   "pygments_lexer": "ipython2",
   "version": "2.7.12"
  }
 },
 "nbformat": 4,
 "nbformat_minor": 2
}
