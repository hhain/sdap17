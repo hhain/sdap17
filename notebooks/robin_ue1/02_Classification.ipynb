{
 "cells": [
  {
   "cell_type": "markdown",
   "metadata": {},
   "source": [
    "# Aufgabe 2: Classification"
   ]
  },
  {
   "cell_type": "markdown",
   "metadata": {},
   "source": [
    "A short test to examine the performance gain when using multiple cores on sklearn's esemble classifier random forest.\n",
    "Depending on the available system the maximum number of jobs to test and the sample size can be adjusted by changing the respective parameters."
   ]
  },
  {
   "cell_type": "code",
   "execution_count": 1,
   "metadata": {},
   "outputs": [],
   "source": [
    "# imports\n",
    "from sklearn.datasets import make_classification\n",
    "from sklearn.ensemble import RandomForestClassifier\n",
    "from timeit import default_timer as timer\n",
    "import matplotlib.pyplot as plt"
   ]
  },
  {
   "cell_type": "markdown",
   "metadata": {},
   "source": [
    "First we create a training set of size n_samples containing n_features each."
   ]
  },
  {
   "cell_type": "code",
   "execution_count": 2,
   "metadata": {
    "collapsed": true
   },
   "outputs": [],
   "source": [
    "n_samples = 200000\n",
    "n_features = 20\n",
    "X, y = make_classification(n_samples=n_samples, n_features=n_features)"
   ]
  },
  {
   "cell_type": "markdown",
   "metadata": {},
   "source": [
    "Next we run a performance test on the created data set. Therefor we train a random forest classifier with n_est estimators multiple times and save the best time for later comparison. Each time we use a different number of jobs to train the classifier"
   ]
  },
  {
   "cell_type": "code",
   "execution_count": 3,
   "metadata": {
    "collapsed": true
   },
   "outputs": [],
   "source": [
    "# parameter for performance test\n",
    "n_est = 16\n",
    "max_jobs = 8\n",
    "best_in = 3"
   ]
  },
  {
   "cell_type": "code",
   "execution_count": 4,
   "metadata": {
    "collapsed": true
   },
   "outputs": [],
   "source": [
    "# performance test\n",
    "measurements = []\n",
    "i = 1\n",
    "while i <= max_jobs:\n",
    "    min_t = float(\"inf\")  \n",
    "    for j in range(best_in):\n",
    "        rnd_forest_clf = RandomForestClassifier(n_estimators=n_est, n_jobs=i)\n",
    "        start = timer()\n",
    "        rnd_forest_clf.fit(X,y)\n",
    "        stop = timer()\n",
    "        min_t = min(min_t, stop - start)\n",
    "    measurements.append(min_t)\n",
    "    i += 1"
   ]
  },
  {
   "cell_type": "markdown",
   "metadata": {},
   "source": [
    "Finally we plot our results."
   ]
  },
  {
   "cell_type": "code",
   "execution_count": 5,
   "metadata": {},
   "outputs": [
    {
     "data": {
      "image/png": "[encoded data removed]",
      "text/plain": [
       "<matplotlib.figure.Figure at 0x2ab0dc0f46d8>"
      ]
     },
     "metadata": {},
     "output_type": "display_data"
    }
   ],
   "source": [
    "fig = plt.figure()\n",
    "fig.suptitle('Visualization of the runtime depending on the number of used jobs.')\n",
    "ax = fig.add_subplot(111)\n",
    "ax.set_xlabel('used jobs')\n",
    "ax.set_ylabel('runtime in seconds')\n",
    "plt.xticks(range(1, max_jobs + 1), range(1, max_jobs + 1))\n",
    "ax.plot(range(1, max_jobs + 1), measurements, 'ro')\n",
    "plt.show()"
   ]
  }
 ],
 "metadata": {
  "anaconda-cloud": {},
  "kernelspec": {
   "display_name": "Python [default]",
   "language": "python",
   "name": "python3"
  },
  "language_info": {
   "codemirror_mode": {
    "name": "ipython",
    "version": 3
   },
   "file_extension": ".py",
   "mimetype": "text/x-python",
   "name": "python",
   "nbconvert_exporter": "python",
   "pygments_lexer": "ipython3",
   "version": "3.5.2"
  }
 },
 "nbformat": 4,
 "nbformat_minor": 2
}
