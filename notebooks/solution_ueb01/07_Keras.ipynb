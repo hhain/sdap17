{
 "cells": [
  {
   "cell_type": "markdown",
   "metadata": {
    "collapsed": true
   },
   "source": [
    "# Excercise 1 Taks 7\n",
    "## Keras and deep dreaming\n",
    "#### The deep dreaming script was executed within an anaconda environment with the following packages\n",
    "- python 3.5\n",
    "- keras 2.0.2\n",
    "- tensorflow 1.0\n",
    "- pillow 4.0.0 "
   ]
  },
  {
   "cell_type": "markdown",
   "metadata": {},
   "source": [
    "Visualizing image results through parameter changes in deep_dream.py script"
   ]
  },
  {
   "cell_type": "markdown",
   "metadata": {
    "collapsed": false
   },
   "source": [
    "##### Original to be transformed image because my own selfies are simply too ugly and I'm a Star Trek Fan\n",
    "![title](img/std_o.jpg)"
   ]
  },
  {
   "cell_type": "markdown",
   "metadata": {},
   "source": [
    "## 1. run with original parameters"
   ]
  },
  {
   "cell_type": "code",
   "execution_count": 3,
   "metadata": {
    "collapsed": false
   },
   "outputs": [
    {
     "name": "stderr",
     "output_type": "stream",
     "text": [
      "Using TensorFlow backend.\n"
     ]
    },
    {
     "name": "stdout",
     "output_type": "stream",
     "text": [
      "Model loaded.\n"
     ]
    },
    {
     "name": "stderr",
     "output_type": "stream",
     "text": [
      "/home/henrik/anaconda3/lib/python3.6/site-packages/scipy/ndimage/interpolation.py:568: UserWarning: From scipy 0.13.0, the output shape of zoom() is calculated with round() instead of int() - for these inputs the size of the returned array has changed.\n",
      "  \"the returned array has changed.\", UserWarning)\n",
      "/home/henrik/anaconda3/lib/python3.6/site-packages/scipy/ndimage/interpolation.py:571: RuntimeWarning: invalid value encountered in true_divide\n",
      "  zoom = (numpy.array(input.shape) - 1) / zoom_div\n"
     ]
    },
    {
     "name": "stdout",
     "output_type": "stream",
     "text": [
      "Processing image shape (236, 420)\n",
      "..Loss value at 0 : 0.773101\n",
      "..Loss value at 1 : 0.989443\n",
      "..Loss value at 2 : 1.36996\n",
      "..Loss value at 3 : 1.73904\n",
      "..Loss value at 4 : 2.0989\n",
      "..Loss value at 5 : 2.46473\n",
      "..Loss value at 6 : 2.83497\n",
      "..Loss value at 7 : 3.20704\n",
      "..Loss value at 8 : 3.53789\n",
      "..Loss value at 9 : 3.87789\n",
      "..Loss value at 10 : 4.17761\n",
      "..Loss value at 11 : 4.54946\n",
      "..Loss value at 12 : 4.84955\n",
      "..Loss value at 13 : 5.13712\n",
      "..Loss value at 14 : 5.45583\n",
      "..Loss value at 15 : 5.73099\n",
      "..Loss value at 16 : 5.9894\n",
      "..Loss value at 17 : 6.26368\n",
      "..Loss value at 18 : 6.5892\n",
      "..Loss value at 19 : 6.86595\n",
      "Processing image shape (331, 589)\n",
      "..Loss value at 0 : 1.58885\n",
      "..Loss value at 1 : 2.4101\n",
      "..Loss value at 2 : 3.0788\n",
      "..Loss value at 3 : 3.63512\n",
      "..Loss value at 4 : 4.17944\n",
      "..Loss value at 5 : 4.66909\n",
      "..Loss value at 6 : 5.13645\n",
      "..Loss value at 7 : 5.55448\n",
      "..Loss value at 8 : 5.94556\n",
      "..Loss value at 9 : 6.37725\n",
      "..Loss value at 10 : 6.75097\n",
      "..Loss value at 11 : 7.12204\n",
      "..Loss value at 12 : 7.50019\n",
      "..Loss value at 13 : 7.82671\n",
      "..Loss value at 14 : 8.1627\n",
      "..Loss value at 15 : 8.50139\n",
      "..Loss value at 16 : 8.77757\n",
      "..Loss value at 17 : 9.09302\n",
      "..Loss value at 18 : 9.40175\n",
      "..Loss value at 19 : 9.69899\n",
      "Processing image shape (464, 825)\n",
      "..Loss value at 0 : 1.80886\n",
      "..Loss value at 1 : 2.75668\n",
      "..Loss value at 2 : 3.5511\n",
      "..Loss value at 3 : 4.22848\n",
      "..Loss value at 4 : 4.84531\n",
      "..Loss value at 5 : 5.4161\n",
      "..Loss value at 6 : 5.96341\n",
      "..Loss value at 7 : 6.50308\n",
      "..Loss value at 8 : 7.03244\n",
      "..Loss value at 9 : 7.53222\n",
      "..Loss value at 10 : 8.02889\n",
      "..Loss value at 11 : 8.60728\n",
      "..Loss value at 12 : 9.21723\n",
      "..Loss value at 13 : 9.92354\n"
     ]
    }
   ],
   "source": [
    "# First script run with original parameters \n",
    "%run deep_dream.py img/std_o.jpg img/std_1.jpg"
   ]
  },
  {
   "cell_type": "markdown",
   "metadata": {},
   "source": [
    "#### After execution with original parameter we've got this result :-)\n",
    "![title](img/std_1.jpg.png)"
   ]
  },
  {
   "cell_type": "markdown",
   "metadata": {},
   "source": [
    "#### It seems to recognize cats and fishes? -> Lets Play with the parameters and generate some more images"
   ]
  },
  {
   "cell_type": "markdown",
   "metadata": {},
   "source": [
    "## 2. Run with double step size (0.02)"
   ]
  },
  {
   "cell_type": "code",
   "execution_count": 1,
   "metadata": {
    "collapsed": false
   },
   "outputs": [
    {
     "name": "stderr",
     "output_type": "stream",
     "text": [
      "Using TensorFlow backend.\n"
     ]
    },
    {
     "name": "stdout",
     "output_type": "stream",
     "text": [
      "Model loaded.\n"
     ]
    },
    {
     "name": "stderr",
     "output_type": "stream",
     "text": [
      "/home/henrik/anaconda3/lib/python3.6/site-packages/scipy/ndimage/interpolation.py:568: UserWarning: From scipy 0.13.0, the output shape of zoom() is calculated with round() instead of int() - for these inputs the size of the returned array has changed.\n",
      "  \"the returned array has changed.\", UserWarning)\n",
      "/home/henrik/anaconda3/lib/python3.6/site-packages/scipy/ndimage/interpolation.py:571: RuntimeWarning: invalid value encountered in true_divide\n",
      "  zoom = (numpy.array(input.shape) - 1) / zoom_div\n"
     ]
    },
    {
     "name": "stdout",
     "output_type": "stream",
     "text": [
      "Processing image shape (236, 420)\n",
      "..Loss value at 0 : 0.773101\n",
      "..Loss value at 1 : 0.94976\n",
      "..Loss value at 2 : 1.34936\n",
      "..Loss value at 3 : 1.86133\n",
      "..Loss value at 4 : 2.3787\n",
      "..Loss value at 5 : 2.85991\n",
      "..Loss value at 6 : 3.37634\n",
      "..Loss value at 7 : 3.86549\n",
      "..Loss value at 8 : 4.38928\n",
      "..Loss value at 9 : 4.86004\n",
      "..Loss value at 10 : 5.35465\n",
      "..Loss value at 11 : 5.85905\n",
      "..Loss value at 12 : 6.34463\n",
      "..Loss value at 13 : 6.83067\n",
      "..Loss value at 14 : 7.28357\n",
      "..Loss value at 15 : 7.75236\n",
      "..Loss value at 16 : 8.21696\n",
      "..Loss value at 17 : 8.67674\n",
      "..Loss value at 18 : 9.12857\n",
      "..Loss value at 19 : 9.59682\n",
      "Processing image shape (331, 589)\n",
      "..Loss value at 0 : 1.71816\n",
      "..Loss value at 1 : 2.9377\n",
      "..Loss value at 2 : 4.07589\n",
      "..Loss value at 3 : 5.04884\n",
      "..Loss value at 4 : 6.01486\n",
      "..Loss value at 5 : 7.03627\n",
      "..Loss value at 6 : 8.26636\n",
      "Processing image shape (464, 825)\n",
      "..Loss value at 0 : 2.42704\n",
      "..Loss value at 1 : 5.90696\n"
     ]
    }
   ],
   "source": [
    "%run deep_dream.py img/std_o.jpg img/std_2.png"
   ]
  },
  {
   "cell_type": "markdown",
   "metadata": {
    "collapsed": true
   },
   "source": [
    "![title](img/std_2.png)\n",
    "The structures seem to be more coarse than in the original image"
   ]
  },
  {
   "cell_type": "markdown",
   "metadata": {},
   "source": [
    "## 3. Run with the following parameters\n",
    "- step = 0.02  # Gradient ascent step size\n",
    "- num_octave = 4 (changed from 3 to 4) # Number of scales at which to run gradient ascent\n",
    "- octave_scale = 1.4  # Size ratio between scales\n",
    "- iterations = 20  # Number of ascent steps per scale\n",
    "- max_loss = 10."
   ]
  },
  {
   "cell_type": "code",
   "execution_count": 4,
   "metadata": {
    "collapsed": false
   },
   "outputs": [
    {
     "name": "stdout",
     "output_type": "stream",
     "text": [
      "Model loaded.\n"
     ]
    },
    {
     "name": "stderr",
     "output_type": "stream",
     "text": [
      "/home/henrik/anaconda3/lib/python3.6/site-packages/scipy/ndimage/interpolation.py:568: UserWarning: From scipy 0.13.0, the output shape of zoom() is calculated with round() instead of int() - for these inputs the size of the returned array has changed.\n",
      "  \"the returned array has changed.\", UserWarning)\n",
      "/home/henrik/anaconda3/lib/python3.6/site-packages/scipy/ndimage/interpolation.py:571: RuntimeWarning: invalid value encountered in true_divide\n",
      "  zoom = (numpy.array(input.shape) - 1) / zoom_div\n"
     ]
    },
    {
     "name": "stdout",
     "output_type": "stream",
     "text": [
      "Processing image shape (236, 420)\n",
      "..Loss value at 0 : 0.773101\n",
      "..Loss value at 1 : 0.94976\n",
      "..Loss value at 2 : 1.34936\n",
      "..Loss value at 3 : 1.86133\n",
      "..Loss value at 4 : 2.3787\n",
      "..Loss value at 5 : 2.85991\n",
      "..Loss value at 6 : 3.37634\n",
      "..Loss value at 7 : 3.86549\n",
      "..Loss value at 8 : 4.38928\n",
      "..Loss value at 9 : 4.86004\n",
      "..Loss value at 10 : 5.35465\n",
      "..Loss value at 11 : 5.85905\n",
      "..Loss value at 12 : 6.34463\n",
      "..Loss value at 13 : 6.83067\n",
      "..Loss value at 14 : 7.28357\n",
      "..Loss value at 15 : 7.75236\n",
      "..Loss value at 16 : 8.21696\n",
      "..Loss value at 17 : 8.67674\n",
      "..Loss value at 18 : 9.12857\n",
      "..Loss value at 19 : 9.59682\n",
      "Processing image shape (331, 589)\n",
      "..Loss value at 0 : 1.71816\n",
      "..Loss value at 1 : 2.9377\n",
      "..Loss value at 2 : 4.07589\n",
      "..Loss value at 3 : 5.04884\n",
      "..Loss value at 4 : 6.01486\n",
      "..Loss value at 5 : 7.03627\n",
      "..Loss value at 6 : 8.26636\n",
      "Processing image shape (464, 825)\n",
      "..Loss value at 0 : 2.42704\n",
      "..Loss value at 1 : 5.90696\n"
     ]
    }
   ],
   "source": [
    "%run deep_dream.py img/std_o.jpg img/std_3"
   ]
  },
  {
   "cell_type": "markdown",
   "metadata": {
    "collapsed": true
   },
   "source": [
    "![title](img/std_3.png)\n",
    "Change of octave does not lead to changed visualization"
   ]
  },
  {
   "cell_type": "markdown",
   "metadata": {},
   "source": [
    "## 4. Run with the following parameters\n",
    "- step = 0.02  # Gradient ascent step size\n",
    "- num_octave = 4  # Number of scales at which to run gradient ascent\n",
    "- octave_scale = 2.0 (1.4 -> 2.0) # Size ratio between scales\n",
    "- iterations = 30 (20 -> 30 # Number of ascent steps per scale\n",
    "- max_loss = 10."
   ]
  },
  {
   "cell_type": "code",
   "execution_count": 5,
   "metadata": {
    "collapsed": false
   },
   "outputs": [
    {
     "name": "stdout",
     "output_type": "stream",
     "text": [
      "Model loaded.\n"
     ]
    },
    {
     "name": "stderr",
     "output_type": "stream",
     "text": [
      "/home/henrik/anaconda3/lib/python3.6/site-packages/scipy/ndimage/interpolation.py:571: RuntimeWarning: invalid value encountered in true_divide\n",
      "  zoom = (numpy.array(input.shape) - 1) / zoom_div\n"
     ]
    },
    {
     "name": "stdout",
     "output_type": "stream",
     "text": [
      "Processing image shape (58, 103)\n",
      "..Loss value at 0 : 0.0\n",
      "..Loss value at 1 : 0.0\n",
      "..Loss value at 2 : 0.0\n",
      "..Loss value at 3 : 0.0\n",
      "..Loss value at 4 : 0.0\n",
      "..Loss value at 5 : 0.0\n",
      "..Loss value at 6 : 0.0\n",
      "..Loss value at 7 : 0.0\n",
      "..Loss value at 8 : 0.0\n",
      "..Loss value at 9 : 0.0\n",
      "..Loss value at 10 : 0.0\n",
      "..Loss value at 11 : 0.0\n",
      "..Loss value at 12 : 0.0\n",
      "..Loss value at 13 : 0.0\n",
      "..Loss value at 14 : 0.0\n",
      "..Loss value at 15 : 0.0\n",
      "..Loss value at 16 : 0.0\n",
      "..Loss value at 17 : 0.0\n",
      "..Loss value at 18 : 0.0\n",
      "..Loss value at 19 : 0.0\n",
      "..Loss value at 20 : 0.0\n",
      "..Loss value at 21 : 0.0\n",
      "..Loss value at 22 : 0.0\n",
      "..Loss value at 23 : 0.0\n",
      "..Loss value at 24 : 0.0\n",
      "..Loss value at 25 : 0.0\n",
      "..Loss value at 26 : 0.0\n",
      "..Loss value at 27 : 0.0\n",
      "..Loss value at 28 : 0.0\n",
      "..Loss value at 29 : 0.0\n",
      "Processing image shape (116, 206)\n",
      "..Loss value at 0 : 0.198674\n",
      "..Loss value at 1 : 0.269958\n",
      "..Loss value at 2 : 0.410425\n",
      "..Loss value at 3 : 0.630814\n",
      "..Loss value at 4 : 0.917823\n",
      "..Loss value at 5 : 1.177\n",
      "..Loss value at 6 : 1.4362\n",
      "..Loss value at 7 : 1.7589\n",
      "..Loss value at 8 : 2.00253\n",
      "..Loss value at 9 : 2.28321\n",
      "..Loss value at 10 : 2.53273\n",
      "..Loss value at 11 : 2.85366\n",
      "..Loss value at 12 : 3.1513\n",
      "..Loss value at 13 : 3.28074\n",
      "..Loss value at 14 : 3.74455\n",
      "..Loss value at 15 : 4.10269\n",
      "..Loss value at 16 : 4.36462\n",
      "..Loss value at 17 : 4.72593\n",
      "..Loss value at 18 : 5.07547\n",
      "..Loss value at 19 : 5.57452\n",
      "..Loss value at 20 : 5.94649\n",
      "..Loss value at 21 : 6.45474\n",
      "..Loss value at 22 : 7.0983\n",
      "..Loss value at 23 : 7.76284\n",
      "..Loss value at 24 : 8.32685\n",
      "..Loss value at 25 : 9.10017\n",
      "..Loss value at 26 : 9.95701\n",
      "Processing image shape (232, 412)\n",
      "..Loss value at 0 : 1.23273\n",
      "..Loss value at 1 : 2.68147\n",
      "..Loss value at 2 : 6.46694\n",
      "Processing image shape (464, 825)\n",
      "..Loss value at 0 : 4.41594\n"
     ]
    }
   ],
   "source": [
    "%run deep_dream.py img/std_o.jpg img/std_4"
   ]
  },
  {
   "cell_type": "markdown",
   "metadata": {},
   "source": [
    "![title](img/std_4.png)"
   ]
  },
  {
   "cell_type": "markdown",
   "metadata": {},
   "source": [
    "## 5. Run with the following parameters\n",
    "- step = 0.02  # Gradient ascent step size\n",
    "- num_octave = 4  # Number of scales at which to run gradient ascent\n",
    "- octave_scale = 1.0  # Size ratio between scales \n",
    "- iterations = 30  # Number of ascent steps per scale\n",
    "- max_loss = 10."
   ]
  },
  {
   "cell_type": "code",
   "execution_count": 6,
   "metadata": {
    "collapsed": false
   },
   "outputs": [
    {
     "name": "stdout",
     "output_type": "stream",
     "text": [
      "Model loaded.\n"
     ]
    },
    {
     "name": "stderr",
     "output_type": "stream",
     "text": [
      "/home/henrik/anaconda3/lib/python3.6/site-packages/scipy/ndimage/interpolation.py:571: RuntimeWarning: invalid value encountered in true_divide\n",
      "  zoom = (numpy.array(input.shape) - 1) / zoom_div\n"
     ]
    },
    {
     "name": "stdout",
     "output_type": "stream",
     "text": [
      "Processing image shape (464, 825)\n",
      "..Loss value at 0 : 0.848442\n",
      "..Loss value at 1 : 1.02749\n",
      "..Loss value at 2 : 1.47048\n",
      "..Loss value at 3 : 2.05187\n",
      "..Loss value at 4 : 2.69905\n",
      "..Loss value at 5 : 3.34912\n",
      "..Loss value at 6 : 3.99514\n",
      "..Loss value at 7 : 4.65236\n",
      "..Loss value at 8 : 5.25005\n",
      "..Loss value at 9 : 5.90118\n",
      "..Loss value at 10 : 6.55184\n",
      "..Loss value at 11 : 7.15759\n",
      "..Loss value at 12 : 7.78682\n",
      "..Loss value at 13 : 8.40784\n",
      "..Loss value at 14 : 9.00614\n",
      "..Loss value at 15 : 9.58601\n",
      "Processing image shape (464, 825)\n",
      "Processing image shape (464, 825)\n",
      "Processing image shape (464, 825)\n"
     ]
    }
   ],
   "source": [
    "%run deep_dream.py img/std_o.jpg img/std_5"
   ]
  },
  {
   "cell_type": "markdown",
   "metadata": {},
   "source": [
    "![title](img/std_5.png)\n",
    "Octave scale seems to have the most effect on image structure granularity and together with step the most effect on run time behaviour"
   ]
  },
  {
   "cell_type": "markdown",
   "metadata": {},
   "source": [
    "## 6. Run with the following parameters\n",
    "- step = 0.01  # Gradient ascent step size\n",
    "- num_octave = 4  # Number of scales at which to run gradient ascent\n",
    "- octave_scale = 0.5  # Size ratio between scales\n",
    "- iterations = 30  # Number of ascent steps per scale\n",
    "- max_loss = 10."
   ]
  },
  {
   "cell_type": "code",
   "execution_count": 8,
   "metadata": {
    "collapsed": false,
    "scrolled": true
   },
   "outputs": [
    {
     "name": "stdout",
     "output_type": "stream",
     "text": [
      "Model loaded.\n"
     ]
    },
    {
     "name": "stderr",
     "output_type": "stream",
     "text": [
      "/home/henrik/anaconda3/lib/python3.6/site-packages/scipy/ndimage/interpolation.py:571: RuntimeWarning: invalid value encountered in true_divide\n",
      "  zoom = (numpy.array(input.shape) - 1) / zoom_div\n"
     ]
    },
    {
     "name": "stdout",
     "output_type": "stream",
     "text": [
      "Processing image shape (3712, 6600)\n",
      "..Loss value at 0 : 0.622781\n",
      "..Loss value at 1 : 0.681898\n",
      "..Loss value at 2 : 0.996126\n",
      "..Loss value at 3 : 1.43156\n",
      "..Loss value at 4 : 1.93483\n",
      "..Loss value at 5 : 2.43186\n",
      "..Loss value at 6 : 2.92295\n",
      "..Loss value at 7 : 3.39668\n",
      "..Loss value at 8 : 3.85623\n",
      "..Loss value at 9 : 4.31903\n",
      "..Loss value at 10 : 4.76677\n",
      "..Loss value at 11 : 5.22494\n",
      "..Loss value at 12 : 5.67537\n",
      "..Loss value at 13 : 6.1611\n",
      "..Loss value at 14 : 6.63339\n",
      "..Loss value at 15 : 7.17828\n",
      "..Loss value at 16 : 7.63272\n",
      "..Loss value at 17 : 8.21257\n",
      "..Loss value at 18 : 8.68946\n",
      "..Loss value at 19 : 9.29014\n",
      "..Loss value at 20 : 9.87115\n",
      "Processing image shape (1856, 3300)\n",
      "..Loss value at 0 : 0.915839\n",
      "..Loss value at 1 : 1.68144\n",
      "..Loss value at 2 : 2.49308\n",
      "..Loss value at 3 : 3.14134\n",
      "..Loss value at 4 : 3.69972\n",
      "..Loss value at 5 : 4.24104\n",
      "..Loss value at 6 : 4.74741\n",
      "..Loss value at 7 : 5.23017\n",
      "..Loss value at 8 : 5.71133\n",
      "..Loss value at 9 : 6.17091\n",
      "..Loss value at 10 : 6.63476\n",
      "..Loss value at 11 : 7.06975\n",
      "..Loss value at 12 : 7.5094\n",
      "..Loss value at 13 : 7.92352\n",
      "..Loss value at 14 : 8.33478\n",
      "..Loss value at 15 : 8.74424\n",
      "..Loss value at 16 : 9.13745\n",
      "..Loss value at 17 : 9.51827\n",
      "..Loss value at 18 : 9.89775\n",
      "Processing image shape (928, 1650)\n",
      "..Loss value at 0 : 0.816366\n",
      "..Loss value at 1 : 1.31353\n",
      "..Loss value at 2 : 1.92044\n",
      "..Loss value at 3 : 2.51352\n",
      "..Loss value at 4 : 3.05375\n",
      "..Loss value at 5 : 3.53912\n",
      "..Loss value at 6 : 4.03907\n",
      "..Loss value at 7 : 4.50432\n",
      "..Loss value at 8 : 4.9034\n",
      "..Loss value at 9 : 5.38546\n",
      "..Loss value at 10 : 5.77511\n",
      "..Loss value at 11 : 6.24854\n",
      "..Loss value at 12 : 6.64958\n",
      "..Loss value at 13 : 7.1545\n",
      "..Loss value at 14 : 7.57403\n",
      "..Loss value at 15 : 8.06632\n",
      "..Loss value at 16 : 8.37699\n",
      "..Loss value at 17 : 8.94505\n",
      "..Loss value at 18 : 9.41367\n",
      "..Loss value at 19 : 9.95162\n",
      "Processing image shape (464, 825)\n",
      "..Loss value at 0 : 0.879436\n",
      "..Loss value at 1 : 1.37898\n",
      "..Loss value at 2 : 1.95472\n",
      "..Loss value at 3 : 2.50293\n",
      "..Loss value at 4 : 3.01778\n",
      "..Loss value at 5 : 3.50392\n",
      "..Loss value at 6 : 3.95581\n",
      "..Loss value at 7 : 4.40152\n",
      "..Loss value at 8 : 4.85826\n",
      "..Loss value at 9 : 5.26666\n",
      "..Loss value at 10 : 5.68483\n",
      "..Loss value at 11 : 6.07954\n",
      "..Loss value at 12 : 6.45223\n",
      "..Loss value at 13 : 6.81853\n",
      "..Loss value at 14 : 7.18966\n",
      "..Loss value at 15 : 7.54068\n",
      "..Loss value at 16 : 7.87167\n",
      "..Loss value at 17 : 8.22661\n",
      "..Loss value at 18 : 8.53101\n",
      "..Loss value at 19 : 8.86024\n",
      "..Loss value at 20 : 9.15279\n",
      "..Loss value at 21 : 9.44598\n",
      "..Loss value at 22 : 9.77415\n"
     ]
    }
   ],
   "source": [
    "%run deep_dream.py img/std_o.jpg std_6"
   ]
  },
  {
   "cell_type": "markdown",
   "metadata": {},
   "source": [
    "![title](img/std_6.png)\n",
    "Reducing step and octave_scale leads to fine granular image representation but to very long run times"
   ]
  },
  {
   "cell_type": "markdown",
   "metadata": {},
   "source": [
    "## 7. Run with the following parameters\n",
    "- step = 0.015  # Gradient ascent step size\n",
    "- num_octave = 3  # Number of scales at which to run gradient ascent\n",
    "- octave_scale = 1.0  # Size ratio between scales\n",
    "- iterations = 15  # Number of ascent steps per scale\n",
    "- max_loss = 5."
   ]
  },
  {
   "cell_type": "code",
   "execution_count": 9,
   "metadata": {
    "collapsed": false
   },
   "outputs": [
    {
     "name": "stdout",
     "output_type": "stream",
     "text": [
      "Model loaded.\n"
     ]
    },
    {
     "name": "stderr",
     "output_type": "stream",
     "text": [
      "/home/henrik/anaconda3/lib/python3.6/site-packages/scipy/ndimage/interpolation.py:571: RuntimeWarning: invalid value encountered in true_divide\n",
      "  zoom = (numpy.array(input.shape) - 1) / zoom_div\n"
     ]
    },
    {
     "name": "stdout",
     "output_type": "stream",
     "text": [
      "Processing image shape (464, 825)\n",
      "..Loss value at 0 : 0.848442\n",
      "..Loss value at 1 : 1.05293\n",
      "..Loss value at 2 : 1.48599\n",
      "..Loss value at 3 : 2.0262\n",
      "..Loss value at 4 : 2.59325\n",
      "..Loss value at 5 : 3.17196\n",
      "..Loss value at 6 : 3.74864\n",
      "..Loss value at 7 : 4.31302\n",
      "..Loss value at 8 : 4.86509\n",
      "Processing image shape (464, 825)\n",
      "Processing image shape (464, 825)\n"
     ]
    }
   ],
   "source": [
    "%run deep_dream.py img/std_o.jpg img/std_7"
   ]
  },
  {
   "cell_type": "markdown",
   "metadata": {},
   "source": [
    "![title](img/std_7.png)\n",
    "Using a higher octave_scale value together with half the iterations and half max loss keeps fine granularity of the picture with acceptable run time behaviour but also with less artifact building"
   ]
  },
  {
   "cell_type": "code",
   "execution_count": null,
   "metadata": {
    "collapsed": true
   },
   "outputs": [],
   "source": []
  }
 ],
 "metadata": {
  "kernelspec": {
   "display_name": "Python 3",
   "language": "python",
   "name": "python3"
  },
  "language_info": {
   "codemirror_mode": {
    "name": "ipython",
    "version": 3
   },
   "file_extension": ".py",
   "mimetype": "text/x-python",
   "name": "python",
   "nbconvert_exporter": "python",
   "pygments_lexer": "ipython3",
   "version": "3.6.0"
  }
 },
 "nbformat": 4,
 "nbformat_minor": 2
}
