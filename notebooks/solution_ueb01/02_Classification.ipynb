{
 "cells": [
  {
   "cell_type": "markdown",
   "metadata": {},
   "source": [
    "# Aufgabe 2: Classification"
   ]
  },
  {
   "cell_type": "markdown",
   "metadata": {},
   "source": [
    "A short test to examine the performance gain when using multiple cores on sklearn's esemble classifier random forest.\n",
    "Depending on the available system the maximum number of jobs to test and the sample size can be adjusted by changing the respective parameters."
   ]
  },
  {
   "cell_type": "code",
   "execution_count": 1,
   "metadata": {
    "collapsed": true
   },
   "outputs": [],
   "source": [
    "# imports\n",
    "from sklearn.datasets import make_classification\n",
    "from sklearn.ensemble import RandomForestClassifier\n",
    "import time\n",
    "import matplotlib.pyplot as plt"
   ]
  },
  {
   "cell_type": "markdown",
   "metadata": {},
   "source": [
    "First we create a training set of size num_samples and num_features."
   ]
  },
  {
   "cell_type": "code",
   "execution_count": 2,
   "metadata": {},
   "outputs": [],
   "source": [
    "num_samples = 500 * 1000\n",
    "num_features = 40\n",
    "X, y = make_classification(n_samples=num_samples, n_features=num_features)"
   ]
  },
  {
   "cell_type": "markdown",
   "metadata": {},
   "source": [
    "Next we run a performance test on the created data set. Therefor we train a random forest classifier multiple times and and measure the training time. Each time we use a different number of jobs to train the classifier. We repeat the process on training sets of various sizes."
   ]
  },
  {
   "cell_type": "code",
   "execution_count": 3,
   "metadata": {
    "collapsed": true
   },
   "outputs": [],
   "source": [
    "# test different number of cores: here max 8\n",
    "max_cores = 8\n",
    "num_cpu_list = list(range(1,max_cores + 1))\n",
    "max_sample_list = [int(l * num_samples) for l in [0.1, 0.2, 1, 0.001]]\n",
    "training_times_all = []"
   ]
  },
  {
   "cell_type": "code",
   "execution_count": 4,
   "metadata": {},
   "outputs": [
    {
     "name": "stdout",
     "output_type": "stream",
     "text": [
      "Computing for 50000 samples and 1 cores DONE.\n",
      "Computing for 50000 samples and 2 cores DONE.\n",
      "Computing for 50000 samples and 3 cores DONE.\n",
      "Computing for 50000 samples and 4 cores DONE.\n",
      "Computing for 50000 samples and 5 cores DONE.\n",
      "Computing for 50000 samples and 6 cores DONE.\n",
      "Computing for 50000 samples and 7 cores DONE.\n",
      "Computing for 50000 samples and 8 cores DONE.\n",
      "Computing for 100000 samples and 1 cores DONE.\n",
      "Computing for 100000 samples and 2 cores DONE.\n",
      "Computing for 100000 samples and 3 cores DONE.\n",
      "Computing for 100000 samples and 4 cores DONE.\n",
      "Computing for 100000 samples and 5 cores DONE.\n",
      "Computing for 100000 samples and 6 cores DONE.\n",
      "Computing for 100000 samples and 7 cores DONE.\n",
      "Computing for 100000 samples and 8 cores DONE.\n",
      "Computing for 500000 samples and 1 cores DONE.\n",
      "Computing for 500000 samples and 2 cores DONE.\n",
      "Computing for 500000 samples and 3 cores DONE.\n",
      "Computing for 500000 samples and 4 cores DONE.\n",
      "Computing for 500000 samples and 5 cores DONE.\n",
      "Computing for 500000 samples and 6 cores DONE.\n",
      "Computing for 500000 samples and 7 cores DONE.\n",
      "Computing for 500000 samples and 8 cores DONE.\n",
      "Computing for 500 samples and 1 cores DONE.\n",
      "Computing for 500 samples and 2 cores DONE.\n",
      "Computing for 500 samples and 3 cores DONE.\n",
      "Computing for 500 samples and 4 cores DONE.\n",
      "Computing for 500 samples and 5 cores DONE.\n",
      "Computing for 500 samples and 6 cores DONE.\n",
      "Computing for 500 samples and 7 cores DONE.\n",
      "Computing for 500 samples and 8 cores DONE.\n",
      "All computations DONE.\n"
     ]
    }
   ],
   "source": [
    "# the default setting for classifier\n",
    "clf = RandomForestClassifier()\n",
    "\n",
    "for max_sample in max_sample_list:\n",
    "    training_times = []\n",
    "    for num_cpu in num_cpu_list:\n",
    "        # change number of cores\n",
    "        clf.set_params(n_jobs=num_cpu)\n",
    "        start_time = time.time()\n",
    "        # train classifier on training data\n",
    "        clf.fit(X[:max_sample+1], y[:max_sample+1])\n",
    "        # save the runtime to the list\n",
    "        training_times.append(time.time() - start_time)\n",
    "        # print logging message\n",
    "        print(\"Computing for {} samples and {} cores DONE.\".format(max_sample,num_cpu))\n",
    "    \n",
    "    training_times_all.append(training_times)\n",
    "\n",
    "print(\"All computations DONE.\")"
   ]
  },
  {
   "cell_type": "markdown",
   "metadata": {},
   "source": [
    "Finally we plot and evaluate our results."
   ]
  },
  {
   "cell_type": "code",
   "execution_count": 5,
   "metadata": {},
   "outputs": [
    {
     "data": {
      "image/png": "[encoded data removed]",
      "text/plain": [
       "<matplotlib.figure.Figure at 0x2ae276c3bdd8>"
      ]
     },
     "metadata": {},
     "output_type": "display_data"
    }
   ],
   "source": [
    "plt.plot(num_cpu_list, training_times_all[0], 'ro', label=\"{}k\".format(max_sample_list[0]//1000))\n",
    "plt.plot(num_cpu_list, training_times_all[1], \"bs\" , label=\"{}k\".format(max_sample_list[1]//1000))\n",
    "plt.plot(num_cpu_list, training_times_all[2], \"g^\" , label=\"{}k\".format(max_sample_list[2]//1000))\n",
    "plt.axis([0, len(num_cpu_list)+1, 0, max(training_times_all[2])+1])\n",
    "plt.title(\"Training time vs #CPU Cores\")\n",
    "plt.xlabel(\"#CPU Cores\")\n",
    "plt.ylabel(\"training time [s]\")\n",
    "plt.legend()\n",
    "plt.show()"
   ]
  },
  {
   "cell_type": "markdown",
   "metadata": {},
   "source": [
    "The training time is inversely proportional to the number of used cpu cores."
   ]
  },
  {
   "cell_type": "code",
   "execution_count": null,
   "metadata": {
    "collapsed": true
   },
   "outputs": [],
   "source": [
    "plt.plot(num_cpu_list, training_times_all[3], 'ro', label=\"{}k\".format(max_sample_list[3]/1000))\n",
    "plt.axis([0, len(num_cpu_list)+1, 0, max(training_times_all[3])+1])\n",
    "plt.title(\"Training time vs #CPU Cores on small dataset\")\n",
    "plt.xlabel(\"#CPU Cores\")\n",
    "plt.ylabel(\"training time [s]\")\n",
    "plt.legend()\n",
    "plt.show()"
   ]
  },
  {
   "cell_type": "markdown",
   "metadata": {},
   "source": [
    "However for small datasets the overhead introduced by multiprocessing can be higher than the actual execution time needed for training. In that case using multiple cores (n_jobs > 1) will not lead to decreased execution times."
   ]
  }
 ],
 "metadata": {
  "anaconda-cloud": {},
  "kernelspec": {
   "display_name": "Python [default]",
   "language": "python",
   "name": "python3"
  },
  "language_info": {
   "codemirror_mode": {
    "name": "ipython",
    "version": 3
   },
   "file_extension": ".py",
   "mimetype": "text/x-python",
   "name": "python",
   "nbconvert_exporter": "python",
   "pygments_lexer": "ipython3",
   "version": "3.5.2"
  }
 },
 "nbformat": 4,
 "nbformat_minor": 1
}
