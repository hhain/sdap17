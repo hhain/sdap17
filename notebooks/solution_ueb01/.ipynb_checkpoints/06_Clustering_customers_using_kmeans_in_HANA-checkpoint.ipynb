{
 "cells": [
  {
   "cell_type": "markdown",
   "metadata": {},
   "source": [
    "# Aufgabe 6: Clustering Customers using K-means in HANA "
   ]
  },
  {
   "cell_type": "markdown",
   "metadata": {
    "collapsed": true
   },
   "source": [
    "In this excercise we follow the steps of chapter 5.3 in the SDIL tutorial.\n",
    "\n",
    "The used flowgraph customers_tutorial.hdbflowgraph can be found in the solution file folder or dowloaded here: [download](files/customers_tutorial.hdbflowgraph)"
   ]
  },
  {
   "cell_type": "markdown",
   "metadata": {},
   "source": [
    "After setting up our system we use the SQL console to create a new tables for the customers.\n",
    "\n",
    "![title](img/hana_1.PNG)"
   ]
  },
  {
   "cell_type": "markdown",
   "metadata": {},
   "source": [
    "And load our data.\n",
    "\n",
    "![title](img/hana_2.PNG)"
   ]
  },
  {
   "cell_type": "markdown",
   "metadata": {},
   "source": [
    "Next we create a simple plot showing customer income and loyality.\n",
    "\n",
    "![title](img/hana_3.PNG)"
   ]
  },
  {
   "cell_type": "markdown",
   "metadata": {},
   "source": [
    "We follow the steps in the tutorial and create a flowgraph for our analysis.\n",
    "\n",
    "![title](img/hana_4.PNG)"
   ]
  },
  {
   "cell_type": "markdown",
   "metadata": {},
   "source": [
    "After we have run our analyzis we visualize the results. The first graphs show our centers and the second our classification.\n",
    "\n",
    "![title](img/hana_5.PNG)\n",
    "![title](img/hana_6.PNG)"
   ]
  },
  {
   "cell_type": "code",
   "execution_count": null,
   "metadata": {
    "collapsed": true
   },
   "outputs": [],
   "source": []
  }
 ],
 "metadata": {
  "kernelspec": {
   "display_name": "Python 3",
   "language": "python",
   "name": "python3"
  },
  "language_info": {
   "codemirror_mode": {
    "name": "ipython",
    "version": 3
   },
   "file_extension": ".py",
   "mimetype": "text/x-python",
   "name": "python",
   "nbconvert_exporter": "python",
   "pygments_lexer": "ipython3",
   "version": "3.6.0"
  }
 },
 "nbformat": 4,
 "nbformat_minor": 2
}
