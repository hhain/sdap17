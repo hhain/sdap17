{
 "cells": [
  {
   "cell_type": "code",
   "execution_count": 40,
   "metadata": {},
   "outputs": [],
   "source": [
    "import pandas as pd\n",
    "import numpy as np\n",
    "import matplotlib.pyplot as plt\n",
    "from sklearn.model_selection import cross_val_score\n",
    "from sklearn.model_selection import train_test_split\n",
    "from sklearn.model_selection import GridSearchCV\n",
    "from sklearn.metrics import confusion_matrix\n",
    "from sklearn.metrics import accuracy_score\n",
    "from sklearn.neighbors import KNeighborsClassifier\n",
    "from sklearn.svm import SVC"
   ]
  },
  {
   "cell_type": "code",
   "execution_count": 6,
   "metadata": {
    "collapsed": true
   },
   "outputs": [],
   "source": [
    "# Load dataset\n",
    "url = \"https://archive.ics.uci.edu/ml/machine-learning-databases/iris/iris.data\"\n",
    "names = ['sepal-length', 'sepal-width', 'petal-length', 'petal-width', 'class']\n",
    "dataset = pd.read_csv(url, names=names)"
   ]
  },
  {
   "cell_type": "code",
   "execution_count": 7,
   "metadata": {},
   "outputs": [
    {
     "data": {
      "text/html": [
       "<div>\n",
       "<table border=\"1\" class=\"dataframe\">\n",
       "  <thead>\n",
       "    <tr style=\"text-align: right;\">\n",
       "      <th></th>\n",
       "      <th>sepal-length</th>\n",
       "      <th>sepal-width</th>\n",
       "      <th>petal-length</th>\n",
       "      <th>petal-width</th>\n",
       "      <th>class</th>\n",
       "    </tr>\n",
       "  </thead>\n",
       "  <tbody>\n",
       "    <tr>\n",
       "      <th>0</th>\n",
       "      <td>5.1</td>\n",
       "      <td>3.5</td>\n",
       "      <td>1.4</td>\n",
       "      <td>0.2</td>\n",
       "      <td>Iris-setosa</td>\n",
       "    </tr>\n",
       "    <tr>\n",
       "      <th>1</th>\n",
       "      <td>4.9</td>\n",
       "      <td>3.0</td>\n",
       "      <td>1.4</td>\n",
       "      <td>0.2</td>\n",
       "      <td>Iris-setosa</td>\n",
       "    </tr>\n",
       "    <tr>\n",
       "      <th>2</th>\n",
       "      <td>4.7</td>\n",
       "      <td>3.2</td>\n",
       "      <td>1.3</td>\n",
       "      <td>0.2</td>\n",
       "      <td>Iris-setosa</td>\n",
       "    </tr>\n",
       "    <tr>\n",
       "      <th>3</th>\n",
       "      <td>4.6</td>\n",
       "      <td>3.1</td>\n",
       "      <td>1.5</td>\n",
       "      <td>0.2</td>\n",
       "      <td>Iris-setosa</td>\n",
       "    </tr>\n",
       "    <tr>\n",
       "      <th>4</th>\n",
       "      <td>5.0</td>\n",
       "      <td>3.6</td>\n",
       "      <td>1.4</td>\n",
       "      <td>0.2</td>\n",
       "      <td>Iris-setosa</td>\n",
       "    </tr>\n",
       "    <tr>\n",
       "      <th>5</th>\n",
       "      <td>5.4</td>\n",
       "      <td>3.9</td>\n",
       "      <td>1.7</td>\n",
       "      <td>0.4</td>\n",
       "      <td>Iris-setosa</td>\n",
       "    </tr>\n",
       "    <tr>\n",
       "      <th>6</th>\n",
       "      <td>4.6</td>\n",
       "      <td>3.4</td>\n",
       "      <td>1.4</td>\n",
       "      <td>0.3</td>\n",
       "      <td>Iris-setosa</td>\n",
       "    </tr>\n",
       "    <tr>\n",
       "      <th>7</th>\n",
       "      <td>5.0</td>\n",
       "      <td>3.4</td>\n",
       "      <td>1.5</td>\n",
       "      <td>0.2</td>\n",
       "      <td>Iris-setosa</td>\n",
       "    </tr>\n",
       "    <tr>\n",
       "      <th>8</th>\n",
       "      <td>4.4</td>\n",
       "      <td>2.9</td>\n",
       "      <td>1.4</td>\n",
       "      <td>0.2</td>\n",
       "      <td>Iris-setosa</td>\n",
       "    </tr>\n",
       "    <tr>\n",
       "      <th>9</th>\n",
       "      <td>4.9</td>\n",
       "      <td>3.1</td>\n",
       "      <td>1.5</td>\n",
       "      <td>0.1</td>\n",
       "      <td>Iris-setosa</td>\n",
       "    </tr>\n",
       "  </tbody>\n",
       "</table>\n",
       "</div>"
      ],
      "text/plain": [
       "   sepal-length  sepal-width  petal-length  petal-width        class\n",
       "0           5.1          3.5           1.4          0.2  Iris-setosa\n",
       "1           4.9          3.0           1.4          0.2  Iris-setosa\n",
       "2           4.7          3.2           1.3          0.2  Iris-setosa\n",
       "3           4.6          3.1           1.5          0.2  Iris-setosa\n",
       "4           5.0          3.6           1.4          0.2  Iris-setosa\n",
       "5           5.4          3.9           1.7          0.4  Iris-setosa\n",
       "6           4.6          3.4           1.4          0.3  Iris-setosa\n",
       "7           5.0          3.4           1.5          0.2  Iris-setosa\n",
       "8           4.4          2.9           1.4          0.2  Iris-setosa\n",
       "9           4.9          3.1           1.5          0.1  Iris-setosa"
      ]
     },
     "execution_count": 7,
     "metadata": {},
     "output_type": "execute_result"
    }
   ],
   "source": [
    "dataset.head(10)"
   ]
  },
  {
   "cell_type": "code",
   "execution_count": 8,
   "metadata": {
    "collapsed": true
   },
   "outputs": [],
   "source": [
    "# Split-out validation dataset\n",
    "array = dataset.values\n",
    "X = array[:,0:4]\n",
    "Y = array[:,-1]\n",
    "validation_size = 0.20\n",
    "seed = 7\n",
    "# Usage of new sklearn method train_test_split instead of cross validation\n",
    "X_train, X_validation, Y_train, Y_validation = train_test_split(X, Y, test_size=validation_size, random_state=seed)"
   ]
  },
  {
   "cell_type": "code",
   "execution_count": 34,
   "metadata": {
    "collapsed": true
   },
   "outputs": [],
   "source": [
    "# Test options and evaluation metric\n",
    "seed = 7\n",
    "scoring = 'accuracy'"
   ]
  },
  {
   "cell_type": "code",
   "execution_count": 45,
   "metadata": {},
   "outputs": [],
   "source": [
    "# GridSearchCV with SVC\n",
    "parameters = {'kernel': ('linear', 'rbf'), 'C':[1,2,3,4,5,6,7,8,9,10]}\n",
    "svc = SVC()\n",
    "#gscv = GridSearchCV(estimator=SVC(), param_grid=parameters, cv=10, scoring=scoring)"
   ]
  },
  {
   "cell_type": "code",
   "execution_count": 49,
   "metadata": {},
   "outputs": [
    {
     "name": "stdout",
     "output_type": "stream",
     "text": [
      "1 loop, best of 3: 583 ms per loop\n",
      "1 loop, best of 3: 547 ms per loop\n",
      "1 loop, best of 3: 493 ms per loop\n",
      "1 loop, best of 3: 506 ms per loop\n",
      "1 loop, best of 3: 529 ms per loop\n",
      "1 loop, best of 3: 546 ms per loop\n",
      "1 loop, best of 3: 572 ms per loop\n",
      "1 loop, best of 3: 596 ms per loop\n"
     ]
    }
   ],
   "source": [
    "# GridSearchCV Performance depending on number of Jobs\n",
    "jobs = 8\n",
    "timeit_results = []\n",
    "for _ in range(jobs):\n",
    "    gscvSVC = GridSearchCV(estimator=SVC(), param_grid=parameters, cv=10, n_jobs=(_+1), scoring=scoring)\n",
    "    tr = %timeit -o gscvSVC.fit(X_train, Y_train)\n",
    "    timeit_results.append(tr)\n",
    "\n",
    "# best_times are extracted\n",
    "best_times = [timer.best for timer in timeit_results]"
   ]
  },
  {
   "cell_type": "code",
   "execution_count": 50,
   "metadata": {},
   "outputs": [
    {
     "data": {
      "image/png": "[encoded data removed]",
      "text/plain": [
       "<matplotlib.figure.Figure at 0x2b2a5a3288d0>"
      ]
     },
     "metadata": {},
     "output_type": "display_data"
    }
   ],
   "source": [
    "x = np.arange(1,9)\n",
    "labels = ['%i. Core' % i for i in x]\n",
    "fig = plt.figure()\n",
    "fig.suptitle('Hyperparameter search time per number of cores')\n",
    "ax = fig.add_subplot(111)\n",
    "ax.set_xlabel('Number of cores')\n",
    "ax.set_ylabel('Tsearch time (s)')\n",
    "ax.plot(x, best_times)\n",
    "plt.xticks(x, labels, rotation='vertical')\n",
    "plt.show()"
   ]
  },
  {
   "cell_type": "code",
   "execution_count": 53,
   "metadata": {},
   "outputs": [
    {
     "data": {
      "text/plain": [
       "{'mean_fit_time': array([ 0.00166807,  0.00135469,  0.00084047,  0.00116394,  0.0008342 ,\n",
       "         0.00105217,  0.00081294,  0.00134418,  0.00128217,  0.00160313,\n",
       "         0.00121989,  0.00131316,  0.00081153,  0.00101342,  0.00080719,\n",
       "         0.0010242 ,  0.00083296,  0.0012213 ,  0.00120256,  0.00130823]),\n",
       " 'mean_score_time': array([ 0.000633  ,  0.00051677,  0.00043368,  0.00046821,  0.00044155,\n",
       "         0.00047677,  0.00045974,  0.00055466,  0.00060859,  0.00066175,\n",
       "         0.00063903,  0.0006084 ,  0.00042279,  0.0004492 ,  0.00044684,\n",
       "         0.00046735,  0.000439  ,  0.00052981,  0.00061994,  0.00061002]),\n",
       " 'mean_test_score': array([ 0.99166667,  0.99166667,  0.99166667,  0.99166667,  0.99166667,\n",
       "         0.99166667,  0.98333333,  0.99166667,  0.975     ,  0.99166667,\n",
       "         0.975     ,  0.99166667,  0.975     ,  0.99166667,  0.98333333,\n",
       "         0.99166667,  0.98333333,  0.98333333,  0.98333333,  0.975     ]),\n",
       " 'mean_train_score': array([ 0.99073146,  0.99166604,  0.99073146,  0.99073146,  0.99073146,\n",
       "         0.99073146,  0.98980553,  0.99073146,  0.99074011,  0.99166604,\n",
       "         0.99074011,  0.99166604,  0.99074011,  0.98980553,  0.98980553,\n",
       "         0.98980553,  0.98980553,  0.98980553,  0.98980553,  0.99074011]),\n",
       " 'param_C': masked_array(data = [1 1 2 2 3 3 4 4 5 5 6 6 7 7 8 8 9 9 10 10],\n",
       "              mask = [False False False False False False False False False False False False\n",
       "  False False False False False False False False],\n",
       "        fill_value = ?),\n",
       " 'param_kernel': masked_array(data = ['linear' 'rbf' 'linear' 'rbf' 'linear' 'rbf' 'linear' 'rbf' 'linear' 'rbf'\n",
       "  'linear' 'rbf' 'linear' 'rbf' 'linear' 'rbf' 'linear' 'rbf' 'linear' 'rbf'],\n",
       "              mask = [False False False False False False False False False False False False\n",
       "  False False False False False False False False],\n",
       "        fill_value = ?),\n",
       " 'params': ({'C': 1, 'kernel': 'linear'},\n",
       "  {'C': 1, 'kernel': 'rbf'},\n",
       "  {'C': 2, 'kernel': 'linear'},\n",
       "  {'C': 2, 'kernel': 'rbf'},\n",
       "  {'C': 3, 'kernel': 'linear'},\n",
       "  {'C': 3, 'kernel': 'rbf'},\n",
       "  {'C': 4, 'kernel': 'linear'},\n",
       "  {'C': 4, 'kernel': 'rbf'},\n",
       "  {'C': 5, 'kernel': 'linear'},\n",
       "  {'C': 5, 'kernel': 'rbf'},\n",
       "  {'C': 6, 'kernel': 'linear'},\n",
       "  {'C': 6, 'kernel': 'rbf'},\n",
       "  {'C': 7, 'kernel': 'linear'},\n",
       "  {'C': 7, 'kernel': 'rbf'},\n",
       "  {'C': 8, 'kernel': 'linear'},\n",
       "  {'C': 8, 'kernel': 'rbf'},\n",
       "  {'C': 9, 'kernel': 'linear'},\n",
       "  {'C': 9, 'kernel': 'rbf'},\n",
       "  {'C': 10, 'kernel': 'linear'},\n",
       "  {'C': 10, 'kernel': 'rbf'}),\n",
       " 'rank_test_score': array([ 1,  1,  1,  1,  1,  1, 12,  1, 17,  1, 17,  1, 17,  1, 12,  1, 12,\n",
       "        12, 12, 17], dtype=int32),\n",
       " 'split0_test_score': array([ 1.,  1.,  1.,  1.,  1.,  1.,  1.,  1.,  1.,  1.,  1.,  1.,  1.,\n",
       "         1.,  1.,  1.,  1.,  1.,  1.,  1.]),\n",
       " 'split0_train_score': array([ 0.99065421,  0.99065421,  0.99065421,  0.99065421,  0.99065421,\n",
       "         0.99065421,  0.99065421,  0.99065421,  0.99065421,  0.99065421,\n",
       "         0.99065421,  0.99065421,  0.99065421,  0.99065421,  0.99065421,\n",
       "         0.99065421,  0.99065421,  0.99065421,  0.99065421,  0.99065421]),\n",
       " 'split1_test_score': array([ 1.,  1.,  1.,  1.,  1.,  1.,  1.,  1.,  1.,  1.,  1.,  1.,  1.,\n",
       "         1.,  1.,  1.,  1.,  1.,  1.,  1.]),\n",
       " 'split1_train_score': array([ 0.99065421,  0.99065421,  0.99065421,  0.99065421,  0.99065421,\n",
       "         0.99065421,  0.99065421,  0.99065421,  0.99065421,  0.99065421,\n",
       "         0.99065421,  0.99065421,  0.99065421,  0.99065421,  0.99065421,\n",
       "         0.99065421,  0.99065421,  0.99065421,  0.99065421,  0.99065421]),\n",
       " 'split2_test_score': array([ 1.,  1.,  1.,  1.,  1.,  1.,  1.,  1.,  1.,  1.,  1.,  1.,  1.,\n",
       "         1.,  1.,  1.,  1.,  1.,  1.,  1.]),\n",
       " 'split2_train_score': array([ 0.98130841,  0.99065421,  0.98130841,  0.98130841,  0.98130841,\n",
       "         0.98130841,  0.98130841,  0.98130841,  0.99065421,  0.99065421,\n",
       "         0.99065421,  0.99065421,  0.99065421,  0.98130841,  0.98130841,\n",
       "         0.98130841,  0.98130841,  0.98130841,  0.98130841,  0.99065421]),\n",
       " 'split3_test_score': array([ 1.,  1.,  1.,  1.,  1.,  1.,  1.,  1.,  1.,  1.,  1.,  1.,  1.,\n",
       "         1.,  1.,  1.,  1.,  1.,  1.,  1.]),\n",
       " 'split3_train_score': array([ 0.99074074,  0.99074074,  0.99074074,  0.99074074,  0.99074074,\n",
       "         0.99074074,  0.99074074,  0.99074074,  0.99074074,  0.99074074,\n",
       "         0.99074074,  0.99074074,  0.99074074,  0.99074074,  0.99074074,\n",
       "         0.99074074,  0.99074074,  0.99074074,  0.99074074,  0.99074074]),\n",
       " 'split4_test_score': array([ 1.,  1.,  1.,  1.,  1.,  1.,  1.,  1.,  1.,  1.,  1.,  1.,  1.,\n",
       "         1.,  1.,  1.,  1.,  1.,  1.,  1.]),\n",
       " 'split4_train_score': array([ 0.99074074,  0.99074074,  0.99074074,  0.99074074,  0.99074074,\n",
       "         0.99074074,  0.99074074,  0.99074074,  0.99074074,  0.99074074,\n",
       "         0.99074074,  0.99074074,  0.99074074,  0.99074074,  0.99074074,\n",
       "         0.99074074,  0.99074074,  0.99074074,  0.99074074,  0.99074074]),\n",
       " 'split5_test_score': array([ 0.91666667,  0.91666667,  0.91666667,  0.91666667,  0.91666667,\n",
       "         0.91666667,  0.91666667,  0.91666667,  0.91666667,  0.91666667,\n",
       "         0.91666667,  0.91666667,  0.91666667,  0.91666667,  0.91666667,\n",
       "         0.91666667,  0.91666667,  0.91666667,  0.91666667,  0.91666667]),\n",
       " 'split5_train_score': array([ 1.        ,  1.        ,  1.        ,  1.        ,  1.        ,\n",
       "         1.        ,  0.99074074,  1.        ,  0.99074074,  1.        ,\n",
       "         0.99074074,  1.        ,  0.99074074,  0.99074074,  0.99074074,\n",
       "         0.99074074,  0.99074074,  0.99074074,  0.99074074,  0.99074074]),\n",
       " 'split6_test_score': array([ 1.,  1.,  1.,  1.,  1.,  1.,  1.,  1.,  1.,  1.,  1.,  1.,  1.,\n",
       "         1.,  1.,  1.,  1.,  1.,  1.,  1.]),\n",
       " 'split6_train_score': array([ 0.99074074,  0.99074074,  0.99074074,  0.99074074,  0.99074074,\n",
       "         0.99074074,  0.99074074,  0.99074074,  0.99074074,  0.99074074,\n",
       "         0.99074074,  0.99074074,  0.99074074,  0.99074074,  0.99074074,\n",
       "         0.99074074,  0.99074074,  0.99074074,  0.99074074,  0.99074074]),\n",
       " 'split7_test_score': array([ 1.,  1.,  1.,  1.,  1.,  1.,  1.,  1.,  1.,  1.,  1.,  1.,  1.,\n",
       "         1.,  1.,  1.,  1.,  1.,  1.,  1.]),\n",
       " 'split7_train_score': array([ 0.99074074,  0.99074074,  0.99074074,  0.99074074,  0.99074074,\n",
       "         0.99074074,  0.99074074,  0.99074074,  0.99074074,  0.99074074,\n",
       "         0.99074074,  0.99074074,  0.99074074,  0.99074074,  0.99074074,\n",
       "         0.99074074,  0.99074074,  0.99074074,  0.99074074,  0.99074074]),\n",
       " 'split8_test_score': array([ 1.        ,  1.        ,  1.        ,  1.        ,  1.        ,\n",
       "         1.        ,  1.        ,  1.        ,  0.90909091,  1.        ,\n",
       "         0.90909091,  1.        ,  0.90909091,  1.        ,  1.        ,\n",
       "         1.        ,  1.        ,  1.        ,  1.        ,  0.90909091]),\n",
       " 'split8_train_score': array([ 0.99082569,  0.99082569,  0.99082569,  0.99082569,  0.99082569,\n",
       "         0.99082569,  0.99082569,  0.99082569,  0.99082569,  0.99082569,\n",
       "         0.99082569,  0.99082569,  0.99082569,  0.99082569,  0.99082569,\n",
       "         0.99082569,  0.99082569,  0.99082569,  0.99082569,  0.99082569]),\n",
       " 'split9_test_score': array([ 1. ,  1. ,  1. ,  1. ,  1. ,  1. ,  0.9,  1. ,  0.9,  1. ,  0.9,\n",
       "         1. ,  0.9,  1. ,  0.9,  1. ,  0.9,  0.9,  0.9,  0.9]),\n",
       " 'split9_train_score': array([ 0.99090909,  0.99090909,  0.99090909,  0.99090909,  0.99090909,\n",
       "         0.99090909,  0.99090909,  0.99090909,  0.99090909,  0.99090909,\n",
       "         0.99090909,  0.99090909,  0.99090909,  0.99090909,  0.99090909,\n",
       "         0.99090909,  0.99090909,  0.99090909,  0.99090909,  0.99090909]),\n",
       " 'std_fit_time': array([  5.89867216e-04,   4.07717799e-04,   5.05340313e-05,\n",
       "          3.95686393e-04,   4.95820599e-05,   7.91255519e-05,\n",
       "          6.88552733e-05,   4.20616344e-04,   1.04146890e-04,\n",
       "          1.15344139e-04,   8.03030584e-05,   2.11388393e-04,\n",
       "          6.10304808e-05,   7.20042424e-05,   5.20287247e-05,\n",
       "          7.24785265e-05,   5.03274514e-05,   3.69490115e-04,\n",
       "          8.91660273e-05,   2.30288120e-04]),\n",
       " 'std_score_time': array([  1.94950689e-04,   1.08837298e-04,   6.24640297e-05,\n",
       "          8.51882495e-05,   6.32259820e-05,   6.52801259e-05,\n",
       "          6.37787346e-05,   1.49863600e-04,   6.66390122e-05,\n",
       "          9.30325793e-05,   6.20417232e-05,   1.07928949e-04,\n",
       "          5.54128120e-05,   6.24495997e-05,   6.33232565e-05,\n",
       "          7.52374998e-05,   6.68106589e-05,   1.28212007e-04,\n",
       "          8.60377173e-05,   1.24364223e-04]),\n",
       " 'std_test_score': array([ 0.025     ,  0.025     ,  0.025     ,  0.025     ,  0.025     ,\n",
       "         0.025     ,  0.03535534,  0.025     ,  0.04074744,  0.025     ,\n",
       "         0.04074744,  0.025     ,  0.04074744,  0.025     ,  0.03535534,\n",
       "         0.025     ,  0.03535534,  0.03535534,  0.03535534,  0.04074744]),\n",
       " 'std_train_score': array([  4.18033964e-03,   2.77903210e-03,   4.18033964e-03,\n",
       "          4.18033964e-03,   4.18033964e-03,   4.18033964e-03,\n",
       "          2.83325243e-03,   4.18033964e-03,   7.61700974e-05,\n",
       "          2.77903210e-03,   7.61700974e-05,   2.77903210e-03,\n",
       "          7.61700974e-05,   2.83325243e-03,   2.83325243e-03,\n",
       "          2.83325243e-03,   2.83325243e-03,   2.83325243e-03,\n",
       "          2.83325243e-03,   7.61700974e-05])}"
      ]
     },
     "execution_count": 53,
     "metadata": {},
     "output_type": "execute_result"
    }
   ],
   "source": [
    "gscvSVC.cv_results_"
   ]
  },
  {
   "cell_type": "code",
   "execution_count": null,
   "metadata": {
    "collapsed": true
   },
   "outputs": [],
   "source": []
  }
 ],
 "metadata": {
  "anaconda-cloud": {},
  "kernelspec": {
   "display_name": "Python [conda env:anaconda431-py35]",
   "language": "python",
   "name": "conda-env-anaconda431-py35-py"
  },
  "language_info": {
   "codemirror_mode": {
    "name": "ipython",
    "version": 3
   },
   "file_extension": ".py",
   "mimetype": "text/x-python",
   "name": "python",
   "nbconvert_exporter": "python",
   "pygments_lexer": "ipython3",
   "version": "3.5.2"
  }
 },
 "nbformat": 4,
 "nbformat_minor": 2
}
