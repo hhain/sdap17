{
 "cells": [
  {
   "cell_type": "markdown",
   "metadata": {
    "collapsed": true
   },
   "source": [
    "# Excercise 1 Taks 7\n",
    "## Keras and deep dreaming\n",
    "#### The deep dreaming script was executed within an anaconda environment with the following packages\n",
    "- python 3.5\n",
    "- keras 2.0.2\n",
    "- tensorflow 1.0\n",
    "- pillow 4.0.0 "
   ]
  },
  {
   "cell_type": "markdown",
   "metadata": {
    "collapsed": false
   },
   "source": [
    "##### Original to be transformed image because my own selfies are simply too ugly and I'm a Star Trek Fan\n",
    "![title](img/std_o.jpg)"
   ]
  },
  {
   "cell_type": "code",
   "execution_count": 3,
   "metadata": {
    "collapsed": false
   },
   "outputs": [
    {
     "name": "stderr",
     "output_type": "stream",
     "text": [
      "Using TensorFlow backend.\n"
     ]
    },
    {
     "name": "stdout",
     "output_type": "stream",
     "text": [
      "Model loaded.\n"
     ]
    },
    {
     "name": "stderr",
     "output_type": "stream",
     "text": [
      "/home/henrik/anaconda3/lib/python3.6/site-packages/scipy/ndimage/interpolation.py:568: UserWarning: From scipy 0.13.0, the output shape of zoom() is calculated with round() instead of int() - for these inputs the size of the returned array has changed.\n",
      "  \"the returned array has changed.\", UserWarning)\n",
      "/home/henrik/anaconda3/lib/python3.6/site-packages/scipy/ndimage/interpolation.py:571: RuntimeWarning: invalid value encountered in true_divide\n",
      "  zoom = (numpy.array(input.shape) - 1) / zoom_div\n"
     ]
    },
    {
     "name": "stdout",
     "output_type": "stream",
     "text": [
      "Processing image shape (236, 420)\n",
      "..Loss value at 0 : 0.773101\n",
      "..Loss value at 1 : 0.989443\n",
      "..Loss value at 2 : 1.36996\n",
      "..Loss value at 3 : 1.73904\n",
      "..Loss value at 4 : 2.0989\n",
      "..Loss value at 5 : 2.46473\n",
      "..Loss value at 6 : 2.83497\n",
      "..Loss value at 7 : 3.20704\n",
      "..Loss value at 8 : 3.53789\n",
      "..Loss value at 9 : 3.87789\n",
      "..Loss value at 10 : 4.17761\n",
      "..Loss value at 11 : 4.54946\n",
      "..Loss value at 12 : 4.84955\n",
      "..Loss value at 13 : 5.13712\n",
      "..Loss value at 14 : 5.45583\n",
      "..Loss value at 15 : 5.73099\n",
      "..Loss value at 16 : 5.9894\n",
      "..Loss value at 17 : 6.26368\n",
      "..Loss value at 18 : 6.5892\n",
      "..Loss value at 19 : 6.86595\n",
      "Processing image shape (331, 589)\n",
      "..Loss value at 0 : 1.58885\n",
      "..Loss value at 1 : 2.4101\n",
      "..Loss value at 2 : 3.0788\n",
      "..Loss value at 3 : 3.63512\n",
      "..Loss value at 4 : 4.17944\n",
      "..Loss value at 5 : 4.66909\n",
      "..Loss value at 6 : 5.13645\n",
      "..Loss value at 7 : 5.55448\n",
      "..Loss value at 8 : 5.94556\n",
      "..Loss value at 9 : 6.37725\n",
      "..Loss value at 10 : 6.75097\n",
      "..Loss value at 11 : 7.12204\n",
      "..Loss value at 12 : 7.50019\n",
      "..Loss value at 13 : 7.82671\n",
      "..Loss value at 14 : 8.1627\n",
      "..Loss value at 15 : 8.50139\n",
      "..Loss value at 16 : 8.77757\n",
      "..Loss value at 17 : 9.09302\n",
      "..Loss value at 18 : 9.40175\n",
      "..Loss value at 19 : 9.69899\n",
      "Processing image shape (464, 825)\n",
      "..Loss value at 0 : 1.80886\n",
      "..Loss value at 1 : 2.75668\n",
      "..Loss value at 2 : 3.5511\n",
      "..Loss value at 3 : 4.22848\n",
      "..Loss value at 4 : 4.84531\n",
      "..Loss value at 5 : 5.4161\n",
      "..Loss value at 6 : 5.96341\n",
      "..Loss value at 7 : 6.50308\n",
      "..Loss value at 8 : 7.03244\n",
      "..Loss value at 9 : 7.53222\n",
      "..Loss value at 10 : 8.02889\n",
      "..Loss value at 11 : 8.60728\n",
      "..Loss value at 12 : 9.21723\n",
      "..Loss value at 13 : 9.92354\n"
     ]
    }
   ],
   "source": [
    "# First script run with original parameters \n",
    "%run deep_dream.py img/std_o.jpg img/std_1.jpg"
   ]
  },
  {
   "cell_type": "markdown",
   "metadata": {},
   "source": [
    "#### After execution with original parameter we've got this result :-)\n",
    "![title](img/std_1.jpg.png)"
   ]
  },
  {
   "cell_type": "markdown",
   "metadata": {},
   "source": [
    "#### It seems to recognize cats and fishes? -> Lets Play with the parameters and generate some more images\n",
    "### Therefore it is needed to modify the script to be imported"
   ]
  },
  {
   "cell_type": "code",
   "execution_count": 5,
   "metadata": {
    "collapsed": false
   },
   "outputs": [
    {
     "name": "stderr",
     "output_type": "stream",
     "text": [
      "usage: __main__.py [-h] base res_prefix\n",
      "__main__.py: error: the following arguments are required: res_prefix\n"
     ]
    },
    {
     "ename": "SystemExit",
     "evalue": "2",
     "output_type": "error",
     "traceback": [
      "An exception has occurred, use %tb to see the full traceback.\n",
      "\u001b[0;31mSystemExit\u001b[0m\u001b[0;31m:\u001b[0m 2\n"
     ]
    },
    {
     "name": "stderr",
     "output_type": "stream",
     "text": [
      "/home/henrik/anaconda3/lib/python3.6/site-packages/IPython/core/interactiveshell.py:2889: UserWarning: To exit: use 'exit', 'quit', or Ctrl-D.\n",
      "  warn(\"To exit: use 'exit', 'quit', or Ctrl-D.\", stacklevel=1)\n"
     ]
    }
   ],
   "source": [
    "import deep_dream"
   ]
  },
  {
   "cell_type": "code",
   "execution_count": null,
   "metadata": {
    "collapsed": true
   },
   "outputs": [],
   "source": []
  }
 ],
 "metadata": {
  "kernelspec": {
   "display_name": "Python 3",
   "language": "python",
   "name": "python3"
  },
  "language_info": {
   "codemirror_mode": {
    "name": "ipython",
    "version": 3
   },
   "file_extension": ".py",
   "mimetype": "text/x-python",
   "name": "python",
   "nbconvert_exporter": "python",
   "pygments_lexer": "ipython3",
   "version": "3.6.0"
  }
 },
 "nbformat": 4,
 "nbformat_minor": 2
}
