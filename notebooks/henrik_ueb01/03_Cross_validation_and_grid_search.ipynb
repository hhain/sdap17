{
 "cells": [
  {
   "cell_type": "markdown",
   "metadata": {},
   "source": [
    "# Excercise 1 Task 3\n",
    "## Cross Validation and Grid Search"
   ]
  },
  {
   "cell_type": "code",
   "execution_count": 1,
   "metadata": {
    "collapsed": true
   },
   "outputs": [],
   "source": [
    "import pandas as pd\n",
    "import numpy as np\n",
    "import matplotlib.pyplot as plt\n",
    "import seaborn as sns\n",
    "from sklearn.model_selection import cross_val_score\n",
    "from sklearn.model_selection import train_test_split\n",
    "from sklearn.model_selection import GridSearchCV\n",
    "from sklearn.metrics import confusion_matrix\n",
    "from sklearn.metrics import accuracy_score\n",
    "from sklearn.neighbors import KNeighborsClassifier\n",
    "from sklearn.svm import SVC"
   ]
  },
  {
   "cell_type": "code",
   "execution_count": 2,
   "metadata": {
    "collapsed": true
   },
   "outputs": [],
   "source": [
    "# Load dataset\n",
    "url = \"https://archive.ics.uci.edu/ml/machine-learning-databases/iris/iris.data\"\n",
    "names = ['sepal-length', 'sepal-width', 'petal-length', 'petal-width', 'class']\n",
    "dataset = pd.read_csv(url, names=names)"
   ]
  },
  {
   "cell_type": "code",
   "execution_count": 3,
   "metadata": {
    "collapsed": false
   },
   "outputs": [
    {
     "data": {
      "text/html": [
       "<div>\n",
       "<table border=\"1\" class=\"dataframe\">\n",
       "  <thead>\n",
       "    <tr style=\"text-align: right;\">\n",
       "      <th></th>\n",
       "      <th>sepal-length</th>\n",
       "      <th>sepal-width</th>\n",
       "      <th>petal-length</th>\n",
       "      <th>petal-width</th>\n",
       "      <th>class</th>\n",
       "    </tr>\n",
       "  </thead>\n",
       "  <tbody>\n",
       "    <tr>\n",
       "      <th>0</th>\n",
       "      <td>5.1</td>\n",
       "      <td>3.5</td>\n",
       "      <td>1.4</td>\n",
       "      <td>0.2</td>\n",
       "      <td>Iris-setosa</td>\n",
       "    </tr>\n",
       "    <tr>\n",
       "      <th>1</th>\n",
       "      <td>4.9</td>\n",
       "      <td>3.0</td>\n",
       "      <td>1.4</td>\n",
       "      <td>0.2</td>\n",
       "      <td>Iris-setosa</td>\n",
       "    </tr>\n",
       "    <tr>\n",
       "      <th>2</th>\n",
       "      <td>4.7</td>\n",
       "      <td>3.2</td>\n",
       "      <td>1.3</td>\n",
       "      <td>0.2</td>\n",
       "      <td>Iris-setosa</td>\n",
       "    </tr>\n",
       "    <tr>\n",
       "      <th>3</th>\n",
       "      <td>4.6</td>\n",
       "      <td>3.1</td>\n",
       "      <td>1.5</td>\n",
       "      <td>0.2</td>\n",
       "      <td>Iris-setosa</td>\n",
       "    </tr>\n",
       "    <tr>\n",
       "      <th>4</th>\n",
       "      <td>5.0</td>\n",
       "      <td>3.6</td>\n",
       "      <td>1.4</td>\n",
       "      <td>0.2</td>\n",
       "      <td>Iris-setosa</td>\n",
       "    </tr>\n",
       "    <tr>\n",
       "      <th>5</th>\n",
       "      <td>5.4</td>\n",
       "      <td>3.9</td>\n",
       "      <td>1.7</td>\n",
       "      <td>0.4</td>\n",
       "      <td>Iris-setosa</td>\n",
       "    </tr>\n",
       "    <tr>\n",
       "      <th>6</th>\n",
       "      <td>4.6</td>\n",
       "      <td>3.4</td>\n",
       "      <td>1.4</td>\n",
       "      <td>0.3</td>\n",
       "      <td>Iris-setosa</td>\n",
       "    </tr>\n",
       "    <tr>\n",
       "      <th>7</th>\n",
       "      <td>5.0</td>\n",
       "      <td>3.4</td>\n",
       "      <td>1.5</td>\n",
       "      <td>0.2</td>\n",
       "      <td>Iris-setosa</td>\n",
       "    </tr>\n",
       "    <tr>\n",
       "      <th>8</th>\n",
       "      <td>4.4</td>\n",
       "      <td>2.9</td>\n",
       "      <td>1.4</td>\n",
       "      <td>0.2</td>\n",
       "      <td>Iris-setosa</td>\n",
       "    </tr>\n",
       "    <tr>\n",
       "      <th>9</th>\n",
       "      <td>4.9</td>\n",
       "      <td>3.1</td>\n",
       "      <td>1.5</td>\n",
       "      <td>0.1</td>\n",
       "      <td>Iris-setosa</td>\n",
       "    </tr>\n",
       "  </tbody>\n",
       "</table>\n",
       "</div>"
      ],
      "text/plain": [
       "   sepal-length  sepal-width  petal-length  petal-width        class\n",
       "0           5.1          3.5           1.4          0.2  Iris-setosa\n",
       "1           4.9          3.0           1.4          0.2  Iris-setosa\n",
       "2           4.7          3.2           1.3          0.2  Iris-setosa\n",
       "3           4.6          3.1           1.5          0.2  Iris-setosa\n",
       "4           5.0          3.6           1.4          0.2  Iris-setosa\n",
       "5           5.4          3.9           1.7          0.4  Iris-setosa\n",
       "6           4.6          3.4           1.4          0.3  Iris-setosa\n",
       "7           5.0          3.4           1.5          0.2  Iris-setosa\n",
       "8           4.4          2.9           1.4          0.2  Iris-setosa\n",
       "9           4.9          3.1           1.5          0.1  Iris-setosa"
      ]
     },
     "execution_count": 3,
     "metadata": {},
     "output_type": "execute_result"
    }
   ],
   "source": [
    "dataset.head(10)"
   ]
  },
  {
   "cell_type": "code",
   "execution_count": 4,
   "metadata": {
    "collapsed": true
   },
   "outputs": [],
   "source": [
    "# Split-out validation dataset\n",
    "array = dataset.values\n",
    "X = array[:,0:4]\n",
    "Y = array[:,-1]\n",
    "validation_size = 0.20\n",
    "seed = 7\n",
    "# Usage of new sklearn method train_test_split instead of cross validation\n",
    "X_train, X_validation, Y_train, Y_validation = train_test_split(X, Y, test_size=validation_size, random_state=seed)"
   ]
  },
  {
   "cell_type": "code",
   "execution_count": 5,
   "metadata": {
    "collapsed": true
   },
   "outputs": [],
   "source": [
    "# Test options and evaluation metric\n",
    "seed = 7\n",
    "scoring = 'accuracy'"
   ]
  },
  {
   "cell_type": "code",
   "execution_count": 6,
   "metadata": {
    "collapsed": true
   },
   "outputs": [],
   "source": [
    "# GridSearchCV with SVC\n",
    "parameters = {'kernel': ('linear', 'rbf'), 'C':[1,2,3,4,5,6,7,8,9,10]}\n",
    "svc = SVC()\n",
    "#gscv = GridSearchCV(estimator=SVC(), param_grid=parameters, cv=10, scoring=scoring)"
   ]
  },
  {
   "cell_type": "code",
   "execution_count": 7,
   "metadata": {
    "collapsed": false
   },
   "outputs": [
    {
     "name": "stdout",
     "output_type": "stream",
     "text": [
      "1 loop, best of 3: 233 ms per loop\n",
      "1 loop, best of 3: 241 ms per loop\n",
      "1 loop, best of 3: 241 ms per loop\n",
      "1 loop, best of 3: 270 ms per loop\n",
      "1 loop, best of 3: 249 ms per loop\n",
      "1 loop, best of 3: 276 ms per loop\n",
      "1 loop, best of 3: 284 ms per loop\n",
      "1 loop, best of 3: 271 ms per loop\n"
     ]
    }
   ],
   "source": [
    "# GridSearchCV Performance depending on number of Jobs\n",
    "jobs = 8\n",
    "timeit_results = []\n",
    "for _ in range(jobs):\n",
    "    gscvSVC = GridSearchCV(estimator=SVC(), param_grid=parameters, cv=10, n_jobs=(_+1), scoring=scoring)\n",
    "    tr = %timeit -o gscvSVC.fit(X_train, Y_train)\n",
    "    timeit_results.append(tr)\n",
    "\n",
    "# best_times are extracted\n",
    "best_times = [timer.best for timer in timeit_results]"
   ]
  },
  {
   "cell_type": "code",
   "execution_count": 9,
   "metadata": {
    "collapsed": false
   },
   "outputs": [
    {
     "data": {
      "image/png": "[encoded data removed]",
      "text/plain": [
       "<matplotlib.figure.Figure at 0x7fa7f152bda0>"
      ]
     },
     "metadata": {},
     "output_type": "display_data"
    }
   ],
   "source": [
    "x = np.arange(1,9)\n",
    "labels = ['%i. Core' % i for i in x]\n",
    "fig = plt.figure()\n",
    "fig.suptitle('Hyperparameter search time per number of cores')\n",
    "ax = fig.add_subplot(111)\n",
    "ax.set_xlabel('Number of cores')\n",
    "ax.set_ylabel('Search time (s)')\n",
    "ax.plot(x, best_times)\n",
    "plt.xticks(x, labels, rotation='vertical')\n",
    "plt.show()"
   ]
  },
  {
   "cell_type": "markdown",
   "metadata": {},
   "source": [
    "Search time is constantly increasing due to two main factors\n",
    "- Copying small datasets between different processing environments\n",
    "- managing overhead due to multiprocessing and context copying"
   ]
  },
  {
   "cell_type": "code",
   "execution_count": 14,
   "metadata": {
    "collapsed": false
   },
   "outputs": [
    {
     "data": {
      "text/plain": [
       "{'mean_fit_time': array([ 0.00085075,  0.0005408 ,  0.00029414,  0.00041034,  0.0003078 ,\n",
       "         0.00040159,  0.00031867,  0.00038898,  0.00030789,  0.00050595,\n",
       "         0.00029922,  0.0003634 ,  0.00037923,  0.00037112,  0.0003083 ,\n",
       "         0.00036526,  0.00030842,  0.00045276,  0.00034547,  0.00036571]),\n",
       " 'mean_score_time': array([ 0.00028358,  0.00020416,  0.00014083,  0.00017531,  0.00016296,\n",
       "         0.00017242,  0.0001646 ,  0.00017774,  0.00015273,  0.00020213,\n",
       "         0.00015152,  0.00015068,  0.0001652 ,  0.00015671,  0.00016   ,\n",
       "         0.00016108,  0.00014565,  0.00017555,  0.00016646,  0.00015287]),\n",
       " 'mean_test_score': array([ 0.99166667,  0.99166667,  0.99166667,  0.99166667,  0.99166667,\n",
       "         0.99166667,  0.98333333,  0.99166667,  0.975     ,  0.99166667,\n",
       "         0.975     ,  0.99166667,  0.975     ,  0.99166667,  0.98333333,\n",
       "         0.99166667,  0.98333333,  0.98333333,  0.98333333,  0.975     ]),\n",
       " 'mean_train_score': array([ 0.99073146,  0.99166604,  0.99073146,  0.99073146,  0.99073146,\n",
       "         0.99073146,  0.98980553,  0.99073146,  0.99074011,  0.99166604,\n",
       "         0.99074011,  0.99166604,  0.99074011,  0.98980553,  0.98980553,\n",
       "         0.98980553,  0.98980553,  0.98980553,  0.98980553,  0.99074011]),\n",
       " 'param_C': masked_array(data = [1 1 2 2 3 3 4 4 5 5 6 6 7 7 8 8 9 9 10 10],\n",
       "              mask = [False False False False False False False False False False False False\n",
       "  False False False False False False False False],\n",
       "        fill_value = ?),\n",
       " 'param_kernel': masked_array(data = ['linear' 'rbf' 'linear' 'rbf' 'linear' 'rbf' 'linear' 'rbf' 'linear' 'rbf'\n",
       "  'linear' 'rbf' 'linear' 'rbf' 'linear' 'rbf' 'linear' 'rbf' 'linear' 'rbf'],\n",
       "              mask = [False False False False False False False False False False False False\n",
       "  False False False False False False False False],\n",
       "        fill_value = ?),\n",
       " 'params': ({'C': 1, 'kernel': 'linear'},\n",
       "  {'C': 1, 'kernel': 'rbf'},\n",
       "  {'C': 2, 'kernel': 'linear'},\n",
       "  {'C': 2, 'kernel': 'rbf'},\n",
       "  {'C': 3, 'kernel': 'linear'},\n",
       "  {'C': 3, 'kernel': 'rbf'},\n",
       "  {'C': 4, 'kernel': 'linear'},\n",
       "  {'C': 4, 'kernel': 'rbf'},\n",
       "  {'C': 5, 'kernel': 'linear'},\n",
       "  {'C': 5, 'kernel': 'rbf'},\n",
       "  {'C': 6, 'kernel': 'linear'},\n",
       "  {'C': 6, 'kernel': 'rbf'},\n",
       "  {'C': 7, 'kernel': 'linear'},\n",
       "  {'C': 7, 'kernel': 'rbf'},\n",
       "  {'C': 8, 'kernel': 'linear'},\n",
       "  {'C': 8, 'kernel': 'rbf'},\n",
       "  {'C': 9, 'kernel': 'linear'},\n",
       "  {'C': 9, 'kernel': 'rbf'},\n",
       "  {'C': 10, 'kernel': 'linear'},\n",
       "  {'C': 10, 'kernel': 'rbf'}),\n",
       " 'rank_test_score': array([ 1,  1,  1,  1,  1,  1, 12,  1, 17,  1, 17,  1, 17,  1, 12,  1, 12,\n",
       "        12, 12, 17], dtype=int32),\n",
       " 'split0_test_score': array([ 1.,  1.,  1.,  1.,  1.,  1.,  1.,  1.,  1.,  1.,  1.,  1.,  1.,\n",
       "         1.,  1.,  1.,  1.,  1.,  1.,  1.]),\n",
       " 'split0_train_score': array([ 0.99065421,  0.99065421,  0.99065421,  0.99065421,  0.99065421,\n",
       "         0.99065421,  0.99065421,  0.99065421,  0.99065421,  0.99065421,\n",
       "         0.99065421,  0.99065421,  0.99065421,  0.99065421,  0.99065421,\n",
       "         0.99065421,  0.99065421,  0.99065421,  0.99065421,  0.99065421]),\n",
       " 'split1_test_score': array([ 1.,  1.,  1.,  1.,  1.,  1.,  1.,  1.,  1.,  1.,  1.,  1.,  1.,\n",
       "         1.,  1.,  1.,  1.,  1.,  1.,  1.]),\n",
       " 'split1_train_score': array([ 0.99065421,  0.99065421,  0.99065421,  0.99065421,  0.99065421,\n",
       "         0.99065421,  0.99065421,  0.99065421,  0.99065421,  0.99065421,\n",
       "         0.99065421,  0.99065421,  0.99065421,  0.99065421,  0.99065421,\n",
       "         0.99065421,  0.99065421,  0.99065421,  0.99065421,  0.99065421]),\n",
       " 'split2_test_score': array([ 1.,  1.,  1.,  1.,  1.,  1.,  1.,  1.,  1.,  1.,  1.,  1.,  1.,\n",
       "         1.,  1.,  1.,  1.,  1.,  1.,  1.]),\n",
       " 'split2_train_score': array([ 0.98130841,  0.99065421,  0.98130841,  0.98130841,  0.98130841,\n",
       "         0.98130841,  0.98130841,  0.98130841,  0.99065421,  0.99065421,\n",
       "         0.99065421,  0.99065421,  0.99065421,  0.98130841,  0.98130841,\n",
       "         0.98130841,  0.98130841,  0.98130841,  0.98130841,  0.99065421]),\n",
       " 'split3_test_score': array([ 1.,  1.,  1.,  1.,  1.,  1.,  1.,  1.,  1.,  1.,  1.,  1.,  1.,\n",
       "         1.,  1.,  1.,  1.,  1.,  1.,  1.]),\n",
       " 'split3_train_score': array([ 0.99074074,  0.99074074,  0.99074074,  0.99074074,  0.99074074,\n",
       "         0.99074074,  0.99074074,  0.99074074,  0.99074074,  0.99074074,\n",
       "         0.99074074,  0.99074074,  0.99074074,  0.99074074,  0.99074074,\n",
       "         0.99074074,  0.99074074,  0.99074074,  0.99074074,  0.99074074]),\n",
       " 'split4_test_score': array([ 1.,  1.,  1.,  1.,  1.,  1.,  1.,  1.,  1.,  1.,  1.,  1.,  1.,\n",
       "         1.,  1.,  1.,  1.,  1.,  1.,  1.]),\n",
       " 'split4_train_score': array([ 0.99074074,  0.99074074,  0.99074074,  0.99074074,  0.99074074,\n",
       "         0.99074074,  0.99074074,  0.99074074,  0.99074074,  0.99074074,\n",
       "         0.99074074,  0.99074074,  0.99074074,  0.99074074,  0.99074074,\n",
       "         0.99074074,  0.99074074,  0.99074074,  0.99074074,  0.99074074]),\n",
       " 'split5_test_score': array([ 0.91666667,  0.91666667,  0.91666667,  0.91666667,  0.91666667,\n",
       "         0.91666667,  0.91666667,  0.91666667,  0.91666667,  0.91666667,\n",
       "         0.91666667,  0.91666667,  0.91666667,  0.91666667,  0.91666667,\n",
       "         0.91666667,  0.91666667,  0.91666667,  0.91666667,  0.91666667]),\n",
       " 'split5_train_score': array([ 1.        ,  1.        ,  1.        ,  1.        ,  1.        ,\n",
       "         1.        ,  0.99074074,  1.        ,  0.99074074,  1.        ,\n",
       "         0.99074074,  1.        ,  0.99074074,  0.99074074,  0.99074074,\n",
       "         0.99074074,  0.99074074,  0.99074074,  0.99074074,  0.99074074]),\n",
       " 'split6_test_score': array([ 1.,  1.,  1.,  1.,  1.,  1.,  1.,  1.,  1.,  1.,  1.,  1.,  1.,\n",
       "         1.,  1.,  1.,  1.,  1.,  1.,  1.]),\n",
       " 'split6_train_score': array([ 0.99074074,  0.99074074,  0.99074074,  0.99074074,  0.99074074,\n",
       "         0.99074074,  0.99074074,  0.99074074,  0.99074074,  0.99074074,\n",
       "         0.99074074,  0.99074074,  0.99074074,  0.99074074,  0.99074074,\n",
       "         0.99074074,  0.99074074,  0.99074074,  0.99074074,  0.99074074]),\n",
       " 'split7_test_score': array([ 1.,  1.,  1.,  1.,  1.,  1.,  1.,  1.,  1.,  1.,  1.,  1.,  1.,\n",
       "         1.,  1.,  1.,  1.,  1.,  1.,  1.]),\n",
       " 'split7_train_score': array([ 0.99074074,  0.99074074,  0.99074074,  0.99074074,  0.99074074,\n",
       "         0.99074074,  0.99074074,  0.99074074,  0.99074074,  0.99074074,\n",
       "         0.99074074,  0.99074074,  0.99074074,  0.99074074,  0.99074074,\n",
       "         0.99074074,  0.99074074,  0.99074074,  0.99074074,  0.99074074]),\n",
       " 'split8_test_score': array([ 1.        ,  1.        ,  1.        ,  1.        ,  1.        ,\n",
       "         1.        ,  1.        ,  1.        ,  0.90909091,  1.        ,\n",
       "         0.90909091,  1.        ,  0.90909091,  1.        ,  1.        ,\n",
       "         1.        ,  1.        ,  1.        ,  1.        ,  0.90909091]),\n",
       " 'split8_train_score': array([ 0.99082569,  0.99082569,  0.99082569,  0.99082569,  0.99082569,\n",
       "         0.99082569,  0.99082569,  0.99082569,  0.99082569,  0.99082569,\n",
       "         0.99082569,  0.99082569,  0.99082569,  0.99082569,  0.99082569,\n",
       "         0.99082569,  0.99082569,  0.99082569,  0.99082569,  0.99082569]),\n",
       " 'split9_test_score': array([ 1. ,  1. ,  1. ,  1. ,  1. ,  1. ,  0.9,  1. ,  0.9,  1. ,  0.9,\n",
       "         1. ,  0.9,  1. ,  0.9,  1. ,  0.9,  0.9,  0.9,  0.9]),\n",
       " 'split9_train_score': array([ 0.99090909,  0.99090909,  0.99090909,  0.99090909,  0.99090909,\n",
       "         0.99090909,  0.99090909,  0.99090909,  0.99090909,  0.99090909,\n",
       "         0.99090909,  0.99090909,  0.99090909,  0.99090909,  0.99090909,\n",
       "         0.99090909,  0.99090909,  0.99090909,  0.99090909,  0.99090909]),\n",
       " 'std_fit_time': array([  2.71711881e-04,   1.48286737e-04,   1.33339947e-05,\n",
       "          8.66339403e-05,   2.14327562e-05,   7.77514534e-05,\n",
       "          8.28533344e-05,   2.58385138e-05,   4.76336455e-05,\n",
       "          1.07408374e-04,   1.63040659e-05,   2.08879169e-05,\n",
       "          1.85022378e-04,   1.24413385e-05,   1.65361633e-05,\n",
       "          2.81628761e-05,   3.42905599e-05,   2.53070467e-04,\n",
       "          7.16595983e-05,   1.61116812e-05]),\n",
       " 'std_score_time': array([  7.12975364e-05,   4.74957158e-05,   2.73932468e-06,\n",
       "          3.40781893e-05,   3.24572111e-05,   4.99903896e-05,\n",
       "          4.12892797e-05,   2.26425486e-05,   1.96666282e-05,\n",
       "          3.91318615e-05,   1.49202225e-05,   9.31786660e-06,\n",
       "          3.53865623e-05,   7.92687099e-06,   2.80553839e-05,\n",
       "          2.94085621e-05,   1.57502316e-05,   6.31596916e-05,\n",
       "          3.35416558e-05,   5.86121904e-06]),\n",
       " 'std_test_score': array([ 0.025     ,  0.025     ,  0.025     ,  0.025     ,  0.025     ,\n",
       "         0.025     ,  0.03535534,  0.025     ,  0.04074744,  0.025     ,\n",
       "         0.04074744,  0.025     ,  0.04074744,  0.025     ,  0.03535534,\n",
       "         0.025     ,  0.03535534,  0.03535534,  0.03535534,  0.04074744]),\n",
       " 'std_train_score': array([  4.18033964e-03,   2.77903210e-03,   4.18033964e-03,\n",
       "          4.18033964e-03,   4.18033964e-03,   4.18033964e-03,\n",
       "          2.83325243e-03,   4.18033964e-03,   7.61700974e-05,\n",
       "          2.77903210e-03,   7.61700974e-05,   2.77903210e-03,\n",
       "          7.61700974e-05,   2.83325243e-03,   2.83325243e-03,\n",
       "          2.83325243e-03,   2.83325243e-03,   2.83325243e-03,\n",
       "          2.83325243e-03,   7.61700974e-05])}"
      ]
     },
     "execution_count": 14,
     "metadata": {},
     "output_type": "execute_result"
    }
   ],
   "source": [
    "gscvSVC.cv_results_"
   ]
  },
  {
   "cell_type": "code",
   "execution_count": null,
   "metadata": {
    "collapsed": true
   },
   "outputs": [],
   "source": []
  }
 ],
 "metadata": {
  "anaconda-cloud": {},
  "kernelspec": {
   "display_name": "Python 3",
   "language": "python",
   "name": "python3"
  },
  "language_info": {
   "codemirror_mode": {
    "name": "ipython",
    "version": 3
   },
   "file_extension": ".py",
   "mimetype": "text/x-python",
   "name": "python",
   "nbconvert_exporter": "python",
   "pygments_lexer": "ipython3",
   "version": "3.6.0"
  }
 },
 "nbformat": 4,
 "nbformat_minor": 2
}
