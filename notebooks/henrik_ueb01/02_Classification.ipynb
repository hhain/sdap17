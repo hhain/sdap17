{
 "cells": [
  {
   "cell_type": "markdown",
   "metadata": {},
   "source": [
    "# Excercise 1 Task 2\n",
    "## Examination of runtime improvments of ensemble classifiers on a 250k elements dataset in dependence of the number of available cores\n",
    "### This notebook should run on an 8-core server environment to provide similar results"
   ]
  },
  {
   "cell_type": "code",
   "execution_count": 1,
   "metadata": {
    "collapsed": true
   },
   "outputs": [],
   "source": [
    "# Load neccessary libraries changed pandas import for convinience\n",
    "%matplotlib inline\n",
    "import pandas as pd\n",
    "import numpy as np\n",
    "import matplotlib.pyplot as plt\n",
    "import seaborn as sns\n",
    "from sklearn.datasets import make_classification\n",
    "from sklearn.model_selection import cross_val_score\n",
    "from sklearn.model_selection import train_test_split\n",
    "from sklearn.ensemble import RandomForestClassifier"
   ]
  },
  {
   "cell_type": "code",
   "execution_count": 2,
   "metadata": {
    "collapsed": true
   },
   "outputs": [],
   "source": [
    "# creation of a dataset consisting of 250k samples\n",
    "# with the following parameters\n",
    "samples = 250*1000\n",
    "features = 40\n",
    "informative = 5\n",
    "redundant=4\n",
    "X, Y = make_classification(n_samples=samples,\n",
    "                           n_features=features,\n",
    "                           n_informative=informative,\n",
    "                           n_redundant=4)"
   ]
  },
  {
   "cell_type": "code",
   "execution_count": 3,
   "metadata": {
    "collapsed": true
   },
   "outputs": [],
   "source": [
    "# Split-out validation dataset\n",
    "validation_size = 0.20\n",
    "seed = 7\n",
    "scoring = 'accuracy'\n",
    "X_train, X_validation, Y_train, Y_validation = train_test_split(X,\n",
    "                                                                Y,\n",
    "                                                                test_size=validation_size,\n",
    "                                                                random_state=seed)"
   ]
  },
  {
   "cell_type": "markdown",
   "metadata": {},
   "source": [
    "## Using 8 estimators (usage of one per core if 8 cores (jobs) are used)\n",
    "### One RandomForestClassifier (RFC) for each number of jobs (1 to 8 (inclusive)) is instantiated and trained on the training set of 200k elements. During the training the train time is measured  with the magic %timeit function and stored in an array."
   ]
  },
  {
   "cell_type": "code",
   "execution_count": 4,
   "metadata": {
    "collapsed": false
   },
   "outputs": [
    {
     "name": "stdout",
     "output_type": "stream",
     "text": [
      "1 loop, best of 3: 10.8 s per loop\n",
      "1 loop, best of 3: 6.24 s per loop\n",
      "1 loop, best of 3: 4.76 s per loop\n",
      "1 loop, best of 3: 3.45 s per loop\n",
      "1 loop, best of 3: 3.43 s per loop\n",
      "1 loop, best of 3: 3.63 s per loop\n",
      "1 loop, best of 3: 3.83 s per loop\n",
      "1 loop, best of 3: 2.76 s per loop\n"
     ]
    }
   ],
   "source": [
    "# Create Random Forest Classifier\n",
    "estimators = 8  # For mapping one estimator per core in case of max 8 cores\n",
    "jobs = 8\n",
    "time_it_results = []\n",
    "for _ in range(jobs):\n",
    "    rf_class = RandomForestClassifier(n_estimators=estimators, n_jobs=(_+1))\n",
    "    tr = %timeit -o rf_class.fit(X_train, Y_train)\n",
    "    time_it_results.append(tr)"
   ]
  },
  {
   "cell_type": "code",
   "execution_count": 6,
   "metadata": {
    "collapsed": false
   },
   "outputs": [],
   "source": [
    "# best_times are extracted\n",
    "best_times = [timer.best for timer in time_it_results]"
   ]
  },
  {
   "cell_type": "markdown",
   "metadata": {},
   "source": [
    "## Plot of the training time in seconds of each RFC against the number of used cores (number of jobs)"
   ]
  },
  {
   "cell_type": "code",
   "execution_count": 7,
   "metadata": {
    "collapsed": false
   },
   "outputs": [
    {
     "data": {
      "image/png": "[encoded data removed]",
      "text/plain": [
       "<matplotlib.figure.Figure at 0x7f757f49a400>"
      ]
     },
     "metadata": {},
     "output_type": "display_data"
    }
   ],
   "source": [
    "x = np.arange(1,9)\n",
    "labels = ['%i. Core' % i for i in x]\n",
    "fig = plt.figure()\n",
    "fig.suptitle('Training Time per number of cores')\n",
    "ax = fig.add_subplot(111)\n",
    "ax.set_xlabel('Number of cores')\n",
    "ax.set_ylabel('Training time (s)')\n",
    "ax.plot(x, best_times)\n",
    "plt.xticks(x, labels, rotation='vertical')\n",
    "plt.show()"
   ]
  },
  {
   "cell_type": "markdown",
   "metadata": {
    "collapsed": true
   },
   "source": [
    "Execution time is exponentially decreasing till 4 cpu cores are utilized. Further increase and decrease dependes on mainly two factors.\n",
    "- Overhead intruduced by managing multiprocessing\n",
    "- Overhead introduced by copying the datasets for processing\n",
    "\n",
    "A slight increase in runtime between 4 and 7 cores can be experienced till 8 cpu cores are utilized"
   ]
  },
  {
   "cell_type": "code",
   "execution_count": null,
   "metadata": {
    "collapsed": true
   },
   "outputs": [],
   "source": []
  }
 ],
 "metadata": {
  "anaconda-cloud": {},
  "kernelspec": {
   "display_name": "Python 3",
   "language": "python",
   "name": "python3"
  },
  "language_info": {
   "codemirror_mode": {
    "name": "ipython",
    "version": 3
   },
   "file_extension": ".py",
   "mimetype": "text/x-python",
   "name": "python",
   "nbconvert_exporter": "python",
   "pygments_lexer": "ipython3",
   "version": "3.6.0"
  }
 },
 "nbformat": 4,
 "nbformat_minor": 2
}
