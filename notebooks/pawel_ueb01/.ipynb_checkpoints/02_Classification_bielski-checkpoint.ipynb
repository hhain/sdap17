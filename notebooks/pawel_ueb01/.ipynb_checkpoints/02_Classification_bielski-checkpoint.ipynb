{
 "cells": [
  {
   "cell_type": "code",
   "execution_count": 9,
   "metadata": {
    "collapsed": false
   },
   "outputs": [],
   "source": [
    "# Load libraries\n",
    "import pandas as pd\n",
    "from pandas.tools.plotting import scatter_matrix\n",
    "import matplotlib.pyplot as plt\n",
    "import time\n",
    "\n",
    "from sklearn.ensemble import RandomForestClassifier\n",
    "from sklearn.datasets import make_classification\n",
    "from sklearn.cross_validation import train_test_split"
   ]
  },
  {
   "cell_type": "code",
   "execution_count": 10,
   "metadata": {
    "collapsed": false
   },
   "outputs": [],
   "source": [
    "# Create Dummy dataset\n",
    "num_samples = 500000\n",
    "X, y = make_classification(n_samples=num_samples)\n",
    "# Split train and test set\n",
    "seed = 5\n",
    "X_train, X_test, y_train, y_test = train_test_split(X, y, test_size=0.2, random_state=seed)"
   ]
  },
  {
   "cell_type": "code",
   "execution_count": 11,
   "metadata": {
    "collapsed": false
   },
   "outputs": [],
   "source": [
    "# test different number of cores: max 8\n",
    "num_cpu_list = list(range(1,9))\n",
    "max_sample_list = [l * num_samples for l in [0.2, 0.4, 1]]\n",
    "training_times_all = []"
   ]
  },
  {
   "cell_type": "code",
   "execution_count": 3,
   "metadata": {
    "collapsed": false
   },
   "outputs": [],
   "source": [
    "# the default setting for classifier\n",
    "clf = RandomForestClassifier()\n",
    "\n",
    "for max_sample in max_sample_list:\n",
    "    training_times = []\n",
    "    for num_cpu in num_cpu_list:\n",
    "        # change number of cores\n",
    "        clf.set_params(n_jobs=num_cpu)\n",
    "        start_time = time.time()\n",
    "        # train classifier on training data\n",
    "        clf.fit(X_train[:max_sample+1], y_train[:max_sample+1])\n",
    "        # save the runtime to the list\n",
    "        training_times.append(time.time() - start_time)\n",
    "    \n",
    "    training_times_all.append(training_times)\n",
    "\n"
   ]
  },
  {
   "cell_type": "code",
   "execution_count": 5,
   "metadata": {
    "collapsed": false,
    "scrolled": true
   },
   "outputs": [
    {
     "data": {
      "image/png": "[encoded data removed]",
      "text/plain": [
       "<matplotlib.figure.Figure at 0x2b27387e1eb8>"
      ]
     },
     "metadata": {},
     "output_type": "display_data"
    }
   ],
   "source": [
    "plt.plot(num_cpu_list, training_times_all[0], 'r--', label=\"{0:0.0f}k\".format(max_sample_list[0]/1000))\n",
    "plt.plot(num_cpu_list, training_times_all[1], \"bs\" , label=\"{0:0.0f}k\".format(max_sample_list[1]/1000))\n",
    "plt.plot(num_cpu_list, training_times_all[2], \"g^\" , label=\"{0:0.0f}k\".format(max_sample_list[2]/1000))\n",
    "plt.axis([0, len(num_cpu_list)+1, 0, max(training_times)+1])\n",
    "plt.title(\"Training time vs #CPU Cores\")\n",
    "plt.xlabel(\"#CPU Cores\")\n",
    "plt.ylabel(\"training time [s]\")\n",
    "plt.show()"
   ]
  },
  {
   "cell_type": "code",
   "execution_count": 6,
   "metadata": {
    "collapsed": false
   },
   "outputs": [
    {
     "name": "stdout",
     "output_type": "stream",
     "text": [
      "[[0, 0, 0, 0, 0], [0, 1, 2, 3, 4], [0, 2, 4, 6, 8], [0, 3, 6, 9, 12]]\n",
      "[0, 1, 2, 3, 4]\n"
     ]
    }
   ],
   "source": [
    "list_all = []\n",
    "for i in range(4):\n",
    "    list_small = []\n",
    "    for j in range(5):\n",
    "        list_small.append(j*i)\n",
    "    list_all.append(list_small)\n",
    "    \n",
    "print(list_all)\n",
    "print(list_all[1])\n",
    "        \n",
    "    "
   ]
  },
  {
   "cell_type": "code",
   "execution_count": 22,
   "metadata": {
    "collapsed": false
   },
   "outputs": [
    {
     "name": "stdout",
     "output_type": "stream",
     "text": [
      "100k\n"
     ]
    }
   ],
   "source": [
    "print(\"{0:0.0f}k\".format(max_sample_list[0]/1000))"
   ]
  }
 ],
 "metadata": {
  "anaconda-cloud": {},
  "kernelspec": {
   "display_name": "Python [default]",
   "language": "python",
   "name": "python3"
  },
  "language_info": {
   "codemirror_mode": {
    "name": "ipython",
    "version": 3
   },
   "file_extension": ".py",
   "mimetype": "text/x-python",
   "name": "python",
   "nbconvert_exporter": "python",
   "pygments_lexer": "ipython3",
   "version": "3.5.2"
  }
 },
 "nbformat": 4,
 "nbformat_minor": 2
}
