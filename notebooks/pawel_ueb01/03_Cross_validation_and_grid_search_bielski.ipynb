{
 "cells": [
  {
   "cell_type": "code",
   "execution_count": 1,
   "metadata": {
    "collapsed": true
   },
   "outputs": [],
   "source": [
    "# Load libraries\n",
    "import pandas as pd\n",
    "import numpy as np\n",
    "import matplotlib.pyplot as plt\n",
    "import time\n",
    "\n",
    "from sklearn.cross_validation import train_test_split\n",
    "from sklearn.grid_search import GridSearchCV\n",
    "from sklearn.neighbors import KNeighborsClassifier"
   ]
  },
  {
   "cell_type": "code",
   "execution_count": 2,
   "metadata": {
    "collapsed": true
   },
   "outputs": [],
   "source": [
    "# Load dataset\n",
    "url = \"https://archive.ics.uci.edu/ml/machine-learning-databases/iris/iris.data\"\n",
    "names = ['sepal-length', 'sepal-width', 'petal-length', 'petal-width', 'class']\n",
    "dataset = pd.read_csv(url, names=names)"
   ]
  },
  {
   "cell_type": "code",
   "execution_count": 3,
   "metadata": {},
   "outputs": [
    {
     "name": "stdout",
     "output_type": "stream",
     "text": [
      "(150, 5)\n"
     ]
    }
   ],
   "source": [
    "print(dataset.shape)"
   ]
  },
  {
   "cell_type": "code",
   "execution_count": 4,
   "metadata": {},
   "outputs": [
    {
     "name": "stdout",
     "output_type": "stream",
     "text": [
      "   sepal-length  sepal-width  petal-length  petal-width        class\n",
      "0           5.1          3.5           1.4          0.2  Iris-setosa\n",
      "1           4.9          3.0           1.4          0.2  Iris-setosa\n",
      "2           4.7          3.2           1.3          0.2  Iris-setosa\n",
      "3           4.6          3.1           1.5          0.2  Iris-setosa\n",
      "4           5.0          3.6           1.4          0.2  Iris-setosa\n"
     ]
    }
   ],
   "source": [
    "print(dataset.head(5))"
   ]
  },
  {
   "cell_type": "code",
   "execution_count": 5,
   "metadata": {},
   "outputs": [],
   "source": [
    "# Split-out validation dataset\n",
    "array = dataset.values\n",
    "X = array[:,0:4]\n",
    "y = array[:,4]\n",
    "validation_size = 0.20\n",
    "seed = 7\n",
    "X_train, X_validation, y_train, y_validation = train_test_split(X, y, test_size=validation_size, random_state=seed)"
   ]
  },
  {
   "cell_type": "code",
   "execution_count": 6,
   "metadata": {
    "collapsed": true
   },
   "outputs": [],
   "source": [
    "# Test options and evaluation metric\n",
    "seed = 7\n",
    "scoring = 'accuracy'"
   ]
  },
  {
   "cell_type": "code",
   "execution_count": 7,
   "metadata": {
    "collapsed": true
   },
   "outputs": [],
   "source": [
    "# test different number of cores: max 8\n",
    "num_cpu_list = list(range(1,9))\n",
    "training_times_all = []"
   ]
  },
  {
   "cell_type": "code",
   "execution_count": 9,
   "metadata": {},
   "outputs": [
    {
     "name": "stdout",
     "output_type": "stream",
     "text": [
      "Computing KNN grid with 1 cores DONE.\n",
      "Computing KNN grid with 2 cores DONE.\n",
      "Computing KNN grid with 3 cores DONE.\n",
      "Computing KNN grid with 4 cores DONE.\n",
      "Computing KNN grid with 5 cores DONE.\n",
      "Computing KNN grid with 6 cores DONE.\n",
      "Computing KNN grid with 7 cores DONE.\n",
      "Computing KNN grid with 8 cores DONE.\n",
      "All computations DONE.\n"
     ]
    }
   ],
   "source": [
    "param_grid = {\"n_neighbors\" : list(range(1,10))}\n",
    "training_times = []\n",
    "\n",
    "for num_cpu in num_cpu_list:\n",
    "    clf = GridSearchCV(KNeighborsClassifier(), param_grid, scoring=scoring)\n",
    "    clf.set_params(n_jobs=num_cpu)\n",
    "    start_time = time.time()\n",
    "    clf.fit(X_train, y_train)\n",
    "    training_times.append(time.time() - start_time)\n",
    "    # print logging message\n",
    "    print(\"Computing KNN grid with {} cores DONE.\".format(num_cpu))\n",
    "\n",
    "print(\"All computations DONE.\")"
   ]
  },
  {
   "cell_type": "code",
   "execution_count": 10,
   "metadata": {},
   "outputs": [
    {
     "name": "stdout",
     "output_type": "stream",
     "text": [
      "Best parameters:\n",
      "{'n_neighbors': 7}\n",
      "With accuracy:\n",
      "0.991666666667\n"
     ]
    }
   ],
   "source": [
    "# best parameters found\n",
    "print(\"Best parameters:\")\n",
    "print(clf.best_params_)\n",
    "print(\"With accuracy:\")\n",
    "print(clf.best_score_)\n"
   ]
  },
  {
   "cell_type": "code",
   "execution_count": 11,
   "metadata": {},
   "outputs": [
    {
     "data": {
      "image/png": "[encoded data removed]",
      "text/plain": [
       "<matplotlib.figure.Figure at 0x2b13604fb5c0>"
      ]
     },
     "metadata": {},
     "output_type": "display_data"
    }
   ],
   "source": [
    "scores_all_percent = [100 * grid_score[1] for grid_score in clf.grid_scores_]\n",
    "params_all = [grid_score[0][\"n_neighbors\"] for grid_score in clf.grid_scores_]\n",
    "\n",
    "N = 9\n",
    "ind = np.arange(N) # the x locations for bars\n",
    "width = 0.5  # the width of the bars\n",
    "\n",
    "fig, ax = plt.subplots()\n",
    "ax.bar(ind + width/2, scores_all_percent, width)\n",
    "ax.set_xticks(ind + width)\n",
    "ax.set_xticklabels([str(i) for i in params_all])\n",
    "ax.set_ylim([90,100])\n",
    "plt.title(\"Accuracy of KNN vs n_neighbors param\")\n",
    "plt.xlabel(\"n_neighbors\")\n",
    "plt.ylabel(\"accuracy [%]\")\n",
    "plt.show()"
   ]
  },
  {
   "cell_type": "markdown",
   "metadata": {},
   "source": [
    "The above plot shows that the best accuracy for KNN algorithm is obtained for **n_neighbors = 7**"
   ]
  },
  {
   "cell_type": "code",
   "execution_count": 12,
   "metadata": {},
   "outputs": [
    {
     "data": {
      "image/png": "[encoded data removed]",
      "text/plain": [
       "<matplotlib.figure.Figure at 0x2b13606d34e0>"
      ]
     },
     "metadata": {},
     "output_type": "display_data"
    }
   ],
   "source": [
    "fig, ax = plt.subplots()\n",
    "ax.plot(num_cpu_list, training_times, 'ro')\n",
    "ax.set_xlim([0, len(num_cpu_list)+1])\n",
    "\n",
    "#plt.axis([0, len(num_cpu_list)+1, 0, max(training_times)+1])\n",
    "plt.title(\"Search time vs #CPU Cores\")\n",
    "plt.xlabel(\"#CPU Cores\")\n",
    "plt.ylabel(\"search time [s]\")\n",
    "plt.show()"
   ]
  },
  {
   "cell_type": "markdown",
   "metadata": {},
   "source": [
    "\n",
    "We can see that the search time for **n_jobs > 1** is highier than for **n_jobs = 1**. The reason is that multiprocessing comes at cost i.e. the distribution of multiple processes can take more time that the actual execution time for the small datasets like **Iris** (150 rows)."
   ]
  }
 ],
 "metadata": {
  "anaconda-cloud": {},
  "kernelspec": {
   "display_name": "Python [default]",
   "language": "python",
   "name": "python3"
  },
  "language_info": {
   "codemirror_mode": {
    "name": "ipython",
    "version": 3
   },
   "file_extension": ".py",
   "mimetype": "text/x-python",
   "name": "python",
   "nbconvert_exporter": "python",
   "pygments_lexer": "ipython3",
   "version": "3.5.2"
  }
 },
 "nbformat": 4,
 "nbformat_minor": 2
}
