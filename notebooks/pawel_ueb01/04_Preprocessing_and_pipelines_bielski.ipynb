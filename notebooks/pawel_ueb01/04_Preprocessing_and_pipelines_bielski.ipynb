{
 "cells": [
  {
   "cell_type": "code",
   "execution_count": 1,
   "metadata": {
    "collapsed": true
   },
   "outputs": [],
   "source": [
    "# Load libraries\n",
    "import pandas as pd\n",
    "import matplotlib.pyplot as plt\n",
    "import time\n",
    "\n",
    "from sklearn.cross_validation import train_test_split\n",
    "from sklearn.preprocessing import LabelEncoder, StandardScaler\n",
    "from sklearn.decomposition import PCA\n",
    "from sklearn.linear_model import LogisticRegression\n",
    "from sklearn.pipeline import Pipeline\n",
    "from sklearn.feature_selection import RFECV"
   ]
  },
  {
   "cell_type": "code",
   "execution_count": 2,
   "metadata": {},
   "outputs": [],
   "source": [
    "# Load dataset\n",
    "url = \"https://archive.ics.uci.edu/ml/machine-learning-databases/breast-cancer-wisconsin/wdbc.data\"\n",
    "dataset = pd.read_csv(url, header=None)"
   ]
  },
  {
   "cell_type": "code",
   "execution_count": 3,
   "metadata": {},
   "outputs": [
    {
     "name": "stdout",
     "output_type": "stream",
     "text": [
      "(569, 32)\n"
     ]
    }
   ],
   "source": [
    "print(dataset.shape)"
   ]
  },
  {
   "cell_type": "code",
   "execution_count": 4,
   "metadata": {},
   "outputs": [
    {
     "name": "stdout",
     "output_type": "stream",
     "text": [
      "         0  1      2      3       4       5        6        7       8   \\\n",
      "0    842302  M  17.99  10.38  122.80  1001.0  0.11840  0.27760  0.3001   \n",
      "1    842517  M  20.57  17.77  132.90  1326.0  0.08474  0.07864  0.0869   \n",
      "2  84300903  M  19.69  21.25  130.00  1203.0  0.10960  0.15990  0.1974   \n",
      "3  84348301  M  11.42  20.38   77.58   386.1  0.14250  0.28390  0.2414   \n",
      "4  84358402  M  20.29  14.34  135.10  1297.0  0.10030  0.13280  0.1980   \n",
      "\n",
      "        9    ...        22     23      24      25      26      27      28  \\\n",
      "0  0.14710   ...     25.38  17.33  184.60  2019.0  0.1622  0.6656  0.7119   \n",
      "1  0.07017   ...     24.99  23.41  158.80  1956.0  0.1238  0.1866  0.2416   \n",
      "2  0.12790   ...     23.57  25.53  152.50  1709.0  0.1444  0.4245  0.4504   \n",
      "3  0.10520   ...     14.91  26.50   98.87   567.7  0.2098  0.8663  0.6869   \n",
      "4  0.10430   ...     22.54  16.67  152.20  1575.0  0.1374  0.2050  0.4000   \n",
      "\n",
      "       29      30       31  \n",
      "0  0.2654  0.4601  0.11890  \n",
      "1  0.1860  0.2750  0.08902  \n",
      "2  0.2430  0.3613  0.08758  \n",
      "3  0.2575  0.6638  0.17300  \n",
      "4  0.1625  0.2364  0.07678  \n",
      "\n",
      "[5 rows x 32 columns]\n"
     ]
    }
   ],
   "source": [
    "print(dataset.head())"
   ]
  },
  {
   "cell_type": "code",
   "execution_count": 5,
   "metadata": {},
   "outputs": [
    {
     "name": "stdout",
     "output_type": "stream",
     "text": [
      "         0   1      2      3       4       5        6        7       8   \\\n",
      "0    842302   1  17.99  10.38  122.80  1001.0  0.11840  0.27760  0.3001   \n",
      "1    842517   1  20.57  17.77  132.90  1326.0  0.08474  0.07864  0.0869   \n",
      "2  84300903   1  19.69  21.25  130.00  1203.0  0.10960  0.15990  0.1974   \n",
      "3  84348301   1  11.42  20.38   77.58   386.1  0.14250  0.28390  0.2414   \n",
      "4  84358402   1  20.29  14.34  135.10  1297.0  0.10030  0.13280  0.1980   \n",
      "\n",
      "        9    ...        22     23      24      25      26      27      28  \\\n",
      "0  0.14710   ...     25.38  17.33  184.60  2019.0  0.1622  0.6656  0.7119   \n",
      "1  0.07017   ...     24.99  23.41  158.80  1956.0  0.1238  0.1866  0.2416   \n",
      "2  0.12790   ...     23.57  25.53  152.50  1709.0  0.1444  0.4245  0.4504   \n",
      "3  0.10520   ...     14.91  26.50   98.87   567.7  0.2098  0.8663  0.6869   \n",
      "4  0.10430   ...     22.54  16.67  152.20  1575.0  0.1374  0.2050  0.4000   \n",
      "\n",
      "       29      30       31  \n",
      "0  0.2654  0.4601  0.11890  \n",
      "1  0.1860  0.2750  0.08902  \n",
      "2  0.2430  0.3613  0.08758  \n",
      "3  0.2575  0.6638  0.17300  \n",
      "4  0.1625  0.2364  0.07678  \n",
      "\n",
      "[5 rows x 32 columns]\n"
     ]
    }
   ],
   "source": [
    "le = LabelEncoder()\n",
    "le.fit(dataset[1])\n",
    "dataset[1] = le.transform(dataset[1])\n",
    "print(dataset.head(5))"
   ]
  },
  {
   "cell_type": "code",
   "execution_count": 6,
   "metadata": {
    "collapsed": true
   },
   "outputs": [],
   "source": [
    "# Split-out validation dataset\n",
    "array = dataset.values\n",
    "# columns from 2 on are features\n",
    "X = array[:,2:]\n",
    "# first column is label (column 0 is ID)\n",
    "y = array[:,1]\n",
    "seed = 1\n",
    "X_train, X_test, y_train, y_test = train_test_split(X, y, test_size=0.2, random_state=seed)"
   ]
  },
  {
   "cell_type": "code",
   "execution_count": 67,
   "metadata": {},
   "outputs": [
    {
     "name": "stdout",
     "output_type": "stream",
     "text": [
      "Accuracy of model with PCA preprocessing measured on a test set: 0.9473684210526315\n"
     ]
    }
   ],
   "source": [
    "# define pipeline steps\n",
    "estimators = [('scaling', StandardScaler()),\n",
    "              ('reduce_dim', PCA(n_components=2)),\n",
    "              ('clf', LogisticRegression(random_state=1))]\n",
    "\n",
    "# create pipeline out of steps and fit on train data\n",
    "pipe = Pipeline(estimators)\n",
    "pipe.fit(X_train, y_train)\n",
    "\n",
    "# measure the accuracy on test data\n",
    "accuracy = pipe.score(X_test, y_test)\n",
    "print(\"Accuracy of model with PCA preprocessing measured on a test set: {}\".format(accuracy))\n"
   ]
  },
  {
   "cell_type": "code",
   "execution_count": 68,
   "metadata": {},
   "outputs": [
    {
     "data": {
      "image/png": "[encoded data removed]",
      "text/plain": [
       "<matplotlib.figure.Figure at 0x2b213a95f550>"
      ]
     },
     "metadata": {},
     "output_type": "display_data"
    },
    {
     "name": "stdout",
     "output_type": "stream",
     "text": [
      "Optimal number of features : 16\n",
      "\n",
      "Selected features:\n",
      "['2 ', '5 ', '8 ', '9 ', '12 ', '14 ', '15 ', '17 ', '22 ', '23 ', '24 ', '25 ', '26 ', '28 ', '29 ', '30 ']\n",
      "\n",
      "Accuracy of model with RFECV preprocessing measured on a test set: 0.9736842105263158\n"
     ]
    }
   ],
   "source": [
    "# define pipeline steps\n",
    "estimators2 = [('scaling', StandardScaler()),\n",
    "               ('feature_sel', RFECV(LogisticRegression(random_state=1), scoring='accuracy')),\n",
    "               ('clf', LogisticRegression(random_state=1))]\n",
    "\n",
    "# create pipeline out of steps and fit on train data\n",
    "pipe2 = Pipeline(estimators2)\n",
    "pipe2.fit(X_train, y_train)\n",
    "\n",
    "# get access to feature selection step of the pipeline\n",
    "rfecv = pipe2.named_steps['feature_sel']\n",
    "\n",
    "#Plot number of features VS. cross-validation scores\n",
    "plt.plot(range(1, len(rfecv.grid_scores_) + 1), rfecv.grid_scores_)\n",
    "plt.xlabel(\"Number of features selected\")\n",
    "plt.ylabel(\"Cross validation accuracy\")\n",
    "plt.show()\n",
    "\n",
    "print(\"Optimal number of features : {}\".format(rfecv.n_features_))\n",
    "print()\n",
    "\n",
    "print(\"Selected features:\")\n",
    "print([\"{} \".format(inx+2) for inx, selected  in enumerate(rfecv.support_) if selected == True])\n",
    "print()\n",
    "\n",
    "# measure the accuracy on test data\n",
    "accuracy2 = pipe2.score(X_test, y_test)\n",
    "print(\"Accuracy of model with RFECV preprocessing measured on a test set: {}\".format(accuracy2))"
   ]
  },
  {
   "cell_type": "code",
   "execution_count": 36,
   "metadata": {
    "collapsed": true
   },
   "outputs": [],
   "source": []
  }
 ],
 "metadata": {
  "anaconda-cloud": {},
  "kernelspec": {
   "display_name": "Python 3",
   "language": "python",
   "name": "python3"
  },
  "language_info": {
   "codemirror_mode": {
    "name": "ipython",
    "version": 3
   },
   "file_extension": ".py",
   "mimetype": "text/x-python",
   "name": "python",
   "nbconvert_exporter": "python",
   "pygments_lexer": "ipython3",
   "version": "3.5.2"
  }
 },
 "nbformat": 4,
 "nbformat_minor": 2
}
