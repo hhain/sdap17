{
 "cells": [
  {
   "cell_type": "markdown",
   "metadata": {
    "collapsed": true
   },
   "source": [
    "# Mustererkennung in Funkmessdaten"
   ]
  },
  {
   "cell_type": "markdown",
   "metadata": {},
   "source": [
    "## Aufgabe 1: Laden der Datenbank in Jupyter Notebook"
   ]
  },
  {
   "cell_type": "code",
   "execution_count": 1,
   "metadata": {
    "collapsed": true
   },
   "outputs": [],
   "source": [
    "import pandas as pd\n",
    "import numpy as np\n",
    "import seaborn"
   ]
  },
  {
   "cell_type": "code",
   "execution_count": 15,
   "metadata": {
    "collapsed": false
   },
   "outputs": [],
   "source": [
    "hdfs = pd.HDFStore(\"../../data/raw/henrik/TestMessungen_NEU.hdf\")"
   ]
  },
  {
   "cell_type": "code",
   "execution_count": 16,
   "metadata": {
    "collapsed": false
   },
   "outputs": [
    {
     "data": {
      "text/plain": [
       "<bound method HDFStore.keys of <class 'pandas.io.pytables.HDFStore'>\n",
       "File path: ../../data/raw/henrik/TestMessungen_NEU.hdf\n",
       "/x1/t1/trx_1_2            frame        (shape->[227,12009])\n",
       "/x1/t1/trx_1_4            frame        (shape->[229,12009])\n",
       "/x1/t1/trx_2_3            frame        (shape->[226,12009])\n",
       "/x1/t1/trx_3_1            frame        (shape->[233,12009])\n",
       "/x1/t1/trx_3_4            frame        (shape->[226,12009])\n",
       "/x1/t1/trx_4_2            frame        (shape->[230,12009])\n",
       "/x1/t2/trx_1_2            frame        (shape->[223,12009])\n",
       "/x1/t2/trx_1_4            frame        (shape->[220,12009])\n",
       "/x1/t2/trx_2_3            frame        (shape->[218,12009])\n",
       "/x1/t2/trx_3_1            frame        (shape->[221,12009])\n",
       "/x1/t2/trx_3_4            frame        (shape->[218,12009])\n",
       "/x1/t2/trx_4_2            frame        (shape->[221,12009])\n",
       "/x1/t3/trx_1_2            frame        (shape->[246,12009])\n",
       "/x1/t3/trx_1_4            frame        (shape->[250,12009])\n",
       "/x1/t3/trx_2_3            frame        (shape->[246,12009])\n",
       "/x1/t3/trx_3_1            frame        (shape->[244,12009])\n",
       "/x1/t3/trx_3_4            frame        (shape->[252,12009])\n",
       "/x1/t3/trx_4_2            frame        (shape->[247,12009])\n",
       "/x2/t1/trx_1_2            frame        (shape->[195,12009])\n",
       "/x2/t1/trx_1_4            frame        (shape->[194,12009])\n",
       "/x2/t1/trx_2_3            frame        (shape->[201,12009])\n",
       "/x2/t1/trx_3_1            frame        (shape->[200,12009])\n",
       "/x2/t1/trx_3_4            frame        (shape->[198,12009])\n",
       "/x2/t1/trx_4_2            frame        (shape->[199,12009])\n",
       "/x2/t2/trx_1_2            frame        (shape->[155,12009])\n",
       "/x2/t2/trx_1_4            frame        (shape->[168,12009])\n",
       "/x2/t2/trx_2_3            frame        (shape->[157,12009])\n",
       "/x2/t2/trx_3_1            frame        (shape->[165,12009])\n",
       "/x2/t2/trx_3_4            frame        (shape->[164,12009])\n",
       "/x2/t2/trx_4_2            frame        (shape->[160,12009])\n",
       "/x2/t3/trx_1_2            frame        (shape->[152,12009])\n",
       "/x2/t3/trx_1_4            frame        (shape->[150,12009])\n",
       "/x2/t3/trx_2_3            frame        (shape->[150,12009])\n",
       "/x2/t3/trx_3_1            frame        (shape->[153,12009])\n",
       "/x2/t3/trx_3_4            frame        (shape->[144,12009])\n",
       "/x2/t3/trx_4_2            frame        (shape->[145,12009])\n",
       "/x3/t1/trx_1_2            frame        (shape->[208,12009])\n",
       "/x3/t1/trx_1_4            frame        (shape->[211,12009])\n",
       "/x3/t1/trx_2_3            frame        (shape->[208,12009])\n",
       "/x3/t1/trx_3_1            frame        (shape->[210,12009])\n",
       "/x3/t1/trx_3_4            frame        (shape->[213,12009])\n",
       "/x3/t1/trx_4_2            frame        (shape->[212,12009])\n",
       "/x3/t2/trx_1_2            frame        (shape->[243,12009])\n",
       "/x3/t2/trx_1_4            frame        (shape->[245,12009])\n",
       "/x3/t2/trx_2_3            frame        (shape->[251,12009])\n",
       "/x3/t2/trx_3_1            frame        (shape->[247,12009])\n",
       "/x3/t2/trx_3_4            frame        (shape->[249,12009])\n",
       "/x3/t2/trx_4_2            frame        (shape->[242,12009])\n",
       "/x3/t3/trx_1_2            frame        (shape->[260,12009])\n",
       "/x3/t3/trx_1_4            frame        (shape->[253,12009])\n",
       "/x3/t3/trx_2_3            frame        (shape->[257,12009])\n",
       "/x3/t3/trx_3_1            frame        (shape->[256,12009])\n",
       "/x3/t3/trx_3_4            frame        (shape->[261,12009])\n",
       "/x3/t3/trx_4_2            frame        (shape->[255,12009])\n",
       "/x4/t1/trx_1_2            frame        (shape->[121,12009])\n",
       "/x4/t1/trx_1_4            frame        (shape->[129,12009])\n",
       "/x4/t1/trx_2_3            frame        (shape->[126,12009])\n",
       "/x4/t1/trx_3_1            frame        (shape->[130,12009])\n",
       "/x4/t1/trx_3_4            frame        (shape->[143,12009])\n",
       "/x4/t1/trx_4_2            frame        (shape->[132,12009])\n",
       "/x4/t2/trx_1_2            frame        (shape->[173,12009])\n",
       "/x4/t2/trx_1_4            frame        (shape->[177,12009])\n",
       "/x4/t2/trx_2_3            frame        (shape->[171,12009])\n",
       "/x4/t2/trx_3_1            frame        (shape->[181,12009])\n",
       "/x4/t2/trx_3_4            frame        (shape->[180,12009])\n",
       "/x4/t2/trx_4_2            frame        (shape->[179,12009])\n",
       "/x4/t3/trx_1_2            frame        (shape->[168,12009])\n",
       "/x4/t3/trx_1_4            frame        (shape->[169,12009])\n",
       "/x4/t3/trx_2_3            frame        (shape->[162,12009])\n",
       "/x4/t3/trx_3_1            frame        (shape->[169,12009])\n",
       "/x4/t3/trx_3_4            frame        (shape->[168,12009])\n",
       "/x4/t3/trx_4_2            frame        (shape->[169,12009])>"
      ]
     },
     "execution_count": 16,
     "metadata": {},
     "output_type": "execute_result"
    }
   ],
   "source": [
    "hdfs.keys"
   ]
  },
  {
   "cell_type": "markdown",
   "metadata": {},
   "source": [
    "## Aufgabe 2: Inspektion eines einzelnen Dataframes"
   ]
  },
  {
   "cell_type": "code",
   "execution_count": 18,
   "metadata": {
    "collapsed": true
   },
   "outputs": [],
   "source": [
    "df1 = hdfs.get('/x1/t1/trx_1_2')"
   ]
  },
  {
   "cell_type": "code",
   "execution_count": 19,
   "metadata": {
    "collapsed": false
   },
   "outputs": [
    {
     "data": {
      "text/html": [
       "<div>\n",
       "<table border=\"1\" class=\"dataframe\">\n",
       "  <thead>\n",
       "    <tr style=\"text-align: right;\">\n",
       "      <th></th>\n",
       "      <th>index</th>\n",
       "      <th>Timestamp</th>\n",
       "      <th>trx_1_2_ifft_0</th>\n",
       "      <th>trx_1_2_ifft_1</th>\n",
       "      <th>trx_1_2_ifft_2</th>\n",
       "      <th>trx_1_2_ifft_3</th>\n",
       "      <th>trx_1_2_ifft_4</th>\n",
       "      <th>trx_1_2_ifft_5</th>\n",
       "      <th>trx_1_2_ifft_6</th>\n",
       "      <th>trx_1_2_ifft_7</th>\n",
       "      <th>...</th>\n",
       "      <th>trx_4_2_ifft_1992</th>\n",
       "      <th>trx_4_2_ifft_1993</th>\n",
       "      <th>trx_4_2_ifft_1994</th>\n",
       "      <th>trx_4_2_ifft_1995</th>\n",
       "      <th>trx_4_2_ifft_1996</th>\n",
       "      <th>trx_4_2_ifft_1997</th>\n",
       "      <th>trx_4_2_ifft_1998</th>\n",
       "      <th>trx_4_2_ifft_1999</th>\n",
       "      <th>trx_4_2_ts</th>\n",
       "      <th>target</th>\n",
       "    </tr>\n",
       "  </thead>\n",
       "  <tbody>\n",
       "    <tr>\n",
       "      <th>0</th>\n",
       "      <td>0</td>\n",
       "      <td>1.492291e+09</td>\n",
       "      <td>0.057569</td>\n",
       "      <td>0.057136</td>\n",
       "      <td>0.056675</td>\n",
       "      <td>0.056187</td>\n",
       "      <td>0.055674</td>\n",
       "      <td>0.055137</td>\n",
       "      <td>0.054577</td>\n",
       "      <td>0.053996</td>\n",
       "      <td>...</td>\n",
       "      <td>0.030439</td>\n",
       "      <td>0.030293</td>\n",
       "      <td>0.030121</td>\n",
       "      <td>0.029925</td>\n",
       "      <td>0.029705</td>\n",
       "      <td>0.029460</td>\n",
       "      <td>0.029193</td>\n",
       "      <td>0.028902</td>\n",
       "      <td>1.488963e+12</td>\n",
       "      <td>Empty_0.0,0.0_0.0,0.0</td>\n",
       "    </tr>\n",
       "    <tr>\n",
       "      <th>1</th>\n",
       "      <td>1</td>\n",
       "      <td>1.492291e+09</td>\n",
       "      <td>0.047302</td>\n",
       "      <td>0.046338</td>\n",
       "      <td>0.045374</td>\n",
       "      <td>0.044412</td>\n",
       "      <td>0.043456</td>\n",
       "      <td>0.042508</td>\n",
       "      <td>0.041572</td>\n",
       "      <td>0.040651</td>\n",
       "      <td>...</td>\n",
       "      <td>0.036359</td>\n",
       "      <td>0.036123</td>\n",
       "      <td>0.035864</td>\n",
       "      <td>0.035581</td>\n",
       "      <td>0.035275</td>\n",
       "      <td>0.034946</td>\n",
       "      <td>0.034596</td>\n",
       "      <td>0.034225</td>\n",
       "      <td>1.488963e+12</td>\n",
       "      <td>Empty_0.0,0.0_0.0,0.0</td>\n",
       "    </tr>\n",
       "    <tr>\n",
       "      <th>2</th>\n",
       "      <td>2</td>\n",
       "      <td>1.492291e+09</td>\n",
       "      <td>0.034838</td>\n",
       "      <td>0.033317</td>\n",
       "      <td>0.031765</td>\n",
       "      <td>0.030187</td>\n",
       "      <td>0.028583</td>\n",
       "      <td>0.026958</td>\n",
       "      <td>0.025314</td>\n",
       "      <td>0.023656</td>\n",
       "      <td>...</td>\n",
       "      <td>0.031202</td>\n",
       "      <td>0.030878</td>\n",
       "      <td>0.030531</td>\n",
       "      <td>0.030161</td>\n",
       "      <td>0.029768</td>\n",
       "      <td>0.029353</td>\n",
       "      <td>0.028916</td>\n",
       "      <td>0.028459</td>\n",
       "      <td>1.488963e+12</td>\n",
       "      <td>Empty_0.0,0.0_0.0,0.0</td>\n",
       "    </tr>\n",
       "    <tr>\n",
       "      <th>3</th>\n",
       "      <td>3</td>\n",
       "      <td>1.492291e+09</td>\n",
       "      <td>0.053769</td>\n",
       "      <td>0.053513</td>\n",
       "      <td>0.053260</td>\n",
       "      <td>0.053011</td>\n",
       "      <td>0.052767</td>\n",
       "      <td>0.052529</td>\n",
       "      <td>0.052299</td>\n",
       "      <td>0.052078</td>\n",
       "      <td>...</td>\n",
       "      <td>0.035503</td>\n",
       "      <td>0.035381</td>\n",
       "      <td>0.035234</td>\n",
       "      <td>0.035061</td>\n",
       "      <td>0.034861</td>\n",
       "      <td>0.034637</td>\n",
       "      <td>0.034387</td>\n",
       "      <td>0.034113</td>\n",
       "      <td>1.488963e+12</td>\n",
       "      <td>Empty_0.0,0.0_0.0,0.0</td>\n",
       "    </tr>\n",
       "    <tr>\n",
       "      <th>4</th>\n",
       "      <td>4</td>\n",
       "      <td>1.492291e+09</td>\n",
       "      <td>0.042299</td>\n",
       "      <td>0.041589</td>\n",
       "      <td>0.040935</td>\n",
       "      <td>0.040344</td>\n",
       "      <td>0.039823</td>\n",
       "      <td>0.039379</td>\n",
       "      <td>0.039017</td>\n",
       "      <td>0.038745</td>\n",
       "      <td>...</td>\n",
       "      <td>0.034995</td>\n",
       "      <td>0.034670</td>\n",
       "      <td>0.034319</td>\n",
       "      <td>0.033942</td>\n",
       "      <td>0.033540</td>\n",
       "      <td>0.033112</td>\n",
       "      <td>0.032661</td>\n",
       "      <td>0.032187</td>\n",
       "      <td>1.488963e+12</td>\n",
       "      <td>Empty_0.0,0.0_0.0,0.0</td>\n",
       "    </tr>\n",
       "  </tbody>\n",
       "</table>\n",
       "<p>5 rows × 12009 columns</p>\n",
       "</div>"
      ],
      "text/plain": [
       "   index     Timestamp  trx_1_2_ifft_0  trx_1_2_ifft_1  trx_1_2_ifft_2  \\\n",
       "0      0  1.492291e+09        0.057569        0.057136        0.056675   \n",
       "1      1  1.492291e+09        0.047302        0.046338        0.045374   \n",
       "2      2  1.492291e+09        0.034838        0.033317        0.031765   \n",
       "3      3  1.492291e+09        0.053769        0.053513        0.053260   \n",
       "4      4  1.492291e+09        0.042299        0.041589        0.040935   \n",
       "\n",
       "   trx_1_2_ifft_3  trx_1_2_ifft_4  trx_1_2_ifft_5  trx_1_2_ifft_6  \\\n",
       "0        0.056187        0.055674        0.055137        0.054577   \n",
       "1        0.044412        0.043456        0.042508        0.041572   \n",
       "2        0.030187        0.028583        0.026958        0.025314   \n",
       "3        0.053011        0.052767        0.052529        0.052299   \n",
       "4        0.040344        0.039823        0.039379        0.039017   \n",
       "\n",
       "   trx_1_2_ifft_7          ...            trx_4_2_ifft_1992  \\\n",
       "0        0.053996          ...                     0.030439   \n",
       "1        0.040651          ...                     0.036359   \n",
       "2        0.023656          ...                     0.031202   \n",
       "3        0.052078          ...                     0.035503   \n",
       "4        0.038745          ...                     0.034995   \n",
       "\n",
       "   trx_4_2_ifft_1993  trx_4_2_ifft_1994  trx_4_2_ifft_1995  trx_4_2_ifft_1996  \\\n",
       "0           0.030293           0.030121           0.029925           0.029705   \n",
       "1           0.036123           0.035864           0.035581           0.035275   \n",
       "2           0.030878           0.030531           0.030161           0.029768   \n",
       "3           0.035381           0.035234           0.035061           0.034861   \n",
       "4           0.034670           0.034319           0.033942           0.033540   \n",
       "\n",
       "   trx_4_2_ifft_1997  trx_4_2_ifft_1998  trx_4_2_ifft_1999    trx_4_2_ts  \\\n",
       "0           0.029460           0.029193           0.028902  1.488963e+12   \n",
       "1           0.034946           0.034596           0.034225  1.488963e+12   \n",
       "2           0.029353           0.028916           0.028459  1.488963e+12   \n",
       "3           0.034637           0.034387           0.034113  1.488963e+12   \n",
       "4           0.033112           0.032661           0.032187  1.488963e+12   \n",
       "\n",
       "                  target  \n",
       "0  Empty_0.0,0.0_0.0,0.0  \n",
       "1  Empty_0.0,0.0_0.0,0.0  \n",
       "2  Empty_0.0,0.0_0.0,0.0  \n",
       "3  Empty_0.0,0.0_0.0,0.0  \n",
       "4  Empty_0.0,0.0_0.0,0.0  \n",
       "\n",
       "[5 rows x 12009 columns]"
      ]
     },
     "execution_count": 19,
     "metadata": {},
     "output_type": "execute_result"
    }
   ],
   "source": [
    "df1.head(5)"
   ]
  },
  {
   "cell_type": "code",
   "execution_count": 106,
   "metadata": {
    "collapsed": false
   },
   "outputs": [
    {
     "name": "stdout",
     "output_type": "stream",
     "text": [
      "{'trx_1_2_ifft': 2000, 'trx_2_1_ifft': 2000, 'trx_3_1_ifft': 2000, 'trx_3_2_ifft': 2000, 'trx_4_1_ifft': 2000, 'trx_4_2_ifft': 2000}\n",
      "Sum of measure columns: 12000\n",
      "# of other columns: 9\n"
     ]
    }
   ],
   "source": [
    "snd_rcvs = [(1,2), (2,1), (3,1), (3,2), (4,1), (4,2)] # Tuple of sender receiver combinations\n",
    "col_counts = {}\n",
    "\n",
    "for snd,rcv in snd_rcvs:\n",
    "    col_counts['trx_{}_{}_ifft'.format(snd, rcv)] = len([i for i, word in enumerate(list(df1.columns)) if word.startswith('trx_{}_{}_ifft'.format(snd, rcv))])\n",
    "print(col_counts)\n",
    "print(\"Sum of measure columns: %i\" % sum(col_counts.values()))\n",
    "print(\"# of other columns: %i\" % (len(df1.columns) - sum(col_counts.values())))"
   ]
  },
  {
   "cell_type": "code",
   "execution_count": 108,
   "metadata": {
    "collapsed": false
   },
   "outputs": [
    {
     "data": {
      "text/plain": [
       "['index',\n",
       " 'Timestamp',\n",
       " 'trx_1_2_ts',\n",
       " 'trx_2_1_ts',\n",
       " 'trx_3_1_ts',\n",
       " 'trx_3_2_ts',\n",
       " 'trx_4_1_ts',\n",
       " 'trx_4_2_ts',\n",
       " 'target']"
      ]
     },
     "execution_count": 108,
     "metadata": {},
     "output_type": "execute_result"
    }
   ],
   "source": [
    "[col for col in df1.columns if 'ifft' not in col]"
   ]
  },
  {
   "cell_type": "code",
   "execution_count": 115,
   "metadata": {
    "collapsed": false
   },
   "outputs": [
    {
     "name": "stdout",
     "output_type": "stream",
     "text": [
      "['Empty_0.0,0.0_0.0,0.0' 'Standing_1.0,1.0_1.0,1.0' 'Step_1.0,1.0_1.0,2.0'\n",
      " 'Standing_1.0,2.0_1.0,2.0' 'Step_1.0,2.0_2.0,2.0'\n",
      " 'Standing_2.0,2.0_2.0,2.0' 'Step_2.0,2.0_2.0,1.0'\n",
      " 'Standing_2.0,1.0_2.0,1.0' 'Step_2.0,1.0_1.0,1.0'\n",
      " 'Walking_0.0,0.0_0.0,0.0']\n",
      "# Unique value3s in target: 10\n"
     ]
    }
   ],
   "source": [
    "print(df1['target'].unique())\n",
    "print(\"# Unique values in target: %i\" % len(df1['target'].unique()))"
   ]
  },
  {
   "cell_type": "code",
   "execution_count": null,
   "metadata": {
    "collapsed": true
   },
   "outputs": [],
   "source": []
  }
 ],
 "metadata": {
  "kernelspec": {
   "display_name": "Python 3",
   "language": "python",
   "name": "python3"
  },
  "language_info": {
   "codemirror_mode": {
    "name": "ipython",
    "version": 3
   },
   "file_extension": ".py",
   "mimetype": "text/x-python",
   "name": "python",
   "nbconvert_exporter": "python",
   "pygments_lexer": "ipython3",
   "version": "3.6.0"
  }
 },
 "nbformat": 4,
 "nbformat_minor": 2
}
