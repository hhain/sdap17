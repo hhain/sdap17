{
 "cells": [
  {
   "cell_type": "code",
   "execution_count": null,
   "metadata": {},
   "outputs": [],
   "source": [
    "import pandas as pd\n",
    "import numpy as np\n",
    "import matplotlib.pyplot as plt\n",
    "import seaborn as sns\n",
    "\n",
    "from evaluation import *\n",
    "from filters import *\n",
    "from utility import *\n",
    "from features import *"
   ]
  },
  {
   "cell_type": "markdown",
   "metadata": {},
   "source": [
    "## Öffnen von Hdf mittels pandas"
   ]
  },
  {
   "cell_type": "code",
   "execution_count": null,
   "metadata": {
    "collapsed": true
   },
   "outputs": [],
   "source": [
    "# TODO hdf = "
   ]
  },
  {
   "cell_type": "markdown",
   "metadata": {},
   "source": [
    "## Beispiel Erkenner"
   ]
  },
  {
   "cell_type": "markdown",
   "metadata": {},
   "source": [
    "### datensätze vorbereiten"
   ]
  },
  {
   "cell_type": "code",
   "execution_count": null,
   "metadata": {},
   "outputs": [],
   "source": [
    "# generate datasets\n",
    "tst = ['1','2','3']\n",
    "tst_ds = []\n",
    "\n",
    "for t in tst:\n",
    "\n",
    "    df_tst = hdf.get('/x1/t'+t+'/trx_1_4')\n",
    "    lst = df_tst.columns[df_tst.columns.str.contains('_ifft_')]\n",
    "    \n",
    "    #df_tst_cl,_ = distortion_filter(df_tst_cl)\n",
    "    \n",
    "    groups = get_trx_groups(df_tst)\n",
    "    df_std = rf_grouped(df_tst, groups=groups, fn=rf_std_single, label='target')\n",
    "    df_mean = rf_grouped(df_tst, groups=groups, fn=rf_mean_single)\n",
    "    \n",
    "    df_all = pd.concat( [df_std, df_mean], axis=1 )\n",
    "    \n",
    "    df_all = cf_std_window(df_all, window=4, label='target')\n",
    "    \n",
    "    df_tst_sum = generate_class_label_presence(df_all, state_variable='target')\n",
    "    \n",
    "    # remove index column\n",
    "    df_tst_sum = df_tst_sum[df_tst_sum.columns.values[~df_tst_sum.columns.str.contains('index')].tolist()]\n",
    "    print('Columns in Dataset:',t)\n",
    "    print(df_tst_sum.columns)\n",
    "    \n",
    "\n",
    "    tst_ds.append(df_tst_sum.copy())\n",
    "    "
   ]
  },
  {
   "cell_type": "markdown",
   "metadata": {},
   "source": [
    "### validierung hold-out"
   ]
  },
  {
   "cell_type": "code",
   "execution_count": null,
   "metadata": {
    "scrolled": false
   },
   "outputs": [],
   "source": [
    "# holdout validation\n",
    "print(hold_out_val(tst_ds, target='target', include_self=False, cl='rf', verbose=False, random_state=1))"
   ]
  },
  {
   "cell_type": "markdown",
   "metadata": {},
   "source": [
    "## Schließen von HDF Store"
   ]
  },
  {
   "cell_type": "code",
   "execution_count": null,
   "metadata": {
    "collapsed": true
   },
   "outputs": [],
   "source": [
    "# TODO"
   ]
  }
 ],
 "metadata": {
  "kernelspec": {
   "display_name": "py35",
   "language": "python",
   "name": "py35"
  },
  "language_info": {
   "codemirror_mode": {
    "name": "ipython",
    "version": 3
   },
   "file_extension": ".py",
   "mimetype": "text/x-python",
   "name": "python",
   "nbconvert_exporter": "python",
   "pygments_lexer": "ipython3",
   "version": "3.5.3"
  }
 },
 "nbformat": 4,
 "nbformat_minor": 2
}
