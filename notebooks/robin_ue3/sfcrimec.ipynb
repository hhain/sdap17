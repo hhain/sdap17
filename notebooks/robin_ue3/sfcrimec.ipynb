{
 "cells": [
  {
   "cell_type": "markdown",
   "metadata": {},
   "source": [
    "# Kaggle: San Francisco Crime Classification\n",
    "## Improvement as part of sdap17 excercise 3"
   ]
  },
  {
   "cell_type": "code",
   "execution_count": 1,
   "metadata": {
    "collapsed": false
   },
   "outputs": [],
   "source": [
    "import pandas as pd\n",
    "import numpy as np\n",
    "import pprint\n",
    "import requests"
   ]
  },
  {
   "cell_type": "markdown",
   "metadata": {},
   "source": [
    "## Exploration of the training data set"
   ]
  },
  {
   "cell_type": "code",
   "execution_count": 3,
   "metadata": {
    "collapsed": false
   },
   "outputs": [],
   "source": [
    "train_data = pd.read_csv(\"../../data/raw/train.csv\")\n",
    "train_data['Dates'] = pd.to_datetime(train_data['Dates'])"
   ]
  },
  {
   "cell_type": "code",
   "execution_count": 4,
   "metadata": {
    "collapsed": false
   },
   "outputs": [
    {
     "data": {
      "text/plain": [
       "878049"
      ]
     },
     "execution_count": 4,
     "metadata": {},
     "output_type": "execute_result"
    }
   ],
   "source": [
    "len(train_data)"
   ]
  },
  {
   "cell_type": "code",
   "execution_count": 5,
   "metadata": {
    "collapsed": false
   },
   "outputs": [
    {
     "data": {
      "text/html": [
       "<div>\n",
       "<table border=\"1\" class=\"dataframe\">\n",
       "  <thead>\n",
       "    <tr style=\"text-align: right;\">\n",
       "      <th></th>\n",
       "      <th>Dates</th>\n",
       "      <th>Category</th>\n",
       "      <th>Descript</th>\n",
       "      <th>DayOfWeek</th>\n",
       "      <th>PdDistrict</th>\n",
       "      <th>Resolution</th>\n",
       "      <th>Address</th>\n",
       "      <th>X</th>\n",
       "      <th>Y</th>\n",
       "    </tr>\n",
       "  </thead>\n",
       "  <tbody>\n",
       "    <tr>\n",
       "      <th>0</th>\n",
       "      <td>2015-05-13 23:53:00</td>\n",
       "      <td>WARRANTS</td>\n",
       "      <td>WARRANT ARREST</td>\n",
       "      <td>Wednesday</td>\n",
       "      <td>NORTHERN</td>\n",
       "      <td>ARREST, BOOKED</td>\n",
       "      <td>OAK ST / LAGUNA ST</td>\n",
       "      <td>-122.425892</td>\n",
       "      <td>37.774599</td>\n",
       "    </tr>\n",
       "    <tr>\n",
       "      <th>1</th>\n",
       "      <td>2015-05-13 23:53:00</td>\n",
       "      <td>OTHER OFFENSES</td>\n",
       "      <td>TRAFFIC VIOLATION ARREST</td>\n",
       "      <td>Wednesday</td>\n",
       "      <td>NORTHERN</td>\n",
       "      <td>ARREST, BOOKED</td>\n",
       "      <td>OAK ST / LAGUNA ST</td>\n",
       "      <td>-122.425892</td>\n",
       "      <td>37.774599</td>\n",
       "    </tr>\n",
       "    <tr>\n",
       "      <th>2</th>\n",
       "      <td>2015-05-13 23:33:00</td>\n",
       "      <td>OTHER OFFENSES</td>\n",
       "      <td>TRAFFIC VIOLATION ARREST</td>\n",
       "      <td>Wednesday</td>\n",
       "      <td>NORTHERN</td>\n",
       "      <td>ARREST, BOOKED</td>\n",
       "      <td>VANNESS AV / GREENWICH ST</td>\n",
       "      <td>-122.424363</td>\n",
       "      <td>37.800414</td>\n",
       "    </tr>\n",
       "    <tr>\n",
       "      <th>3</th>\n",
       "      <td>2015-05-13 23:30:00</td>\n",
       "      <td>LARCENY/THEFT</td>\n",
       "      <td>GRAND THEFT FROM LOCKED AUTO</td>\n",
       "      <td>Wednesday</td>\n",
       "      <td>NORTHERN</td>\n",
       "      <td>NONE</td>\n",
       "      <td>1500 Block of LOMBARD ST</td>\n",
       "      <td>-122.426995</td>\n",
       "      <td>37.800873</td>\n",
       "    </tr>\n",
       "    <tr>\n",
       "      <th>4</th>\n",
       "      <td>2015-05-13 23:30:00</td>\n",
       "      <td>LARCENY/THEFT</td>\n",
       "      <td>GRAND THEFT FROM LOCKED AUTO</td>\n",
       "      <td>Wednesday</td>\n",
       "      <td>PARK</td>\n",
       "      <td>NONE</td>\n",
       "      <td>100 Block of BRODERICK ST</td>\n",
       "      <td>-122.438738</td>\n",
       "      <td>37.771541</td>\n",
       "    </tr>\n",
       "  </tbody>\n",
       "</table>\n",
       "</div>"
      ],
      "text/plain": [
       "                Dates        Category                      Descript  \\\n",
       "0 2015-05-13 23:53:00        WARRANTS                WARRANT ARREST   \n",
       "1 2015-05-13 23:53:00  OTHER OFFENSES      TRAFFIC VIOLATION ARREST   \n",
       "2 2015-05-13 23:33:00  OTHER OFFENSES      TRAFFIC VIOLATION ARREST   \n",
       "3 2015-05-13 23:30:00   LARCENY/THEFT  GRAND THEFT FROM LOCKED AUTO   \n",
       "4 2015-05-13 23:30:00   LARCENY/THEFT  GRAND THEFT FROM LOCKED AUTO   \n",
       "\n",
       "   DayOfWeek PdDistrict      Resolution                    Address  \\\n",
       "0  Wednesday   NORTHERN  ARREST, BOOKED         OAK ST / LAGUNA ST   \n",
       "1  Wednesday   NORTHERN  ARREST, BOOKED         OAK ST / LAGUNA ST   \n",
       "2  Wednesday   NORTHERN  ARREST, BOOKED  VANNESS AV / GREENWICH ST   \n",
       "3  Wednesday   NORTHERN            NONE   1500 Block of LOMBARD ST   \n",
       "4  Wednesday       PARK            NONE  100 Block of BRODERICK ST   \n",
       "\n",
       "            X          Y  \n",
       "0 -122.425892  37.774599  \n",
       "1 -122.425892  37.774599  \n",
       "2 -122.424363  37.800414  \n",
       "3 -122.426995  37.800873  \n",
       "4 -122.438738  37.771541  "
      ]
     },
     "execution_count": 5,
     "metadata": {},
     "output_type": "execute_result"
    }
   ],
   "source": [
    "train_data.head()"
   ]
  },
  {
   "cell_type": "code",
   "execution_count": 6,
   "metadata": {
    "collapsed": false
   },
   "outputs": [
    {
     "name": "stdout",
     "output_type": "stream",
     "text": [
      "(\"Crimes: ['WARRANTS' 'OTHER OFFENSES' 'LARCENY/THEFT' 'VEHICLE THEFT' \"\n",
      " \"'VANDALISM'\\n\"\n",
      " \" 'NON-CRIMINAL' 'ROBBERY' 'ASSAULT' 'WEAPON LAWS' 'BURGLARY'\\n\"\n",
      " \" 'SUSPICIOUS OCC' 'DRUNKENNESS' 'FORGERY/COUNTERFEITING' 'DRUG/NARCOTIC'\\n\"\n",
      " \" 'STOLEN PROPERTY' 'SECONDARY CODES' 'TRESPASS' 'MISSING PERSON' 'FRAUD'\\n\"\n",
      " \" 'KIDNAPPING' 'RUNAWAY' 'DRIVING UNDER THE INFLUENCE'\\n\"\n",
      " \" 'SEX OFFENSES FORCIBLE' 'PROSTITUTION' 'DISORDERLY CONDUCT' 'ARSON'\\n\"\n",
      " \" 'FAMILY OFFENSES' 'LIQUOR LAWS' 'BRIBERY' 'EMBEZZLEMENT' 'SUICIDE'\\n\"\n",
      " \" 'LOITERING' 'SEX OFFENSES NON FORCIBLE' 'EXTORTION' 'GAMBLING'\\n\"\n",
      " \" 'BAD CHECKS' 'TREA' 'RECOVERED VEHICLE' 'PORNOGRAPHY/OBSCENE MAT'], #39\")\n"
     ]
    }
   ],
   "source": [
    "crimes = train_data['Category'].unique()\n",
    "pprint.pprint(\"Crimes: {}, #{}\".format(crimes, len(crimes)), indent=2)"
   ]
  },
  {
   "cell_type": "code",
   "execution_count": 7,
   "metadata": {
    "collapsed": false,
    "scrolled": true
   },
   "outputs": [
    {
     "data": {
      "text/plain": [
       "LARCENY/THEFT                  174900\n",
       "OTHER OFFENSES                 126182\n",
       "NON-CRIMINAL                    92304\n",
       "ASSAULT                         76876\n",
       "DRUG/NARCOTIC                   53971\n",
       "VEHICLE THEFT                   53781\n",
       "VANDALISM                       44725\n",
       "WARRANTS                        42214\n",
       "BURGLARY                        36755\n",
       "SUSPICIOUS OCC                  31414\n",
       "MISSING PERSON                  25989\n",
       "ROBBERY                         23000\n",
       "FRAUD                           16679\n",
       "FORGERY/COUNTERFEITING          10609\n",
       "SECONDARY CODES                  9985\n",
       "WEAPON LAWS                      8555\n",
       "PROSTITUTION                     7484\n",
       "TRESPASS                         7326\n",
       "STOLEN PROPERTY                  4540\n",
       "SEX OFFENSES FORCIBLE            4388\n",
       "DISORDERLY CONDUCT               4320\n",
       "DRUNKENNESS                      4280\n",
       "RECOVERED VEHICLE                3138\n",
       "KIDNAPPING                       2341\n",
       "DRIVING UNDER THE INFLUENCE      2268\n",
       "RUNAWAY                          1946\n",
       "LIQUOR LAWS                      1903\n",
       "ARSON                            1513\n",
       "LOITERING                        1225\n",
       "EMBEZZLEMENT                     1166\n",
       "SUICIDE                           508\n",
       "FAMILY OFFENSES                   491\n",
       "BAD CHECKS                        406\n",
       "BRIBERY                           289\n",
       "EXTORTION                         256\n",
       "SEX OFFENSES NON FORCIBLE         148\n",
       "GAMBLING                          146\n",
       "PORNOGRAPHY/OBSCENE MAT            22\n",
       "TREA                                6\n",
       "Name: Category, dtype: int64"
      ]
     },
     "execution_count": 7,
     "metadata": {},
     "output_type": "execute_result"
    }
   ],
   "source": [
    "train_data['Category'].value_counts()"
   ]
  },
  {
   "cell_type": "markdown",
   "metadata": {},
   "source": [
    "Generiere zeitbasierte Features wie in Präsentation vorgestellt."
   ]
  },
  {
   "cell_type": "code",
   "execution_count": 48,
   "metadata": {
    "collapsed": false
   },
   "outputs": [],
   "source": [
    "def get_halfhour(minute):\n",
    "    if minute < 30:\n",
    "        return 0\n",
    "    else:\n",
    "        return 1\n",
    "\n",
    "def get_daynight(hour):\n",
    "    if 5 < hour and hour < 23:\n",
    "        return 0\n",
    "    else:\n",
    "        return 1\n",
    "    \n",
    "def generate_time_features(times):\n",
    "    minute_series = pd.Series([x.minute for x in times], name='minute')\n",
    "    halfhour_series = pd.Series([get_halfhour(x.minute) for x in times], name='halfhour')\n",
    "    hour_series = pd.Series([x.hour for x in times], name='hour')\n",
    "    daynight_series = pd.Series([get_daynight(x.hour) for x in times], name='day_night')\n",
    "    day_series = pd.Series([x.day for x in times], name='day')\n",
    "    month_series = pd.Series([x.month for x in times], name='month')\n",
    "    year_series = pd.Series([x.year for x in times], name='year')\n",
    "    \n",
    "    time_features = pd.concat([minute_series, halfhour_series, hour_series, daynight_series, day_series, month_series, year_series], axis=1)\n",
    "    return time_features"
   ]
  },
  {
   "cell_type": "code",
   "execution_count": 49,
   "metadata": {
    "collapsed": false
   },
   "outputs": [],
   "source": [
    "times = train_data[\"Dates\"]"
   ]
  },
  {
   "cell_type": "code",
   "execution_count": 50,
   "metadata": {
    "collapsed": false
   },
   "outputs": [
    {
     "name": "stdout",
     "output_type": "stream",
     "text": [
      "success\n"
     ]
    }
   ],
   "source": [
    "time_features = generate_time_features(times)\n",
    "print(\"success\")"
   ]
  },
  {
   "cell_type": "code",
   "execution_count": 51,
   "metadata": {
    "collapsed": false
   },
   "outputs": [
    {
     "name": "stdout",
     "output_type": "stream",
     "text": [
      "        minute  halfhour  hour  day_night  day  month  year\n",
      "0           53         1    23          1   13      5  2015\n",
      "1           53         1    23          1   13      5  2015\n",
      "2           33         1    23          1   13      5  2015\n",
      "3           30         1    23          1   13      5  2015\n",
      "4           30         1    23          1   13      5  2015\n",
      "5           30         1    23          1   13      5  2015\n",
      "6           30         1    23          1   13      5  2015\n",
      "7           30         1    23          1   13      5  2015\n",
      "8            0         0    23          1   13      5  2015\n",
      "9            0         0    23          1   13      5  2015\n",
      "10          58         1    22          0   13      5  2015\n",
      "11          30         1    22          0   13      5  2015\n",
      "12          30         1    22          0   13      5  2015\n",
      "13           6         0    22          0   13      5  2015\n",
      "14           0         0    22          0   13      5  2015\n",
      "15           0         0    22          0   13      5  2015\n",
      "16           0         0    22          0   13      5  2015\n",
      "17          55         1    21          0   13      5  2015\n",
      "18          40         1    21          0   13      5  2015\n",
      "19          30         1    21          0   13      5  2015\n",
      "20          30         1    21          0   13      5  2015\n",
      "21          17         0    21          0   13      5  2015\n",
      "22          11         0    21          0   13      5  2015\n",
      "23          11         0    21          0   13      5  2015\n",
      "24          10         0    21          0   13      5  2015\n",
      "25           0         0    21          0   13      5  2015\n",
      "26           0         0    21          0   13      5  2015\n",
      "27           0         0    21          0   13      5  2015\n",
      "28           0         0    21          0   13      5  2015\n",
      "29          56         1    20          0   13      5  2015\n",
      "...        ...       ...   ...        ...  ...    ...   ...\n",
      "878019      37         1     2          1    6      1  2003\n",
      "878020      32         1     2          1    6      1  2003\n",
      "878021      24         0     2          1    6      1  2003\n",
      "878022      16         0     2          1    6      1  2003\n",
      "878023      15         0     2          1    6      1  2003\n",
      "878024       9         0     2          1    6      1  2003\n",
      "878025       6         0     2          1    6      1  2003\n",
      "878026       6         0     2          1    6      1  2003\n",
      "878027       0         0     2          1    6      1  2003\n",
      "878028       0         0     2          1    6      1  2003\n",
      "878029      54         1     1          1    6      1  2003\n",
      "878030      54         1     1          1    6      1  2003\n",
      "878031      50         1     1          1    6      1  2003\n",
      "878032      36         1     1          1    6      1  2003\n",
      "878033      30         1     1          1    6      1  2003\n",
      "878034      30         1     1          1    6      1  2003\n",
      "878035      55         1     0          1    6      1  2003\n",
      "878036      55         1     0          1    6      1  2003\n",
      "878037      55         1     0          1    6      1  2003\n",
      "878038      42         1     0          1    6      1  2003\n",
      "878039      40         1     0          1    6      1  2003\n",
      "878040      33         1     0          1    6      1  2003\n",
      "878041      31         1     0          1    6      1  2003\n",
      "878042      20         0     0          1    6      1  2003\n",
      "878043      20         0     0          1    6      1  2003\n",
      "878044      15         0     0          1    6      1  2003\n",
      "878045       1         0     0          1    6      1  2003\n",
      "878046       1         0     0          1    6      1  2003\n",
      "878047       1         0     0          1    6      1  2003\n",
      "878048       1         0     0          1    6      1  2003\n",
      "\n",
      "[878049 rows x 7 columns]\n"
     ]
    }
   ],
   "source": [
    "print(time_features)"
   ]
  }
 ],
 "metadata": {
  "kernelspec": {
   "display_name": "Python 3",
   "language": "python",
   "name": "python3"
  },
  "language_info": {
   "codemirror_mode": {
    "name": "ipython",
    "version": 3
   },
   "file_extension": ".py",
   "mimetype": "text/x-python",
   "name": "python",
   "nbconvert_exporter": "python",
   "pygments_lexer": "ipython3",
   "version": "3.6.0"
  }
 },
 "nbformat": 4,
 "nbformat_minor": 2
}
