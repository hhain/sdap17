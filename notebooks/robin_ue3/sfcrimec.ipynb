{
 "cells": [
  {
   "cell_type": "markdown",
   "metadata": {},
   "source": [
    "# Kaggle: San Francisco Crime Classification\n",
    "## Improvement as part of sdap17 excercise 3"
   ]
  },
  {
   "cell_type": "code",
   "execution_count": 1,
   "metadata": {
    "collapsed": false
   },
   "outputs": [],
   "source": [
    "import pandas as pd\n",
    "import numpy as np\n",
    "import pprint\n",
    "import requests"
   ]
  },
  {
   "cell_type": "markdown",
   "metadata": {},
   "source": [
    "## Exploration of the training data set"
   ]
  },
  {
   "cell_type": "code",
   "execution_count": 2,
   "metadata": {
    "collapsed": false
   },
   "outputs": [],
   "source": [
    "train_data = pd.read_csv(\"../../data/raw/train.csv\")\n",
    "train_data['Dates'] = pd.to_datetime(train_data['Dates'])\n",
    "\n",
    "test_data = pd.read_csv(\"../../data/raw/test.csv\")\n",
    "test_data['Dates'] = pd.to_datetime(test_data['Dates'])"
   ]
  },
  {
   "cell_type": "code",
   "execution_count": 3,
   "metadata": {
    "collapsed": false
   },
   "outputs": [
    {
     "data": {
      "text/plain": [
       "878049"
      ]
     },
     "execution_count": 3,
     "metadata": {},
     "output_type": "execute_result"
    }
   ],
   "source": [
    "len(train_data)"
   ]
  },
  {
   "cell_type": "code",
   "execution_count": 4,
   "metadata": {
    "collapsed": false
   },
   "outputs": [
    {
     "data": {
      "text/html": [
       "<div>\n",
       "<table border=\"1\" class=\"dataframe\">\n",
       "  <thead>\n",
       "    <tr style=\"text-align: right;\">\n",
       "      <th></th>\n",
       "      <th>Dates</th>\n",
       "      <th>Category</th>\n",
       "      <th>Descript</th>\n",
       "      <th>DayOfWeek</th>\n",
       "      <th>PdDistrict</th>\n",
       "      <th>Resolution</th>\n",
       "      <th>Address</th>\n",
       "      <th>X</th>\n",
       "      <th>Y</th>\n",
       "    </tr>\n",
       "  </thead>\n",
       "  <tbody>\n",
       "    <tr>\n",
       "      <th>0</th>\n",
       "      <td>2015-05-13 23:53:00</td>\n",
       "      <td>WARRANTS</td>\n",
       "      <td>WARRANT ARREST</td>\n",
       "      <td>Wednesday</td>\n",
       "      <td>NORTHERN</td>\n",
       "      <td>ARREST, BOOKED</td>\n",
       "      <td>OAK ST / LAGUNA ST</td>\n",
       "      <td>-122.425892</td>\n",
       "      <td>37.774599</td>\n",
       "    </tr>\n",
       "    <tr>\n",
       "      <th>1</th>\n",
       "      <td>2015-05-13 23:53:00</td>\n",
       "      <td>OTHER OFFENSES</td>\n",
       "      <td>TRAFFIC VIOLATION ARREST</td>\n",
       "      <td>Wednesday</td>\n",
       "      <td>NORTHERN</td>\n",
       "      <td>ARREST, BOOKED</td>\n",
       "      <td>OAK ST / LAGUNA ST</td>\n",
       "      <td>-122.425892</td>\n",
       "      <td>37.774599</td>\n",
       "    </tr>\n",
       "    <tr>\n",
       "      <th>2</th>\n",
       "      <td>2015-05-13 23:33:00</td>\n",
       "      <td>OTHER OFFENSES</td>\n",
       "      <td>TRAFFIC VIOLATION ARREST</td>\n",
       "      <td>Wednesday</td>\n",
       "      <td>NORTHERN</td>\n",
       "      <td>ARREST, BOOKED</td>\n",
       "      <td>VANNESS AV / GREENWICH ST</td>\n",
       "      <td>-122.424363</td>\n",
       "      <td>37.800414</td>\n",
       "    </tr>\n",
       "    <tr>\n",
       "      <th>3</th>\n",
       "      <td>2015-05-13 23:30:00</td>\n",
       "      <td>LARCENY/THEFT</td>\n",
       "      <td>GRAND THEFT FROM LOCKED AUTO</td>\n",
       "      <td>Wednesday</td>\n",
       "      <td>NORTHERN</td>\n",
       "      <td>NONE</td>\n",
       "      <td>1500 Block of LOMBARD ST</td>\n",
       "      <td>-122.426995</td>\n",
       "      <td>37.800873</td>\n",
       "    </tr>\n",
       "    <tr>\n",
       "      <th>4</th>\n",
       "      <td>2015-05-13 23:30:00</td>\n",
       "      <td>LARCENY/THEFT</td>\n",
       "      <td>GRAND THEFT FROM LOCKED AUTO</td>\n",
       "      <td>Wednesday</td>\n",
       "      <td>PARK</td>\n",
       "      <td>NONE</td>\n",
       "      <td>100 Block of BRODERICK ST</td>\n",
       "      <td>-122.438738</td>\n",
       "      <td>37.771541</td>\n",
       "    </tr>\n",
       "  </tbody>\n",
       "</table>\n",
       "</div>"
      ],
      "text/plain": [
       "                Dates        Category                      Descript  \\\n",
       "0 2015-05-13 23:53:00        WARRANTS                WARRANT ARREST   \n",
       "1 2015-05-13 23:53:00  OTHER OFFENSES      TRAFFIC VIOLATION ARREST   \n",
       "2 2015-05-13 23:33:00  OTHER OFFENSES      TRAFFIC VIOLATION ARREST   \n",
       "3 2015-05-13 23:30:00   LARCENY/THEFT  GRAND THEFT FROM LOCKED AUTO   \n",
       "4 2015-05-13 23:30:00   LARCENY/THEFT  GRAND THEFT FROM LOCKED AUTO   \n",
       "\n",
       "   DayOfWeek PdDistrict      Resolution                    Address  \\\n",
       "0  Wednesday   NORTHERN  ARREST, BOOKED         OAK ST / LAGUNA ST   \n",
       "1  Wednesday   NORTHERN  ARREST, BOOKED         OAK ST / LAGUNA ST   \n",
       "2  Wednesday   NORTHERN  ARREST, BOOKED  VANNESS AV / GREENWICH ST   \n",
       "3  Wednesday   NORTHERN            NONE   1500 Block of LOMBARD ST   \n",
       "4  Wednesday       PARK            NONE  100 Block of BRODERICK ST   \n",
       "\n",
       "            X          Y  \n",
       "0 -122.425892  37.774599  \n",
       "1 -122.425892  37.774599  \n",
       "2 -122.424363  37.800414  \n",
       "3 -122.426995  37.800873  \n",
       "4 -122.438738  37.771541  "
      ]
     },
     "execution_count": 4,
     "metadata": {},
     "output_type": "execute_result"
    }
   ],
   "source": [
    "train_data.head()"
   ]
  },
  {
   "cell_type": "code",
   "execution_count": 5,
   "metadata": {
    "collapsed": false
   },
   "outputs": [
    {
     "name": "stdout",
     "output_type": "stream",
     "text": [
      "(\"Crimes: ['WARRANTS' 'OTHER OFFENSES' 'LARCENY/THEFT' 'VEHICLE THEFT' \"\n",
      " \"'VANDALISM'\\n\"\n",
      " \" 'NON-CRIMINAL' 'ROBBERY' 'ASSAULT' 'WEAPON LAWS' 'BURGLARY'\\n\"\n",
      " \" 'SUSPICIOUS OCC' 'DRUNKENNESS' 'FORGERY/COUNTERFEITING' 'DRUG/NARCOTIC'\\n\"\n",
      " \" 'STOLEN PROPERTY' 'SECONDARY CODES' 'TRESPASS' 'MISSING PERSON' 'FRAUD'\\n\"\n",
      " \" 'KIDNAPPING' 'RUNAWAY' 'DRIVING UNDER THE INFLUENCE'\\n\"\n",
      " \" 'SEX OFFENSES FORCIBLE' 'PROSTITUTION' 'DISORDERLY CONDUCT' 'ARSON'\\n\"\n",
      " \" 'FAMILY OFFENSES' 'LIQUOR LAWS' 'BRIBERY' 'EMBEZZLEMENT' 'SUICIDE'\\n\"\n",
      " \" 'LOITERING' 'SEX OFFENSES NON FORCIBLE' 'EXTORTION' 'GAMBLING'\\n\"\n",
      " \" 'BAD CHECKS' 'TREA' 'RECOVERED VEHICLE' 'PORNOGRAPHY/OBSCENE MAT'], #39\")\n"
     ]
    }
   ],
   "source": [
    "crimes = train_data['Category'].unique()\n",
    "pprint.pprint(\"Crimes: {}, #{}\".format(crimes, len(crimes)), indent=2)"
   ]
  },
  {
   "cell_type": "code",
   "execution_count": 6,
   "metadata": {
    "collapsed": false,
    "scrolled": true
   },
   "outputs": [
    {
     "data": {
      "text/plain": [
       "LARCENY/THEFT                  174900\n",
       "OTHER OFFENSES                 126182\n",
       "NON-CRIMINAL                    92304\n",
       "ASSAULT                         76876\n",
       "DRUG/NARCOTIC                   53971\n",
       "VEHICLE THEFT                   53781\n",
       "VANDALISM                       44725\n",
       "WARRANTS                        42214\n",
       "BURGLARY                        36755\n",
       "SUSPICIOUS OCC                  31414\n",
       "MISSING PERSON                  25989\n",
       "ROBBERY                         23000\n",
       "FRAUD                           16679\n",
       "FORGERY/COUNTERFEITING          10609\n",
       "SECONDARY CODES                  9985\n",
       "WEAPON LAWS                      8555\n",
       "PROSTITUTION                     7484\n",
       "TRESPASS                         7326\n",
       "STOLEN PROPERTY                  4540\n",
       "SEX OFFENSES FORCIBLE            4388\n",
       "DISORDERLY CONDUCT               4320\n",
       "DRUNKENNESS                      4280\n",
       "RECOVERED VEHICLE                3138\n",
       "KIDNAPPING                       2341\n",
       "DRIVING UNDER THE INFLUENCE      2268\n",
       "RUNAWAY                          1946\n",
       "LIQUOR LAWS                      1903\n",
       "ARSON                            1513\n",
       "LOITERING                        1225\n",
       "EMBEZZLEMENT                     1166\n",
       "SUICIDE                           508\n",
       "FAMILY OFFENSES                   491\n",
       "BAD CHECKS                        406\n",
       "BRIBERY                           289\n",
       "EXTORTION                         256\n",
       "SEX OFFENSES NON FORCIBLE         148\n",
       "GAMBLING                          146\n",
       "PORNOGRAPHY/OBSCENE MAT            22\n",
       "TREA                                6\n",
       "Name: Category, dtype: int64"
      ]
     },
     "execution_count": 6,
     "metadata": {},
     "output_type": "execute_result"
    }
   ],
   "source": [
    "train_data['Category'].value_counts()"
   ]
  },
  {
   "cell_type": "markdown",
   "metadata": {},
   "source": [
    "# Generate time based features"
   ]
  },
  {
   "cell_type": "code",
   "execution_count": 7,
   "metadata": {
    "collapsed": false
   },
   "outputs": [],
   "source": [
    "def get_halfhour(minute):\n",
    "    if minute < 30:\n",
    "        return 0\n",
    "    else:\n",
    "        return 1\n",
    "\n",
    "def get_daynight(hour):\n",
    "    if 5 < hour and hour < 23:\n",
    "        return 0\n",
    "    else:\n",
    "        return 1\n",
    "    \n",
    "def generate_time_features(times):\n",
    "    minute_series = pd.Series([x.minute for x in times], name='minute')\n",
    "    halfhour_series = pd.Series([get_halfhour(x.minute) for x in times], name='halfhour')\n",
    "    hour_series = pd.Series([x.hour for x in times], name='hour')\n",
    "    daynight_series = pd.Series([get_daynight(x.hour) for x in times], name='day_night')\n",
    "    day_series = pd.Series([x.day for x in times], name='day')\n",
    "    month_series = pd.Series([x.month for x in times], name='month')\n",
    "    year_series = pd.Series([x.year for x in times], name='year')\n",
    "    \n",
    "    time_features = pd.concat([minute_series, halfhour_series, hour_series, daynight_series, day_series, month_series, year_series], axis=1)\n",
    "    return time_features"
   ]
  },
  {
   "cell_type": "code",
   "execution_count": 8,
   "metadata": {
    "collapsed": false
   },
   "outputs": [],
   "source": [
    "times = train_data[\"Dates\"]"
   ]
  },
  {
   "cell_type": "code",
   "execution_count": 9,
   "metadata": {
    "collapsed": false
   },
   "outputs": [
    {
     "name": "stdout",
     "output_type": "stream",
     "text": [
      "success\n"
     ]
    }
   ],
   "source": [
    "time_features = generate_time_features(times)\n",
    "print(\"success\")"
   ]
  },
  {
   "cell_type": "code",
   "execution_count": 10,
   "metadata": {
    "collapsed": false,
    "scrolled": true
   },
   "outputs": [
    {
     "name": "stdout",
     "output_type": "stream",
     "text": [
      "        minute  halfhour  hour  day_night  day  month  year\n",
      "0           53         1    23          1   13      5  2015\n",
      "1           53         1    23          1   13      5  2015\n",
      "2           33         1    23          1   13      5  2015\n",
      "3           30         1    23          1   13      5  2015\n",
      "4           30         1    23          1   13      5  2015\n",
      "5           30         1    23          1   13      5  2015\n",
      "6           30         1    23          1   13      5  2015\n",
      "7           30         1    23          1   13      5  2015\n",
      "8            0         0    23          1   13      5  2015\n",
      "9            0         0    23          1   13      5  2015\n",
      "10          58         1    22          0   13      5  2015\n",
      "11          30         1    22          0   13      5  2015\n",
      "12          30         1    22          0   13      5  2015\n",
      "13           6         0    22          0   13      5  2015\n",
      "14           0         0    22          0   13      5  2015\n",
      "15           0         0    22          0   13      5  2015\n",
      "16           0         0    22          0   13      5  2015\n",
      "17          55         1    21          0   13      5  2015\n",
      "18          40         1    21          0   13      5  2015\n",
      "19          30         1    21          0   13      5  2015\n",
      "20          30         1    21          0   13      5  2015\n",
      "21          17         0    21          0   13      5  2015\n",
      "22          11         0    21          0   13      5  2015\n",
      "23          11         0    21          0   13      5  2015\n",
      "24          10         0    21          0   13      5  2015\n",
      "25           0         0    21          0   13      5  2015\n",
      "26           0         0    21          0   13      5  2015\n",
      "27           0         0    21          0   13      5  2015\n",
      "28           0         0    21          0   13      5  2015\n",
      "29          56         1    20          0   13      5  2015\n",
      "...        ...       ...   ...        ...  ...    ...   ...\n",
      "878019      37         1     2          1    6      1  2003\n",
      "878020      32         1     2          1    6      1  2003\n",
      "878021      24         0     2          1    6      1  2003\n",
      "878022      16         0     2          1    6      1  2003\n",
      "878023      15         0     2          1    6      1  2003\n",
      "878024       9         0     2          1    6      1  2003\n",
      "878025       6         0     2          1    6      1  2003\n",
      "878026       6         0     2          1    6      1  2003\n",
      "878027       0         0     2          1    6      1  2003\n",
      "878028       0         0     2          1    6      1  2003\n",
      "878029      54         1     1          1    6      1  2003\n",
      "878030      54         1     1          1    6      1  2003\n",
      "878031      50         1     1          1    6      1  2003\n",
      "878032      36         1     1          1    6      1  2003\n",
      "878033      30         1     1          1    6      1  2003\n",
      "878034      30         1     1          1    6      1  2003\n",
      "878035      55         1     0          1    6      1  2003\n",
      "878036      55         1     0          1    6      1  2003\n",
      "878037      55         1     0          1    6      1  2003\n",
      "878038      42         1     0          1    6      1  2003\n",
      "878039      40         1     0          1    6      1  2003\n",
      "878040      33         1     0          1    6      1  2003\n",
      "878041      31         1     0          1    6      1  2003\n",
      "878042      20         0     0          1    6      1  2003\n",
      "878043      20         0     0          1    6      1  2003\n",
      "878044      15         0     0          1    6      1  2003\n",
      "878045       1         0     0          1    6      1  2003\n",
      "878046       1         0     0          1    6      1  2003\n",
      "878047       1         0     0          1    6      1  2003\n",
      "878048       1         0     0          1    6      1  2003\n",
      "\n",
      "[878049 rows x 7 columns]\n"
     ]
    }
   ],
   "source": [
    "print(time_features)"
   ]
  },
  {
   "cell_type": "markdown",
   "metadata": {},
   "source": [
    "## Create grid for sector analysis"
   ]
  },
  {
   "cell_type": "code",
   "execution_count": 11,
   "metadata": {
    "collapsed": true
   },
   "outputs": [],
   "source": [
    "# outliers are all at position X = -120.5, Y = 90\n",
    "\n",
    "def filter_x(x):\n",
    "    if (x > -122):\n",
    "        return -122.4483364\n",
    "    else: \n",
    "        return x\n",
    "    \n",
    "def filter_y(y):\n",
    "    if y > 37.9:\n",
    "        return 37.7563690\n",
    "    else:\n",
    "        return y"
   ]
  },
  {
   "cell_type": "code",
   "execution_count": 13,
   "metadata": {
    "collapsed": false
   },
   "outputs": [
    {
     "name": "stdout",
     "output_type": "stream",
     "text": [
      "Min_X_train:  -122.513642064\n",
      "Max_X_train:  -122.364937494\n",
      "Min_Y_train:  37.7078790224\n",
      "Max_Y_train:  37.8199754923\n"
     ]
    }
   ],
   "source": [
    "# take a look at the positions of our train data.\n",
    "min_x_train = min([filter_x(x) for x in train_data[\"X\"]]) \n",
    "max_x_train = max([filter_x(x) for x in train_data[\"X\"]]) \n",
    "min_y_train = min([filter_y(y) for y in train_data[\"Y\"]]) \n",
    "max_y_train = max([filter_y(y) for y in train_data[\"Y\"]]) \n",
    "print(\"Min_X_train: \", min_x_train)\n",
    "print(\"Max_X_train: \", max_x_train)\n",
    "print(\"Min_Y_train: \", min_y_train)\n",
    "print(\"Max_Y_train: \", max_y_train)"
   ]
  },
  {
   "cell_type": "code",
   "execution_count": 14,
   "metadata": {
    "collapsed": false
   },
   "outputs": [
    {
     "name": "stdout",
     "output_type": "stream",
     "text": [
      "Min_X_test:  -122.513642064\n",
      "Max_X_test:  -122.364750704\n",
      "Min_Y_test:  37.7078790224\n",
      "Max_Y_test:  37.8206208381\n"
     ]
    }
   ],
   "source": [
    "# take a look at the positions of our test data.\n",
    "min_x_test = min([filter_x(x) for x in test_data[\"X\"]]) \n",
    "max_x_test = max([filter_x(x) for x in test_data[\"X\"]]) \n",
    "min_y_test = min([filter_y(y) for y in test_data[\"Y\"]]) \n",
    "max_y_test = max([filter_y(y) for y in test_data[\"Y\"]]) \n",
    "print(\"Min_X_test: \", min_x_test)\n",
    "print(\"Max_X_test: \", max_x_test)\n",
    "print(\"Min_Y_test: \", min_y_test)\n",
    "print(\"Max_Y_test: \", max_y_test) "
   ]
  },
  {
   "cell_type": "code",
   "execution_count": 15,
   "metadata": {
    "collapsed": true
   },
   "outputs": [],
   "source": [
    "# Final coordinates for grid that covers San Francisco.\n",
    "min_x = -122.53\n",
    "max_x = -122.35\n",
    "min_y = 37.65\n",
    "max_y = 37.84\n",
    "\n",
    "dif_x = max_x - min_x\n",
    "dif_y = max_y - min_y"
   ]
  },
  {
   "cell_type": "code",
   "execution_count": 16,
   "metadata": {
    "collapsed": false
   },
   "outputs": [],
   "source": [
    "# grid functions\n",
    "\n",
    "def get_subregion_pos(subregion_id, min_x, min_y, dif_x, dif_y, x_sections, y_sections):\n",
    "    x = subregion_id % x_sections\n",
    "    x_pos = ((x + 1/2) / x_sections) * dif_x + min_x\n",
    "    y = subregion_id // x_sections\n",
    "    y_pos = ((y + 1/2) / y_sections) * dif_y + min_y\n",
    "    return (x_pos, y_pos)\n",
    "\n",
    "def get_subregion(pos_x, pos_y, min_x, min_y, dif_x, dif_y, x_sections, y_sections):\n",
    "    x = pos_x - min_x\n",
    "    x_sec = int(x_sections * x / dif_x)\n",
    "    y = pos_y - min_y\n",
    "    y_sec = int(y_sections * y / dif_y)\n",
    "    return x_sec + x_sections * y_sec\n",
    "    \n",
    "def get_subregion_series(data, min_x, min_y, dif_x, dif_y):\n",
    "    X_SECTIONS = 20\n",
    "    Y_SECTIONS = 20\n",
    "    subregion_list = []\n",
    "    for i in range(len(data)):\n",
    "        pos_x = data[\"X\"][i]\n",
    "        pos_y = data[\"Y\"][i]\n",
    "        subregion = get_subregion(pos_x, pos_y, min_x, min_y, dif_x, dif_y, X_SECTIONS, Y_SECTIONS)\n",
    "        subregion_list.append(subregion)\n",
    "    return pd.Series(subregion_list, name='subregion')"
   ]
  },
  {
   "cell_type": "code",
   "execution_count": 17,
   "metadata": {
    "collapsed": false
   },
   "outputs": [],
   "source": [
    "subregion_series = get_subregion_series(train_data, min_x, min_y, dif_x, dif_y)"
   ]
  },
  {
   "cell_type": "code",
   "execution_count": 19,
   "metadata": {
    "collapsed": false,
    "scrolled": true
   },
   "outputs": [
    {
     "data": {
      "text/plain": [
       "293       74546\n",
       "292       53553\n",
       "273       44346\n",
       "272       43574\n",
       "274       39301\n",
       "252       30585\n",
       "232       25023\n",
       "294       18081\n",
       "313       17712\n",
       "251       16341\n",
       "212       15606\n",
       "271       15095\n",
       "270       12688\n",
       "175       12615\n",
       "233       12410\n",
       "314       12002\n",
       "253       11647\n",
       "291       11593\n",
       "290       11016\n",
       "195       10852\n",
       "248       10356\n",
       "230        9019\n",
       "176        8894\n",
       "332        8889\n",
       "213        8388\n",
       "269        8049\n",
       "250        7950\n",
       "150        7929\n",
       "310        7860\n",
       "311        7708\n",
       "          ...  \n",
       "285        1053\n",
       "131        1050\n",
       "286         965\n",
       "188         951\n",
       "244         785\n",
       "135         769\n",
       "243         757\n",
       "228         752\n",
       "284         751\n",
       "152         696\n",
       "124         696\n",
       "189         577\n",
       "156         569\n",
       "163         553\n",
       "125         433\n",
       "261         384\n",
       "143         263\n",
       "216         232\n",
       "162         195\n",
       "326         110\n",
       "144         108\n",
       "357          93\n",
       "110425       67\n",
       "236          54\n",
       "136          50\n",
       "197          49\n",
       "283          43\n",
       "123          24\n",
       "328           2\n",
       "142           1\n",
       "Name: subregion, dtype: int64"
      ]
     },
     "execution_count": 19,
     "metadata": {},
     "output_type": "execute_result"
    }
   ],
   "source": [
    "# look at the numer of crimes in each subregion\n",
    "subregion_series.value_counts()"
   ]
  },
  {
   "cell_type": "code",
   "execution_count": 21,
   "metadata": {
    "collapsed": false
   },
   "outputs": [
    {
     "data": {
      "text/plain": [
       "(-122.40849999999999, 37.78775)"
      ]
     },
     "execution_count": 21,
     "metadata": {},
     "output_type": "execute_result"
    }
   ],
   "source": [
    "# highest crime rate around union square\n",
    "get_subregion_pos(293, min_x, min_y, dif_x, dif_y, 20, 20)"
   ]
  },
  {
   "cell_type": "markdown",
   "metadata": {},
   "source": [
    "## police station one hot encoding"
   ]
  },
  {
   "cell_type": "code",
   "execution_count": 22,
   "metadata": {
    "collapsed": false
   },
   "outputs": [],
   "source": [
    "# generate one hot encoding of police destricts\n",
    "one_hot_police_destricts = pd.get_dummies(train_data[\"PdDistrict\"])"
   ]
  },
  {
   "cell_type": "code",
   "execution_count": 23,
   "metadata": {
    "collapsed": false,
    "scrolled": true
   },
   "outputs": [
    {
     "data": {
      "text/plain": [
       "0         1\n",
       "1         1\n",
       "2         1\n",
       "3         1\n",
       "4         0\n",
       "5         0\n",
       "6         0\n",
       "7         0\n",
       "8         0\n",
       "9         0\n",
       "10        0\n",
       "11        0\n",
       "12        0\n",
       "13        1\n",
       "14        0\n",
       "15        0\n",
       "16        0\n",
       "17        0\n",
       "18        0\n",
       "19        0\n",
       "20        0\n",
       "21        0\n",
       "22        0\n",
       "23        0\n",
       "24        1\n",
       "25        0\n",
       "26        1\n",
       "27        0\n",
       "28        0\n",
       "29        0\n",
       "         ..\n",
       "878019    0\n",
       "878020    1\n",
       "878021    1\n",
       "878022    0\n",
       "878023    0\n",
       "878024    0\n",
       "878025    0\n",
       "878026    0\n",
       "878027    0\n",
       "878028    0\n",
       "878029    0\n",
       "878030    0\n",
       "878031    0\n",
       "878032    1\n",
       "878033    0\n",
       "878034    0\n",
       "878035    1\n",
       "878036    1\n",
       "878037    1\n",
       "878038    0\n",
       "878039    1\n",
       "878040    0\n",
       "878041    0\n",
       "878042    0\n",
       "878043    0\n",
       "878044    0\n",
       "878045    0\n",
       "878046    0\n",
       "878047    0\n",
       "878048    0\n",
       "Name: NORTHERN, dtype: uint8"
      ]
     },
     "execution_count": 23,
     "metadata": {},
     "output_type": "execute_result"
    }
   ],
   "source": [
    "one_hot_police_destricts[\"NORTHERN\"]"
   ]
  },
  {
   "cell_type": "markdown",
   "metadata": {},
   "source": [
    "## crime distribution per subregion"
   ]
  },
  {
   "cell_type": "code",
   "execution_count": 49,
   "metadata": {
    "collapsed": true
   },
   "outputs": [],
   "source": [
    "regions = subregion_series.unique()\n",
    "crimes = train_data['Category'].unique()"
   ]
  },
  {
   "cell_type": "code",
   "execution_count": 50,
   "metadata": {
    "collapsed": false
   },
   "outputs": [],
   "source": [
    "# count crimes in each region\n",
    "criminal_activity_local = {}\n",
    "criminal_activity_overall = train_data[\"Category\"].value_counts()\n",
    "for r in regions:\n",
    "    criminal_activity_local[r] = {}\n",
    "    criminal_activity_local[r][\"N\"] = 0\n",
    "    for c in crimes:\n",
    "        criminal_activity_local[r][c] = 0\n",
    "for i, r in enumerate(subregion_series):\n",
    "    criminal_activity_local[r][train_data[\"Category\"][i]] += 1\n",
    "    criminal_activity_local[r][\"N\"] += 1"
   ]
  },
  {
   "cell_type": "code",
   "execution_count": 51,
   "metadata": {
    "collapsed": false,
    "scrolled": true
   },
   "outputs": [
    {
     "data": {
      "text/plain": [
       "{'ARSON': 59,\n",
       " 'ASSAULT': 6036,\n",
       " 'BAD CHECKS': 25,\n",
       " 'BRIBERY': 12,\n",
       " 'BURGLARY': 2636,\n",
       " 'DISORDERLY CONDUCT': 443,\n",
       " 'DRIVING UNDER THE INFLUENCE': 86,\n",
       " 'DRUG/NARCOTIC': 7971,\n",
       " 'DRUNKENNESS': 461,\n",
       " 'EMBEZZLEMENT': 171,\n",
       " 'EXTORTION': 15,\n",
       " 'FAMILY OFFENSES': 28,\n",
       " 'FORGERY/COUNTERFEITING': 831,\n",
       " 'FRAUD': 1863,\n",
       " 'GAMBLING': 10,\n",
       " 'KIDNAPPING': 144,\n",
       " 'LARCENY/THEFT': 19036,\n",
       " 'LIQUOR LAWS': 169,\n",
       " 'LOITERING': 97,\n",
       " 'MISSING PERSON': 773,\n",
       " 'N': 74546,\n",
       " 'NON-CRIMINAL': 8364,\n",
       " 'OTHER OFFENSES': 9644,\n",
       " 'PORNOGRAPHY/OBSCENE MAT': 2,\n",
       " 'PROSTITUTION': 149,\n",
       " 'RECOVERED VEHICLE': 106,\n",
       " 'ROBBERY': 1961,\n",
       " 'RUNAWAY': 9,\n",
       " 'SECONDARY CODES': 512,\n",
       " 'SEX OFFENSES FORCIBLE': 307,\n",
       " 'SEX OFFENSES NON FORCIBLE': 3,\n",
       " 'STOLEN PROPERTY': 405,\n",
       " 'SUICIDE': 33,\n",
       " 'SUSPICIOUS OCC': 2099,\n",
       " 'TREA': 0,\n",
       " 'TRESPASS': 1123,\n",
       " 'VANDALISM': 1721,\n",
       " 'VEHICLE THEFT': 1375,\n",
       " 'WARRANTS': 5322,\n",
       " 'WEAPON LAWS': 545}"
      ]
     },
     "execution_count": 51,
     "metadata": {},
     "output_type": "execute_result"
    }
   ],
   "source": [
    "# union square\n",
    "criminal_activity_local[293]"
   ]
  },
  {
   "cell_type": "code",
   "execution_count": 52,
   "metadata": {
    "collapsed": false,
    "scrolled": true
   },
   "outputs": [
    {
     "name": "stdout",
     "output_type": "stream",
     "text": [
      "WARRANTS 0.0480770435363\n",
      "OTHER OFFENSES 0.143707241851\n",
      "LARCENY/THEFT 0.199191616869\n",
      "VEHICLE THEFT 0.0612505680207\n",
      "VANDALISM 0.0509367928214\n",
      "NON-CRIMINAL 0.105123973719\n",
      "ROBBERY 0.0261944378958\n",
      "ASSAULT 0.0875532003339\n",
      "WEAPON LAWS 0.00974319200865\n",
      "BURGLARY 0.0418598506461\n",
      "SUSPICIOUS OCC 0.0357770466113\n",
      "DRUNKENNESS 0.00487444322583\n",
      "FORGERY/COUNTERFEITING 0.0120824692016\n",
      "DRUG/NARCOTIC 0.0614669568555\n",
      "STOLEN PROPERTY 0.00517055426292\n",
      "SECONDARY CODES 0.0113718027126\n",
      "TRESPASS 0.00834349791413\n",
      "MISSING PERSON 0.0295985759337\n",
      "FRAUD 0.0189955230289\n",
      "KIDNAPPING 0.00266613822235\n",
      "RUNAWAY 0.00221627722371\n",
      "DRIVING UNDER THE INFLUENCE 0.00258299935425\n",
      "SEX OFFENSES FORCIBLE 0.00499744319508\n",
      "PROSTITUTION 0.00852344231358\n",
      "DISORDERLY CONDUCT 0.00491999877\n",
      "ARSON 0.0017231384581\n",
      "FAMILY OFFENSES 0.000559194304646\n",
      "LIQUOR LAWS 0.00216730501373\n",
      "BRIBERY 0.000329138806604\n",
      "EMBEZZLEMENT 0.00132794411246\n",
      "SUICIDE 0.000578555410917\n",
      "LOITERING 0.0013951385401\n",
      "SEX OFFENSES NON FORCIBLE 0.000168555513417\n",
      "EXTORTION 0.000291555482667\n",
      "GAMBLING 0.000166277736208\n",
      "BAD CHECKS 0.000462388773292\n",
      "TREA 6.833331625e-06\n",
      "RECOVERED VEHICLE 0.00357383243988\n",
      "PORNOGRAPHY/OBSCENE MAT 2.50555492917e-05\n"
     ]
    }
   ],
   "source": [
    "# global crime distribution\n",
    "distribution_global = {}\n",
    "for c in crimes:\n",
    "    distribution_global[c] = criminal_activity_overall[c] / len(train_data)\n",
    "for c in distribution_global:\n",
    "    print(c, distribution_global[c])"
   ]
  },
  {
   "cell_type": "code",
   "execution_count": 65,
   "metadata": {
    "collapsed": false
   },
   "outputs": [],
   "source": [
    "# local crime distribution\n",
    "distribution_local = {}\n",
    "sufficient_n = 500\n",
    "for r in regions:\n",
    "    distribution_local[r] = {}\n",
    "    for c in crimes: \n",
    "        if criminal_activity_local[r][\"N\"] >= sufficient_n:\n",
    "            distribution_local[r][c] = criminal_activity_local[r][c] / criminal_activity_local[r][\"N\"]\n",
    "        else:\n",
    "            distribution_local[r][c] = distribution_global[c]"
   ]
  },
  {
   "cell_type": "code",
   "execution_count": 72,
   "metadata": {
    "collapsed": false
   },
   "outputs": [
    {
     "name": "stdout",
     "output_type": "stream",
     "text": [
      "{'WARRANTS': 0.07139216054516674, 'OTHER OFFENSES': 0.1293697850991334, 'LARCENY/THEFT': 0.2553591071284844, 'VEHICLE THEFT': 0.018444986987900088, 'VANDALISM': 0.02308641644085531, 'NON-CRIMINAL': 0.11219917903039733, 'ROBBERY': 0.026305905078743325, 'ASSAULT': 0.08097013924288358, 'WEAPON LAWS': 0.007310922115204035, 'BURGLARY': 0.03536071687280337, 'SUSPICIOUS OCC': 0.028157111045528937, 'DRUNKENNESS': 0.00618410109194323, 'FORGERY/COUNTERFEITING': 0.011147479408687254, 'DRUG/NARCOTIC': 0.10692726638585572, 'STOLEN PROPERTY': 0.005432887076436026, 'SECONDARY CODES': 0.006868242427494433, 'TRESPASS': 0.015064523918117672, 'MISSING PERSON': 0.01036943632119765, 'FRAUD': 0.02499128055160572, 'KIDNAPPING': 0.0019316931827328093, 'RUNAWAY': 0.00012073082392080058, 'DRIVING UNDER THE INFLUENCE': 0.0011536500952432055, 'SEX OFFENSES FORCIBLE': 0.004118262549298419, 'PROSTITUTION': 0.0019987658626888097, 'DISORDERLY CONDUCT': 0.005942639444101628, 'ARSON': 0.0007914576234808038, 'FAMILY OFFENSES': 0.0003756070077536018, 'LIQUOR LAWS': 0.002267056582512811, 'BRIBERY': 0.00016097443189440078, 'EMBEZZLEMENT': 0.002293885654495211, 'SUICIDE': 0.0004426796877096021, 'LOITERING': 0.0013012099911464063, 'SEX OFFENSES NON FORCIBLE': 4.0243607973600196e-05, 'EXTORTION': 0.00020121803986800096, 'GAMBLING': 0.00013414535991200063, 'BAD CHECKS': 0.0003353633997800016, 'TREA': 0.0, 'RECOVERED VEHICLE': 0.0014219408150672069, 'PORNOGRAPHY/OBSCENE MAT': 2.682907198240013e-05}\n"
     ]
    }
   ],
   "source": [
    "# crime distribution at union square\n",
    "print(distribution_local[293])"
   ]
  },
  {
   "cell_type": "code",
   "execution_count": 70,
   "metadata": {
    "collapsed": false,
    "scrolled": true
   },
   "outputs": [
    {
     "data": {
      "text/plain": [
       "{'ARSON': 0.0007914576234808038,\n",
       " 'ASSAULT': 0.08097013924288358,\n",
       " 'BAD CHECKS': 0.0003353633997800016,\n",
       " 'BRIBERY': 0.00016097443189440078,\n",
       " 'BURGLARY': 0.03536071687280337,\n",
       " 'DISORDERLY CONDUCT': 0.005942639444101628,\n",
       " 'DRIVING UNDER THE INFLUENCE': 0.0011536500952432055,\n",
       " 'DRUG/NARCOTIC': 0.10692726638585572,\n",
       " 'DRUNKENNESS': 0.00618410109194323,\n",
       " 'EMBEZZLEMENT': 0.002293885654495211,\n",
       " 'EXTORTION': 0.00020121803986800096,\n",
       " 'FAMILY OFFENSES': 0.0003756070077536018,\n",
       " 'FORGERY/COUNTERFEITING': 0.011147479408687254,\n",
       " 'FRAUD': 0.02499128055160572,\n",
       " 'GAMBLING': 0.00013414535991200063,\n",
       " 'KIDNAPPING': 0.0019316931827328093,\n",
       " 'LARCENY/THEFT': 0.2553591071284844,\n",
       " 'LIQUOR LAWS': 0.002267056582512811,\n",
       " 'LOITERING': 0.0013012099911464063,\n",
       " 'MISSING PERSON': 0.01036943632119765,\n",
       " 'NON-CRIMINAL': 0.11219917903039733,\n",
       " 'OTHER OFFENSES': 0.1293697850991334,\n",
       " 'PORNOGRAPHY/OBSCENE MAT': 2.682907198240013e-05,\n",
       " 'PROSTITUTION': 0.0019987658626888097,\n",
       " 'RECOVERED VEHICLE': 0.0014219408150672069,\n",
       " 'ROBBERY': 0.026305905078743325,\n",
       " 'RUNAWAY': 0.00012073082392080058,\n",
       " 'SECONDARY CODES': 0.006868242427494433,\n",
       " 'SEX OFFENSES FORCIBLE': 0.004118262549298419,\n",
       " 'SEX OFFENSES NON FORCIBLE': 4.0243607973600196e-05,\n",
       " 'STOLEN PROPERTY': 0.005432887076436026,\n",
       " 'SUICIDE': 0.0004426796877096021,\n",
       " 'SUSPICIOUS OCC': 0.028157111045528937,\n",
       " 'TREA': 0.0,\n",
       " 'TRESPASS': 0.015064523918117672,\n",
       " 'VANDALISM': 0.02308641644085531,\n",
       " 'VEHICLE THEFT': 0.018444986987900088,\n",
       " 'WARRANTS': 0.07139216054516674,\n",
       " 'WEAPON LAWS': 0.007310922115204035}"
      ]
     },
     "execution_count": 70,
     "metadata": {},
     "output_type": "execute_result"
    }
   ],
   "source": [
    "sum(distribution_local[293]"
   ]
  },
  {
   "cell_type": "code",
   "execution_count": null,
   "metadata": {
    "collapsed": true
   },
   "outputs": [],
   "source": []
  }
 ],
 "metadata": {
  "kernelspec": {
   "display_name": "Python 3",
   "language": "python",
   "name": "python3"
  },
  "language_info": {
   "codemirror_mode": {
    "name": "ipython",
    "version": 3
   },
   "file_extension": ".py",
   "mimetype": "text/x-python",
   "name": "python",
   "nbconvert_exporter": "python",
   "pygments_lexer": "ipython3",
   "version": "3.6.0"
  }
 },
 "nbformat": 4,
 "nbformat_minor": 2
}
