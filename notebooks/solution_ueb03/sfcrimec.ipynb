{
 "cells": [
  {
   "cell_type": "markdown",
   "metadata": {},
   "source": [
    "# Kaggle: San Francisco Crime Classification"
   ]
  },
  {
   "cell_type": "markdown",
   "metadata": {
    "collapsed": true
   },
   "source": [
    "In this excercise we will create an improved version of last years model."
   ]
  },
  {
   "cell_type": "markdown",
   "metadata": {},
   "source": [
    "Please be aware that the following packages and additional assets have to be installed in the conda environment to guarantue proper execution of this notebook\n",
    "- gmaps\n",
    "- osmnx"
   ]
  },
  {
   "cell_type": "code",
   "execution_count": 1,
   "metadata": {
    "collapsed": true
   },
   "outputs": [],
   "source": [
    "# imports\n",
    "import math\n",
    "import datetime\n",
    "import matplotlib\n",
    "import matplotlib.pyplot as plt\n",
    "import osmnx as ox\n",
    "import pandas as pd\n",
    "import numpy as np\n",
    "import pprint\n",
    "import requests\n",
    "import gmaps\n",
    "import seaborn as sns\n",
    "import os\n",
    "import numpy as np\n",
    "from sklearn.model_selection import train_test_split\n",
    "from sklearn.metrics import log_loss, accuracy_score\n",
    "from sklearn.neural_network import MLPClassifier"
   ]
  },
  {
   "cell_type": "markdown",
   "metadata": {},
   "source": [
    "## Data exploration"
   ]
  },
  {
   "cell_type": "markdown",
   "metadata": {},
   "source": [
    "First we load and explore the dataset a little."
   ]
  },
  {
   "cell_type": "code",
   "execution_count": 2,
   "metadata": {
    "collapsed": true
   },
   "outputs": [],
   "source": [
    "train_data = pd.read_csv(\"../../data/raw/train.csv\")\n",
    "train_data['Dates'] = pd.to_datetime(train_data['Dates'])\n",
    "\n",
    "test_data = pd.read_csv(\"../../data/raw/test.csv\")\n",
    "test_data['Dates'] = pd.to_datetime(test_data['Dates'])"
   ]
  },
  {
   "cell_type": "code",
   "execution_count": 3,
   "metadata": {},
   "outputs": [
    {
     "name": "stdout",
     "output_type": "stream",
     "text": [
      "Size of train_data:  878049\n",
      "Size of test_data:  884262\n"
     ]
    }
   ],
   "source": [
    "print(\"Size of train_data: \", len(train_data))\n",
    "print(\"Size of test_data: \", len(test_data))"
   ]
  },
  {
   "cell_type": "code",
   "execution_count": 4,
   "metadata": {},
   "outputs": [
    {
     "data": {
      "text/html": [
       "<div>\n",
       "<table border=\"1\" class=\"dataframe\">\n",
       "  <thead>\n",
       "    <tr style=\"text-align: right;\">\n",
       "      <th></th>\n",
       "      <th>Dates</th>\n",
       "      <th>Category</th>\n",
       "      <th>Descript</th>\n",
       "      <th>DayOfWeek</th>\n",
       "      <th>PdDistrict</th>\n",
       "      <th>Resolution</th>\n",
       "      <th>Address</th>\n",
       "      <th>X</th>\n",
       "      <th>Y</th>\n",
       "    </tr>\n",
       "  </thead>\n",
       "  <tbody>\n",
       "    <tr>\n",
       "      <th>0</th>\n",
       "      <td>2015-05-13 23:53:00</td>\n",
       "      <td>WARRANTS</td>\n",
       "      <td>WARRANT ARREST</td>\n",
       "      <td>Wednesday</td>\n",
       "      <td>NORTHERN</td>\n",
       "      <td>ARREST, BOOKED</td>\n",
       "      <td>OAK ST / LAGUNA ST</td>\n",
       "      <td>-122.425892</td>\n",
       "      <td>37.774599</td>\n",
       "    </tr>\n",
       "    <tr>\n",
       "      <th>1</th>\n",
       "      <td>2015-05-13 23:53:00</td>\n",
       "      <td>OTHER OFFENSES</td>\n",
       "      <td>TRAFFIC VIOLATION ARREST</td>\n",
       "      <td>Wednesday</td>\n",
       "      <td>NORTHERN</td>\n",
       "      <td>ARREST, BOOKED</td>\n",
       "      <td>OAK ST / LAGUNA ST</td>\n",
       "      <td>-122.425892</td>\n",
       "      <td>37.774599</td>\n",
       "    </tr>\n",
       "    <tr>\n",
       "      <th>2</th>\n",
       "      <td>2015-05-13 23:33:00</td>\n",
       "      <td>OTHER OFFENSES</td>\n",
       "      <td>TRAFFIC VIOLATION ARREST</td>\n",
       "      <td>Wednesday</td>\n",
       "      <td>NORTHERN</td>\n",
       "      <td>ARREST, BOOKED</td>\n",
       "      <td>VANNESS AV / GREENWICH ST</td>\n",
       "      <td>-122.424363</td>\n",
       "      <td>37.800414</td>\n",
       "    </tr>\n",
       "    <tr>\n",
       "      <th>3</th>\n",
       "      <td>2015-05-13 23:30:00</td>\n",
       "      <td>LARCENY/THEFT</td>\n",
       "      <td>GRAND THEFT FROM LOCKED AUTO</td>\n",
       "      <td>Wednesday</td>\n",
       "      <td>NORTHERN</td>\n",
       "      <td>NONE</td>\n",
       "      <td>1500 Block of LOMBARD ST</td>\n",
       "      <td>-122.426995</td>\n",
       "      <td>37.800873</td>\n",
       "    </tr>\n",
       "    <tr>\n",
       "      <th>4</th>\n",
       "      <td>2015-05-13 23:30:00</td>\n",
       "      <td>LARCENY/THEFT</td>\n",
       "      <td>GRAND THEFT FROM LOCKED AUTO</td>\n",
       "      <td>Wednesday</td>\n",
       "      <td>PARK</td>\n",
       "      <td>NONE</td>\n",
       "      <td>100 Block of BRODERICK ST</td>\n",
       "      <td>-122.438738</td>\n",
       "      <td>37.771541</td>\n",
       "    </tr>\n",
       "  </tbody>\n",
       "</table>\n",
       "</div>"
      ],
      "text/plain": [
       "                Dates        Category                      Descript  \\\n",
       "0 2015-05-13 23:53:00        WARRANTS                WARRANT ARREST   \n",
       "1 2015-05-13 23:53:00  OTHER OFFENSES      TRAFFIC VIOLATION ARREST   \n",
       "2 2015-05-13 23:33:00  OTHER OFFENSES      TRAFFIC VIOLATION ARREST   \n",
       "3 2015-05-13 23:30:00   LARCENY/THEFT  GRAND THEFT FROM LOCKED AUTO   \n",
       "4 2015-05-13 23:30:00   LARCENY/THEFT  GRAND THEFT FROM LOCKED AUTO   \n",
       "\n",
       "   DayOfWeek PdDistrict      Resolution                    Address  \\\n",
       "0  Wednesday   NORTHERN  ARREST, BOOKED         OAK ST / LAGUNA ST   \n",
       "1  Wednesday   NORTHERN  ARREST, BOOKED         OAK ST / LAGUNA ST   \n",
       "2  Wednesday   NORTHERN  ARREST, BOOKED  VANNESS AV / GREENWICH ST   \n",
       "3  Wednesday   NORTHERN            NONE   1500 Block of LOMBARD ST   \n",
       "4  Wednesday       PARK            NONE  100 Block of BRODERICK ST   \n",
       "\n",
       "            X          Y  \n",
       "0 -122.425892  37.774599  \n",
       "1 -122.425892  37.774599  \n",
       "2 -122.424363  37.800414  \n",
       "3 -122.426995  37.800873  \n",
       "4 -122.438738  37.771541  "
      ]
     },
     "execution_count": 4,
     "metadata": {},
     "output_type": "execute_result"
    }
   ],
   "source": [
    "train_data.head()"
   ]
  },
  {
   "cell_type": "markdown",
   "metadata": {},
   "source": [
    "There are strong differences in the frequencies in which the different categories of crime occur. Larency/Theft make up most of the commited crimes, whereas other, possibly minor offenses are the second most "
   ]
  },
  {
   "cell_type": "code",
   "execution_count": 5,
   "metadata": {
    "collapsed": true,
    "scrolled": false
   },
   "outputs": [],
   "source": [
    "# visualizing category distribution of the crimes\n",
    "#crimes = train_data['Category'].unique()\n",
    "#print(\"Categories:\", crimes)\n",
    "#train_data['Category'].value_counts(sort=False).plot.bar()\n",
    "#plt.show()"
   ]
  },
  {
   "cell_type": "markdown",
   "metadata": {},
   "source": [
    "Next we take a look at the concentration of criminal activity for 2010-2015 which gives us a hint that crimes are most concentrated around the union square"
   ]
  },
  {
   "cell_type": "code",
   "execution_count": 6,
   "metadata": {
    "collapsed": true
   },
   "outputs": [],
   "source": [
    "# load private google api key\n",
    "file = open(\"./assets/gapi.key\", 'r')\n",
    "key = file.read()\n",
    "file.close()\n",
    "gmaps.configure(api_key=key)"
   ]
  },
  {
   "cell_type": "code",
   "execution_count": 7,
   "metadata": {},
   "outputs": [
    {
     "data": {
      "application/vnd.jupyter.widget-view+json": {
       "model_id": "f319d5ab9c9f48ec9aff9073d43d3298"
      }
     },
     "metadata": {},
     "output_type": "display_data"
    }
   ],
   "source": [
    "# Creating a location subset from the most current crimes (2010-2015) for heatmap visualization\n",
    "import datetime\n",
    "start_date = datetime.date(2010,1,1)\n",
    "end_date = datetime.date(2016,1,1)\n",
    "date_mask = (train_data['Dates'] > start_date) & (train_data['Dates'] <= end_date)\n",
    "location_subset = train_data.loc[date_mask][['Y', 'X']]\n",
    "locations = [tuple(x) for x in location_subset.values]\n",
    "fig = gmaps.figure()\n",
    "fig.add_layer(gmaps.heatmap_layer(locations))\n",
    "fig"
   ]
  },
  {
   "cell_type": "markdown",
   "metadata": {},
   "source": [
    "Next we look up the locations for different crime categories to examine if there are category patterns available in the underlying data"
   ]
  },
  {
   "cell_type": "code",
   "execution_count": 8,
   "metadata": {
    "collapsed": true
   },
   "outputs": [],
   "source": [
    "# Manual Inspection of specific incidents to check if different crime types are locally bounded\n",
    "def draw_category_gmap(category, start_date, end_date):\n",
    "    specific_incidents = train_data.loc[train_data['Category']==category]\n",
    "    date_mask = (specific_incidents['Dates'] > start_date) & (specific_incidents['Dates'] <= end_date)\n",
    "    location_subset = specific_incidents.loc[date_mask][['Y', 'X']]\n",
    "    locations = [tuple(x) for x in location_subset.values]\n",
    "    spec_fig = gmaps.figure()\n",
    "    gmaps.heatmap_layer.max_intensity = 1000\n",
    "    gmaps.heatmap_layer.point_radius = 2\n",
    "    spec_fig.add_layer(gmaps.heatmap_layer(locations))\n",
    "    return spec_fig"
   ]
  },
  {
   "cell_type": "code",
   "execution_count": 9,
   "metadata": {},
   "outputs": [
    {
     "data": {
      "application/vnd.jupyter.widget-view+json": {
       "model_id": "d4a1d66b4a9245ee9c28bb3c37b7c601"
      }
     },
     "metadata": {},
     "output_type": "display_data"
    }
   ],
   "source": [
    "draw_category_gmap('KIDNAPPING', datetime.date(2010,1,1), datetime.date(2016,1,1))"
   ]
  },
  {
   "cell_type": "code",
   "execution_count": 10,
   "metadata": {},
   "outputs": [
    {
     "data": {
      "application/vnd.jupyter.widget-view+json": {
       "model_id": "1919d8b68dc647789146da095c53432f"
      }
     },
     "metadata": {},
     "output_type": "display_data"
    }
   ],
   "source": [
    "draw_category_gmap('WARRANTS', datetime.date(2010,1,1), datetime.date(2016,1,1))   "
   ]
  },
  {
   "cell_type": "code",
   "execution_count": 11,
   "metadata": {},
   "outputs": [
    {
     "data": {
      "application/vnd.jupyter.widget-view+json": {
       "model_id": "20e8b6afe93947b4bdb60deb5f55cee7"
      }
     },
     "metadata": {},
     "output_type": "display_data"
    }
   ],
   "source": [
    "draw_category_gmap('DRUNKENNESS', datetime.date(2010,1,1), datetime.date(2016,1,1))"
   ]
  },
  {
   "cell_type": "markdown",
   "metadata": {},
   "source": [
    "Most crimes are distributed arround the union square and in lesser density distributed over san francisco whereas PROSTITUTION is well contained in two areas"
   ]
  },
  {
   "cell_type": "markdown",
   "metadata": {
    "collapsed": true
   },
   "source": [
    "## Feature extraction"
   ]
  },
  {
   "cell_type": "markdown",
   "metadata": {},
   "source": [
    "In the following we present our different features which we combine for a data preparation method."
   ]
  },
  {
   "cell_type": "markdown",
   "metadata": {},
   "source": [
    "### Time based features\n",
    "First we have some time based features because we assume a correlation between the categorie of crime and time when it is committed."
   ]
  },
  {
   "cell_type": "code",
   "execution_count": 12,
   "metadata": {
    "collapsed": true
   },
   "outputs": [],
   "source": [
    "from pandas.tseries.holiday import USFederalHolidayCalendar as calendar\n",
    "\n",
    "# some functions for time based features\n",
    "first_sixth = datetime.time(23,59,59)\n",
    "second_sixth = datetime.time(3,59,59)\n",
    "third_sixth = datetime.time(7,59,59)\n",
    "fourth_sixth = datetime.time(11,59,59)\n",
    "fifth_sixth = datetime.time(15,59,59)\n",
    "sixth_sixth = datetime.time(19,59,59)\n",
    "\n",
    "cal = calendar()\n",
    "holiday_timetamps = cal.holidays(start='2003-01-01', end='2015-05-13')\n",
    "holidays = []\n",
    "for t in holiday_timetamps:\n",
    "    holidays.append(t.date())\n",
    "holidays = set(holidays)\n",
    "\n",
    "def get_halfhour(minute):\n",
    "    if minute < 30:\n",
    "        return 0\n",
    "    else:\n",
    "        return 1\n",
    "\n",
    "def get_daynight(hour):\n",
    "    if 5 < hour and hour < 23:\n",
    "        return 0\n",
    "    else:\n",
    "        return 1\n",
    "\n",
    "def generate_day_sixths(times):\n",
    "    \"\"\"This function has to be executed on the original datetime features\"\"\"\n",
    "\n",
    "    def day_sixths(dt):\n",
    "        \"\"\"\n",
    "        Mapping time to sixths of a day\n",
    "        \"\"\"\n",
    "        if dt.time() > datetime.time(0,0,0) and dt.time() <= second_sixth:\n",
    "            return 0/6\n",
    "        if dt.time() > second_sixth and dt.time() <= third_sixth:\n",
    "            return 1/6\n",
    "        if dt.time() > third_sixth and dt.time() <= fourth_sixth:\n",
    "            return 2/6\n",
    "        if dt.time() > fourth_sixth and dt.time() <= fifth_sixth:\n",
    "            return 3/6\n",
    "        if dt.time() > fifth_sixth and dt.time() <= sixth_sixth:\n",
    "            return 4/6\n",
    "        if dt.time() > sixth_sixth and dt.time() <= first_sixth:\n",
    "            return 5/6\n",
    "        \n",
    "    return times.map(day_sixths)\n",
    "\n",
    "def get_holiday(day, date):\n",
    "    if day == \"Sunday\" or date in holidays:\n",
    "        return 1\n",
    "    else:\n",
    "        return 0\n",
    "    \n",
    "def generate_time_features(data):\n",
    "    times = data[\"Dates\"]    \n",
    "    days = data[\"DayOfWeek\"]\n",
    "    #perhaps try one hot encoding for some of the series.    \n",
    "    minute_series = pd.Series([x.minute for x in times], name='minute')\n",
    "    # halfhour_series = pd.Series([get_halfhour(x.minute) for x in times], name='halfhour')\n",
    "    # hour_series = pd.Series([x.hour for x in times], name='hour')\n",
    "    daynight_series = pd.Series([get_daynight(x.hour) for x in times], name='day_night')\n",
    "    day_series = pd.Series([x.day for x in times], name='day')\n",
    "    month_series = pd.Series([x.month for x in times], name='month')\n",
    "    year_series = pd.Series([x.year for x in times], name='year')\n",
    "    # sixths = pd.Series(generate_day_sixths(times), name='day_sixths')\n",
    "    day_of_week = pd.get_dummies(days)\n",
    "    is_holiday = pd.Series([get_holiday(days[i], times[i].date()) for i in range(len(times))], name='is_holiday')\n",
    "    minute_one_hot = pd.get_dummies(minute_series)\n",
    "    # better than phase and hour if no one hot encoding is used\n",
    "    rel_time = pd.Series([(x.hour + x.minute / 60) for x in times], name='rel_time')\n",
    "    \n",
    "    time_features = pd.concat([minute_one_hot, rel_time, day_of_week, is_holiday, daynight_series,\n",
    "                               day_series, month_series, year_series], axis=1)\n",
    "    return time_features"
   ]
  },
  {
   "cell_type": "code",
   "execution_count": 13,
   "metadata": {
    "collapsed": true
   },
   "outputs": [],
   "source": [
    "# show the structure of our time based features]\n",
    "#time_features = generate_time_features(data)\n",
    "#time_features['sixths'] = generate_day_sixths(times)\n",
    "#time_features.head()"
   ]
  },
  {
   "cell_type": "markdown",
   "metadata": {},
   "source": [
    "### Assign crimes to cells in a grid"
   ]
  },
  {
   "cell_type": "markdown",
   "metadata": {},
   "source": [
    "Like in the presentation we create a grid which covers San Francisco and calculate the distribution of the different crime categories for each cell. You can see in the heatmap above, that there are certain hot spots for different categories of crimes."
   ]
  },
  {
   "cell_type": "code",
   "execution_count": 14,
   "metadata": {
    "collapsed": true
   },
   "outputs": [],
   "source": [
    "# We define a bounding box arround San Francisco\n",
    "min_x = -122.53\n",
    "max_x = -122.35\n",
    "min_y = 37.65\n",
    "max_y = 37.84\n",
    "\n",
    "dif_x = max_x - min_x\n",
    "dif_y = max_y - min_y"
   ]
  },
  {
   "cell_type": "markdown",
   "metadata": {},
   "source": [
    "We noticed that there a 67 crimes in the training set which were committed outside San Francisco. We notice that these outliers were all committed at the same position (X=-120.5, Y=90), which is right at the geographic North Pole. To deal with them we map all of them in an empty subregion into the sea in the north western corner of San Francisco. "
   ]
  },
  {
   "cell_type": "code",
   "execution_count": 15,
   "metadata": {
    "scrolled": true
   },
   "outputs": [
    {
     "ename": "AssertionError",
     "evalue": "",
     "output_type": "error",
     "traceback": [
      "\u001b[1;31m---------------------------------------------------------------------------\u001b[0m",
      "\u001b[1;31mAssertionError\u001b[0m                            Traceback (most recent call last)",
      "\u001b[1;32m<ipython-input-15-19ff0b6a1f90>\u001b[0m in \u001b[0;36m<module>\u001b[1;34m()\u001b[0m\n\u001b[0;32m      2\u001b[0m \u001b[0mmarker_loc\u001b[0m \u001b[1;33m=\u001b[0m \u001b[1;33m[\u001b[0m\u001b[1;33m(\u001b[0m\u001b[1;36m37.783939\u001b[0m\u001b[1;33m,\u001b[0m\u001b[1;33m-\u001b[0m\u001b[1;36m122.412614\u001b[0m\u001b[1;33m)\u001b[0m\u001b[1;33m]\u001b[0m\u001b[1;33m\u001b[0m\u001b[0m\n\u001b[0;32m      3\u001b[0m \u001b[0mspec_fig\u001b[0m \u001b[1;33m=\u001b[0m \u001b[0mgmaps\u001b[0m\u001b[1;33m.\u001b[0m\u001b[0mfigure\u001b[0m\u001b[1;33m(\u001b[0m\u001b[1;33m)\u001b[0m\u001b[1;33m\u001b[0m\u001b[0m\n\u001b[1;32m----> 4\u001b[1;33m \u001b[0mspec_fig\u001b[0m\u001b[1;33m.\u001b[0m\u001b[0madd_layer\u001b[0m\u001b[1;33m(\u001b[0m\u001b[0mgmaps\u001b[0m\u001b[1;33m.\u001b[0m\u001b[0mmarker_layer\u001b[0m\u001b[1;33m(\u001b[0m\u001b[0mmarker_loc\u001b[0m\u001b[1;33m)\u001b[0m\u001b[1;33m)\u001b[0m\u001b[1;33m\u001b[0m\u001b[0m\n\u001b[0m\u001b[0;32m      5\u001b[0m \u001b[0mspec_fig\u001b[0m\u001b[1;33m\u001b[0m\u001b[0m\n",
      "\u001b[1;32mD:\\Programme\\Anaconda3\\lib\\site-packages\\gmaps\\figure.py\u001b[0m in \u001b[0;36madd_layer\u001b[1;34m(self, layer)\u001b[0m\n\u001b[0;32m     57\u001b[0m                 \u001b[0mCreate\u001b[0m \u001b[0ma\u001b[0m \u001b[0mlayer\u001b[0m \u001b[1;32mwith\u001b[0m \u001b[0mdirections\u001b[0m\u001b[1;33m\u001b[0m\u001b[0m\n\u001b[0;32m     58\u001b[0m         \"\"\"\n\u001b[1;32m---> 59\u001b[1;33m         \u001b[0mself\u001b[0m\u001b[1;33m.\u001b[0m\u001b[0m_map\u001b[0m\u001b[1;33m.\u001b[0m\u001b[0madd_layer\u001b[0m\u001b[1;33m(\u001b[0m\u001b[0mlayer\u001b[0m\u001b[1;33m)\u001b[0m\u001b[1;33m\u001b[0m\u001b[0m\n\u001b[0m\u001b[0;32m     60\u001b[0m \u001b[1;33m\u001b[0m\u001b[0m\n\u001b[0;32m     61\u001b[0m \u001b[1;33m\u001b[0m\u001b[0m\n",
      "\u001b[1;32mD:\\Programme\\Anaconda3\\lib\\site-packages\\gmaps\\maps.py\u001b[0m in \u001b[0;36madd_layer\u001b[1;34m(self, layer)\u001b[0m\n\u001b[0;32m     59\u001b[0m \u001b[1;33m\u001b[0m\u001b[0m\n\u001b[0;32m     60\u001b[0m     \u001b[1;32mdef\u001b[0m \u001b[0madd_layer\u001b[0m\u001b[1;33m(\u001b[0m\u001b[0mself\u001b[0m\u001b[1;33m,\u001b[0m \u001b[0mlayer\u001b[0m\u001b[1;33m)\u001b[0m\u001b[1;33m:\u001b[0m\u001b[1;33m\u001b[0m\u001b[0m\n\u001b[1;32m---> 61\u001b[1;33m         \u001b[0mself\u001b[0m\u001b[1;33m.\u001b[0m\u001b[0mlayers\u001b[0m \u001b[1;33m=\u001b[0m \u001b[0mtuple\u001b[0m\u001b[1;33m(\u001b[0m\u001b[1;33m[\u001b[0m\u001b[0ml\u001b[0m \u001b[1;32mfor\u001b[0m \u001b[0ml\u001b[0m \u001b[1;32min\u001b[0m \u001b[0mself\u001b[0m\u001b[1;33m.\u001b[0m\u001b[0mlayers\u001b[0m\u001b[1;33m]\u001b[0m \u001b[1;33m+\u001b[0m \u001b[1;33m[\u001b[0m\u001b[0mlayer\u001b[0m\u001b[1;33m]\u001b[0m\u001b[1;33m)\u001b[0m\u001b[1;33m\u001b[0m\u001b[0m\n\u001b[0m\u001b[0;32m     62\u001b[0m \u001b[1;33m\u001b[0m\u001b[0m\n\u001b[0;32m     63\u001b[0m     \u001b[1;33m@\u001b[0m\u001b[0mdefault\u001b[0m\u001b[1;33m(\u001b[0m\u001b[1;34m\"layout\"\u001b[0m\u001b[1;33m)\u001b[0m\u001b[1;33m\u001b[0m\u001b[0m\n",
      "\u001b[1;32mD:\\Programme\\Anaconda3\\lib\\site-packages\\traitlets\\traitlets.py\u001b[0m in \u001b[0;36m__set__\u001b[1;34m(self, obj, value)\u001b[0m\n\u001b[0;32m    581\u001b[0m             \u001b[1;32mraise\u001b[0m \u001b[0mTraitError\u001b[0m\u001b[1;33m(\u001b[0m\u001b[1;34m'The \"%s\" trait is read-only.'\u001b[0m \u001b[1;33m%\u001b[0m \u001b[0mself\u001b[0m\u001b[1;33m.\u001b[0m\u001b[0mname\u001b[0m\u001b[1;33m)\u001b[0m\u001b[1;33m\u001b[0m\u001b[0m\n\u001b[0;32m    582\u001b[0m         \u001b[1;32melse\u001b[0m\u001b[1;33m:\u001b[0m\u001b[1;33m\u001b[0m\u001b[0m\n\u001b[1;32m--> 583\u001b[1;33m             \u001b[0mself\u001b[0m\u001b[1;33m.\u001b[0m\u001b[0mset\u001b[0m\u001b[1;33m(\u001b[0m\u001b[0mobj\u001b[0m\u001b[1;33m,\u001b[0m \u001b[0mvalue\u001b[0m\u001b[1;33m)\u001b[0m\u001b[1;33m\u001b[0m\u001b[0m\n\u001b[0m\u001b[0;32m    584\u001b[0m \u001b[1;33m\u001b[0m\u001b[0m\n\u001b[0;32m    585\u001b[0m     \u001b[1;32mdef\u001b[0m \u001b[0m_validate\u001b[0m\u001b[1;33m(\u001b[0m\u001b[0mself\u001b[0m\u001b[1;33m,\u001b[0m \u001b[0mobj\u001b[0m\u001b[1;33m,\u001b[0m \u001b[0mvalue\u001b[0m\u001b[1;33m)\u001b[0m\u001b[1;33m:\u001b[0m\u001b[1;33m\u001b[0m\u001b[0m\n",
      "\u001b[1;32mD:\\Programme\\Anaconda3\\lib\\site-packages\\traitlets\\traitlets.py\u001b[0m in \u001b[0;36mset\u001b[1;34m(self, obj, value)\u001b[0m\n\u001b[0;32m    570\u001b[0m             \u001b[1;31m# we explicitly compare silent to True just in case the equality\u001b[0m\u001b[1;33m\u001b[0m\u001b[1;33m\u001b[0m\u001b[0m\n\u001b[0;32m    571\u001b[0m             \u001b[1;31m# comparison above returns something other than True/False\u001b[0m\u001b[1;33m\u001b[0m\u001b[1;33m\u001b[0m\u001b[0m\n\u001b[1;32m--> 572\u001b[1;33m             \u001b[0mobj\u001b[0m\u001b[1;33m.\u001b[0m\u001b[0m_notify_trait\u001b[0m\u001b[1;33m(\u001b[0m\u001b[0mself\u001b[0m\u001b[1;33m.\u001b[0m\u001b[0mname\u001b[0m\u001b[1;33m,\u001b[0m \u001b[0mold_value\u001b[0m\u001b[1;33m,\u001b[0m \u001b[0mnew_value\u001b[0m\u001b[1;33m)\u001b[0m\u001b[1;33m\u001b[0m\u001b[0m\n\u001b[0m\u001b[0;32m    573\u001b[0m \u001b[1;33m\u001b[0m\u001b[0m\n\u001b[0;32m    574\u001b[0m     \u001b[1;32mdef\u001b[0m \u001b[0m__set__\u001b[0m\u001b[1;33m(\u001b[0m\u001b[0mself\u001b[0m\u001b[1;33m,\u001b[0m \u001b[0mobj\u001b[0m\u001b[1;33m,\u001b[0m \u001b[0mvalue\u001b[0m\u001b[1;33m)\u001b[0m\u001b[1;33m:\u001b[0m\u001b[1;33m\u001b[0m\u001b[0m\n",
      "\u001b[1;32mD:\\Programme\\Anaconda3\\lib\\site-packages\\traitlets\\traitlets.py\u001b[0m in \u001b[0;36m_notify_trait\u001b[1;34m(self, name, old_value, new_value)\u001b[0m\n\u001b[0;32m   1135\u001b[0m             \u001b[0mnew\u001b[0m\u001b[1;33m=\u001b[0m\u001b[0mnew_value\u001b[0m\u001b[1;33m,\u001b[0m\u001b[1;33m\u001b[0m\u001b[0m\n\u001b[0;32m   1136\u001b[0m             \u001b[0mowner\u001b[0m\u001b[1;33m=\u001b[0m\u001b[0mself\u001b[0m\u001b[1;33m,\u001b[0m\u001b[1;33m\u001b[0m\u001b[0m\n\u001b[1;32m-> 1137\u001b[1;33m             \u001b[0mtype\u001b[0m\u001b[1;33m=\u001b[0m\u001b[1;34m'change'\u001b[0m\u001b[1;33m,\u001b[0m\u001b[1;33m\u001b[0m\u001b[0m\n\u001b[0m\u001b[0;32m   1138\u001b[0m         ))\n\u001b[0;32m   1139\u001b[0m \u001b[1;33m\u001b[0m\u001b[0m\n",
      "\u001b[1;32mD:\\Programme\\Anaconda3\\lib\\site-packages\\ipywidgets\\widgets\\widget.py\u001b[0m in \u001b[0;36mnotify_change\u001b[1;34m(self, change)\u001b[0m\n\u001b[0;32m    396\u001b[0m                 \u001b[1;31m# Send new state to front-end\u001b[0m\u001b[1;33m\u001b[0m\u001b[1;33m\u001b[0m\u001b[0m\n\u001b[0;32m    397\u001b[0m                 \u001b[0mself\u001b[0m\u001b[1;33m.\u001b[0m\u001b[0msend_state\u001b[0m\u001b[1;33m(\u001b[0m\u001b[0mkey\u001b[0m\u001b[1;33m=\u001b[0m\u001b[0mname\u001b[0m\u001b[1;33m)\u001b[0m\u001b[1;33m\u001b[0m\u001b[0m\n\u001b[1;32m--> 398\u001b[1;33m         \u001b[0mLoggingConfigurable\u001b[0m\u001b[1;33m.\u001b[0m\u001b[0mnotify_change\u001b[0m\u001b[1;33m(\u001b[0m\u001b[0mself\u001b[0m\u001b[1;33m,\u001b[0m \u001b[0mchange\u001b[0m\u001b[1;33m)\u001b[0m\u001b[1;33m\u001b[0m\u001b[0m\n\u001b[0m\u001b[0;32m    399\u001b[0m \u001b[1;33m\u001b[0m\u001b[0m\n\u001b[0;32m    400\u001b[0m     \u001b[1;31m#-------------------------------------------------------------------------\u001b[0m\u001b[1;33m\u001b[0m\u001b[1;33m\u001b[0m\u001b[0m\n",
      "\u001b[1;32mD:\\Programme\\Anaconda3\\lib\\site-packages\\traitlets\\traitlets.py\u001b[0m in \u001b[0;36mnotify_change\u001b[1;34m(self, change)\u001b[0m\n\u001b[0;32m   1172\u001b[0m                 \u001b[0mc\u001b[0m \u001b[1;33m=\u001b[0m \u001b[0mgetattr\u001b[0m\u001b[1;33m(\u001b[0m\u001b[0mself\u001b[0m\u001b[1;33m,\u001b[0m \u001b[0mc\u001b[0m\u001b[1;33m.\u001b[0m\u001b[0mname\u001b[0m\u001b[1;33m)\u001b[0m\u001b[1;33m\u001b[0m\u001b[0m\n\u001b[0;32m   1173\u001b[0m \u001b[1;33m\u001b[0m\u001b[0m\n\u001b[1;32m-> 1174\u001b[1;33m             \u001b[0mc\u001b[0m\u001b[1;33m(\u001b[0m\u001b[0mchange\u001b[0m\u001b[1;33m)\u001b[0m\u001b[1;33m\u001b[0m\u001b[0m\n\u001b[0m\u001b[0;32m   1175\u001b[0m \u001b[1;33m\u001b[0m\u001b[0m\n\u001b[0;32m   1176\u001b[0m     \u001b[1;32mdef\u001b[0m \u001b[0m_add_notifiers\u001b[0m\u001b[1;33m(\u001b[0m\u001b[0mself\u001b[0m\u001b[1;33m,\u001b[0m \u001b[0mhandler\u001b[0m\u001b[1;33m,\u001b[0m \u001b[0mname\u001b[0m\u001b[1;33m,\u001b[0m \u001b[0mtype\u001b[0m\u001b[1;33m)\u001b[0m\u001b[1;33m:\u001b[0m\u001b[1;33m\u001b[0m\u001b[0m\n",
      "\u001b[1;32mD:\\Programme\\Anaconda3\\lib\\site-packages\\gmaps\\maps.py\u001b[0m in \u001b[0;36m_calc_bounds\u001b[1;34m(self, change)\u001b[0m\n\u001b[0;32m     79\u001b[0m             ]\n\u001b[0;32m     80\u001b[0m             \u001b[0mmin_longitude\u001b[0m\u001b[1;33m,\u001b[0m \u001b[0mmax_longitude\u001b[0m \u001b[1;33m=\u001b[0m\u001b[0;31m\\\u001b[0m\u001b[1;33m\u001b[0m\u001b[0m\n\u001b[1;32m---> 81\u001b[1;33m                 \u001b[0mmerge_longitude_bounds\u001b[0m\u001b[1;33m(\u001b[0m\u001b[0mlongitude_bounds\u001b[0m\u001b[1;33m)\u001b[0m\u001b[1;33m\u001b[0m\u001b[0m\n\u001b[0m\u001b[0;32m     82\u001b[0m \u001b[1;33m\u001b[0m\u001b[0m\n\u001b[0;32m     83\u001b[0m             self.data_bounds = [\n",
      "\u001b[1;32mD:\\Programme\\Anaconda3\\lib\\site-packages\\gmaps\\bounds.py\u001b[0m in \u001b[0;36mmerge_longitude_bounds\u001b[1;34m(longitude_bounds_list)\u001b[0m\n\u001b[0;32m    131\u001b[0m         \u001b[0mseg_start\u001b[0m \u001b[1;33m=\u001b[0m \u001b[0mbnd\u001b[0m\u001b[1;33m\u001b[0m\u001b[0m\n\u001b[0;32m    132\u001b[0m         \u001b[0mcoverage\u001b[0m \u001b[1;33m+=\u001b[0m \u001b[0mdelta\u001b[0m\u001b[1;33m\u001b[0m\u001b[0m\n\u001b[1;32m--> 133\u001b[1;33m         \u001b[1;32massert\u001b[0m\u001b[1;33m(\u001b[0m\u001b[0mcoverage\u001b[0m \u001b[1;33m>=\u001b[0m \u001b[1;36m0\u001b[0m\u001b[1;33m)\u001b[0m\u001b[1;33m\u001b[0m\u001b[0m\n\u001b[0m\u001b[0;32m    134\u001b[0m \u001b[1;33m\u001b[0m\u001b[0m\n\u001b[0;32m    135\u001b[0m     \u001b[1;31m# reversing the lng order in a gap gives us a valid bound\u001b[0m\u001b[1;33m\u001b[0m\u001b[1;33m\u001b[0m\u001b[0m\n",
      "\u001b[1;31mAssertionError\u001b[0m: "
     ]
    }
   ],
   "source": [
    "# Please zoom out a little bit to identify the location of this point , \n",
    "marker_loc = [(37.783939,-122.412614)]\n",
    "spec_fig = gmaps.figure()\n",
    "spec_fig.add_layer(gmaps.marker_layer(marker_loc))\n",
    "spec_fig"
   ]
  },
  {
   "cell_type": "code",
   "execution_count": 15,
   "metadata": {
    "collapsed": true
   },
   "outputs": [],
   "source": [
    "# Functions to reposition outliers into a separate valid region.\n",
    "def reposition_x(x):\n",
    "    if x < min_x or max_x <= x:\n",
    "        return -122.412614\n",
    "    else: \n",
    "        return x\n",
    "\n",
    "def reposition_y(y):\n",
    "    if y < min_y or max_y <= y:\n",
    "        return 37.783939\n",
    "    else:\n",
    "        return y\n",
    "\n",
    "def reposition_outliers(data):\n",
    "    repositioning = data.copy()\n",
    "    new_X = pd.Series([reposition_x(x) for x in data[\"X\"]], name='X')\n",
    "    repositioning = repositioning.drop('X', axis=1)\n",
    "    new_Y = pd.Series([reposition_y(y) for y in data[\"Y\"]], name=\"Y\")\n",
    "    repositioning = repositioning.drop('Y', axis=1)\n",
    "    repositioning = pd.concat([repositioning, new_X, new_Y], axis=1)\n",
    "    return repositioning"
   ]
  },
  {
   "cell_type": "code",
   "execution_count": 16,
   "metadata": {
    "collapsed": true
   },
   "outputs": [],
   "source": [
    "train_data = reposition_outliers(train_data)"
   ]
  },
  {
   "cell_type": "markdown",
   "metadata": {},
   "source": [
    "Next we define functions to assign each crime according to its position to the right cell of the grid. "
   ]
  },
  {
   "cell_type": "code",
   "execution_count": 17,
   "metadata": {
    "collapsed": true
   },
   "outputs": [],
   "source": [
    "# grid functions\n",
    "def assign_subregion(pos_x, pos_y, min_x, min_y, dif_x, dif_y, x_sections, y_sections):\n",
    "    x = pos_x - min_x\n",
    "    x_sec = int(x_sections * x / dif_x)\n",
    "    y = pos_y - min_y\n",
    "    y_sec = int(y_sections * y / dif_y)\n",
    "    return x_sec + x_sections * y_sec\n",
    "    \n",
    "def create_subregion_series(data, min_x, min_y, dif_x, dif_y, x_sections, y_sections):\n",
    "    subregion_list = []\n",
    "    for i in range(len(data)):\n",
    "        pos_x = data[\"X\"][i]\n",
    "        pos_y = data[\"Y\"][i]\n",
    "        subregion = assign_subregion(pos_x, pos_y, min_x, min_y, dif_x, dif_y, x_sections, y_sections)\n",
    "        subregion_list.append(subregion)\n",
    "    return pd.Series(subregion_list, name='subregion')\n",
    "\n",
    "def get_subregion_pos(subregion_id, min_x, min_y, dif_x, dif_y, x_sections, y_sections):\n",
    "    x = subregion_id % x_sections\n",
    "    x_pos = ((x + 1/2) / x_sections) * dif_x + min_x\n",
    "    y = subregion_id // x_sections\n",
    "    y_pos = ((y + 1/2) / y_sections) * dif_y + min_y\n",
    "    return (x_pos, y_pos)\n",
    "\n",
    "def get_subregion_rectangle(subregion_id, min_x, min_y, dif_x, dif_y, x_sections, y_sections):\n",
    "    x = subregion_id % x_sections\n",
    "    y = subregion_id // x_sections\n",
    "    x_pos_ll = (x / x_sections) * dif_x + min_x\n",
    "    y_pos_ll = (y  / y_sections) * dif_y + min_y\n",
    "    lower_left = (x_pos_ll, y_pos_ll)\n",
    "    x_pos_ur = ((x + 1) / x_sections) * dif_x + min_x\n",
    "    y_pos_ur = ((y + 1)  / y_sections) * dif_y + min_y\n",
    "    upper_right= (x_pos_ur, y_pos_ur)\n",
    "    return lower_left, upper_right"
   ]
  },
  {
   "cell_type": "code",
   "execution_count": 18,
   "metadata": {
    "collapsed": true
   },
   "outputs": [],
   "source": [
    "# show the structure of subregion feature\n",
    "#subregions = create_subregion_series(train_data, min_x, min_y, dif_x, dif_y, 20, 20)\n",
    "#subregions_df = pd.concat([subregions], axis=1)\n",
    "#subregions_df.head()"
   ]
  },
  {
   "cell_type": "markdown",
   "metadata": {},
   "source": [
    "### Avoiding floating point errors"
   ]
  },
  {
   "cell_type": "markdown",
   "metadata": {},
   "source": [
    "Because many probabilities in the following statistics are close to zero, we use logit to avoid floating point inaccuracies."
   ]
  },
  {
   "cell_type": "code",
   "execution_count": 19,
   "metadata": {
    "collapsed": true
   },
   "outputs": [],
   "source": [
    "from math import log\n",
    "\n",
    "def logit(p):        \n",
    "    return log(p / (1 - p))\n",
    "\n",
    "logit_eps = 0.0001 \n",
    "upper_bound = 1 - logit_eps\n",
    "logit_one = logit(1 - logit_eps)\n",
    "logit_zero = logit(logit_eps)\n",
    "\n",
    "def calc_logit(p):\n",
    "    if p < logit_eps:\n",
    "        return logit_zero\n",
    "    elif p > upper_bound:\n",
    "        return logit_one\n",
    "    else:\n",
    "        return logit(p)"
   ]
  },
  {
   "cell_type": "markdown",
   "metadata": {},
   "source": [
    "### Non-prosecution rate per grid cell"
   ]
  },
  {
   "cell_type": "markdown",
   "metadata": {},
   "source": [
    "Like in the presentation we calculate the non-prosecution rate for each cell in the grid. Areas with high non-prosecution rate may have lower police presence."
   ]
  },
  {
   "cell_type": "code",
   "execution_count": 20,
   "metadata": {
    "collapsed": true
   },
   "outputs": [],
   "source": [
    "# functions to calculate the non-prosecution rate for each cell in the grid.\n",
    "\n",
    "def count_non_prosecuted_crimes(data, subregions, num_regions):\n",
    "    none_prosecutions_local = {}\n",
    "    none_prosecutions_overall = data[\"Resolution\"].value_counts()[\"NONE\"]\n",
    "    resolution = data[\"Resolution\"]\n",
    "    for r in range(num_regions):\n",
    "        none_prosecutions_local[r] = 0\n",
    "    for i, r in enumerate(subregions):\n",
    "        if resolution[i] == \"NONE\":\n",
    "            none_prosecutions_local[r] += 1\n",
    "    return none_prosecutions_local, none_prosecutions_overall\n",
    "\n",
    "def calculate_prosection_rates(counts_local, counts_overall, subregions, num_regions, sufficient_n):\n",
    "    none_prosecutions_rate_overall = calc_logit(counts_overall / len(subregions))\n",
    "    none_prosecution_rate_local = {}\n",
    "    occupied_regions = subregions.unique()\n",
    "    counts = subregions.value_counts()\n",
    "    for r in range(num_regions):\n",
    "        if r in occupied_regions and counts[r] >= sufficient_n:\n",
    "            none_prosecution_rate_local[r] = calc_logit(counts_local[r] / counts[r])\n",
    "        else: \n",
    "            none_prosecution_rate_local[r] = none_prosecutions_rate_overall\n",
    "    return none_prosecution_rate_local\n",
    "            \n",
    "def get_non_prosecution_rate_frame(data, subregions, num_regions, sufficient_n):\n",
    "    counts_local, counts_overall = count_non_prosecuted_crimes(data, subregions, num_regions)\n",
    "    rates_local = calculate_prosection_rates(counts_local, counts_overall, subregions, num_regions, sufficient_n)        \n",
    "    non_prosecution_series = pd.Series([rates_local[x] for x in range(num_regions)], name='non_prosecution_rate')\n",
    "    return non_prosecution_series"
   ]
  },
  {
   "cell_type": "code",
   "execution_count": 21,
   "metadata": {
    "collapsed": true
   },
   "outputs": [],
   "source": [
    "# show the structure of non-prosecution rate feature\n",
    "#non_prosecution_rate = get_non_prosecution_rate_frame(train_data, subregions, 400, 50)\n",
    "#non_prosecution_rate.head()"
   ]
  },
  {
   "cell_type": "markdown",
   "metadata": {},
   "source": [
    "### Crime category distribution per grid cell"
   ]
  },
  {
   "cell_type": "markdown",
   "metadata": {},
   "source": [
    "Our next feature is the distrubition of crime categories in a grid cell. Certain ares might be hot spots for different types of crime and we want to define what is normal for a region."
   ]
  },
  {
   "cell_type": "code",
   "execution_count": 22,
   "metadata": {
    "collapsed": true
   },
   "outputs": [],
   "source": [
    "# functions to calculate the category distribution rate for each cell in the grid.\n",
    "\n",
    "def count_crimes_per_category(data, subregions, crimes, num_regions):\n",
    "    # count crimes per region and category\n",
    "    criminal_activity_local = {}\n",
    "    criminal_activity_overall = data[\"Category\"].value_counts()\n",
    "    category = data[\"Category\"]\n",
    "    for r in range(num_regions):\n",
    "        criminal_activity_local[r] = {}\n",
    "        for c in crimes:\n",
    "            criminal_activity_local[r][c] = 0\n",
    "    for i, r in enumerate(subregions):\n",
    "        criminal_activity_local[r][category[i]] += 1\n",
    "    return criminal_activity_local, criminal_activity_overall\n",
    "\n",
    "def determine_distribution_categories(data, activity_lokal, activity_overall, subregions, crimes, num_regions, sufficient_n):\n",
    "    distribution_global = {}\n",
    "    for c in crimes:\n",
    "        distribution_global[c] = calc_logit(activity_overall[c] / len(data))\n",
    "    occupied_regions = subregions.unique()\n",
    "    counts = subregions.value_counts()\n",
    "    distribution_local = {}\n",
    "    for r in range(num_regions):\n",
    "        distribution_local[r] = {}\n",
    "        for c in crimes: \n",
    "            if r in occupied_regions and counts[r] >= sufficient_n:\n",
    "                distribution_local[r][c] = calc_logit(activity_lokal[r][c] / counts[r])\n",
    "            else:\n",
    "                distribution_local[r][c] = distribution_global[c]\n",
    "    return distribution_local\n",
    "\n",
    "def get_crime_distribution_frame(data, subregions, crimes, num_regions, sufficient_n):\n",
    "    activity_lokal, activity_overall = count_crimes_per_category(data, subregions, crimes, num_regions)\n",
    "    distribution_local = determine_distribution_categories(data, activity_lokal, activity_overall, subregions, crimes, num_regions, sufficient_n)\n",
    "    # convert to dataframe\n",
    "    distribution_frame = pd.DataFrame()\n",
    "    for c in crimes:\n",
    "        category_series = pd.Series([distribution_local[r][c] for r in range(num_regions)], name=c)\n",
    "        distribution_frame = pd.concat([distribution_frame, category_series], axis=1)\n",
    "    return distribution_frame"
   ]
  },
  {
   "cell_type": "code",
   "execution_count": 23,
   "metadata": {
    "collapsed": true
   },
   "outputs": [],
   "source": [
    "# show the structure of category distribution feature\n",
    "#distribution_frame = get_crime_distribution_frame(train_data, subregions, crimes, 400, 50)\n",
    "#distribution_frame.head()"
   ]
  },
  {
   "cell_type": "markdown",
   "metadata": {},
   "source": [
    "##  Streets crime category distribution"
   ]
  },
  {
   "cell_type": "markdown",
   "metadata": {},
   "source": [
    "Our next feature is the distrubition of crime categories per street. Certain streets might be hot spots for different types of crime."
   ]
  },
  {
   "cell_type": "code",
   "execution_count": 24,
   "metadata": {
    "collapsed": true
   },
   "outputs": [],
   "source": [
    "# functions for street statistics\n",
    "def get_relevant_streets(data, sufficient_n):\n",
    "    streets = data[\"Address\"]\n",
    "    street_counts = streets.value_counts()\n",
    "    relevant_streets = []\n",
    "    for k in street_counts.keys():\n",
    "        if street_counts[k] >= sufficient_n:\n",
    "            relevant_streets.append(k)\n",
    "        else:\n",
    "            break\n",
    "    return relevant_streets\n",
    "\n",
    "def count_street_crime_per_category(data, relevant_streets, crimes):\n",
    "    # count crimes per region and category\n",
    "    street_activity = {}\n",
    "    streets = data[\"Address\"]\n",
    "    category = data[\"Category\"]\n",
    "    for s in relevant_streets:\n",
    "        street_activity[s] = {}\n",
    "        street_activity[s][\"crime_count\"] = 0\n",
    "        for c in crimes:\n",
    "            street_activity[s][c] = 0\n",
    "    for i, s in enumerate(streets):\n",
    "        if s in street_activity:\n",
    "            street_activity[s][category[i]] += 1\n",
    "            street_activity[s][\"crime_count\"] += 1\n",
    "    return street_activity\n",
    "\n",
    "def determine_street_crime_distribution_categories(data, relevant_streets, street_activity, crimes):\n",
    "    # default distribution\n",
    "    street_distribution = {}\n",
    "    street_distribution[\"DEFAULT_DISTRIBUTION\"] = {}\n",
    "    overall_counts = data[\"Category\"].value_counts()\n",
    "    for c in crimes:\n",
    "         street_distribution[\"DEFAULT_DISTRIBUTION\"][c] = calc_logit(overall_counts[c] / len(data))\n",
    "    # street distribution\n",
    "    for s in relevant_streets:\n",
    "        street_distribution[s] = {}\n",
    "        for c in crimes: \n",
    "            street_distribution[s][c] = calc_logit(street_activity[s][c] / street_activity[s][\"crime_count\"])\n",
    "    return street_distribution\n",
    "\n",
    "def get_street_crime_distribution_dict(data, crimes, sufficient_n=48):\n",
    "    rel_streets = get_relevant_streets(data, sufficient_n)\n",
    "    street_activity = count_street_crime_per_category(data, rel_streets, crimes)\n",
    "    street_distribution = determine_street_crime_distribution_categories(data, rel_streets, street_activity, crimes)\n",
    "    # convert to dataframe\n",
    "    '''\n",
    "    street_distribution_frame = pd.DataFrame()\n",
    "    for c in crimes:\n",
    "        category_series = pd.Series([street_distribution[s][c] for s in rel_streets] + [street_distribution[\"DEFAULT_DISTRIBUTION\"][c]],\n",
    "                                    name=(\"street_\" + c))\n",
    "        street_distribution_frame = pd.concat([street_distribution_frame, category_series], axis=1)\n",
    "    '''\n",
    "    return street_distribution\n",
    "\n",
    "def get_street_crime_rate(street, crime, street_crime_distribution):\n",
    "    if street in street_crime_distribution.keys():\n",
    "        return street_crime_distribution[street][crime]\n",
    "    else:\n",
    "        return street_crime_distribution['DEFAULT_DISTRIBUTION'][crime]"
   ]
  },
  {
   "cell_type": "markdown",
   "metadata": {},
   "source": [
    "### One-hot encoding of police destricts\n",
    "We assume dependencies between the police district in which a crime takes place and its category."
   ]
  },
  {
   "cell_type": "code",
   "execution_count": 25,
   "metadata": {
    "collapsed": true
   },
   "outputs": [],
   "source": [
    "def create_police_destrict_frame(data):\n",
    "    one_hot_police_destricts = pd.get_dummies(data[\"PdDistrict\"])\n",
    "    return one_hot_police_destricts"
   ]
  },
  {
   "cell_type": "code",
   "execution_count": 26,
   "metadata": {
    "collapsed": true
   },
   "outputs": [],
   "source": [
    "# show the structure of the police destrict feature\n",
    "#police_destricts = create_police_destrict_frame(train_data)\n",
    "#police_destricts.head()"
   ]
  },
  {
   "cell_type": "markdown",
   "metadata": {},
   "source": [
    "### Distance to the next police station"
   ]
  },
  {
   "cell_type": "markdown",
   "metadata": {},
   "source": [
    "Our next feature is the distance between the place where the crime is committed and the nearest police station, because police presence may influence the category of crime which is committed."
   ]
  },
  {
   "cell_type": "code",
   "execution_count": 27,
   "metadata": {
    "collapsed": true
   },
   "outputs": [],
   "source": [
    "# function to measure distance to next police station\n",
    "from geopy.distance import vincenty\n",
    "\n",
    "police_stations = pd.read_json(\"https://data.sfgov.org/resource/me2e-mc38.json\")\n",
    "\n",
    "police_station_coordinates = []\n",
    "for elem in police_stations.iterrows():\n",
    "    \"\"\"Create police station coordinates as tuple\"\"\"\n",
    "    police_station_coordinates.append(tuple(elem[1]['location']['coordinates']))\n",
    "\n",
    "def get_crime_coordinate_series(data):\n",
    "    # prepare crime X,Y coordinates as tuple of coordinates\n",
    "    return list(zip(data['X'], data['Y']))\n",
    "    \n",
    "def caculate_min_distance_police(crime_coordinate):\n",
    "    \"\"\"calculate distance from crime to nearest police station\"\"\"\n",
    "    current_min = 10000000\n",
    "    for police_station_coordinate in police_station_coordinates:\n",
    "        current_min = min(current_min, vincenty(police_station_coordinate, crime_coordinate).meters)\n",
    "    return current_min\n",
    "\n",
    "def get_police_distance_series(data):\n",
    "    get_crime_coordinates = get_crime_coordinate_series(data)\n",
    "    police_distance_series = pd.Series([caculate_min_distance_police(c) for c in get_crime_coordinates], name='police_distance')\n",
    "    return police_distance_series"
   ]
  },
  {
   "cell_type": "code",
   "execution_count": 28,
   "metadata": {
    "collapsed": true
   },
   "outputs": [],
   "source": [
    "# show the structure of the police distance feature\n",
    "#police_dist_series = get_police_distance_series(train_data)\n",
    "#police_dist_pd = pd.concat([police_dist_series], axis=1)\n",
    "#police_dist_pd.head()"
   ]
  },
  {
   "cell_type": "markdown",
   "metadata": {},
   "source": [
    "### Additional Spatial and other Features\n",
    "After the commonly known grid features additionals metrics for the grids are calculated describing the area topology and architectural grid features"
   ]
  },
  {
   "cell_type": "markdown",
   "metadata": {
    "collapsed": true
   },
   "source": [
    "#### Street Types\n",
    "If a mapping can be caclulated the corresponding street type is used. Always the first occuring street type will be used. If the crime address includes a \"/\" symbol this means a crossing like a corner to another street is meatn and the type CRO (Crossing) is inferred, else the most common type RD for Road is used. This represents basically a simple street taxonomy. A one-hot encoded dataset is returned."
   ]
  },
  {
   "cell_type": "code",
   "execution_count": 29,
   "metadata": {
    "collapsed": true
   },
   "outputs": [],
   "source": [
    "types = ['ST','AV','BL', 'BL NORTH', 'BL SOUTH',  'AVE','AL', 'ALY', 'CT', 'WY' ,'WAY', 'TER', 'BLVD', 'RP','RAMP', 'PL', 'LN',\n",
    "       'LOOP', 'DR', 'RD','CR', 'CIR','WL', 'WK' 'WALK','PK', 'PARK','RW', 'ROW', 'PATH','HY', 'HW',\n",
    "       'HWY', 'EXPY', 'HL', 'PZ','PLZ', 'STPS','I-80', 'MAR','BLVD NORTH', 'BLVD SOUTH',\n",
    "       'STWY','PALMS','WK','EX' , 'TR','TUNL','FERLINGHETTI', 'BUFANO']\n",
    "def generate_street_types(addresses):\n",
    "    \n",
    "    def map_street_to_street_type(street):\n",
    "        addrl = street.split(' ')\n",
    "        if '/' in addrl:\n",
    "            return 'CRO'\n",
    "        elif '/' not in addrl:\n",
    "            for elem in addrl:\n",
    "                if elem in types:\n",
    "                    return elem\n",
    "        else:\n",
    "            return 'RD'  \n",
    "        \n",
    "    return pd.get_dummies(pd.Series(addresses.map(map_street_to_street_type), name='StreetType'))"
   ]
  },
  {
   "cell_type": "code",
   "execution_count": 30,
   "metadata": {
    "collapsed": true
   },
   "outputs": [],
   "source": [
    "# Show the structure of the street type feature\n",
    "#street_type_frame = generate_street_types(train_data['Address'])\n",
    "#street_type_frame.head()"
   ]
  },
  {
   "cell_type": "markdown",
   "metadata": {},
   "source": [
    "#### Subregion spatial and architectural features\n",
    "In this part the following features will be calculated. It has to be mentioned that the calculation of the betweenes takes it time and the train and test dataset should be stored to allow more fluid work from there on"
   ]
  },
  {
   "cell_type": "code",
   "execution_count": 31,
   "metadata": {
    "collapsed": true
   },
   "outputs": [],
   "source": [
    "def create_subregions_graphs(subregions, x_sections, y_sections, from_point=False):\n",
    "    \"\"\"\n",
    "    Creates a subregions graph dictionary for each unique\n",
    "    subregion\n",
    "    \"\"\"\n",
    "    global subregions_graphs\n",
    "    subregions_graphs = {}\n",
    "    for subregion in subregions.unique():\n",
    "        if from_point:      \n",
    "            subregion_graph = create_subregion_graph_from_coordinate(subregion, x_sections, y_sections)# create_subregion_graph_from_bb(bb_coord)\n",
    "        else:\n",
    "            bb_coord = get_subregion_rectangle(subregion, min_x, min_y, dif_x, dif_y, x_sections, y_sections)\n",
    "            subregion_graph = create_subregion_graph_from_bb(bb_coord)\n",
    "        if subregion_graph:\n",
    "            subregions_graphs[subregion] = subregion_graph\n",
    "    print(subregions_graphs.keys())\n",
    "    return subregions_graphs\n",
    "\n",
    "def create_subregion_graph_from_coordinate(subregion, x_sections, y_sections, radius=100):\n",
    "    \"\"\"\n",
    "    Creates a subregion graph by a subregion coordinate and a radius\n",
    "    \"\"\"\n",
    "    G = None\n",
    "    try:\n",
    "        point = get_subregion_pos(subregion, min_x, min_y, dif_x, dif_y, x_sections, y_sections)\n",
    "        G = ox.graph_from_point((point[1],point[0]), distance=radius, network_type='all')\n",
    "    except (Exception, RuntimeError, ValueError):\n",
    "        print(\"A RuntimeError, ValueError, or NetworkXPointlessConcept Error occured probably due to invalid coordinates\") \n",
    "    return G\n",
    "    \n",
    "\n",
    "def create_subregion_graph_from_bb(subregion_rectangle):\n",
    "    \"\"\"\n",
    "    Creates a subregion graph by a subregion bounding box (rectangle)\n",
    "    \"\"\"\n",
    "    G = None\n",
    "    try:\n",
    "        G = ox.graph_from_bbox(subregion_rectangle[1][1],\n",
    "                               subregion_rectangle[0][1],\n",
    "                               subregion_rectangle[1][0],\n",
    "                               subregion_rectangle[0][0],\n",
    "                               network_type='all')\n",
    "    except (Exception, RuntimeError, ValueError):\n",
    "        print(\"A RuntimeError, ValueError, or NetworkXPointlessConcept Error occured probably due to invalid coordinates\")\n",
    "    \n",
    "    return G\n",
    "\n",
    "def calculate_subregion_deden(subregion_id):\n",
    "    \"\"\"\n",
    "    The cul de sac density is calculated as the ratio of\n",
    "    dead end roads to all roads in the subregion\n",
    "    \"\"\"\n",
    "    if subregion_id in subregions_graphs.keys():\n",
    "        subregion = subregions_graphs[subregion_id]\n",
    "        culdesacs = [key for key, value in subregion.graph['streets_per_node'].items() if value==1]\n",
    "\n",
    "        return len(culdesacs) / len(subregion.edges())\n",
    "    else:\n",
    "        return 0\n",
    "\n",
    "def calculate_subregion_reg(subregion_id):\n",
    "    \"\"\"\n",
    "    The regularity of the street network is calculated as the standard\n",
    "    deviation of node degrees for the subregion normalized by the average\n",
    "    node degree\n",
    "    \"\"\"\n",
    "    if subregion_id in subregions_graphs.keys():\n",
    "        subregion = subregions_graphs[subregion_id]\n",
    "        subregion_nodes = subregion.nodes()\n",
    "        degree_values = [value for key, value in subregion.graph['streets_per_node'].items()]\n",
    "        degree_sum = sum(degree_values)\n",
    "        node_degree_mean = degree_sum/len(degree_values)\n",
    "\n",
    "        var = 1/(len(degree_values)-1) * sum([(value - node_degree_mean)**2 for value in degree_values]) \n",
    "        return math.sqrt(var) / node_degree_mean\n",
    "    else:\n",
    "        return 0\n",
    "\n",
    "def calculate_subregion_cnr(subregion_id):\n",
    "    if subregion_id in subregions_graphs.keys():\n",
    "        subregion = subregions_graphs[subregion_id]\n",
    "        realintersect = [value for key, value in subregion.graph['streets_per_node'].items() if value>1]\n",
    "        return len(realintersect) / len(subregion.nodes())\n",
    "    else:\n",
    "        return 0\n",
    "\n",
    "def calculate_subregion_iden(subregion_id):\n",
    "    pass\n",
    "\n",
    "def calculate_subregion_osperc(subregion_id):\n",
    "    pass\n",
    "\n",
    "global betweenes_dict\n",
    "betweenes_dict = {}\n",
    "\n",
    "def calculate_subregion_bet(subregion_id):\n",
    "    \"\"\"\n",
    "    calculates the betweenes centrality for the region \n",
    "    \"\"\"  \n",
    "    if subregion_id in betweenes_dict.keys():\n",
    "        return betweenes_dict[subregion_id]\n",
    "    else:\n",
    "        if subregion_id in subregions_graphs.keys():\n",
    "            subregion = subregions_graphs[subregion_id]\n",
    "            extended_stats = ox.extended_stats(subregion, bc=True)\n",
    "            betweenes_dict[subregion_id] = extended_stats['betweenness_centrality_avg'] \n",
    "            return betweenes_dict[subregion_id]\n",
    "        else:\n",
    "            return 0\n",
    "\n",
    "def calculate_one_way_density(subregion_id):\n",
    "    pass\n",
    "\n",
    "def generate_subregion_architectural_features(subregions, x_sections, y_sections, from_point=False):\n",
    "    \"\"\"Generates a dataframe with the subregions architectural features\"\"\"\n",
    "    subregions_graphs = create_subregions_graphs(subregions, x_sections, y_sections, from_point=from_point)\n",
    "    deden = pd.Series(subregions.map(calculate_subregion_deden), name = 'DED')\n",
    "    reg = pd.Series(subregions.map(calculate_subregion_reg), name = 'REG')\n",
    "    cnr = pd.Series(subregions.map(calculate_subregion_cnr), name = 'CNR')\n",
    "    # iden = pd.Series(subregions.map(calculate_subregion_iden), name = \"IDEN\")\n",
    "    # osperc = pd.Series(subregions.map(calculate_subregion_osperc), name = 'OSPERC')\n",
    "    bet = pd.Series(subregions.map(calculate_subregion_bet), name = 'BET')\n",
    "    #owd = \n",
    "    return pd.concat([deden, reg, cnr, bet], axis=1)"
   ]
  },
  {
   "cell_type": "code",
   "execution_count": 32,
   "metadata": {
    "collapsed": true
   },
   "outputs": [],
   "source": [
    "# Generating and viewing subregion architectural features, which is a very expensive procedure! Please assure to save these features accordingly\n",
    "# To ommit recalculation\n",
    "#architectural_features = generate_subregion_architectural_features(subregions)\n",
    "#architectural_features.head()"
   ]
  },
  {
   "cell_type": "code",
   "execution_count": 33,
   "metadata": {},
   "outputs": [
    {
     "data": {
      "image/png": "[encoded data removed]",
      "text/plain": [
       "<matplotlib.figure.Figure at 0x271e3a5ccf8>"
      ]
     },
     "metadata": {},
     "output_type": "display_data"
    },
    {
     "data": {
      "text/plain": [
       "(<matplotlib.figure.Figure at 0x271e3a5ccf8>,\n",
       " <matplotlib.axes._subplots.AxesSubplot at 0x271e3a646d8>)"
      ]
     },
     "execution_count": 33,
     "metadata": {},
     "output_type": "execute_result"
    }
   ],
   "source": [
    "# Visualizing Street Network and cul-de-sacs in union square grid\n",
    "union_square = ox.graph_from_point((37.787994,-122.407437), distance=300, network_type='all')\n",
    "ox.plot_graph(union_square)"
   ]
  },
  {
   "cell_type": "code",
   "execution_count": 34,
   "metadata": {},
   "outputs": [
    {
     "data": {
      "image/png": "[encoded data removed]",
      "text/plain": [
       "<matplotlib.figure.Figure at 0x271e40a0f60>"
      ]
     },
     "metadata": {},
     "output_type": "display_data"
    },
    {
     "data": {
      "text/plain": [
       "(<matplotlib.figure.Figure at 0x271e40a0f60>,\n",
       " <matplotlib.axes._subplots.AxesSubplot at 0x271e3dd50f0>)"
      ]
     },
     "execution_count": 34,
     "metadata": {},
     "output_type": "execute_result"
    }
   ],
   "source": [
    "# Red Nodes are endpoints of cul-de-sacs\n",
    "culdesacs = [key for key, value in union_square.graph['streets_per_node'].items() if value==1]\n",
    "nc = ['r' if node in culdesacs else 'b' for node in union_square.nodes()]\n",
    "ox.plot_graph(union_square, node_color=nc)"
   ]
  },
  {
   "cell_type": "code",
   "execution_count": 35,
   "metadata": {},
   "outputs": [
    {
     "data": {
      "image/png": "[encoded data removed]",
      "text/plain": [
       "<matplotlib.figure.Figure at 0x271e3a735c0>"
      ]
     },
     "metadata": {},
     "output_type": "display_data"
    },
    {
     "data": {
      "text/plain": [
       "(<matplotlib.figure.Figure at 0x271e3a735c0>,\n",
       " <matplotlib.axes._subplots.AxesSubplot at 0x271e316d320>)"
      ]
     },
     "execution_count": 35,
     "metadata": {},
     "output_type": "execute_result"
    }
   ],
   "source": [
    "# Visualizing one way streets (network_type has to be drive)\n",
    "# Red streets are one way streets\n",
    "union_square_d = ox.graph_from_point((37.787994,-122.407437), distance=300, network_type='drive')\n",
    "ec = ['r' if data['oneway'] else 'b' for u, v, key, data in union_square_d.edges(keys=True, data=True)]\n",
    "ox.plot_graph(union_square_d, node_size=0, edge_color=ec)"
   ]
  },
  {
   "cell_type": "markdown",
   "metadata": {},
   "source": [
    "## Generation of training and test dataset\n",
    "In the following the traning and test datasets will be build - Standardized, Normalized and cleaned for traning the models"
   ]
  },
  {
   "cell_type": "code",
   "execution_count": 36,
   "metadata": {
    "collapsed": true
   },
   "outputs": [],
   "source": [
    "# first initialise important variables\n",
    "\n",
    "if not os.path.exists(\"../../data/interim/train_cleaned.csv\"):\n",
    "    train_data = pd.read_csv(\"../../data/raw/train.csv\")\n",
    "    cleaned_data = reposition_outliers(train_data)\n",
    "    cleaned_data.to_csv(\"../../data/interim/train_cleaned.csv\", index=False)\n",
    "    \n",
    "if not os.path.exists(\"../../data/interim/test_cleaned.csv\"):\n",
    "    test_data = pd.read_csv(\"../../data/raw/test.csv\")\n",
    "    cleaned_data = reposition_outliers(test_data)\n",
    "    cleaned_data.to_csv(\"../../data/interim/test_cleaned.csv\", index=False)\n",
    "    \n",
    "train_data = pd.read_csv(\"../../data/interim/train_cleaned.csv\")\n",
    "train_data['Dates'] = pd.to_datetime(train_data['Dates'])\n",
    "\n",
    "test_data = pd.read_csv(\"../../data/interim/test_cleaned.csv\")\n",
    "test_data['Dates'] = pd.to_datetime(test_data['Dates'])\n",
    "\n",
    "# bounding box\n",
    "min_x = -122.53\n",
    "max_x = -122.35\n",
    "min_y = 37.65\n",
    "max_y = 37.84\n",
    "dif_x = max_x - min_x\n",
    "dif_y = max_y - min_y\n",
    "\n",
    "# grid resolution\n",
    "x_sections = 30\n",
    "y_sections = 30\n",
    "num_subregions = x_sections * y_sections\n",
    "sufficient_n_non_prosecution = 100\n",
    "sufficient_n_distribution = 200\n",
    "sufficient_n_streets = 48\n",
    "\n",
    "crimes = train_data['Category'].unique()\n",
    "street_crime_distribution_dict = get_street_crime_distribution_dict(train_data, crimes, sufficient_n_streets)"
   ]
  },
  {
   "cell_type": "code",
   "execution_count": 37,
   "metadata": {
    "collapsed": true
   },
   "outputs": [],
   "source": [
    "# a function which builds the dataset\n",
    "\n",
    "# always calculate regional features first\n",
    "def build_and_store_regional_features(train_data):\n",
    "    print(\"Processing regional features\")\n",
    "    print(\"-----------------------------\")\n",
    "    \n",
    "    if not os.path.exists(\"../../data/processed/train_subregions.csv\"):\n",
    "        subregions = create_subregion_series(train_data, min_x, min_y, dif_x, dif_y, x_sections, y_sections)\n",
    "        subregions = pd.concat([subregions], axis=1)\n",
    "        subregions.to_csv(\"../../data/processed/train_subregions.csv\", index=False)\n",
    "    print(\"Finished: subregions\")\n",
    "        \n",
    "    if not os.path.exists(\"../../data/processed/regional_non_prosecution_rates.csv\"):\n",
    "        subregions = pd.read_csv(\"../../data/processed/train_subregions.csv\")\n",
    "        subregions = subregions[\"subregion\"]\n",
    "        non_prosecution_rate = get_non_prosecution_rate_frame(train_data, subregions, num_subregions,\n",
    "                                                          sufficient_n_non_prosecution)\n",
    "        non_prosecution_rate = pd.concat([non_prosecution_rate], axis=1)\n",
    "        non_prosecution_rate.to_csv(\"../../data/processed/regional_non_prosecution_rates.csv\", index=False)\n",
    "    print(\"Finished: regional non prosecution rates\")\n",
    "        \n",
    "    if not os.path.exists(\"../../data/processed/regional_crime_distribution.csv\"):\n",
    "        subregions = pd.read_csv(\"../../data/processed/train_subregions.csv\")\n",
    "        subregions = subregions[\"subregion\"]\n",
    "        crimes = train_data['Category'].unique()\n",
    "        crime_distribution = get_crime_distribution_frame(train_data, subregions, crimes, num_subregions, \n",
    "                                                          sufficient_n_distribution)\n",
    "        crime_distribution.to_csv(\"../../data/processed/regional_crime_distribution.csv\", index=False)\n",
    "    print(\"Finished: regional crime distributions\")\n",
    "    print(\"Finished: build_and_store_regional_features\")\n",
    "    print()\n",
    "        \n",
    "def build_and_store_crime_features(data, name):\n",
    "    print(\"Processing crime features\")\n",
    "    print(\"-----------------------------\")\n",
    "    \n",
    "    if not os.path.exists(\"../../data/processed/\" + name + \"_time_features.csv\"):\n",
    "        time_features = generate_time_features(data)\n",
    "        time_features.to_csv(\"../../data/processed/\" + name + \"_time_features.csv\", index=False)\n",
    "    print(\"Finished: time features\")\n",
    "    \n",
    "    if not os.path.exists(\"../../data/processed/\" + name + \"_subregions.csv\"):\n",
    "        subregions = create_subregion_series(data, min_x, min_y, dif_x, dif_y, x_sections, y_sections)\n",
    "        subregions = pd.concat([subregions], axis=1)\n",
    "        subregions.to_csv(\"../../data/processed/\" + name + \"_subregions.csv\", index=False)\n",
    "    print(\"Finished: subregions\")\n",
    "\n",
    "    if not os.path.exists(\"../../data/processed/\" + name + \"_police_destrict.csv\"):\n",
    "        police_destricts = create_police_destrict_frame(data)\n",
    "        police_destricts.to_csv(\"../../data/processed/\" + name + \"_police_destrict.csv\", index=False)\n",
    "    print(\"Finished: police destricts\")\n",
    "        \n",
    "    if not os.path.exists(\"../../data/processed/\" + name + \"_police_distance.csv\"):\n",
    "        police_distance = get_police_distance_series(data)\n",
    "        police_distance = pd.concat([police_distance], axis=1)\n",
    "        police_distance.to_csv(\"../../data/processed/\" + name + \"_police_distance.csv\", index=False)\n",
    "    print(\"Finished: police distances\")\n",
    "        \n",
    "    if not os.path.exists(\"../../data/processed/\" + name + \"_street_types.csv\"):\n",
    "        street_type = generate_street_types(data['Address'])\n",
    "        street_type.to_csv(\"../../data/processed/\" + name + \"_street_types.csv\", index=False)\n",
    "    print(\"Finished: street types\")\n",
    "        \n",
    "    if not os.path.exists(\"../../data/processed/\" + name + \"_non_prosecution_rates.csv\"):\n",
    "        subregions = pd.read_csv(\"../../data/processed/\" + name + \"_subregions.csv\")\n",
    "        subregions = subregions[\"subregion\"]\n",
    "        regional_non_prosecution_rate = pd.read_csv(\"../../data/processed/regional_non_prosecution_rates.csv\")\n",
    "        regional_non_prosecution_rate = regional_non_prosecution_rate[\"non_prosecution_rate\"]\n",
    "        non_prosecution_rates = pd.Series([regional_non_prosecution_rate[r] for r in subregions], name='non_prosecution_rate')\n",
    "        non_prosecution_rates = pd.concat([non_prosecution_rates], axis=1)\n",
    "        non_prosecution_rates.to_csv(\"../../data/processed/\" + name + \"_non_prosecution_rates.csv\", index=False)\n",
    "    print(\"Finished: non prosecution rates\")\n",
    "        \n",
    "    if not os.path.exists(\"../../data/processed/\" + name + \"_crime_distribution.csv\"):\n",
    "        subregions = pd.read_csv(\"../../data/processed/\" + name + \"_subregions.csv\")\n",
    "        subregions = subregions[\"subregion\"]\n",
    "        distribution_local = pd.read_csv(\"../../data/processed/regional_crime_distribution.csv\")\n",
    "        crime_distribution = pd.DataFrame()\n",
    "        for c in crimes:\n",
    "            category_series = pd.Series([distribution_local[c][r] for r in subregions], name=c)\n",
    "            crime_distribution = pd.concat([crime_distribution, category_series], axis=1)\n",
    "        crime_distribution.to_csv(\"../../data/processed/\" + name + \"_crime_distribution.csv\", index=False)\n",
    "    print(\"Finished: crime distributions\")\n",
    "    \n",
    "    if not os.path.exists(\"../../data/processed/\" + name + \"_street_crime_distribution.csv\"):\n",
    "        streets = data[\"Address\"]\n",
    "        street_crime_distribution = pd.DataFrame()\n",
    "        for c in crimes:\n",
    "            category_series = pd.Series([get_street_crime_rate(s, c, street_crime_distribution_dict) for s in streets], name=(\"street_\" + c))\n",
    "            street_crime_distribution = pd.concat([street_crime_distribution, category_series], axis=1)\n",
    "        street_crime_distribution.to_csv(\"../../data/processed/\" + name + \"_street_crime_distribution.csv\", index=False)\n",
    "    print(\"Finished: finished street crime distributions\")\n",
    "\n",
    "    # here only subregions with criminal activity is regarded\n",
    "    if not os.path.exists(\"../../data/processed/\" + name + \"_architectural_features.csv\"):\n",
    "        subregions = pd.read_csv(\"../../data/processed/\" + name + \"_subregions.csv\")\n",
    "        subregions = subregions[\"subregion\"]\n",
    "        architectural_features = generate_subregion_architectural_features(subregions, x_sections, y_sections, from_point=False)\n",
    "        architectural_features.to_csv(\"../../data/processed/\" + name + \"_architectural_features.csv\", index=False)\n",
    "    print(\"Finished: architectural features\")\n",
    "    print(\"Finished: build_and_store_crime_features\")\n",
    "    print()"
   ]
  },
  {
   "cell_type": "code",
   "execution_count": 38,
   "metadata": {
    "scrolled": true
   },
   "outputs": [
    {
     "name": "stdout",
     "output_type": "stream",
     "text": [
      "Processing regional features\n",
      "-----------------------------\n",
      "Finished: subregions\n",
      "Finished: regional non prosecution rates\n",
      "Finished: regional crime distributions\n",
      "Finished: build_and_store_regional_features\n",
      "\n",
      "Processing crime features\n",
      "-----------------------------\n",
      "Finished: time features\n",
      "Finished: subregions\n",
      "Finished: police destricts\n",
      "Finished: police distances\n",
      "Finished: street types\n",
      "Finished: non prosecution rates\n",
      "Finished: crime distributions\n",
      "Finished: finished street crime distributions\n",
      "Finished: architectural features\n",
      "Finished: build_and_store_crime_features\n",
      "\n",
      "Processing crime features\n",
      "-----------------------------\n",
      "Finished: time features\n",
      "Finished: subregions\n",
      "Finished: police destricts\n",
      "Finished: police distances\n",
      "Finished: street types\n",
      "Finished: non prosecution rates\n",
      "Finished: crime distributions\n",
      "Finished: finished street crime distributions\n",
      "Finished: architectural features\n",
      "Finished: build_and_store_crime_features\n",
      "\n"
     ]
    }
   ],
   "source": [
    "build_and_store_regional_features(train_data)\n",
    "build_and_store_crime_features(train_data, \"train\")\n",
    "build_and_store_crime_features(test_data, \"test\")"
   ]
  },
  {
   "cell_type": "code",
   "execution_count": 39,
   "metadata": {},
   "outputs": [
    {
     "data": {
      "text/html": [
       "<div>\n",
       "<table border=\"1\" class=\"dataframe\">\n",
       "  <thead>\n",
       "    <tr style=\"text-align: right;\">\n",
       "      <th></th>\n",
       "      <th>street_WARRANTS</th>\n",
       "      <th>street_OTHER OFFENSES</th>\n",
       "      <th>street_LARCENY/THEFT</th>\n",
       "      <th>street_VEHICLE THEFT</th>\n",
       "      <th>street_VANDALISM</th>\n",
       "      <th>street_NON-CRIMINAL</th>\n",
       "      <th>street_ROBBERY</th>\n",
       "      <th>street_ASSAULT</th>\n",
       "      <th>street_WEAPON LAWS</th>\n",
       "      <th>street_BURGLARY</th>\n",
       "      <th>...</th>\n",
       "      <th>street_EMBEZZLEMENT</th>\n",
       "      <th>street_SUICIDE</th>\n",
       "      <th>street_LOITERING</th>\n",
       "      <th>street_SEX OFFENSES NON FORCIBLE</th>\n",
       "      <th>street_EXTORTION</th>\n",
       "      <th>street_GAMBLING</th>\n",
       "      <th>street_BAD CHECKS</th>\n",
       "      <th>street_TREA</th>\n",
       "      <th>street_RECOVERED VEHICLE</th>\n",
       "      <th>street_PORNOGRAPHY/OBSCENE MAT</th>\n",
       "    </tr>\n",
       "  </thead>\n",
       "  <tbody>\n",
       "    <tr>\n",
       "      <th>0</th>\n",
       "      <td>-2.985679</td>\n",
       "      <td>-1.784834</td>\n",
       "      <td>-1.391354</td>\n",
       "      <td>-2.729575</td>\n",
       "      <td>-2.924890</td>\n",
       "      <td>-2.141545</td>\n",
       "      <td>-3.615665</td>\n",
       "      <td>-2.343883</td>\n",
       "      <td>-4.621396</td>\n",
       "      <td>-3.130667</td>\n",
       "      <td>...</td>\n",
       "      <td>-6.622794</td>\n",
       "      <td>-7.454398</td>\n",
       "      <td>-6.573365</td>\n",
       "      <td>-8.688077</td>\n",
       "      <td>-8.139989</td>\n",
       "      <td>-8.701685</td>\n",
       "      <td>-7.678642</td>\n",
       "      <td>-9.21024</td>\n",
       "      <td>-5.630537</td>\n",
       "      <td>-9.21024</td>\n",
       "    </tr>\n",
       "    <tr>\n",
       "      <th>1</th>\n",
       "      <td>-2.985679</td>\n",
       "      <td>-1.784834</td>\n",
       "      <td>-1.391354</td>\n",
       "      <td>-2.729575</td>\n",
       "      <td>-2.924890</td>\n",
       "      <td>-2.141545</td>\n",
       "      <td>-3.615665</td>\n",
       "      <td>-2.343883</td>\n",
       "      <td>-4.621396</td>\n",
       "      <td>-3.130667</td>\n",
       "      <td>...</td>\n",
       "      <td>-6.622794</td>\n",
       "      <td>-7.454398</td>\n",
       "      <td>-6.573365</td>\n",
       "      <td>-8.688077</td>\n",
       "      <td>-8.139989</td>\n",
       "      <td>-8.701685</td>\n",
       "      <td>-7.678642</td>\n",
       "      <td>-9.21024</td>\n",
       "      <td>-5.630537</td>\n",
       "      <td>-9.21024</td>\n",
       "    </tr>\n",
       "    <tr>\n",
       "      <th>2</th>\n",
       "      <td>-2.985679</td>\n",
       "      <td>-1.784834</td>\n",
       "      <td>-1.391354</td>\n",
       "      <td>-2.729575</td>\n",
       "      <td>-2.924890</td>\n",
       "      <td>-2.141545</td>\n",
       "      <td>-3.615665</td>\n",
       "      <td>-2.343883</td>\n",
       "      <td>-4.621396</td>\n",
       "      <td>-3.130667</td>\n",
       "      <td>...</td>\n",
       "      <td>-6.622794</td>\n",
       "      <td>-7.454398</td>\n",
       "      <td>-6.573365</td>\n",
       "      <td>-8.688077</td>\n",
       "      <td>-8.139989</td>\n",
       "      <td>-8.701685</td>\n",
       "      <td>-7.678642</td>\n",
       "      <td>-9.21024</td>\n",
       "      <td>-5.630537</td>\n",
       "      <td>-9.21024</td>\n",
       "    </tr>\n",
       "    <tr>\n",
       "      <th>3</th>\n",
       "      <td>-3.925268</td>\n",
       "      <td>-2.477938</td>\n",
       "      <td>-0.597837</td>\n",
       "      <td>-3.401197</td>\n",
       "      <td>-3.212187</td>\n",
       "      <td>-2.786382</td>\n",
       "      <td>-4.337291</td>\n",
       "      <td>-2.910991</td>\n",
       "      <td>-9.210240</td>\n",
       "      <td>-1.968216</td>\n",
       "      <td>...</td>\n",
       "      <td>-9.210240</td>\n",
       "      <td>-9.210240</td>\n",
       "      <td>-9.210240</td>\n",
       "      <td>-9.210240</td>\n",
       "      <td>-9.210240</td>\n",
       "      <td>-9.210240</td>\n",
       "      <td>-9.210240</td>\n",
       "      <td>-9.21024</td>\n",
       "      <td>-9.210240</td>\n",
       "      <td>-9.21024</td>\n",
       "    </tr>\n",
       "    <tr>\n",
       "      <th>4</th>\n",
       "      <td>-9.210240</td>\n",
       "      <td>-2.240710</td>\n",
       "      <td>-1.563976</td>\n",
       "      <td>-2.240710</td>\n",
       "      <td>-2.240710</td>\n",
       "      <td>-2.240710</td>\n",
       "      <td>-3.218876</td>\n",
       "      <td>-3.218876</td>\n",
       "      <td>-3.931826</td>\n",
       "      <td>-1.435085</td>\n",
       "      <td>...</td>\n",
       "      <td>-9.210240</td>\n",
       "      <td>-9.210240</td>\n",
       "      <td>-9.210240</td>\n",
       "      <td>-9.210240</td>\n",
       "      <td>-9.210240</td>\n",
       "      <td>-9.210240</td>\n",
       "      <td>-3.931826</td>\n",
       "      <td>-9.21024</td>\n",
       "      <td>-9.210240</td>\n",
       "      <td>-9.21024</td>\n",
       "    </tr>\n",
       "  </tbody>\n",
       "</table>\n",
       "<p>5 rows × 39 columns</p>\n",
       "</div>"
      ],
      "text/plain": [
       "   street_WARRANTS  street_OTHER OFFENSES  street_LARCENY/THEFT  \\\n",
       "0        -2.985679              -1.784834             -1.391354   \n",
       "1        -2.985679              -1.784834             -1.391354   \n",
       "2        -2.985679              -1.784834             -1.391354   \n",
       "3        -3.925268              -2.477938             -0.597837   \n",
       "4        -9.210240              -2.240710             -1.563976   \n",
       "\n",
       "   street_VEHICLE THEFT  street_VANDALISM  street_NON-CRIMINAL  \\\n",
       "0             -2.729575         -2.924890            -2.141545   \n",
       "1             -2.729575         -2.924890            -2.141545   \n",
       "2             -2.729575         -2.924890            -2.141545   \n",
       "3             -3.401197         -3.212187            -2.786382   \n",
       "4             -2.240710         -2.240710            -2.240710   \n",
       "\n",
       "   street_ROBBERY  street_ASSAULT  street_WEAPON LAWS  street_BURGLARY  \\\n",
       "0       -3.615665       -2.343883           -4.621396        -3.130667   \n",
       "1       -3.615665       -2.343883           -4.621396        -3.130667   \n",
       "2       -3.615665       -2.343883           -4.621396        -3.130667   \n",
       "3       -4.337291       -2.910991           -9.210240        -1.968216   \n",
       "4       -3.218876       -3.218876           -3.931826        -1.435085   \n",
       "\n",
       "                ...                street_EMBEZZLEMENT  street_SUICIDE  \\\n",
       "0               ...                          -6.622794       -7.454398   \n",
       "1               ...                          -6.622794       -7.454398   \n",
       "2               ...                          -6.622794       -7.454398   \n",
       "3               ...                          -9.210240       -9.210240   \n",
       "4               ...                          -9.210240       -9.210240   \n",
       "\n",
       "   street_LOITERING  street_SEX OFFENSES NON FORCIBLE  street_EXTORTION  \\\n",
       "0         -6.573365                         -8.688077         -8.139989   \n",
       "1         -6.573365                         -8.688077         -8.139989   \n",
       "2         -6.573365                         -8.688077         -8.139989   \n",
       "3         -9.210240                         -9.210240         -9.210240   \n",
       "4         -9.210240                         -9.210240         -9.210240   \n",
       "\n",
       "   street_GAMBLING  street_BAD CHECKS  street_TREA  street_RECOVERED VEHICLE  \\\n",
       "0        -8.701685          -7.678642     -9.21024                 -5.630537   \n",
       "1        -8.701685          -7.678642     -9.21024                 -5.630537   \n",
       "2        -8.701685          -7.678642     -9.21024                 -5.630537   \n",
       "3        -9.210240          -9.210240     -9.21024                 -9.210240   \n",
       "4        -9.210240          -3.931826     -9.21024                 -9.210240   \n",
       "\n",
       "   street_PORNOGRAPHY/OBSCENE MAT  \n",
       "0                        -9.21024  \n",
       "1                        -9.21024  \n",
       "2                        -9.21024  \n",
       "3                        -9.21024  \n",
       "4                        -9.21024  \n",
       "\n",
       "[5 rows x 39 columns]"
      ]
     },
     "execution_count": 39,
     "metadata": {},
     "output_type": "execute_result"
    }
   ],
   "source": [
    "t = pd.read_csv(\"../../data/processed/train_street_crime_distribution.csv\")\n",
    "t.head()"
   ]
  },
  {
   "cell_type": "markdown",
   "metadata": {},
   "source": [
    "### Build final dataset for training and testing from partial datasets"
   ]
  },
  {
   "cell_type": "code",
   "execution_count": 40,
   "metadata": {
    "collapsed": true
   },
   "outputs": [],
   "source": [
    "from sklearn import preprocessing\n",
    "from sklearn.decomposition import PCA\n",
    "from sklearn.preprocessing import StandardScaler\n",
    "from sklearn.pipeline import Pipeline\n",
    "from sklearn.model_selection import train_test_split\n",
    "\n",
    "\n",
    "#global available label encoder to retrieve category description later on\n",
    "le = preprocessing.LabelEncoder()\n",
    "\n",
    "def concat_generated_subdataset(data, name):\n",
    "    # loading distinct datasets\n",
    "    base_path = \"../../data/processed/\"\n",
    "    subregions = pd.read_csv(base_path + name + \"_subregions.csv\")\n",
    "    non_presecution_rate = pd.read_csv(base_path + name + \"_non_prosecution_rates.csv\")\n",
    "    crime_distribution = pd.read_csv(base_path + name + \"_crime_distribution.csv\")\n",
    "    time_features = pd.read_csv(base_path + name + \"_time_features.csv\")\n",
    "    police_districts = pd.read_csv(base_path + name + \"_police_destrict.csv\")\n",
    "    police_distance = pd.read_csv(base_path + name + \"_police_distance.csv\")\n",
    "    street_types = pd.read_csv(base_path + name + \"_street_types.csv\")\n",
    "    street_crime_distribution = pd.read_csv(base_path + name + \"_street_crime_distribution.csv\")\n",
    "    architectural_feat = pd.read_csv(base_path + name + \"_architectural_features.csv\" )\n",
    "    \n",
    "    #print(\"subregions: \", len(subregions))\n",
    "    #print(\"non_pres: \", len(non_presecution_rate))\n",
    "    #print(\"crim_dis: \", len(crime_distribution))\n",
    "    #print(\"time feat: \", len(time_features))\n",
    "    #print(\"police districts: \", len(police_districts))\n",
    "    #print(\"police dist: \", len(police_distance))\n",
    "    #print(\"street types: \", len(street_types))\n",
    "    #print(\"architect: \", len(architectural_feat))\n",
    "     \n",
    "    series = [\n",
    "        data['X'],\n",
    "        data['Y'],\n",
    "        subregions,\n",
    "        time_features,\n",
    "        police_districts,\n",
    "        crime_distribution,\n",
    "        street_crime_distribution,\n",
    "        non_presecution_rate,\n",
    "        police_distance, street_types,\n",
    "        architectural_feat\n",
    "    ]\n",
    "    \n",
    "    if name == 'train':\n",
    "        # label encoding category\n",
    "        categories = pd.Series(le.fit_transform(data['Category']), name='Category')\n",
    "        series = [categories] + series\n",
    "    \n",
    "    \n",
    "    return pd.concat(series, axis=1)\n",
    "    "
   ]
  },
  {
   "cell_type": "code",
   "execution_count": 41,
   "metadata": {
    "collapsed": true
   },
   "outputs": [],
   "source": [
    "def build_final_datasets(pca_components=10):\n",
    "    \"\"\"\n",
    "    Builds the final datasets for processing with the neuronal network\n",
    "    Performs PCA and standard scaling on these datasets\n",
    "    \n",
    "    This is done this way instead of a pipline due to a separatly\n",
    "    provided testset by kaggle\n",
    "    \"\"\"\n",
    "    \n",
    "    pca = PCA(n_components=pca_components)\n",
    "    ss = StandardScaler()\n",
    "    \n",
    "    train_data = pd.read_csv(\"../../data/interim/train_cleaned.csv\")\n",
    "    train_data['Dates'] = pd.to_datetime(train_data['Dates'])\n",
    "    train = concat_generated_subdataset(train_data, 'train')\n",
    "\n",
    "    test_data = pd.read_csv(\"../../data/interim/test_cleaned.csv\")\n",
    "    test_data['Dates'] = pd.to_datetime(test_data['Dates'])\n",
    "    test = concat_generated_subdataset(test_data, 'test')\n",
    "    \n",
    "    \n",
    "    missing_columns = set(train.columns) - set(test.columns)\n",
    "    missing_columns.remove('Category')\n",
    "    \n",
    "    print(\"Missing columns in test set: \", set(train.columns) - set(test.columns))\n",
    "    \n",
    "    print(\"Imputing empty {} (0) columns into test set\".format(missing_columns))\n",
    "    \n",
    "    test['BUFANO'] = 0\n",
    "    test['FERLINGHETTI'] = 0\n",
    "      \n",
    "    print(\"Extracting values and ravel categories\")\n",
    "    \n",
    "    X = train.iloc[:,1:].values\n",
    "    y = train.iloc[:,:1].values.ravel()\n",
    "    test = test.iloc[:].values\n",
    "    \n",
    "    print(\"Standard Scaling train and test set\")\n",
    "    \n",
    "    X = ss.fit_transform(X)\n",
    "    test = ss.transform(test)\n",
    "    \n",
    "    print(\"Applying PCA on training and test set\")\n",
    "    \n",
    "    # X = pca.fit_transform(X)\n",
    "    # test = pca.transform(test)\n",
    "  \n",
    "    print(\"\\n----Done----\")\n",
    "    \n",
    "    return X, y, test"
   ]
  },
  {
   "cell_type": "code",
   "execution_count": 42,
   "metadata": {},
   "outputs": [
    {
     "name": "stdout",
     "output_type": "stream",
     "text": [
      "Missing columns in test set:  {'FERLINGHETTI', 'BUFANO', 'Category'}\n",
      "Imputing empty {'FERLINGHETTI', 'BUFANO'} (0) columns into test set\n",
      "Extracting values and ravel categories\n",
      "Standard Scaling train and test set\n",
      "Applying PCA on training and test set\n",
      "\n",
      "----Done----\n"
     ]
    }
   ],
   "source": [
    "X,y,test = build_final_datasets()"
   ]
  },
  {
   "cell_type": "markdown",
   "metadata": {},
   "source": [
    "## Defining Multilayer perceptron"
   ]
  },
  {
   "cell_type": "code",
   "execution_count": 43,
   "metadata": {
    "collapsed": true
   },
   "outputs": [],
   "source": [
    "mlp = MLPClassifier(hidden_layer_sizes=(200, 180, 200),\n",
    "                    activation='tanh',\n",
    "                    learning_rate_init=0.005,\n",
    "                    max_iter=400)"
   ]
  },
  {
   "cell_type": "markdown",
   "metadata": {},
   "source": [
    "## Training MLP for local test\n",
    "Always execute all the rows here"
   ]
  },
  {
   "cell_type": "code",
   "execution_count": null,
   "metadata": {
    "collapsed": true
   },
   "outputs": [],
   "source": [
    "X_train, X_test, y_train, y_test = train_test_split(X, y, test_size=0.33, random_state=42)"
   ]
  },
  {
   "cell_type": "code",
   "execution_count": null,
   "metadata": {
    "collapsed": true
   },
   "outputs": [],
   "source": [
    "mlp.fit(X_train, y_train)"
   ]
  },
  {
   "cell_type": "code",
   "execution_count": null,
   "metadata": {
    "collapsed": true
   },
   "outputs": [],
   "source": [
    "mlp_proba = mlp.predict_proba(X_test)\n",
    "mlp_pred = mlp.predict(X_test)\n",
    "log_score = log_loss(y_test, mlp_proba)\n",
    "acc_score = accuracy_score(y_test, mlp_pred)\n",
    "print(\"log_loss: \", log_score)\n",
    "print(\"Accuracy: \", acc_score)"
   ]
  },
  {
   "cell_type": "markdown",
   "metadata": {},
   "source": [
    "## Training MLP for submission"
   ]
  },
  {
   "cell_type": "code",
   "execution_count": 44,
   "metadata": {},
   "outputs": [
    {
     "data": {
      "text/plain": [
       "MLPClassifier(activation='tanh', alpha=0.0001, batch_size='auto', beta_1=0.9,\n",
       "       beta_2=0.999, early_stopping=False, epsilon=1e-08,\n",
       "       hidden_layer_sizes=(200, 180, 200), learning_rate='constant',\n",
       "       learning_rate_init=0.005, max_iter=400, momentum=0.9,\n",
       "       nesterovs_momentum=True, power_t=0.5, random_state=None,\n",
       "       shuffle=True, solver='adam', tol=0.0001, validation_fraction=0.1,\n",
       "       verbose=False, warm_start=False)"
      ]
     },
     "execution_count": 44,
     "metadata": {},
     "output_type": "execute_result"
    }
   ],
   "source": [
    "mlp.fit(X, y)"
   ]
  },
  {
   "cell_type": "code",
   "execution_count": 45,
   "metadata": {
    "collapsed": true
   },
   "outputs": [],
   "source": [
    "def create_submission(probabilities):\n",
    "    \"\"\"\n",
    "    Creates a kaggle csv submission file within the notebook folder\n",
    "    \"\"\"\n",
    "    submission = pd.DataFrame(probabilities, columns=list(le.classes_))\n",
    "    submission.insert(0, 'Id', range(0, len(submission)))\n",
    "    submission.to_csv(\"submission.csv\", index=False)"
   ]
  },
  {
   "cell_type": "markdown",
   "metadata": {
    "collapsed": true
   },
   "source": [
    "Training MLP with sknn and grid search"
   ]
  },
  {
   "cell_type": "code",
   "execution_count": 46,
   "metadata": {
    "collapsed": true
   },
   "outputs": [],
   "source": [
    "def create_submission(probabilities):\n",
    "    submission = pd.DataFrame(probabilities, columns=list(le.classes_))\n",
    "    submission.insert(0, 'Id', range(0, len(submission)))\n",
    "    submission.to_csv(\"submission.csv\", index=False)"
   ]
  },
  {
   "cell_type": "code",
   "execution_count": null,
   "metadata": {},
   "outputs": [],
   "source": [
    "create_submission(mlp.predict_proba(test))"
   ]
  },
  {
   "cell_type": "code",
   "execution_count": null,
   "metadata": {
    "collapsed": true
   },
   "outputs": [],
   "source": []
  }
 ],
 "metadata": {
  "kernelspec": {
   "display_name": "Python 3",
   "language": "python",
   "name": "python3"
  },
  "language_info": {
   "codemirror_mode": {
    "name": "ipython",
    "version": 3
   },
   "file_extension": ".py",
   "mimetype": "text/x-python",
   "name": "python",
   "nbconvert_exporter": "python",
   "pygments_lexer": "ipython3",
   "version": "3.6.0"
  }
 },
 "nbformat": 4,
 "nbformat_minor": 2
}
