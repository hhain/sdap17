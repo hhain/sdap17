{
 "cells": [
  {
   "cell_type": "code",
   "execution_count": null,
   "metadata": {
    "collapsed": true
   },
   "outputs": [],
   "source": [
    "# Mustererkennung in Funkmessdaten"
   ]
  },
  {
   "cell_type": "markdown",
   "metadata": {},
   "source": [
    "## Aufgabe 1: Laden der Datenbank in Jupyter Notebook"
   ]
  },
  {
   "cell_type": "code",
   "execution_count": 2,
   "metadata": {
    "collapsed": true
   },
   "outputs": [],
   "source": [
    "# imports\n",
    "import re\n",
    "import numpy as np\n",
    "import pandas as pd\n",
    "import seaborn as sns\n",
    "import matplotlib.pyplot as plt\n",
    "import pprint as pp"
   ]
  },
  {
   "cell_type": "markdown",
   "metadata": {},
   "source": [
    "Wir öffnen die Datenbank und lassen uns die Keys der einzelnen Tabellen ausgeben. \n",
    " "
   ]
  },
  {
   "cell_type": "code",
   "execution_count": null,
   "metadata": {
    "collapsed": false,
    "scrolled": true
   },
   "outputs": [],
   "source": [
    "hdf = pd.HDFStore('../../data/raw/TestMessungen_NEU.hdf')\n",
    "print(hdf.keys)"
   ]
  },
  {
   "cell_type": "markdown",
   "metadata": {},
   "source": [
    "## Aufgabe 2: Inspektion eines einzelnen Dataframes"
   ]
  },
  {
   "cell_type": "markdown",
   "metadata": {},
   "source": [
    "Wir laden den Frame x1_t1_trx_1_4 und betrachten seine Dimension. "
   ]
  },
  {
   "cell_type": "code",
   "execution_count": null,
   "metadata": {
    "collapsed": false
   },
   "outputs": [],
   "source": [
    "df_x1_t1_trx_1_4 = hdf.get('/x1/t1/trx_1_4')\n",
    "print(\"Rows:\", df_x1_t1_trx_1_4.shape[0])\n",
    "print(\"Columns:\", df_x1_t1_trx_1_4.shape[1])"
   ]
  },
  {
   "cell_type": "markdown",
   "metadata": {},
   "source": [
    "Als nächstes Untersuchen wir exemplarisch für zwei Empfänger-Sender-Gruppen die Attributzusammensetzung."
   ]
  },
  {
   "cell_type": "code",
   "execution_count": null,
   "metadata": {
    "collapsed": false
   },
   "outputs": [],
   "source": [
    "# first inspection of columns from df_x1_t1_trx_1_4\n",
    "df_x1_t1_trx_1_4.head(5)"
   ]
  },
  {
   "cell_type": "markdown",
   "metadata": {},
   "source": [
    "Für die Analyse der Frames definieren wir einige Hilfsfunktionen."
   ]
  },
  {
   "cell_type": "code",
   "execution_count": null,
   "metadata": {
    "collapsed": true,
    "scrolled": true
   },
   "outputs": [],
   "source": [
    "# Little function to retrieve sender-receiver tuples from df columns\n",
    "def extract_snd_rcv(df):\n",
    "    regex = r\"trx_[1-4]_[1-4]\"\n",
    "    # creates a set containing the different pairs\n",
    "    snd_rcv = {x[4:7] for x in df.columns if re.search(regex, x)}\n",
    "    return [(x[0],x[-1]) for x in snd_rcv]"
   ]
  },
  {
   "cell_type": "code",
   "execution_count": null,
   "metadata": {
    "collapsed": true
   },
   "outputs": [],
   "source": [
    "# Sums the number of columns for each sender-receiver tuple\n",
    "def get_column_counts(snd_rcv, df):\n",
    "    col_counts = {}\n",
    "    for snd,rcv in snd_rcv:\n",
    "        col_counts['Columns for pair {} {}:'.format(snd, rcv)] = len([i for i, word in enumerate(list(df.columns)) if word.startswith('trx_{}_{}'.format(snd, rcv))])\n",
    "    return col_counts"
   ]
  },
  {
   "cell_type": "code",
   "execution_count": null,
   "metadata": {
    "collapsed": true
   },
   "outputs": [],
   "source": [
    "# Analyze the column composition of a given measurement.\n",
    "def analyse_columns(df):\n",
    "    df_snd_rcv = extract_snd_rcv(df)\n",
    "    cc = get_column_counts(df_snd_rcv, df)\n",
    "\n",
    "    for x in cc:\n",
    "        print(x, cc[x])\n",
    "    print(\"Sum of pair related columns: %i\" % sum(cc.values()))\n",
    "    print()\n",
    "    print(\"Other columns are:\")\n",
    "    for att in [col for col in df.columns if 'ifft' not in col and 'ts' not in col]:\n",
    "        print(att)"
   ]
  },
  {
   "cell_type": "code",
   "execution_count": null,
   "metadata": {
    "collapsed": true
   },
   "outputs": [],
   "source": [
    "# Analyze the values of the target column.\n",
    "def analyze_target(df):\n",
    "    print(df['target'].unique())\n",
    "    print(\"# Unique values in target: %i\" % len(df['target'].unique()))"
   ]
  },
  {
   "cell_type": "markdown",
   "metadata": {},
   "source": [
    "Bestimme nun die Spaltezusammensetzung von df_x1_t1_trx_1_4."
   ]
  },
  {
   "cell_type": "code",
   "execution_count": null,
   "metadata": {
    "collapsed": false
   },
   "outputs": [],
   "source": [
    "analyse_columns(df_x1_t1_trx_1_4)"
   ]
  },
  {
   "cell_type": "markdown",
   "metadata": {},
   "source": [
    "Betrachte den Inhalt der \"target\"-Spalte von df_x1_t1_trx_1_4."
   ]
  },
  {
   "cell_type": "code",
   "execution_count": null,
   "metadata": {
    "collapsed": false
   },
   "outputs": [],
   "source": [
    "analyze_target(df_x1_t1_trx_1_4)"
   ]
  },
  {
   "cell_type": "markdown",
   "metadata": {},
   "source": [
    "Als nächstes laden wir den Frame x3_t2_trx_3_1 und betrachten seine Dimension. "
   ]
  },
  {
   "cell_type": "code",
   "execution_count": null,
   "metadata": {
    "collapsed": false
   },
   "outputs": [],
   "source": [
    "df_x3_t2_trx_3_1 = hdf.get('/x3/t2/trx_3_1')\n",
    "print(\"Rows:\", df_x3_t2_trx_3_1.shape[0])\n",
    "print(\"Columns:\", df_x3_t2_trx_3_1.shape[1])"
   ]
  },
  {
   "cell_type": "markdown",
   "metadata": {},
   "source": [
    "Gefolgt von einer Analyse seiner Spaltenzusammensetzung und seiner \"target\"-Werte."
   ]
  },
  {
   "cell_type": "code",
   "execution_count": null,
   "metadata": {
    "collapsed": false
   },
   "outputs": [],
   "source": [
    "analyse_columns(df_x3_t2_trx_3_1)"
   ]
  },
  {
   "cell_type": "code",
   "execution_count": null,
   "metadata": {
    "collapsed": false
   },
   "outputs": [],
   "source": [
    "analyze_target(df_x3_t2_trx_3_1)"
   ]
  },
  {
   "cell_type": "markdown",
   "metadata": {},
   "source": [
    "Frage: Was stellen Sie bzgl. der „Empfänger-Nummer_Sender-Nummer“-Kombinationen fest? Sind diese gleich? Welche Ausprägungen finden Sie in der Spalte „target“? \n",
    "\n",
    "Antwort: Wir sehen, wenn jeweils ein Paar sendet, hören die anderen beiden Sender zu und messen ihre Verbindung zu den gerade sendenden Knoten (d.h. 6 Paare in jedem Dataframe). Sendet z.B. das Paar 3 1, so misst Knoten 1 die Verbindung 1-3, Knoten 3 die Verbindung 3-1 und Knoten 2 und 4 Verbindung 2-1 und 2-3 bzw. 4-1 und 4-3. Die 10 verschiedenen Ausprägungen der Spalte \"target\" sind oben zu sehen."
   ]
  },
  {
   "cell_type": "markdown",
   "metadata": {},
   "source": [
    "## Aufgabe 3: Visualisierung der Messreihe des Datensatz"
   ]
  },
  {
   "cell_type": "markdown",
   "metadata": {},
   "source": [
    "Wir visualisieren die Rohdaten mit verschiedenen Heatmaps, um so die Integrität der Daten optisch zu validieren und Ideen für mögliche Features zu entwickeln. Hier stellen wir exemplarisch die Daten von Frame df_x1_t1_trx_1_4 dar."
   ]
  },
  {
   "cell_type": "code",
   "execution_count": null,
   "metadata": {
    "collapsed": true,
    "scrolled": false
   },
   "outputs": [],
   "source": [
    "vals = df_x1_t1_trx_1_4.loc[:,'trx_2_4_ifft_0':'trx_2_4_ifft_1999'].values"
   ]
  },
  {
   "cell_type": "code",
   "execution_count": null,
   "metadata": {
    "collapsed": false,
    "scrolled": false
   },
   "outputs": [],
   "source": [
    "# one big heatmap\n",
    "plt.figure(figsize=(14, 12))\n",
    "plt.title('trx_2_4_ifft')\n",
    "plt.xlabel(\"ifft of frequency\")\n",
    "plt.ylabel(\"measurement\")\n",
    "ax = sns.heatmap(vals, xticklabels=200, yticklabels=20, vmin=0, vmax=1, cmap='nipy_spectral_r')\n",
    "plt.show()"
   ]
  },
  {
   "cell_type": "markdown",
   "metadata": {},
   "source": [
    "Wir betrachten wie verschiedene Farbschemata unterschiedliche Merkmale unserer Rohdaten hervorheben."
   ]
  },
  {
   "cell_type": "code",
   "execution_count": null,
   "metadata": {
    "collapsed": false
   },
   "outputs": [],
   "source": [
    "# compare different heatmaps\n",
    "plt.figure(1, figsize=(12,10))\n",
    "\n",
    "# nipy_spectral_r scheme\n",
    "plt.subplot(221)\n",
    "plt.title('trx_2_4_ifft')\n",
    "plt.xlabel(\"ifft of frequency\")\n",
    "plt.ylabel(\"measurement\")\n",
    "ax = sns.heatmap(vals, xticklabels=200, yticklabels=20, vmin=0, vmax=1, cmap='nipy_spectral_r')\n",
    "\n",
    "# terrain scheme\n",
    "plt.subplot(222)\n",
    "plt.title('trx_2_4_ifft')\n",
    "plt.xlabel(\"ifft of frequency\")\n",
    "plt.ylabel(\"measurement\")\n",
    "ax = sns.heatmap(vals, xticklabels=200, yticklabels=20, vmin=0, vmax=1, cmap='terrain')\n",
    "\n",
    "# Vega10 scheme\n",
    "plt.subplot(223)\n",
    "plt.title('trx_2_4_ifft')\n",
    "plt.xlabel(\"ifft of frequency\")\n",
    "plt.ylabel(\"measurement\")\n",
    "ax = sns.heatmap(vals, xticklabels=200, yticklabels=20, vmin=0, vmax=1, cmap='Vega10')\n",
    "\n",
    "# Wistia scheme\n",
    "plt.subplot(224)\n",
    "plt.title('trx_2_4_ifft')\n",
    "plt.xlabel(\"ifft of frequency\")\n",
    "plt.ylabel(\"measurement\")\n",
    "ax = sns.heatmap(vals, xticklabels=200, yticklabels=20, vmin=0, vmax=1, cmap='Wistia')\n",
    "\n",
    "# Adjust the subplot layout, because the logit one may take more space\n",
    "# than usual, due to y-tick labels like \"1 - 10^{-3}\"\n",
    "plt.subplots_adjust(top=0.92, bottom=0.08, left=0.10, right=0.95, hspace=0.25,\n",
    "                    wspace=0.2)\n",
    "\n",
    "\n",
    "plt.show()"
   ]
  },
  {
   "cell_type": "markdown",
   "metadata": {},
   "source": [
    "## Aufgabe 3: Groundtruth-Label anpassen"
   ]
  },
  {
   "cell_type": "code",
   "execution_count": null,
   "metadata": {
    "collapsed": true
   },
   "outputs": [],
   "source": [
    "# Iterating over hdf data and creating interim data presentation stored in data/interim/testmessungen_interim.hdf\n",
    "# Interim data representation contains aditional binary class (binary_target - encoding 0=empty and 1=not empty)\n",
    "# and multi class target (multi_target - encoding 0-9 for each possible class)\n",
    "from sklearn.preprocessing import LabelEncoder\n",
    "le = LabelEncoder()\n",
    "\n",
    "interim_path = '../../data/interim/01_testmessungen.hdf'\n",
    "\n",
    "def binary_mapper(df):\n",
    "    \n",
    "    def map_binary(target):\n",
    "        if target.startswith('Empty'):\n",
    "            return 0\n",
    "        else:\n",
    "            return 1\n",
    "    \n",
    "    df['binary_target'] = pd.Series(map(map_binary, df['target']))\n",
    "    \n",
    "    \n",
    "def multiclass_mapper(df):\n",
    "    le.fit(df['target'])\n",
    "    df['multi_target'] = le.transform(df['target'])\n",
    "    \n",
    "for key in hdf.keys():\n",
    "    df = hdf.get(key)\n",
    "    binary_mapper(df)\n",
    "    multiclass_mapper(df)\n",
    "    df.to_hdf(interim_path, key)\n",
    "\n",
    "hdf.close()"
   ]
  },
  {
   "cell_type": "markdown",
   "metadata": {},
   "source": [
    "Überprüfe neu beschrifteten Dataframe „/x1/t1/trx_3_1“ verwenden. Wir erwarten als Ergebnisse für 5 zu Beginn des Experiments „Empty“ (bzw. 0) und für 120 mitten im Experiment „Not Empty“ (bzw. 1). "
   ]
  },
  {
   "cell_type": "code",
   "execution_count": null,
   "metadata": {
    "collapsed": false,
    "scrolled": true
   },
   "outputs": [],
   "source": [
    "hdf = pd.HDFStore('../../data/interim/01_testmessungen.hdf')\n",
    "df_x1_t1_trx_3_1 = hdf.get('/x1/t1/trx_3_1')\n",
    "print(\"binary_target for measurement 5:\", df_x1_t1_trx_3_1['binary_target'][5])\n",
    "print(\"binary_target for measurement 120:\", df_x1_t1_trx_3_1['binary_target'][120])\n",
    "\n",
    "print('The unique values of the target column in /x1/t1/trx_3_1 are:')\n",
    "print()\n",
    "print(df_x1_t1_trx_3_1[\"binary_target\"].value_counts())\n",
    "hdf.close()"
   ]
  },
  {
   "cell_type": "markdown",
   "metadata": {},
   "source": [
    "## Aufgabe 4: Einfacher Erkenner mit Hold-Out-Validierung"
   ]
  },
  {
   "cell_type": "markdown",
   "metadata": {},
   "source": [
    "Wir folgen den Schritten in Aufgabe 4 und testen einen einfachen Erkenner."
   ]
  },
  {
   "cell_type": "code",
   "execution_count": null,
   "metadata": {
    "collapsed": true
   },
   "outputs": [],
   "source": [
    "from evaluation import *\n",
    "from filters import *\n",
    "from utility import *\n",
    "from features import *"
   ]
  },
  {
   "cell_type": "markdown",
   "metadata": {
    "collapsed": true
   },
   "source": [
    "### Öffnen von Hdf mittels pandas"
   ]
  },
  {
   "cell_type": "code",
   "execution_count": null,
   "metadata": {
    "collapsed": true
   },
   "outputs": [],
   "source": [
    "# raw data to achieve target values\n",
    "hdf = pd.HDFStore('../../data/raw/TestMessungen_NEU.hdf')"
   ]
  },
  {
   "cell_type": "markdown",
   "metadata": {},
   "source": [
    "### Beispiel Erkenner"
   ]
  },
  {
   "cell_type": "markdown",
   "metadata": {},
   "source": [
    "#### Datensätze vorbereiten"
   ]
  },
  {
   "cell_type": "code",
   "execution_count": null,
   "metadata": {
    "collapsed": false
   },
   "outputs": [],
   "source": [
    "# generate datasets\n",
    "tst = ['1','2','3']\n",
    "tst_ds = []\n",
    "\n",
    "for t in tst:\n",
    "\n",
    "    df_tst = hdf.get('/x1/t'+t+'/trx_3_1')\n",
    "    lst = df_tst.columns[df_tst.columns.str.contains('_ifft_')]\n",
    "    \n",
    "    #df_tst_cl,_ = distortion_filter(df_tst_cl)\n",
    "    \n",
    "    groups = get_trx_groups(df_tst)\n",
    "    df_std = rf_grouped(df_tst, groups=groups, fn=rf_std_single, label='target')\n",
    "    df_mean = rf_grouped(df_tst, groups=groups, fn=rf_mean_single)\n",
    "    df_p2p = rf_grouped(df_tst, groups=groups, fn=rf_ptp_single) # added p2p feature\n",
    "    \n",
    "    df_all = pd.concat( [df_std, df_mean, df_p2p], axis=1 ) # added p2p feature\n",
    "    \n",
    "    df_all = cf_std_window(df_all, window=4, label='target')\n",
    "    \n",
    "    df_tst_sum = generate_class_label_presence(df_all, state_variable='target')\n",
    "    \n",
    "    # remove index column\n",
    "    df_tst_sum = df_tst_sum[df_tst_sum.columns.values[~df_tst_sum.columns.str.contains('index')].tolist()]\n",
    "    print('Columns in Dataset:',t)\n",
    "    print(df_tst_sum.columns)\n",
    "    \n",
    "    tst_ds.append(df_tst_sum.copy())"
   ]
  },
  {
   "cell_type": "code",
   "execution_count": null,
   "metadata": {
    "collapsed": false
   },
   "outputs": [],
   "source": [
    "# holdout validation\n",
    "print(hold_out_val(tst_ds, target='target', include_self=False, cl='rf', verbose=False, random_state=1))"
   ]
  },
  {
   "cell_type": "markdown",
   "metadata": {},
   "source": [
    "### Schließen von HDF Store"
   ]
  },
  {
   "cell_type": "code",
   "execution_count": null,
   "metadata": {
    "collapsed": true
   },
   "outputs": [],
   "source": [
    "hdf.close()"
   ]
  },
  {
   "cell_type": "markdown",
   "metadata": {
    "collapsed": true
   },
   "source": [
    "## Aufgabe 5: Eigener Erkenner"
   ]
  },
  {
   "cell_type": "markdown",
   "metadata": {},
   "source": [
    "Für die Konstruktion eines eigenen Erkenners führen wir die entsprechenden Preprocessing und Mapping Schritte ausgehend von den Roddaten erneut durch und passen diese unseren Bedürfnissen an.# Load hdfs data\n",
    "hdfs = pd.HDFStore(\"../../data/raw/henrik/TestMessungen_NEU.hdf\")"
   ]
  },
  {
   "cell_type": "code",
   "execution_count": 3,
   "metadata": {
    "collapsed": false
   },
   "outputs": [],
   "source": [
    "# Load raw data\n",
    "hdf = pd.HDFStore(\"../../data/raw/TestMessungen_NEU.hdf\")"
   ]
  },
  {
   "cell_type": "code",
   "execution_count": 4,
   "metadata": {
    "collapsed": false,
    "scrolled": true
   },
   "outputs": [
    {
     "name": "stdout",
     "output_type": "stream",
     "text": [
      "<bound method HDFStore.keys of <class 'pandas.io.pytables.HDFStore'>\n",
      "File path: ../../data/raw/TestMessungen_NEU.hdf\n",
      "/x1/t1/trx_1_2            frame        (shape->[227,12009])\n",
      "/x1/t1/trx_1_4            frame        (shape->[229,12009])\n",
      "/x1/t1/trx_2_3            frame        (shape->[226,12009])\n",
      "/x1/t1/trx_3_1            frame        (shape->[233,12009])\n",
      "/x1/t1/trx_3_4            frame        (shape->[226,12009])\n",
      "/x1/t1/trx_4_2            frame        (shape->[230,12009])\n",
      "/x1/t2/trx_1_2            frame        (shape->[223,12009])\n",
      "/x1/t2/trx_1_4            frame        (shape->[220,12009])\n",
      "/x1/t2/trx_2_3            frame        (shape->[218,12009])\n",
      "/x1/t2/trx_3_1            frame        (shape->[221,12009])\n",
      "/x1/t2/trx_3_4            frame        (shape->[218,12009])\n",
      "/x1/t2/trx_4_2            frame        (shape->[221,12009])\n",
      "/x1/t3/trx_1_2            frame        (shape->[246,12009])\n",
      "/x1/t3/trx_1_4            frame        (shape->[250,12009])\n",
      "/x1/t3/trx_2_3            frame        (shape->[246,12009])\n",
      "/x1/t3/trx_3_1            frame        (shape->[244,12009])\n",
      "/x1/t3/trx_3_4            frame        (shape->[252,12009])\n",
      "/x1/t3/trx_4_2            frame        (shape->[247,12009])\n",
      "/x2/t1/trx_1_2            frame        (shape->[195,12009])\n",
      "/x2/t1/trx_1_4            frame        (shape->[194,12009])\n",
      "/x2/t1/trx_2_3            frame        (shape->[201,12009])\n",
      "/x2/t1/trx_3_1            frame        (shape->[200,12009])\n",
      "/x2/t1/trx_3_4            frame        (shape->[198,12009])\n",
      "/x2/t1/trx_4_2            frame        (shape->[199,12009])\n",
      "/x2/t2/trx_1_2            frame        (shape->[155,12009])\n",
      "/x2/t2/trx_1_4            frame        (shape->[168,12009])\n",
      "/x2/t2/trx_2_3            frame        (shape->[157,12009])\n",
      "/x2/t2/trx_3_1            frame        (shape->[165,12009])\n",
      "/x2/t2/trx_3_4            frame        (shape->[164,12009])\n",
      "/x2/t2/trx_4_2            frame        (shape->[160,12009])\n",
      "/x2/t3/trx_1_2            frame        (shape->[152,12009])\n",
      "/x2/t3/trx_1_4            frame        (shape->[150,12009])\n",
      "/x2/t3/trx_2_3            frame        (shape->[150,12009])\n",
      "/x2/t3/trx_3_1            frame        (shape->[153,12009])\n",
      "/x2/t3/trx_3_4            frame        (shape->[144,12009])\n",
      "/x2/t3/trx_4_2            frame        (shape->[145,12009])\n",
      "/x3/t1/trx_1_2            frame        (shape->[208,12009])\n",
      "/x3/t1/trx_1_4            frame        (shape->[211,12009])\n",
      "/x3/t1/trx_2_3            frame        (shape->[208,12009])\n",
      "/x3/t1/trx_3_1            frame        (shape->[210,12009])\n",
      "/x3/t1/trx_3_4            frame        (shape->[213,12009])\n",
      "/x3/t1/trx_4_2            frame        (shape->[212,12009])\n",
      "/x3/t2/trx_1_2            frame        (shape->[243,12009])\n",
      "/x3/t2/trx_1_4            frame        (shape->[245,12009])\n",
      "/x3/t2/trx_2_3            frame        (shape->[251,12009])\n",
      "/x3/t2/trx_3_1            frame        (shape->[247,12009])\n",
      "/x3/t2/trx_3_4            frame        (shape->[249,12009])\n",
      "/x3/t2/trx_4_2            frame        (shape->[242,12009])\n",
      "/x3/t3/trx_1_2            frame        (shape->[260,12009])\n",
      "/x3/t3/trx_1_4            frame        (shape->[253,12009])\n",
      "/x3/t3/trx_2_3            frame        (shape->[257,12009])\n",
      "/x3/t3/trx_3_1            frame        (shape->[256,12009])\n",
      "/x3/t3/trx_3_4            frame        (shape->[261,12009])\n",
      "/x3/t3/trx_4_2            frame        (shape->[255,12009])\n",
      "/x4/t1/trx_1_2            frame        (shape->[121,12009])\n",
      "/x4/t1/trx_1_4            frame        (shape->[129,12009])\n",
      "/x4/t1/trx_2_3            frame        (shape->[126,12009])\n",
      "/x4/t1/trx_3_1            frame        (shape->[130,12009])\n",
      "/x4/t1/trx_3_4            frame        (shape->[143,12009])\n",
      "/x4/t1/trx_4_2            frame        (shape->[132,12009])\n",
      "/x4/t2/trx_1_2            frame        (shape->[173,12009])\n",
      "/x4/t2/trx_1_4            frame        (shape->[177,12009])\n",
      "/x4/t2/trx_2_3            frame        (shape->[171,12009])\n",
      "/x4/t2/trx_3_1            frame        (shape->[181,12009])\n",
      "/x4/t2/trx_3_4            frame        (shape->[180,12009])\n",
      "/x4/t2/trx_4_2            frame        (shape->[179,12009])\n",
      "/x4/t3/trx_1_2            frame        (shape->[168,12009])\n",
      "/x4/t3/trx_1_4            frame        (shape->[169,12009])\n",
      "/x4/t3/trx_2_3            frame        (shape->[162,12009])\n",
      "/x4/t3/trx_3_1            frame        (shape->[169,12009])\n",
      "/x4/t3/trx_3_4            frame        (shape->[168,12009])\n",
      "/x4/t3/trx_4_2            frame        (shape->[169,12009])>\n"
     ]
    }
   ],
   "source": [
    "# Check available keys in hdf store\n",
    "print(hdf.keys)"
   ]
  },
  {
   "cell_type": "markdown",
   "metadata": {},
   "source": [
    "### Vorverarbeitung"
   ]
  },
  {
   "cell_type": "markdown",
   "metadata": {},
   "source": [
    "Zuerst passen wir die Groundtruth-Label an, entfernen Zeitstempel sowie Zeilenindices und speichern die resultierenden Frames ab."
   ]
  },
  {
   "cell_type": "code",
   "execution_count": 5,
   "metadata": {
    "collapsed": true
   },
   "outputs": [],
   "source": [
    "# Mapping groundtruth to 0-empty and 1-not empty and prepare for further preprocessing by\n",
    "# removing additional timestamp columns and index column\n",
    "# Storing cleaned dataframes (no index, removed _ts columns, mapped multi classes to 0-empty, 1-not empty)\n",
    "# to new hdfstore to `data/interim/02_testmessungen.hdf`\n",
    "\n",
    "hdf_path = \"../../data/interim/02_tesmessungen.hdf\""
   ]
  },
  {
   "cell_type": "code",
   "execution_count": 6,
   "metadata": {
    "collapsed": true
   },
   "outputs": [],
   "source": [
    "dfs = []\n",
    "for key in hdf.keys():\n",
    "    df = hdf.get(key)\n",
    "    #df['target'] = df['target'].map(lambda x: 0 if x.startswith(\"Empty\") else 1)  \n",
    "    # drop all time stamp columns who endswith _ts\n",
    "    cols = [c for c in df.columns if not c.lower().endswith(\"ts\")]\n",
    "    df = df[cols]\n",
    "    df = df.drop('Timestamp', axis=1)\n",
    "    df = df.drop('index', axis=1)\n",
    "    df.to_hdf(hdf_path, key)\n",
    "hdf.close()"
   ]
  },
  {
   "cell_type": "markdown",
   "metadata": {},
   "source": [
    "Wir sehen, dass nur noch die 6 x 2000 Messungen für die jeweiligen Paare sowie die 'target'-Werte in den resultierenden Frames enthalten sind."
   ]
  },
  {
   "cell_type": "code",
   "execution_count": 7,
   "metadata": {
    "collapsed": false
   },
   "outputs": [
    {
     "data": {
      "text/html": [
       "<div>\n",
       "<table border=\"1\" class=\"dataframe\">\n",
       "  <thead>\n",
       "    <tr style=\"text-align: right;\">\n",
       "      <th></th>\n",
       "      <th>trx_1_2_ifft_0</th>\n",
       "      <th>trx_1_2_ifft_1</th>\n",
       "      <th>trx_1_2_ifft_2</th>\n",
       "      <th>trx_1_2_ifft_3</th>\n",
       "      <th>trx_1_2_ifft_4</th>\n",
       "      <th>trx_1_2_ifft_5</th>\n",
       "      <th>trx_1_2_ifft_6</th>\n",
       "      <th>trx_1_2_ifft_7</th>\n",
       "      <th>trx_1_2_ifft_8</th>\n",
       "      <th>trx_1_2_ifft_9</th>\n",
       "      <th>...</th>\n",
       "      <th>trx_4_2_ifft_1991</th>\n",
       "      <th>trx_4_2_ifft_1992</th>\n",
       "      <th>trx_4_2_ifft_1993</th>\n",
       "      <th>trx_4_2_ifft_1994</th>\n",
       "      <th>trx_4_2_ifft_1995</th>\n",
       "      <th>trx_4_2_ifft_1996</th>\n",
       "      <th>trx_4_2_ifft_1997</th>\n",
       "      <th>trx_4_2_ifft_1998</th>\n",
       "      <th>trx_4_2_ifft_1999</th>\n",
       "      <th>target</th>\n",
       "    </tr>\n",
       "  </thead>\n",
       "  <tbody>\n",
       "    <tr>\n",
       "      <th>0</th>\n",
       "      <td>0.057569</td>\n",
       "      <td>0.057136</td>\n",
       "      <td>0.056675</td>\n",
       "      <td>0.056187</td>\n",
       "      <td>0.055674</td>\n",
       "      <td>0.055137</td>\n",
       "      <td>0.054577</td>\n",
       "      <td>0.053996</td>\n",
       "      <td>0.053397</td>\n",
       "      <td>0.052780</td>\n",
       "      <td>...</td>\n",
       "      <td>0.030560</td>\n",
       "      <td>0.030439</td>\n",
       "      <td>0.030293</td>\n",
       "      <td>0.030121</td>\n",
       "      <td>0.029925</td>\n",
       "      <td>0.029705</td>\n",
       "      <td>0.029460</td>\n",
       "      <td>0.029193</td>\n",
       "      <td>0.028902</td>\n",
       "      <td>Empty_0.0,0.0_0.0,0.0</td>\n",
       "    </tr>\n",
       "    <tr>\n",
       "      <th>1</th>\n",
       "      <td>0.047302</td>\n",
       "      <td>0.046338</td>\n",
       "      <td>0.045374</td>\n",
       "      <td>0.044412</td>\n",
       "      <td>0.043456</td>\n",
       "      <td>0.042508</td>\n",
       "      <td>0.041572</td>\n",
       "      <td>0.040651</td>\n",
       "      <td>0.039749</td>\n",
       "      <td>0.038869</td>\n",
       "      <td>...</td>\n",
       "      <td>0.036571</td>\n",
       "      <td>0.036359</td>\n",
       "      <td>0.036123</td>\n",
       "      <td>0.035864</td>\n",
       "      <td>0.035581</td>\n",
       "      <td>0.035275</td>\n",
       "      <td>0.034946</td>\n",
       "      <td>0.034596</td>\n",
       "      <td>0.034225</td>\n",
       "      <td>Empty_0.0,0.0_0.0,0.0</td>\n",
       "    </tr>\n",
       "    <tr>\n",
       "      <th>2</th>\n",
       "      <td>0.034838</td>\n",
       "      <td>0.033317</td>\n",
       "      <td>0.031765</td>\n",
       "      <td>0.030187</td>\n",
       "      <td>0.028583</td>\n",
       "      <td>0.026958</td>\n",
       "      <td>0.025314</td>\n",
       "      <td>0.023656</td>\n",
       "      <td>0.021989</td>\n",
       "      <td>0.020319</td>\n",
       "      <td>...</td>\n",
       "      <td>0.031501</td>\n",
       "      <td>0.031202</td>\n",
       "      <td>0.030878</td>\n",
       "      <td>0.030531</td>\n",
       "      <td>0.030161</td>\n",
       "      <td>0.029768</td>\n",
       "      <td>0.029353</td>\n",
       "      <td>0.028916</td>\n",
       "      <td>0.028459</td>\n",
       "      <td>Empty_0.0,0.0_0.0,0.0</td>\n",
       "    </tr>\n",
       "    <tr>\n",
       "      <th>3</th>\n",
       "      <td>0.053769</td>\n",
       "      <td>0.053513</td>\n",
       "      <td>0.053260</td>\n",
       "      <td>0.053011</td>\n",
       "      <td>0.052767</td>\n",
       "      <td>0.052529</td>\n",
       "      <td>0.052299</td>\n",
       "      <td>0.052078</td>\n",
       "      <td>0.051868</td>\n",
       "      <td>0.051670</td>\n",
       "      <td>...</td>\n",
       "      <td>0.035597</td>\n",
       "      <td>0.035503</td>\n",
       "      <td>0.035381</td>\n",
       "      <td>0.035234</td>\n",
       "      <td>0.035061</td>\n",
       "      <td>0.034861</td>\n",
       "      <td>0.034637</td>\n",
       "      <td>0.034387</td>\n",
       "      <td>0.034113</td>\n",
       "      <td>Empty_0.0,0.0_0.0,0.0</td>\n",
       "    </tr>\n",
       "    <tr>\n",
       "      <th>4</th>\n",
       "      <td>0.042299</td>\n",
       "      <td>0.041589</td>\n",
       "      <td>0.040935</td>\n",
       "      <td>0.040344</td>\n",
       "      <td>0.039823</td>\n",
       "      <td>0.039379</td>\n",
       "      <td>0.039017</td>\n",
       "      <td>0.038745</td>\n",
       "      <td>0.038566</td>\n",
       "      <td>0.038485</td>\n",
       "      <td>...</td>\n",
       "      <td>0.035293</td>\n",
       "      <td>0.034995</td>\n",
       "      <td>0.034670</td>\n",
       "      <td>0.034319</td>\n",
       "      <td>0.033942</td>\n",
       "      <td>0.033540</td>\n",
       "      <td>0.033112</td>\n",
       "      <td>0.032661</td>\n",
       "      <td>0.032187</td>\n",
       "      <td>Empty_0.0,0.0_0.0,0.0</td>\n",
       "    </tr>\n",
       "  </tbody>\n",
       "</table>\n",
       "<p>5 rows × 12001 columns</p>\n",
       "</div>"
      ],
      "text/plain": [
       "   trx_1_2_ifft_0  trx_1_2_ifft_1  trx_1_2_ifft_2  trx_1_2_ifft_3  \\\n",
       "0        0.057569        0.057136        0.056675        0.056187   \n",
       "1        0.047302        0.046338        0.045374        0.044412   \n",
       "2        0.034838        0.033317        0.031765        0.030187   \n",
       "3        0.053769        0.053513        0.053260        0.053011   \n",
       "4        0.042299        0.041589        0.040935        0.040344   \n",
       "\n",
       "   trx_1_2_ifft_4  trx_1_2_ifft_5  trx_1_2_ifft_6  trx_1_2_ifft_7  \\\n",
       "0        0.055674        0.055137        0.054577        0.053996   \n",
       "1        0.043456        0.042508        0.041572        0.040651   \n",
       "2        0.028583        0.026958        0.025314        0.023656   \n",
       "3        0.052767        0.052529        0.052299        0.052078   \n",
       "4        0.039823        0.039379        0.039017        0.038745   \n",
       "\n",
       "   trx_1_2_ifft_8  trx_1_2_ifft_9          ...            trx_4_2_ifft_1991  \\\n",
       "0        0.053397        0.052780          ...                     0.030560   \n",
       "1        0.039749        0.038869          ...                     0.036571   \n",
       "2        0.021989        0.020319          ...                     0.031501   \n",
       "3        0.051868        0.051670          ...                     0.035597   \n",
       "4        0.038566        0.038485          ...                     0.035293   \n",
       "\n",
       "   trx_4_2_ifft_1992  trx_4_2_ifft_1993  trx_4_2_ifft_1994  trx_4_2_ifft_1995  \\\n",
       "0           0.030439           0.030293           0.030121           0.029925   \n",
       "1           0.036359           0.036123           0.035864           0.035581   \n",
       "2           0.031202           0.030878           0.030531           0.030161   \n",
       "3           0.035503           0.035381           0.035234           0.035061   \n",
       "4           0.034995           0.034670           0.034319           0.033942   \n",
       "\n",
       "   trx_4_2_ifft_1996  trx_4_2_ifft_1997  trx_4_2_ifft_1998  trx_4_2_ifft_1999  \\\n",
       "0           0.029705           0.029460           0.029193           0.028902   \n",
       "1           0.035275           0.034946           0.034596           0.034225   \n",
       "2           0.029768           0.029353           0.028916           0.028459   \n",
       "3           0.034861           0.034637           0.034387           0.034113   \n",
       "4           0.033540           0.033112           0.032661           0.032187   \n",
       "\n",
       "                  target  \n",
       "0  Empty_0.0,0.0_0.0,0.0  \n",
       "1  Empty_0.0,0.0_0.0,0.0  \n",
       "2  Empty_0.0,0.0_0.0,0.0  \n",
       "3  Empty_0.0,0.0_0.0,0.0  \n",
       "4  Empty_0.0,0.0_0.0,0.0  \n",
       "\n",
       "[5 rows x 12001 columns]"
      ]
     },
     "execution_count": 7,
     "metadata": {},
     "output_type": "execute_result"
    }
   ],
   "source": [
    "hdf = pd.HDFStore(hdf_path)\n",
    "df = hdf.get(\"/x1/t1/trx_1_2\")\n",
    "df.head()"
   ]
  },
  {
   "cell_type": "code",
   "execution_count": 13,
   "metadata": {
    "collapsed": true
   },
   "outputs": [],
   "source": [
    "# Step-1 repeating the previous taks 4 to get a comparable base result with the now dropped _ts and index column to improve from\n",
    "# generate datasets\n",
    "from evaluation import *\n",
    "from filters import *\n",
    "from utility import *\n",
    "from features import *\n",
    "from sklearn.preprocessing import StandardScaler\n",
    "\n",
    "def prepare_features(c, p):\n",
    "    tst = ['1','2','3']\n",
    "    tst_ds = []\n",
    "    ss = StandardScaler()\n",
    "    for t in tst:\n",
    "\n",
    "        df_tst = hdf.get('/x'+c+'/t'+t+'/trx_'+p)\n",
    "\n",
    "        lst = df_tst.columns[df_tst.columns.str.contains('_ifft_')]\n",
    "\n",
    "        df_tst,_ = distortion_filter(df_tst)\n",
    "\n",
    "        groups = get_trx_groups(df_tst)\n",
    "\n",
    "        # n_comps = 30\n",
    "        df_cf_mean = reduce_dim_PCA(cf_mean_window(df_tst, window=3, column_key=\"ifft\", label=None ).fillna(0), n_comps=7, subname=\"cf_mean\")\n",
    "        #df_cf_std = reduce_dim_PCA(cf_std_window(df_tst, window=3, column_key=\"ifft\", label=None ).fillna(0), n_comps=10)\n",
    "        df_cf_ptp = reduce_dim_PCA(cf_ptp(df_tst, window=3, column_key=\"ifft\", label=None ).fillna(0), n_comps=5, subname=\"cf_ptp\")\n",
    "        #df_cf_kurt = reduce_dim_PCA(cf_kurt(df_tst, window=3, column_key=\"ifft\", label=None ).fillna(0), n_comps=10)\n",
    "\n",
    "\n",
    "        #df_std = rf_grouped(df_tst, groups=groups, fn=rf_std_single)\n",
    "        df_mean = rf_grouped(df_tst, groups=groups, fn=rf_mean_single, label='target')\n",
    "        df_p2p = rf_grouped(df_tst, groups=groups, fn=rf_ptp_single) # added p2p feature\n",
    "        df_kurt = rf_grouped(df_tst, groups=groups, fn=rf_kurtosis_single)\n",
    "        df_skew = rf_grouped(df_tst, groups=groups, fn=rf_skew_single)\n",
    "\n",
    "        df_all = pd.concat( [df_mean, df_p2p, df_kurt, df_skew], axis=1 ) \n",
    "\n",
    "        df_all = cf_std_window(df_all, window=2, label='target')\n",
    "\n",
    "        df_all = cf_diff(df_all, label='target')\n",
    "\n",
    "        df_all = reduce_dim_PCA(df_all.fillna(0), n_comps=15, label='target')\n",
    "\n",
    "        df_all = pd.concat( [df_all, df_cf_mean, df_cf_ptp], axis=1)\n",
    "\n",
    "        df_tst_sum = generate_class_label_presence(df_all, state_variable='target')        \n",
    "\n",
    "        # remove index column\n",
    "        df_tst_sum = df_tst_sum[df_tst_sum.columns.values[~df_tst_sum.columns.str.contains('index')].tolist()]\n",
    "\n",
    "        #print('Columns in Dataset:',t)\n",
    "        #print(df_tst_sum.columns)\n",
    "\n",
    "\n",
    "        tst_ds.append(df_tst_sum.copy())\n",
    "        \n",
    "    return tst_ds\n",
    "\n",
    "tst_ds_PCA = prepare_features(c='1', p='3_1')"
   ]
  },
  {
   "cell_type": "code",
   "execution_count": 14,
   "metadata": {
    "collapsed": false
   },
   "outputs": [
    {
     "name": "stdout",
     "output_type": "stream",
     "text": [
      "Index(['pca_0', 'pca_1', 'pca_2', 'pca_3', 'pca_4', 'pca_5', 'pca_6', 'pca_7',\n",
      "       'pca_8', 'pca_9', 'pca_10', 'pca_11', 'pca_12', 'pca_13', 'pca_14',\n",
      "       'target', 'pca_cf_mean0', 'pca_cf_mean1', 'pca_cf_mean2',\n",
      "       'pca_cf_mean3', 'pca_cf_mean4', 'pca_cf_mean5', 'pca_cf_mean6',\n",
      "       'pca_cf_ptp0', 'pca_cf_ptp1', 'pca_cf_ptp2', 'pca_cf_ptp3',\n",
      "       'pca_cf_ptp4'],\n",
      "      dtype='object')\n"
     ]
    }
   ],
   "source": [
    "# Printing out the columns in order to confirm that no index or timestamp column is used for prediction\n",
    "# generate_class_label_presence function from utils.py module generates namely index column implicitly!\n",
    "print(tst_ds_PCA[0].columns)"
   ]
  },
  {
   "cell_type": "code",
   "execution_count": 15,
   "metadata": {
    "collapsed": false
   },
   "outputs": [
    {
     "name": "stdout",
     "output_type": "stream",
     "text": [
      "rf : (0.64413293480237854, 0.21783745411311575)\n",
      "dt : (0.69557492061235304, 0.22158840154495446)\n",
      "nb : (0.87432488034274181, 0.058880773488412537)\n",
      "nn : (0.71971701088459772, 0.19213059064240823)\n",
      "knn : (0.72273495465219939, 0.12329724673655813)\n"
     ]
    }
   ],
   "source": [
    "# Evaluating different supervised learning methods provided in eval.py\n",
    "# We can see that the column features have increased F1 score of the classifiers\n",
    "# Best score for Naive Bayes\n",
    "for elem in ['rf', 'dt', 'nb' ,'nn','knn']:\n",
    "    print(elem, \":\", hold_out_val(tst_ds_PCA, target='target', include_self=False, cl=elem, verbose=False, random_state=1))"
   ]
  },
  {
   "cell_type": "code",
   "execution_count": 16,
   "metadata": {
    "collapsed": true
   },
   "outputs": [],
   "source": [
    "def evaluate_models(ds):\n",
    "    res = {}\n",
    "    for elem in ['rf', 'dt', 'nb' ,'nn','knn']: \n",
    "        res[elem] = hold_out_val(ds, target='target', include_self=False, cl=elem, verbose=False, random_state=1)\n",
    "    return res\n",
    "\n",
    "    \n",
    "def evaluate_performance(c, p):\n",
    "    # include a prepare data function?\n",
    "    ds = prepare_features(c, p)\n",
    "    return evaluate_models(ds)  \n",
    "\n",
    "def draw_evaluation(c, results):\n",
    "    model = [x for x in results['1_2']]\n",
    "    max_f1 = []\n",
    "    max_pair = []\n",
    "    for m in model:\n",
    "        max_val = 0\n",
    "        pair = None\n",
    "        for p in results:\n",
    "            if (results[p][m][0] > max_val):\n",
    "                max_val = results[p][m][0]\n",
    "                pair = p\n",
    "        max_f1.append(max_val)        \n",
    "        max_pair.append(pair)\n",
    "    for i in range(0, len(max_f1)):\n",
    "        print(model[i], \"best pair:\", max_pair[i], results[max_pair[i]][model[i]])\n",
    "    print()\n",
    "    xs = [i + 0.1 for i, _ in enumerate(model)]    \n",
    "    plt.bar(xs, max_f1)\n",
    "    plt.ylabel(\"f1-score\")\n",
    "    plt.title(\"evaluation for configuration x\"+c)\n",
    "    plt.xticks([i for i, _ in enumerate(model)], model)\n",
    "    plt.show()"
   ]
  },
  {
   "cell_type": "code",
   "execution_count": 17,
   "metadata": {
    "collapsed": false,
    "scrolled": false
   },
   "outputs": [
    {
     "name": "stdout",
     "output_type": "stream",
     "text": [
      "Testing for configuration 1\n",
      "Analyse performance for pairing 1_2\n"
     ]
    },
    {
     "name": "stderr",
     "output_type": "stream",
     "text": [
      "/home/henrik/anaconda3/lib/python3.6/site-packages/sklearn/neural_network/multilayer_perceptron.py:563: ConvergenceWarning: Stochastic Optimizer: Maximum iterations reached and the optimization hasn't converged yet.\n",
      "  % (), ConvergenceWarning)\n"
     ]
    },
    {
     "name": "stdout",
     "output_type": "stream",
     "text": [
      "Analyse performance for pairing 1_4\n",
      "Analyse performance for pairing 2_3\n"
     ]
    },
    {
     "name": "stderr",
     "output_type": "stream",
     "text": [
      "/home/henrik/anaconda3/lib/python3.6/site-packages/sklearn/metrics/classification.py:1113: UndefinedMetricWarning: F-score is ill-defined and being set to 0.0 in labels with no predicted samples.\n",
      "  'precision', 'predicted', average, warn_for)\n"
     ]
    },
    {
     "name": "stdout",
     "output_type": "stream",
     "text": [
      "Analyse performance for pairing 3_1\n",
      "Analyse performance for pairing 3_4\n"
     ]
    },
    {
     "name": "stderr",
     "output_type": "stream",
     "text": [
      "/home/henrik/anaconda3/lib/python3.6/site-packages/sklearn/metrics/classification.py:1113: UndefinedMetricWarning: F-score is ill-defined and being set to 0.0 in labels with no predicted samples.\n",
      "  'precision', 'predicted', average, warn_for)\n"
     ]
    },
    {
     "name": "stdout",
     "output_type": "stream",
     "text": [
      "Analyse performance for pairing 4_2\n"
     ]
    },
    {
     "name": "stderr",
     "output_type": "stream",
     "text": [
      "/home/henrik/anaconda3/lib/python3.6/site-packages/sklearn/metrics/classification.py:1113: UndefinedMetricWarning: F-score is ill-defined and being set to 0.0 in labels with no predicted samples.\n",
      "  'precision', 'predicted', average, warn_for)\n",
      "/home/henrik/anaconda3/lib/python3.6/site-packages/sklearn/neural_network/multilayer_perceptron.py:563: ConvergenceWarning: Stochastic Optimizer: Maximum iterations reached and the optimization hasn't converged yet.\n",
      "  % (), ConvergenceWarning)\n"
     ]
    },
    {
     "name": "stdout",
     "output_type": "stream",
     "text": [
      "rf best pair: 3_1 (0.64413293480237854, 0.21783745411311575)\n",
      "dt best pair: 3_1 (0.69557492061235304, 0.22158840154495446)\n",
      "nb best pair: 3_1 (0.87432488034274181, 0.058880773488412537)\n",
      "nn best pair: 3_1 (0.84274377427024216, 0.10510992119008418)\n",
      "knn best pair: 2_3 (0.75867887608382534, 0.067302581131925249)\n",
      "\n"
     ]
    },
    {
     "data": {
      "image/png": "[encoded data removed]",
      "text/plain": [
       "<matplotlib.figure.Figure at 0x7f8729241ba8>"
      ]
     },
     "metadata": {},
     "output_type": "display_data"
    },
    {
     "name": "stdout",
     "output_type": "stream",
     "text": [
      "Testing for configuration 2\n",
      "Analyse performance for pairing 1_2\n"
     ]
    },
    {
     "name": "stderr",
     "output_type": "stream",
     "text": [
      "/home/henrik/anaconda3/lib/python3.6/site-packages/sklearn/metrics/classification.py:1113: UndefinedMetricWarning: F-score is ill-defined and being set to 0.0 in labels with no predicted samples.\n",
      "  'precision', 'predicted', average, warn_for)\n",
      "/home/henrik/anaconda3/lib/python3.6/site-packages/sklearn/neural_network/multilayer_perceptron.py:563: ConvergenceWarning: Stochastic Optimizer: Maximum iterations reached and the optimization hasn't converged yet.\n",
      "  % (), ConvergenceWarning)\n"
     ]
    },
    {
     "name": "stdout",
     "output_type": "stream",
     "text": [
      "Analyse performance for pairing 1_4\n"
     ]
    },
    {
     "name": "stderr",
     "output_type": "stream",
     "text": [
      "/home/henrik/anaconda3/lib/python3.6/site-packages/sklearn/metrics/classification.py:1113: UndefinedMetricWarning: F-score is ill-defined and being set to 0.0 in labels with no predicted samples.\n",
      "  'precision', 'predicted', average, warn_for)\n",
      "/home/henrik/anaconda3/lib/python3.6/site-packages/sklearn/metrics/classification.py:1113: UndefinedMetricWarning: F-score is ill-defined and being set to 0.0 in labels with no predicted samples.\n",
      "  'precision', 'predicted', average, warn_for)\n",
      "/home/henrik/anaconda3/lib/python3.6/site-packages/sklearn/metrics/classification.py:1113: UndefinedMetricWarning: F-score is ill-defined and being set to 0.0 in labels with no predicted samples.\n",
      "  'precision', 'predicted', average, warn_for)\n"
     ]
    },
    {
     "name": "stdout",
     "output_type": "stream",
     "text": [
      "Analyse performance for pairing 2_3\n"
     ]
    },
    {
     "name": "stderr",
     "output_type": "stream",
     "text": [
      "/home/henrik/anaconda3/lib/python3.6/site-packages/sklearn/metrics/classification.py:1113: UndefinedMetricWarning: F-score is ill-defined and being set to 0.0 in labels with no predicted samples.\n",
      "  'precision', 'predicted', average, warn_for)\n",
      "/home/henrik/anaconda3/lib/python3.6/site-packages/sklearn/metrics/classification.py:1113: UndefinedMetricWarning: F-score is ill-defined and being set to 0.0 in labels with no predicted samples.\n",
      "  'precision', 'predicted', average, warn_for)\n",
      "/home/henrik/anaconda3/lib/python3.6/site-packages/sklearn/metrics/classification.py:1113: UndefinedMetricWarning: F-score is ill-defined and being set to 0.0 in labels with no predicted samples.\n",
      "  'precision', 'predicted', average, warn_for)\n"
     ]
    },
    {
     "name": "stdout",
     "output_type": "stream",
     "text": [
      "Analyse performance for pairing 3_1\n"
     ]
    },
    {
     "name": "stderr",
     "output_type": "stream",
     "text": [
      "/home/henrik/anaconda3/lib/python3.6/site-packages/sklearn/metrics/classification.py:1113: UndefinedMetricWarning: F-score is ill-defined and being set to 0.0 in labels with no predicted samples.\n",
      "  'precision', 'predicted', average, warn_for)\n",
      "/home/henrik/anaconda3/lib/python3.6/site-packages/sklearn/metrics/classification.py:1113: UndefinedMetricWarning: F-score is ill-defined and being set to 0.0 in labels with no predicted samples.\n",
      "  'precision', 'predicted', average, warn_for)\n",
      "/home/henrik/anaconda3/lib/python3.6/site-packages/sklearn/metrics/classification.py:1113: UndefinedMetricWarning: F-score is ill-defined and being set to 0.0 in labels with no predicted samples.\n",
      "  'precision', 'predicted', average, warn_for)\n",
      "/home/henrik/anaconda3/lib/python3.6/site-packages/sklearn/neural_network/multilayer_perceptron.py:563: ConvergenceWarning: Stochastic Optimizer: Maximum iterations reached and the optimization hasn't converged yet.\n",
      "  % (), ConvergenceWarning)\n"
     ]
    },
    {
     "name": "stdout",
     "output_type": "stream",
     "text": [
      "Analyse performance for pairing 3_4\n"
     ]
    },
    {
     "name": "stderr",
     "output_type": "stream",
     "text": [
      "/home/henrik/anaconda3/lib/python3.6/site-packages/sklearn/metrics/classification.py:1113: UndefinedMetricWarning: F-score is ill-defined and being set to 0.0 in labels with no predicted samples.\n",
      "  'precision', 'predicted', average, warn_for)\n",
      "/home/henrik/anaconda3/lib/python3.6/site-packages/sklearn/metrics/classification.py:1113: UndefinedMetricWarning: F-score is ill-defined and being set to 0.0 in labels with no predicted samples.\n",
      "  'precision', 'predicted', average, warn_for)\n",
      "/home/henrik/anaconda3/lib/python3.6/site-packages/sklearn/neural_network/multilayer_perceptron.py:563: ConvergenceWarning: Stochastic Optimizer: Maximum iterations reached and the optimization hasn't converged yet.\n",
      "  % (), ConvergenceWarning)\n"
     ]
    },
    {
     "name": "stdout",
     "output_type": "stream",
     "text": [
      "Analyse performance for pairing 4_2\n"
     ]
    },
    {
     "name": "stderr",
     "output_type": "stream",
     "text": [
      "/home/henrik/anaconda3/lib/python3.6/site-packages/sklearn/metrics/classification.py:1113: UndefinedMetricWarning: F-score is ill-defined and being set to 0.0 in labels with no predicted samples.\n",
      "  'precision', 'predicted', average, warn_for)\n",
      "/home/henrik/anaconda3/lib/python3.6/site-packages/sklearn/metrics/classification.py:1113: UndefinedMetricWarning: F-score is ill-defined and being set to 0.0 in labels with no predicted samples.\n",
      "  'precision', 'predicted', average, warn_for)\n",
      "/home/henrik/anaconda3/lib/python3.6/site-packages/sklearn/neural_network/multilayer_perceptron.py:563: ConvergenceWarning: Stochastic Optimizer: Maximum iterations reached and the optimization hasn't converged yet.\n",
      "  % (), ConvergenceWarning)\n"
     ]
    },
    {
     "name": "stdout",
     "output_type": "stream",
     "text": [
      "rf best pair: 3_4 (0.47587896587690409, 0.047047039431693492)\n",
      "dt best pair: 1_2 (0.5459501487134405, 0.15758887638395405)\n",
      "nb best pair: 3_1 (0.77435376890597307, 0.19898333132711502)\n",
      "nn best pair: 1_2 (0.61221725594129472, 0.12640543627202874)\n",
      "knn best pair: 3_1 (0.73095991912328373, 0.057718838641642282)\n",
      "\n"
     ]
    },
    {
     "data": {
      "image/png": "[encoded data removed]",
      "text/plain": [
       "<matplotlib.figure.Figure at 0x7f8729039518>"
      ]
     },
     "metadata": {},
     "output_type": "display_data"
    },
    {
     "name": "stdout",
     "output_type": "stream",
     "text": [
      "Testing for configuration 3\n",
      "Analyse performance for pairing 1_2\n",
      "Analyse performance for pairing 1_4\n",
      "Analyse performance for pairing 2_3\n"
     ]
    },
    {
     "name": "stderr",
     "output_type": "stream",
     "text": [
      "/home/henrik/anaconda3/lib/python3.6/site-packages/sklearn/metrics/classification.py:1113: UndefinedMetricWarning: F-score is ill-defined and being set to 0.0 in labels with no predicted samples.\n",
      "  'precision', 'predicted', average, warn_for)\n"
     ]
    },
    {
     "name": "stdout",
     "output_type": "stream",
     "text": [
      "Analyse performance for pairing 3_1\n"
     ]
    },
    {
     "name": "stderr",
     "output_type": "stream",
     "text": [
      "/home/henrik/anaconda3/lib/python3.6/site-packages/sklearn/neural_network/multilayer_perceptron.py:563: ConvergenceWarning: Stochastic Optimizer: Maximum iterations reached and the optimization hasn't converged yet.\n",
      "  % (), ConvergenceWarning)\n"
     ]
    },
    {
     "name": "stdout",
     "output_type": "stream",
     "text": [
      "Analyse performance for pairing 3_4\n"
     ]
    },
    {
     "name": "stderr",
     "output_type": "stream",
     "text": [
      "/home/henrik/anaconda3/lib/python3.6/site-packages/sklearn/neural_network/multilayer_perceptron.py:563: ConvergenceWarning: Stochastic Optimizer: Maximum iterations reached and the optimization hasn't converged yet.\n",
      "  % (), ConvergenceWarning)\n"
     ]
    },
    {
     "name": "stdout",
     "output_type": "stream",
     "text": [
      "Analyse performance for pairing 4_2\n",
      "rf best pair: 1_4 (0.82041686510654388, 0.19529134293579647)\n",
      "dt best pair: 1_4 (0.74044591381099811, 0.14142582851232158)\n",
      "nb best pair: 1_4 (0.9206243215436567, 0.039987266078874747)\n",
      "nn best pair: 1_4 (0.83000017517966684, 0.067900913329292947)\n",
      "knn best pair: 2_3 (0.72598148136518204, 0.043906447649753245)\n",
      "\n"
     ]
    },
    {
     "data": {
      "image/png": "[encoded data removed]",
      "text/plain": [
       "<matplotlib.figure.Figure at 0x7f87286398d0>"
      ]
     },
     "metadata": {},
     "output_type": "display_data"
    },
    {
     "name": "stdout",
     "output_type": "stream",
     "text": [
      "Testing for configuration 4\n",
      "Analyse performance for pairing 1_2\n",
      "Analyse performance for pairing 1_4\n"
     ]
    },
    {
     "name": "stderr",
     "output_type": "stream",
     "text": [
      "/home/henrik/anaconda3/lib/python3.6/site-packages/sklearn/metrics/classification.py:1113: UndefinedMetricWarning: F-score is ill-defined and being set to 0.0 in labels with no predicted samples.\n",
      "  'precision', 'predicted', average, warn_for)\n",
      "/home/henrik/anaconda3/lib/python3.6/site-packages/sklearn/neural_network/multilayer_perceptron.py:563: ConvergenceWarning: Stochastic Optimizer: Maximum iterations reached and the optimization hasn't converged yet.\n",
      "  % (), ConvergenceWarning)\n"
     ]
    },
    {
     "name": "stdout",
     "output_type": "stream",
     "text": [
      "Analyse performance for pairing 2_3\n"
     ]
    },
    {
     "name": "stderr",
     "output_type": "stream",
     "text": [
      "/home/henrik/anaconda3/lib/python3.6/site-packages/sklearn/metrics/classification.py:1113: UndefinedMetricWarning: F-score is ill-defined and being set to 0.0 in labels with no predicted samples.\n",
      "  'precision', 'predicted', average, warn_for)\n"
     ]
    },
    {
     "name": "stdout",
     "output_type": "stream",
     "text": [
      "Analyse performance for pairing 3_1\n"
     ]
    },
    {
     "name": "stderr",
     "output_type": "stream",
     "text": [
      "/home/henrik/anaconda3/lib/python3.6/site-packages/sklearn/neural_network/multilayer_perceptron.py:563: ConvergenceWarning: Stochastic Optimizer: Maximum iterations reached and the optimization hasn't converged yet.\n",
      "  % (), ConvergenceWarning)\n"
     ]
    },
    {
     "name": "stdout",
     "output_type": "stream",
     "text": [
      "Analyse performance for pairing 3_4\n"
     ]
    },
    {
     "name": "stderr",
     "output_type": "stream",
     "text": [
      "/home/henrik/anaconda3/lib/python3.6/site-packages/sklearn/neural_network/multilayer_perceptron.py:563: ConvergenceWarning: Stochastic Optimizer: Maximum iterations reached and the optimization hasn't converged yet.\n",
      "  % (), ConvergenceWarning)\n",
      "/home/henrik/anaconda3/lib/python3.6/site-packages/sklearn/metrics/classification.py:1113: UndefinedMetricWarning: F-score is ill-defined and being set to 0.0 in labels with no predicted samples.\n",
      "  'precision', 'predicted', average, warn_for)\n"
     ]
    },
    {
     "name": "stdout",
     "output_type": "stream",
     "text": [
      "Analyse performance for pairing 4_2\n",
      "rf best pair: 2_3 (0.59953175162457473, 0.16137897370880749)\n",
      "dt best pair: 1_4 (0.68249916372077035, 0.16982453483383605)\n",
      "nb best pair: 3_4 (0.81287124790867127, 0.02339001679314991)\n",
      "nn best pair: 2_3 (0.65939605574044735, 0.065905507974120731)\n",
      "knn best pair: 1_4 (0.6709243374905195, 0.13621027256134602)\n",
      "\n"
     ]
    },
    {
     "data": {
      "image/png": "[encoded data removed]",
      "text/plain": [
       "<matplotlib.figure.Figure at 0x7f8728f13c50>"
      ]
     },
     "metadata": {},
     "output_type": "display_data"
    }
   ],
   "source": [
    "config = ['1','2','3','4']\n",
    "pairing = ['1_2','1_4','2_3','3_1','3_4','4_2']\n",
    "tst_ds = []\n",
    "res_all = []\n",
    "\n",
    "for c in config:\n",
    "    results = {}\n",
    "    print(\"Testing for configuration\", c)\n",
    "    for p in pairing:\n",
    "        print(\"Analyse performance for pairing\", p)\n",
    "        res = evaluate_performance(c, p)\n",
    "        res_all.append(res)\n",
    "\n",
    "        #for model in res:\n",
    "        #    print(model, res[model])\n",
    "        results[p] = res\n",
    "    draw_evaluation(c, results)"
   ]
  },
  {
   "cell_type": "code",
   "execution_count": null,
   "metadata": {
    "collapsed": false
   },
   "outputs": [],
   "source": [
    "all_keys = set().union(*(d.keys() for d in res_all))\n",
    "#print(all_keys)\n",
    "mean_results=[]\n",
    "\n",
    "print(\"mean results with features from prepare_features() function:\")\n",
    "for key in all_keys:\n",
    "    mean_score = sum(item[key][0] for item in res_all)/len(res_all)\n",
    "    print(\"mean F1 for {}:  {}\".format(key, mean_score))\n",
    "    mean_results.append(mean_score)\n",
    "    \n",
    "\n",
    "print()\n",
    "xs = [i + 0.1 for i in range(len(all_keys))]    \n",
    "plt.bar(xs, mean_results)\n",
    "plt.ylabel(\"f1-score\")\n",
    "plt.title(\"evaluation for overal mean results\")\n",
    "plt.xticks([i for i in range(len(all_keys))], all_keys)\n",
    "plt.show()\n"
   ]
  },
  {
   "cell_type": "markdown",
   "metadata": {},
   "source": [
    "## Aufgabe 6: Online Erkenner"
   ]
  },
  {
   "cell_type": "markdown",
   "metadata": {
    "collapsed": true
   },
   "source": [
    "### Serialisierung des Models für den Online Predictor\n",
    "Das zuvor gewählte Model wird serialisiert und in 'models/solution_ueb02' gespeichert damit es beim starten der REST-API geladen werden kann."
   ]
  },
  {
   "cell_type": "markdown",
   "metadata": {},
   "source": [
    "### Starten des online servers und simulieren der requests\n",
    "#### Hierzu müssen die Abhängigkeiten Flask, flask_restful, flask_cors und requests installiert sein\n",
    "The following command starts a flask_restful server on localhost port:5444 which answers json post requests. The server is implemented in the file online.py within the ipynb folder and makes use of the final chosen model.\n",
    "Requests can be made as post request to http://localhost:5444/predict with a json file of the following format:\n",
    "{ \"row\": \"features\" }\n",
    "be careful that the sent file is valid json. The answer contains the predicted class.\n",
    "{ \"p_class\": \"predicted class\" }\n",
    "For now the online predictor only predicts the class of single lines sent to it"
   ]
  },
  {
   "cell_type": "code",
   "execution_count": null,
   "metadata": {
    "collapsed": true
   },
   "outputs": [],
   "source": [
    "# Navigate to notebooks/solution_ueb02 and start the server\n",
    "# with 'python -m online'"
   ]
  },
  {
   "cell_type": "code",
   "execution_count": null,
   "metadata": {
    "collapsed": true
   },
   "outputs": [],
   "source": [
    "import requests\n",
    "import pandas as pd\n",
    "from filters import *\n",
    "from utility import *\n",
    "from features import *\n",
    "# Nun werden zeilenweise Anfragen an die REST-API simuliert, jeder valider json request wird mit einer\n",
    "# json prediction response beantwortet\n",
    "# Hierzu benötigen wir ein vorbereitetes Test Data set\n",
    "o_df = prepare_features('1', '1_2')[0]\n",
    "o_df = o_df.dropna()\n",
    "o_df = o_df.drop('target', axis=1)\n",
    "url = 'http://localhost:5444/predict'"
   ]
  },
  {
   "cell_type": "code",
   "execution_count": null,
   "metadata": {
    "collapsed": false
   },
   "outputs": [],
   "source": [
    "results = []\n",
    "for index, elem in o_df.iterrows(): \n",
    "    r = requests.post(url, json={\"data\": elem.values.tolist()}) # request online predictor\n",
    "    results.extend(r.json()['result']) # extending prediction result list\n",
    "print(results)"
   ]
  },
  {
   "cell_type": "code",
   "execution_count": null,
   "metadata": {
    "collapsed": true
   },
   "outputs": [],
   "source": []
  }
 ],
 "metadata": {
  "anaconda-cloud": {},
  "kernelspec": {
   "display_name": "Python 3",
   "language": "python",
   "name": "python3"
  },
  "language_info": {
   "codemirror_mode": {
    "name": "ipython",
    "version": 3
   },
   "file_extension": ".py",
   "mimetype": "text/x-python",
   "name": "python",
   "nbconvert_exporter": "python",
   "pygments_lexer": "ipython3",
   "version": "3.6.0"
  }
 },
 "nbformat": 4,
 "nbformat_minor": 1
}
